{
  "nbformat": 4,
  "nbformat_minor": 0,
  "metadata": {
    "colab": {
      "provenance": [],
      "machine_shape": "hm",
      "authorship_tag": "ABX9TyMbv9A3Bi4HqDUK5n1ceTmh",
      "include_colab_link": true
    },
    "kernelspec": {
      "name": "python3",
      "display_name": "Python 3"
    },
    "language_info": {
      "name": "python"
    }
  },
  "cells": [
    {
      "cell_type": "markdown",
      "metadata": {
        "id": "view-in-github",
        "colab_type": "text"
      },
      "source": [
        "<a href=\"https://colab.research.google.com/github/Van-Wu1/cycle/blob/main/scr%20/py/s1_roadcleanV3.ipynb\" target=\"_parent\"><img src=\"https://colab.research.google.com/assets/colab-badge.svg\" alt=\"Open In Colab\"/></a>"
      ]
    },
    {
      "cell_type": "code",
      "execution_count": 1,
      "metadata": {
        "colab": {
          "base_uri": "https://localhost:8080/"
        },
        "id": "Xv7fVLd2-F_G",
        "outputId": "255f639d-664d-4dd8-f6fe-223f1744207e"
      },
      "outputs": [
        {
          "output_type": "stream",
          "name": "stdout",
          "text": [
            "Mounted at /content/drive\n",
            "BoroughShp  GreatLondonShp  s1\ts2_Env\ts3\n"
          ]
        }
      ],
      "source": [
        "from google.colab import drive\n",
        "drive.mount('/content/drive')\n",
        "!ls '/content/drive/MyDrive/CASA0004_Cycling/data'"
      ]
    },
    {
      "cell_type": "code",
      "source": [
        "import os, glob, math\n",
        "import geopandas as gpd\n",
        "import pandas as pd\n",
        "import numpy as np\n",
        "from shapely.geometry import LineString\n",
        "import networkx as nx"
      ],
      "metadata": {
        "id": "CSDxNUw3-lGO"
      },
      "execution_count": 2,
      "outputs": []
    },
    {
      "cell_type": "code",
      "source": [
        "# ========== 路径 ==========\n",
        "IN_DIR  = \"/content/drive/MyDrive/CASA0004_Cycling/data/s1/Roads_OT/OTcleaned\"   # 输入：你的“可骑行路网”目录\n",
        "OUT_DIR = \"/content/drive/MyDrive/CASA0004_Cycling/data/s1/Roads_OT/OTcleanedV2\"   # 输出：清洗后"
      ],
      "metadata": {
        "id": "NaqSwIM_-nhy"
      },
      "execution_count": 3,
      "outputs": []
    },
    {
      "cell_type": "code",
      "source": [
        "os.makedirs(OUT_DIR, exist_ok=True)\n",
        "\n",
        "# ========== 参数（米制）==========\n",
        "TARGET_CRS        = \"EPSG:27700\"  # 统一投影\n",
        "ASSUME_SRC_CRS    = \"EPSG:4326\"   # 若输入缺失CRS，按WGS84处理\n",
        "SNAP_TOL          = 2.0           # 端点吸附容差（米），0=不吸附\n",
        "MIN_COMP_LENGTH   = 100.0         # 小连通分量总长度阈值（米）\n",
        "DEADEND_MAX_LEN   = 20.0          # 短死端单边长度阈值（米）\n",
        "DEADEND_PASSES    = 3             # 死端迭代次数"
      ],
      "metadata": {
        "id": "LsiaAp-d_jqN"
      },
      "execution_count": 4,
      "outputs": []
    },
    {
      "cell_type": "code",
      "source": [
        "# ========== 工具 ==========\n",
        "def to_target_crs(gdf: gpd.GeoDataFrame) -> gpd.GeoDataFrame:\n",
        "    if gdf.crs is None:\n",
        "        # 你说“现在是84的”，缺省就按 WGS84\n",
        "        gdf = gdf.set_crs(ASSUME_SRC_CRS, allow_override=True)\n",
        "    # 投到目标CRS\n",
        "    if str(gdf.crs).lower() != TARGET_CRS.lower():\n",
        "        gdf = gdf.to_crs(TARGET_CRS)\n",
        "    return gdf\n",
        "\n",
        "def keep_only_lines(gdf: gpd.GeoDataFrame) -> gpd.GeoDataFrame:\n",
        "    # 仅保留线要素（LineString/MultiLineString），其余全部丢弃\n",
        "    ok = gdf.geometry.geom_type.isin([\"LineString\", \"MultiLineString\"])\n",
        "    gdf = gdf.loc[ok].copy()\n",
        "    if gdf.empty:\n",
        "        return gdf\n",
        "    # 展开多线\n",
        "    gdf = gdf.explode(index_parts=False, ignore_index=True)\n",
        "    # 去掉空/无效\n",
        "    gdf = gdf[~gdf.geometry.is_empty & gdf.geometry.notna()].reset_index(drop=True)\n",
        "    return gdf\n",
        "\n",
        "def snap_endpoints(gdf: gpd.GeoDataFrame, tol=0.0) -> gpd.GeoDataFrame:\n",
        "    if tol <= 0 or gdf.empty:\n",
        "        return gdf\n",
        "    def snap_coord(x):\n",
        "        return float(round(x / tol) * tol)\n",
        "    def snap_line(geom):\n",
        "        if geom.is_empty or geom.geom_type != \"LineString\":\n",
        "            return geom\n",
        "        coords = [(snap_coord(x), snap_coord(y)) for x, y in geom.coords]\n",
        "        # 去重合点\n",
        "        uniq = [coords[0]]\n",
        "        for c in coords[1:]:\n",
        "            if c != uniq[-1]:\n",
        "                uniq.append(c)\n",
        "        if len(uniq) < 2:\n",
        "            return None\n",
        "        return LineString(uniq)\n",
        "    gdf = gdf.copy()\n",
        "    gdf[\"geometry\"] = gdf.geometry.apply(snap_line)\n",
        "    gdf = gdf[~gdf.geometry.isna()].reset_index(drop=True)\n",
        "    return gdf\n",
        "\n",
        "def build_graph(gdf: gpd.GeoDataFrame):\n",
        "    G = nx.Graph()\n",
        "    lengths = gdf.geometry.length.values\n",
        "    for idx, geom in enumerate(gdf.geometry):\n",
        "        if geom is None or geom.is_empty or geom.geom_type != \"LineString\":\n",
        "            continue\n",
        "        x1, y1 = geom.coords[0]\n",
        "        x2, y2 = geom.coords[-1]\n",
        "        u = (round(x1, 6), round(y1, 6))\n",
        "        v = (round(x2, 6), round(y2, 6))\n",
        "        G.add_edge(u, v, idx=idx, length=float(lengths[idx]))\n",
        "    return G\n",
        "\n",
        "def remove_small_components(gdf: gpd.GeoDataFrame, min_total_len: float) -> gpd.GeoDataFrame:\n",
        "    if gdf.empty:\n",
        "        return gdf\n",
        "    G = build_graph(gdf)\n",
        "    keep_idx = []\n",
        "    for comp in nx.connected_components(G):\n",
        "        sub_edges = G.subgraph(comp).edges(data=True)\n",
        "        total_len = sum(e[2].get(\"length\", 0.0) for e in sub_edges)\n",
        "        if total_len >= min_total_len:\n",
        "            keep_idx.extend([e[2][\"idx\"] for e in sub_edges])\n",
        "    keep_idx = sorted(set(keep_idx))\n",
        "    return gdf.iloc[keep_idx].reset_index(drop=True)\n",
        "\n",
        "def prune_deadends(gdf: gpd.GeoDataFrame, max_len: float, passes=1) -> gpd.GeoDataFrame:\n",
        "    gdf = gdf.copy()\n",
        "    for _ in range(max(1, passes)):\n",
        "        if gdf.empty:\n",
        "            break\n",
        "        G = build_graph(gdf)\n",
        "        deg = dict(G.degree())\n",
        "        drop_edge_idx = set()\n",
        "        for u, v, data in G.edges(data=True):\n",
        "            if (deg.get(u, 0) == 1 or deg.get(v, 0) == 1) and data.get(\"length\", 0.0) < max_len:\n",
        "                drop_edge_idx.add(data[\"idx\"])\n",
        "        if not drop_edge_idx:\n",
        "            break\n",
        "        gdf = gdf.drop(index=list(drop_edge_idx)).reset_index(drop=True)\n",
        "    return gdf"
      ],
      "metadata": {
        "id": "grE5icq8-dKG"
      },
      "execution_count": 5,
      "outputs": []
    },
    {
      "cell_type": "code",
      "source": [
        "# ========== 主流程 ==========\n",
        "files = sorted(glob.glob(os.path.join(IN_DIR, \"*.geojson\")))\n",
        "print(f\"发现 {len(files)} 个输入文件\")\n",
        "for fp in files:\n",
        "    name = os.path.basename(fp)\n",
        "    print(\"\\n\" + \"=\"*70)\n",
        "    print(f\"处理：{name}\")\n",
        "    gdf = gpd.read_file(fp)\n",
        "\n",
        "    n0 = len(gdf)\n",
        "    # 0) 统一投影\n",
        "    gdf = to_target_crs(gdf)\n",
        "\n",
        "    # 1) 仅保留线；点/面/集合体全部丢弃\n",
        "    gdf = keep_only_lines(gdf)\n",
        "    n_lines = len(gdf)\n",
        "    print(f\"去点/面后：{n_lines}/{n0}\")\n",
        "\n",
        "    # 2) 端点吸附\n",
        "    gdf = snap_endpoints(gdf, tol=SNAP_TOL)\n",
        "\n",
        "    # 3) 删小连通分量\n",
        "    gdf = remove_small_components(gdf, MIN_COMP_LENGTH)\n",
        "\n",
        "    # 4) 剪短死端\n",
        "    gdf = prune_deadends(gdf, DEADEND_MAX_LEN, passes=DEADEND_PASSES)\n",
        "\n",
        "    # 5) 输出\n",
        "    out_path = os.path.join(OUT_DIR, name)\n",
        "    gdf.to_file(out_path, driver=\"GeoJSON\")\n",
        "    print(f\"清理完成：{len(gdf)} 条，保存 {out_path}\")\n",
        "\n",
        "print(\"\\n✅ 全部完成。参数：\",\n",
        "      f\"CRS→{TARGET_CRS}；SNAP_TOL={SNAP_TOL} m；MIN_COMP_LENGTH={MIN_COMP_LENGTH} m；DEADEND_MAX_LEN={DEADEND_MAX_LEN} m ×{DEADEND_PASSES}\")"
      ],
      "metadata": {
        "colab": {
          "base_uri": "https://localhost:8080/"
        },
        "id": "uGW1MWLH_ss9",
        "outputId": "3cf15534-2b80-4344-dea5-784318714803"
      },
      "execution_count": 6,
      "outputs": [
        {
          "output_type": "stream",
          "name": "stdout",
          "text": [
            "发现 9 个输入文件\n",
            "\n",
            "======================================================================\n",
            "处理：export (1).geojson\n",
            "去点/面后：26037/26082\n",
            "清理完成：15864 条，保存 /content/drive/MyDrive/CASA0004_Cycling/data/s1/Roads_OT/CQI_cleanedV2/export (1).geojson\n",
            "\n",
            "======================================================================\n",
            "处理：export (2).geojson\n",
            "去点/面后：28071/28155\n",
            "清理完成：17423 条，保存 /content/drive/MyDrive/CASA0004_Cycling/data/s1/Roads_OT/CQI_cleanedV2/export (2).geojson\n",
            "\n",
            "======================================================================\n",
            "处理：export (3).geojson\n",
            "去点/面后：10481/10505\n",
            "清理完成：6401 条，保存 /content/drive/MyDrive/CASA0004_Cycling/data/s1/Roads_OT/CQI_cleanedV2/export (3).geojson\n",
            "\n",
            "======================================================================\n",
            "处理：export (4).geojson\n",
            "去点/面后：42791/42929\n",
            "清理完成：27247 条，保存 /content/drive/MyDrive/CASA0004_Cycling/data/s1/Roads_OT/CQI_cleanedV2/export (4).geojson\n",
            "\n",
            "======================================================================\n",
            "处理：export (5).geojson\n",
            "去点/面后：85830/86972\n",
            "清理完成：58731 条，保存 /content/drive/MyDrive/CASA0004_Cycling/data/s1/Roads_OT/CQI_cleanedV2/export (5).geojson\n",
            "\n",
            "======================================================================\n",
            "处理：export (6).geojson\n",
            "去点/面后：34913/35024\n",
            "清理完成：22529 条，保存 /content/drive/MyDrive/CASA0004_Cycling/data/s1/Roads_OT/CQI_cleanedV2/export (6).geojson\n",
            "\n",
            "======================================================================\n",
            "处理：export (7).geojson\n",
            "去点/面后：26950/26985\n",
            "清理完成：16677 条，保存 /content/drive/MyDrive/CASA0004_Cycling/data/s1/Roads_OT/CQI_cleanedV2/export (7).geojson\n",
            "\n",
            "======================================================================\n",
            "处理：export (8).geojson\n",
            "去点/面后：43345/43592\n",
            "清理完成：28463 条，保存 /content/drive/MyDrive/CASA0004_Cycling/data/s1/Roads_OT/CQI_cleanedV2/export (8).geojson\n",
            "\n",
            "======================================================================\n",
            "处理：export (9).geojson\n",
            "去点/面后：15802/15823\n",
            "清理完成：9847 条，保存 /content/drive/MyDrive/CASA0004_Cycling/data/s1/Roads_OT/CQI_cleanedV2/export (9).geojson\n",
            "\n",
            "✅ 全部完成。参数： CRS→EPSG:27700；SNAP_TOL=2.0 m；MIN_COMP_LENGTH=100.0 m；DEADEND_MAX_LEN=20.0 m ×3\n"
          ]
        }
      ]
    }
  ]
}