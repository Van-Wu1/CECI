{
 "cells": [
  {
   "cell_type": "code",
   "execution_count": 14,
   "id": "a99d3f4d",
   "metadata": {},
   "outputs": [],
   "source": [
    "import osmnx as ox\n",
    "import geopandas as gpd\n",
    "import pandas as pd"
   ]
  },
  {
   "cell_type": "code",
   "execution_count": 8,
   "id": "a0eaa054",
   "metadata": {},
   "outputs": [],
   "source": [
    "# 设置区域\n",
    "place_name = \"Greater London, United Kingdom\"\n",
    "\n",
    "# 设定目标标签：自然景观\n",
    "tags = {\n",
    "    \"leisure\": [\"park\"],\n",
    "    \"natural\": [\"water\", \"wood\", \"scrub\"],\n",
    "    \"landuse\": [\"grass\", \"meadow\"]\n",
    "}"
   ]
  },
  {
   "cell_type": "code",
   "execution_count": null,
   "id": "7436a941",
   "metadata": {},
   "outputs": [],
   "source": [
    "gdf_list = []\n",
    "\n",
    "for key, values in tags.items():\n",
    "    for value in values:\n",
    "        query = {key: value}\n",
    "        gdf = ox.features_from_place(place_name, tags=query)\n",
    "        gdf[\"tag_key\"] = key\n",
    "        gdf[\"tag_value\"] = value\n",
    "        gdf_list.append(gdf)\n",
    "\n"
   ]
  },
  {
   "cell_type": "code",
   "execution_count": 16,
   "id": "9eb8133f",
   "metadata": {},
   "outputs": [],
   "source": [
    "gdf_combined = gpd.GeoDataFrame(pd.concat(gdf_list, ignore_index=True), crs=gdf_list[0].crs)"
   ]
  },
  {
   "cell_type": "code",
   "execution_count": 17,
   "id": "27aab200",
   "metadata": {},
   "outputs": [],
   "source": [
    "# 过滤出面状景观（避免点/线导致shp导出失败）\n",
    "gdf_output = gdf_combined[\n",
    "    gdf_combined.geometry.type.isin([\"Polygon\", \"MultiPolygon\"])\n",
    "][[\"geometry\", \"tag_key\", \"tag_value\"]]\n",
    "\n",
    "# 导出为 Shapefile\n",
    "gdf_output.to_file(\"greater_london_nature_features.shp\", driver=\"ESRI Shapefile\")\n"
   ]
  }
 ],
 "metadata": {
  "kernelspec": {
   "display_name": "Python 3",
   "language": "python",
   "name": "python3"
  },
  "language_info": {
   "codemirror_mode": {
    "name": "ipython",
    "version": 3
   },
   "file_extension": ".py",
   "mimetype": "text/x-python",
   "name": "python",
   "nbconvert_exporter": "python",
   "pygments_lexer": "ipython3",
   "version": "3.13.2"
  }
 },
 "nbformat": 4,
 "nbformat_minor": 5
}
