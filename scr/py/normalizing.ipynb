{
  "nbformat": 4,
  "nbformat_minor": 0,
  "metadata": {
    "colab": {
      "provenance": [],
      "authorship_tag": "ABX9TyO3uJSZq8vfzKLknhaeLEv2",
      "include_colab_link": true
    },
    "kernelspec": {
      "name": "python3",
      "display_name": "Python 3"
    },
    "language_info": {
      "name": "python"
    }
  },
  "cells": [
    {
      "cell_type": "markdown",
      "metadata": {
        "id": "view-in-github",
        "colab_type": "text"
      },
      "source": [
        "<a href=\"https://colab.research.google.com/github/Van-Wu1/cycle/blob/main/scr/py/normalizing.ipynb\" target=\"_parent\"><img src=\"https://colab.research.google.com/assets/colab-badge.svg\" alt=\"Open In Colab\"/></a>"
      ]
    },
    {
      "cell_type": "code",
      "source": [
        "from google.colab import drive\n",
        "drive.mount('/content/drive')\n",
        "!ls '/content/drive/MyDrive/CASA0004_Cycling/data'"
      ],
      "metadata": {
        "colab": {
          "base_uri": "https://localhost:8080/"
        },
        "id": "ZjO1wd68GAa3",
        "outputId": "4d608d3e-93a4-4947-b3ad-48efe53e1e2e"
      },
      "execution_count": null,
      "outputs": [
        {
          "output_type": "stream",
          "name": "stdout",
          "text": [
            "Mounted at /content/drive\n",
            "BoroughShp  CQI  GreatLondonShp  s1  s2_Env  s3\n"
          ]
        }
      ]
    },
    {
      "cell_type": "code",
      "source": [
        "import geopandas as gpd\n",
        "import pandas as pd\n",
        "import matplotlib.pyplot as plt\n",
        "import seaborn as sns\n",
        "from sklearn.preprocessing import MinMaxScaler"
      ],
      "metadata": {
        "id": "jx74vl3pGC-3"
      },
      "execution_count": null,
      "outputs": []
    },
    {
      "cell_type": "code",
      "source": [
        "cqi = gpd.read_file(\"/content/drive/MyDrive/CASA0004_Cycling/data/CQI/CQI.gpkg\")\n",
        "print(cqi.columns)"
      ],
      "metadata": {
        "colab": {
          "base_uri": "https://localhost:8080/"
        },
        "id": "nMQIeLC1GFOz",
        "outputId": "80bd345a-917b-4419-bb70-29f148f9582f"
      },
      "execution_count": null,
      "outputs": [
        {
          "output_type": "stream",
          "name": "stdout",
          "text": [
            "Index(['id', 'name', 'way_type', 'length_m', 'index_1', 'base_index', 'fac_1',\n",
            "       'fac_2', 'fac_3', 'fac_4', 'fac_5', 'LTS', 'index_2', 'fac_gvi',\n",
            "       'fac_no2', 'fac_nat', 'index_3', 'edge_betweenness',\n",
            "       'edge_closeness_2km', 'edge_closeness_5km', '_B_log', 'B_norm',\n",
            "       'C2_norm', 'C5_norm', 'C_multi', 'cqi_index', 'cqi_index_w1',\n",
            "       'cqi_index_w2', 'cqi_index_w3', 'geometry'],\n",
            "      dtype='object')\n"
          ]
        }
      ]
    },
    {
      "cell_type": "code",
      "source": [
        "# 需要归一化的列\n",
        "cols = ['index_1','index_2','index_3']\n",
        "\n",
        "# Min-Max归一化到[0,100]\n",
        "scaler = MinMaxScaler(feature_range=(0,100))\n",
        "cqi_scaled = scaler.fit_transform(cqi[cols])\n",
        "\n",
        "# 插入新列：放在原列前面\n",
        "for i, col in enumerate(cols):\n",
        "    new_col = col + \"_nor\"\n",
        "    cqi.insert(\n",
        "        cqi.columns.get_loc(col),  # 插在原字段前面\n",
        "        new_col,\n",
        "        cqi_scaled[:, i]\n",
        "    )\n",
        "\n",
        "# 检查结果\n",
        "print(cqi[[col+\"_nor\" for col in cols] + cols].head())\n"
      ],
      "metadata": {
        "colab": {
          "base_uri": "https://localhost:8080/"
        },
        "id": "exhtmlFXGcAO",
        "outputId": "eca500b8-4619-402d-c594-0b615c9d36be"
      },
      "execution_count": null,
      "outputs": [
        {
          "output_type": "stream",
          "name": "stdout",
          "text": [
            "   index_1_nor  index_2_nor  index_3_nor  index_1   index_2   index_3\n",
            "0    19.387755    29.697336    13.919033     21.0  0.296973  0.083514\n",
            "1    17.346939    26.220006    13.656598     19.0  0.262200  0.081940\n",
            "2     7.142857    33.692822    63.820237      9.0  0.336928  0.382921\n",
            "3    13.265306    51.771718     1.579539     15.0  0.517717  0.009477\n",
            "4    30.612245    25.090783     3.518560     32.0  0.250908  0.021111\n"
          ]
        }
      ]
    },
    {
      "cell_type": "code",
      "source": [
        "print(cqi.columns)"
      ],
      "metadata": {
        "colab": {
          "base_uri": "https://localhost:8080/"
        },
        "id": "qC2UkGBmICX_",
        "outputId": "0c9e8121-c1b5-45be-854e-845d853f65c4"
      },
      "execution_count": null,
      "outputs": [
        {
          "output_type": "stream",
          "name": "stdout",
          "text": [
            "Index(['id', 'name', 'way_type', 'length_m', 'index_1_nor', 'index_1',\n",
            "       'base_index', 'fac_1', 'fac_2', 'fac_3', 'fac_4', 'fac_5', 'LTS',\n",
            "       'index_2_nor', 'index_2', 'fac_gvi', 'fac_no2', 'fac_nat',\n",
            "       'index_3_nor', 'index_3', 'edge_betweenness', 'edge_closeness_2km',\n",
            "       'edge_closeness_5km', '_B_log', 'B_norm', 'C2_norm', 'C5_norm',\n",
            "       'C_multi', 'cqi_index', 'cqi_index_w1', 'cqi_index_w2', 'cqi_index_w3',\n",
            "       'geometry'],\n",
            "      dtype='object')\n"
          ]
        }
      ]
    },
    {
      "cell_type": "code",
      "source": [
        "# === 1. 构建总的CQI指标（基础版：三个子指数的等权平均） ===\n",
        "cqi['cqi_index'] = cqi[['index_1_nor', 'index_2_nor', 'index_3_nor']].mean(axis=1)\n",
        "\n",
        "# 检查基本统计\n",
        "print(\"CQI Index 基本统计：\")\n",
        "print(cqi['cqi_index'].describe())\n",
        "\n",
        "# === 2. 为敏感性分析留出空间（例如调整权重） ===\n",
        "# 定义一个函数，可以快速测试不同权重组合的结果\n",
        "def calc_cqi(df, w1=1/3, w2=1/3, w3=1/3):\n",
        "    \"\"\"根据权重计算CQI\"\"\"\n",
        "    return df['index_1_nor']*w1 + df['index_2_nor']*w2 + df['index_3_nor']*w3\n",
        "\n",
        "# 示例：偏重 index_1\n",
        "cqi['cqi_index_w1'] = calc_cqi(cqi, w1=0.5, w2=0.25, w3=0.25)\n",
        "\n",
        "# 示例：偏重 index_2\n",
        "cqi['cqi_index_w2'] = calc_cqi(cqi, w1=0.25, w2=0.5, w3=0.25)\n",
        "\n",
        "# 示例：偏重 index_3\n",
        "cqi['cqi_index_w3'] = calc_cqi(cqi, w1=0.25, w2=0.25, w3=0.5)\n",
        "\n",
        "# 输出前几行看结果\n",
        "print(cqi[['id', 'cqi_index', 'cqi_index_w1', 'cqi_index_w2', 'cqi_index_w3']].head())"
      ],
      "metadata": {
        "colab": {
          "base_uri": "https://localhost:8080/"
        },
        "id": "Xc8_ETvzLW0g",
        "outputId": "c02c394b-a0d8-4025-a5e5-2fbf1fddce96"
      },
      "execution_count": null,
      "outputs": [
        {
          "output_type": "stream",
          "name": "stdout",
          "text": [
            "CQI Index 基本统计：\n",
            "count    162927.000000\n",
            "mean         28.490422\n",
            "std           8.378881\n",
            "min           3.074518\n",
            "25%          22.247515\n",
            "50%          27.142806\n",
            "75%          33.693479\n",
            "max          72.817822\n",
            "Name: cqi_index, dtype: float64\n",
            "               id  cqi_index  cqi_index_w1  cqi_index_w2  cqi_index_w3\n",
            "0  way/1000024348  21.001375     20.597970     23.175365     19.230790\n",
            "1  way/1000024349  19.074514     18.642620     20.860887     17.720035\n",
            "2  way/1000057960  34.885305     27.949693     34.587185     42.119038\n",
            "3   way/100009771  22.205521     19.970467     29.597070     17.049025\n",
            "4   way/100015712  19.740529     22.458458     21.078093     15.685037\n"
          ]
        }
      ]
    },
    {
      "cell_type": "code",
      "source": [
        "import seaborn as sns\n",
        "import matplotlib.pyplot as plt\n",
        "\n",
        "# === 1. 描述性统计 ===\n",
        "print(\"描述统计：\")\n",
        "print(cqi['cqi_index'].describe())\n",
        "\n",
        "# === 2. 分布直方图 ===\n",
        "plt.figure(figsize=(8, 5))\n",
        "sns.histplot(cqi['cqi_index'], bins=30, kde=True, color=\"#2ca02c\")\n",
        "plt.title(\"Distribution of CQI\", fontsize=14)\n",
        "plt.xlabel(\"Env Index (0–1)\")\n",
        "plt.ylabel(\"Count\")\n",
        "plt.grid(True)\n",
        "plt.tight_layout()\n",
        "plt.show()"
      ],
      "metadata": {
        "colab": {
          "base_uri": "https://localhost:8080/",
          "height": 681
        },
        "id": "00nFIXinMQX1",
        "outputId": "7f6ff018-6905-4baa-b63b-4438521aa5e4"
      },
      "execution_count": null,
      "outputs": [
        {
          "output_type": "stream",
          "name": "stdout",
          "text": [
            "描述统计：\n",
            "count    162927.000000\n",
            "mean         28.490422\n",
            "std           8.378881\n",
            "min           3.074518\n",
            "25%          22.247515\n",
            "50%          27.142806\n",
            "75%          33.693479\n",
            "max          72.817822\n",
            "Name: cqi_index, dtype: float64\n"
          ]
        },
        {
          "output_type": "display_data",
          "data": {
            "text/plain": [
              "<Figure size 800x500 with 1 Axes>"
            ],
            "image/png": "[encoded data removed]"
          },
          "metadata": {}
        }
      ]
    },
    {
      "cell_type": "code",
      "source": [
        "cqi.to_file(\"/content/drive/MyDrive/CASA0004_Cycling/data/CQI/CQI_nor.gpkg\", driver=\"GPKG\")\n",
        "\n",
        "print(\"导出成功\")"
      ],
      "metadata": {
        "colab": {
          "base_uri": "https://localhost:8080/"
        },
        "id": "UgfXvdAuIFXd",
        "outputId": "eb0e132b-e83e-4d83-8569-e73f7d09d97c"
      },
      "execution_count": null,
      "outputs": [
        {
          "output_type": "stream",
          "name": "stdout",
          "text": [
            "导出成功\n"
          ]
        }
      ]
    },
    {
      "cell_type": "code",
      "source": [],
      "metadata": {
        "id": "e0SAx_npLU5I"
      },
      "execution_count": null,
      "outputs": []
    }
  ]
}