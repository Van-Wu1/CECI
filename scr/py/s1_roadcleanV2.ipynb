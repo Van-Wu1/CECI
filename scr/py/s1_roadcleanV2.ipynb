{
  "nbformat": 4,
  "nbformat_minor": 0,
  "metadata": {
    "colab": {
      "provenance": [],
      "authorship_tag": "ABX9TyNqWSLe8zRkW3VkPXU6PgI1",
      "include_colab_link": true
    },
    "kernelspec": {
      "name": "python3",
      "display_name": "Python 3"
    },
    "language_info": {
      "name": "python"
    }
  },
  "cells": [
    {
      "cell_type": "markdown",
      "metadata": {
        "id": "view-in-github",
        "colab_type": "text"
      },
      "source": [
        "<a href=\"https://colab.research.google.com/github/Van-Wu1/cycle/blob/main/scr/py/s1_roadcleanV2.ipynb\" target=\"_parent\"><img src=\"https://colab.research.google.com/assets/colab-badge.svg\" alt=\"Open In Colab\"/></a>"
      ]
    },
    {
      "cell_type": "code",
      "source": [
        "from google.colab import drive\n",
        "drive.mount('/content/drive')\n",
        "!ls '/content/drive/MyDrive/CASA0004_Cycling/data'"
      ],
      "metadata": {
        "id": "0JOMO8ESjyna"
      },
      "execution_count": null,
      "outputs": []
    },
    {
      "cell_type": "code",
      "source": [
        "import os, re, glob\n",
        "import geopandas as gpd\n",
        "import pandas as pd"
      ],
      "metadata": {
        "id": "D-UboSFJjxk9"
      },
      "execution_count": null,
      "outputs": []
    },
    {
      "cell_type": "code",
      "execution_count": null,
      "metadata": {
        "id": "YwUG2wNhhhjI"
      },
      "outputs": [],
      "source": [
        "# ========== 配置 ==========\n",
        "# 原始分块目录（9 个文件所在的目录）\n",
        "ORIG_DIR = r\"/content/drive/MyDrive/CASA0004_Cycling/data/s1/Roads_OT/CQI_1\"\n",
        "# 禁止集分块目录（如果“每个分块都有一份禁止文件”，填它的目录；否则留空，使用 BAN_MASTER_FILE）\n",
        "BAN_DIR  = r\"\"  # 例如：\"/content/drive/.../ban_chunks\"；没有就留空\n",
        "# 单个全域禁止文件（如果有一份覆盖全域的“禁止文件”，填它；若使用 BAN_DIR 则留空）\n",
        "BAN_MASTER_FILE = r\"\"  # 例如：\"/content/drive/.../ban_master.geojson\"\n",
        "\n",
        "# 输出目录\n",
        "OUT_DIR = r\"/content/drive/MyDrive/CASA0004_Cycling/data/s1/Roads_OT/CQI_final\"\n",
        "\n",
        "# 原始文件的匹配模式（默认取目录下所有 geojson）\n",
        "ORIG_PATTERN = \"*.geojson\"\n",
        "\n",
        "# 原始与禁止文件如何“配对”的 key：默认用文件名前缀第一个数字块，如 1_xxx.geojson → key=1\n",
        "def file_key(path: str) -> str:\n",
        "    name = os.path.basename(path)\n",
        "    # 提取第一个连续数字作为 key；找不到则去掉扩展名后全名做 key\n",
        "    m = re.search(r\"(\\d+)\", name)\n",
        "    return m.group(1) if m else os.path.splitext(name)[0]\n",
        "\n",
        "# ========== 工具函数 ==========\n",
        "def detect_id_column(gdf: gpd.GeoDataFrame) -> str:\n",
        "    \"\"\"在常见字段名中检测 id 列\"\"\"\n",
        "    candidates = [\"id\", \"@id\", \"osm_id\", \"osm_way_id\"]\n",
        "    cols = {c.lower(): c for c in gdf.columns}\n",
        "    for c in candidates:\n",
        "        if c in cols:\n",
        "            return cols[c]\n",
        "    # 兜底：找含 \"id\" 的列\n",
        "    for c in gdf.columns:\n",
        "        if \"id\" in c.lower():\n",
        "            return c\n",
        "    raise ValueError(\"未找到 id 字段，请检查字段名（期望 id/@id/osm_id/osm_way_id）\")\n",
        "\n",
        "def normalize_id_series(s: pd.Series) -> pd.DataFrame:\n",
        "    \"\"\"\n",
        "    生成两列：\n",
        "      id_str: 原样字符串（去首尾空格）\n",
        "      id_num: 仅数字部分（way/123 -> 123；relation/456 -> 456）\n",
        "    \"\"\"\n",
        "    s = s.astype(str).str.strip()\n",
        "    id_num = s.str.extract(r\"(\\d+)\", expand=False).fillna(\"\")\n",
        "    return pd.DataFrame({\"id_str\": s, \"id_num\": id_num})\n",
        "\n",
        "def build_ban_sets(ban_gdf: gpd.GeoDataFrame, ban_id_col: str):\n",
        "    ndf = normalize_id_series(ban_gdf[ban_id_col])\n",
        "    ban_full = set(ndf[\"id_str\"].tolist())\n",
        "    ban_num  = set([x for x in ndf[\"id_num\"].tolist() if x])\n",
        "    return ban_full, ban_num\n",
        "\n",
        "def subtract_by_id(orig_gdf: gpd.GeoDataFrame, ban_full: set, ban_num: set, orig_id_col: str) -> gpd.GeoDataFrame:\n",
        "    ndf = normalize_id_series(orig_gdf[orig_id_col])\n",
        "    mask_drop = ndf[\"id_str\"].isin(ban_full) | (ndf[\"id_num\"].isin(ban_num) & ndf[\"id_num\"].ne(\"\"))\n",
        "    kept = orig_gdf.loc[~mask_drop].copy()\n",
        "    return kept\n",
        "\n",
        "# ========== 主流程 ==========\n",
        "os.makedirs(OUT_DIR, exist_ok=True)\n",
        "\n",
        "# 收集原始分块\n",
        "orig_files = sorted(glob.glob(os.path.join(ORIG_DIR, ORIG_PATTERN)))\n",
        "if not orig_files:\n",
        "    raise SystemExit(f\"在 {ORIG_DIR} 下没有找到匹配 {ORIG_PATTERN} 的原始文件\")\n",
        "\n",
        "# 构建 key→原始文件映射\n",
        "orig_map = {file_key(p): p for p in orig_files}\n",
        "\n",
        "# 准备禁止集合\n",
        "ban_map = {}\n",
        "if BAN_DIR:\n",
        "    ban_files = sorted(glob.glob(os.path.join(BAN_DIR, \"*.geojson\")))\n",
        "    ban_map = {file_key(p): p for p in ban_files}\n",
        "    print(f\"使用分块禁止集：{len(ban_map)} 个文件\")\n",
        "elif BAN_MASTER_FILE:\n",
        "    if not os.path.exists(BAN_MASTER_FILE):\n",
        "        raise SystemExit(f\"未找到 BAN_MASTER_FILE: {BAN_MASTER_FILE}\")\n",
        "    print(f\"使用全域禁止文件：{BAN_MASTER_FILE}\")\n",
        "else:\n",
        "    raise SystemExit(\"请设置 BAN_DIR 或 BAN_MASTER_FILE 之一。\")\n",
        "\n",
        "# 如果用全域禁止文件，预先读入并构建集合（一次就够）\n",
        "global_ban_full = global_ban_num = None\n",
        "if BAN_MASTER_FILE:\n",
        "    ban_all = gpd.read_file(BAN_MASTER_FILE)\n",
        "    ban_id_col = detect_id_column(ban_all)\n",
        "    global_ban_full, global_ban_num = build_ban_sets(ban_all, ban_id_col)\n",
        "    print(f\"全域禁止集：string={len(global_ban_full)}, numeric={len(global_ban_num)}\")\n",
        "\n",
        "# 遍历处理\n",
        "for k, orig_path in orig_map.items():\n",
        "    print(\"=\"*60)\n",
        "    print(f\"处理分块 key={k} | 原始：{os.path.basename(orig_path)}\")\n",
        "\n",
        "    # 读取原始\n",
        "    orig = gpd.read_file(orig_path)\n",
        "    orig_id_col = detect_id_column(orig)\n",
        "\n",
        "    # 确定本块使用的禁止集合\n",
        "    if BAN_DIR:\n",
        "        ban_path = ban_map.get(k)\n",
        "        if ban_path is None:\n",
        "            print(f\"[警告] 未找到 key={k} 的禁止文件，跳过此块\")\n",
        "            continue\n",
        "        ban = gpd.read_file(ban_path)\n",
        "        ban_id_col = detect_id_column(ban)\n",
        "        ban_full, ban_num = build_ban_sets(ban, ban_id_col)\n",
        "    else:\n",
        "        # 用全域禁止\n",
        "        ban_full, ban_num = global_ban_full, global_ban_num\n",
        "\n",
        "    # 执行按 id 相减\n",
        "    kept = subtract_by_id(orig, ban_full, ban_num, orig_id_col)\n",
        "\n",
        "    # 输出路径（保留原文件名）\n",
        "    out_name = os.path.basename(orig_path)\n",
        "    out_path = os.path.join(OUT_DIR, out_name)\n",
        "    kept.to_file(out_path, driver=\"GeoJSON\")\n",
        "\n",
        "    print(f\"原始 {len(orig)} 条 → 删除 {len(orig)-len(kept)} 条 → 保留 {len(kept)} 条\")\n",
        "    print(f\"已保存：{out_path}\")\n",
        "\n",
        "print(\"✅ 全部完成！\")\n"
      ]
    }
  ]
}