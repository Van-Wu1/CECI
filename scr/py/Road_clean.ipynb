{
 "cells": [
  {
   "cell_type": "code",
   "execution_count": 5,
   "id": "f9276762",
   "metadata": {},
   "outputs": [],
   "source": [
    "import geopandas as gpd\n",
    "import networkx as nx\n",
    "import osmnx as ox"
   ]
  },
  {
   "cell_type": "code",
   "execution_count": 6,
   "id": "c8b7a550",
   "metadata": {},
   "outputs": [],
   "source": [
    "gdf = gpd.read_file(\"../data/Roads/edges_clean.gpkg\")\n",
    "gdf = gdf.copy()"
   ]
  },
  {
   "cell_type": "code",
   "execution_count": 7,
   "id": "000ef47d",
   "metadata": {},
   "outputs": [],
   "source": [
    "# filtered = gdf[\n",
    "#     (\n",
    "#         gdf[\"access\"].isna() |\n",
    "#         gdf[\"access\"].isin(['yes', 'permissive', 'designated', 'customers', 'destination']) |\n",
    "#         gdf[\"access\"].astype(str).str.contains(\"yes\", na=False) |\n",
    "#         gdf[\"access\"].astype(str).str.contains(\"permissive\", na=False) |\n",
    "#         gdf[\"access\"].astype(str).str.contains(\"destination\", na=False)\n",
    "#     ) &\n",
    "#     (gdf[\"tunnel\"] != 'yes') &\n",
    "#     ~((gdf[\"highway\"] == 'unclassified') & (gdf[\"access\"].isna()))\n",
    "# ]\n",
    "\n",
    "# print(f\"属性筛选后剩余边数: {len(filtered)}\")"
   ]
  },
  {
   "cell_type": "code",
   "execution_count": 8,
   "id": "fb3368e3",
   "metadata": {},
   "outputs": [
    {
     "name": "stdout",
     "output_type": "stream",
     "text": [
      "最大联通子图内的边数: 248066\n"
     ]
    }
   ],
   "source": [
    "# 构建 NetworkX 图并保留最大联通分量\n",
    "# 确保有 u 和 v 列（节点 ID）\n",
    "if \"u\" not in gdf.columns or \"v\" not in gdf.columns:\n",
    "    raise ValueError(\"边数据中必须包含 'u' 和 'v' 列来表示网络节点\")\n",
    "\n",
    "G = nx.Graph()\n",
    "for idx, row in gdf.iterrows():\n",
    "    G.add_edge(row['u'], row['v'], index=idx)\n",
    "\n",
    "# 提取所有连通分量\n",
    "subgraphs = list(nx.connected_components(G))\n",
    "\n",
    "# 设定阈值，比如：节点数 ≥ 300\n",
    "kept_nodes = set()\n",
    "for component in subgraphs:\n",
    "    if len(component) >= 300:\n",
    "        kept_nodes.update(component)\n",
    "\n",
    "# 保留属于这些子图的边\n",
    "filtered_final = gdf[\n",
    "    gdf['u'].isin(kept_nodes) & gdf['v'].isin(kept_nodes)\n",
    "]\n",
    "\n",
    "print(f\"最大联通子图内的边数: {len(filtered_final)}\")"
   ]
  },
  {
   "cell_type": "code",
   "execution_count": 9,
   "id": "cbbf5e64",
   "metadata": {},
   "outputs": [
    {
     "name": "stdout",
     "output_type": "stream",
     "text": [
      "已导出为 GPKG 文件：../data/Roads/edges_final.gpkg\n"
     ]
    }
   ],
   "source": [
    "output_path = \"../data/Roads/edges_final.gpkg\"\n",
    "filtered_final.to_file(output_path, driver=\"GPKG\")\n",
    "\n",
    "print(f\"已导出为 GPKG 文件：{output_path}\")"
   ]
  }
 ],
 "metadata": {
  "kernelspec": {
   "display_name": "Python 3",
   "language": "python",
   "name": "python3"
  },
  "language_info": {
   "codemirror_mode": {
    "name": "ipython",
    "version": 3
   },
   "file_extension": ".py",
   "mimetype": "text/x-python",
   "name": "python",
   "nbconvert_exporter": "python",
   "pygments_lexer": "ipython3",
   "version": "3.13.2"
  }
 },
 "nbformat": 4,
 "nbformat_minor": 5
}
