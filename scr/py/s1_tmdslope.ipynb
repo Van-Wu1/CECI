{
  "cells": [
    {
      "cell_type": "markdown",
      "metadata": {
        "id": "view-in-github",
        "colab_type": "text"
      },
      "source": [
        "<a href=\"https://colab.research.google.com/github/Van-Wu1/cycle/blob/main/scr/py/s1_tmdslope.ipynb\" target=\"_parent\"><img src=\"https://colab.research.google.com/assets/colab-badge.svg\" alt=\"Open In Colab\"/></a>"
      ]
    },
    {
      "cell_type": "code",
      "execution_count": null,
      "id": "dmFGM_4I6T7-",
      "metadata": {
        "id": "dmFGM_4I6T7-",
        "outputId": "0f2eeed4-65eb-4504-8179-986b00e94062",
        "colab": {
          "base_uri": "https://localhost:8080/"
        }
      },
      "outputs": [
        {
          "output_type": "stream",
          "name": "stdout",
          "text": [
            "\u001b[2K   \u001b[90m━━━━━━━━━━━━━━━━━━━━━━━━━━━━━━━━━━━━━━━━\u001b[0m \u001b[32m22.2/22.2 MB\u001b[0m \u001b[31m63.0 MB/s\u001b[0m eta \u001b[36m0:00:00\u001b[0m\n",
            "\u001b[?25h"
          ]
        }
      ],
      "source": [
        "!pip -q install geopandas shapely rasterio pyproj tqdm"
      ]
    },
    {
      "cell_type": "code",
      "execution_count": null,
      "id": "WKQNBVM84wla",
      "metadata": {
        "colab": {
          "base_uri": "https://localhost:8080/"
        },
        "id": "WKQNBVM84wla",
        "outputId": "a0273597-0d80-4271-8d00-bac4ad0f4d69"
      },
      "outputs": [
        {
          "output_type": "stream",
          "name": "stdout",
          "text": [
            "Mounted at /content/drive\n",
            "BoroughShp  GreatLondonShp  s1\ts2_Env\ts3\n"
          ]
        }
      ],
      "source": [
        "from google.colab import drive\n",
        "drive.mount('/content/drive')\n",
        "!ls '/content/drive/MyDrive/CASA0004_Cycling/data'"
      ]
    },
    {
      "cell_type": "code",
      "execution_count": null,
      "id": "JXmMN-2052lT",
      "metadata": {
        "id": "JXmMN-2052lT"
      },
      "outputs": [],
      "source": [
        "import math\n",
        "import numpy as np\n",
        "import rasterio\n",
        "from shapely.geometry import LineString, MultiLineString\n",
        "from tqdm import tqdm\n",
        "\n",
        "import geopandas as gpd\n",
        "import pandas as pd\n",
        "from shapely.geometry import Point\n",
        "from shapely.strtree import STRtree\n",
        "import numpy as np\n",
        "import matplotlib.pyplot as plt\n",
        "import os\n",
        "import glob"
      ]
    },
    {
      "cell_type": "code",
      "source": [
        "# 输入文件夹和输出文件夹\n",
        "input_dir = \"/content/drive/MyDrive/CASA0004_Cycling/data/s1/Roads_OT/CQI_1\"\n",
        "output_dir = \"/content/drive/MyDrive/CASA0004_Cycling/data/s1/Roads_OT/CQI_final\"\n",
        "\n",
        "# 确保输出文件夹存在\n",
        "os.makedirs(output_dir, exist_ok=True)"
      ],
      "metadata": {
        "id": "nHPayiV_9MNd"
      },
      "id": "nHPayiV_9MNd",
      "execution_count": null,
      "outputs": []
    },
    {
      "cell_type": "code",
      "execution_count": null,
      "id": "tUAUpdEQ6ZiF",
      "metadata": {
        "id": "tUAUpdEQ6ZiF"
      },
      "outputs": [],
      "source": [
        "# 可调参数\n",
        "SLOPE_TIF = \"/content/drive/MyDrive/CASA0004_Cycling/data/s1/Slope/slope.tif\"\n",
        "INTERVAL_M = 5.0             # 采样间距（米）\n",
        "STAT_KIND  = \"q3\"             # \"q3\" | \"mean\" | \"max\"\n",
        "SLOPE_UNIT = \"degree\"         # 栅格单位 or \"percent\"\n",
        "CHUNK_SIZE = 20000            # 分块行数，视内存调整"
      ]
    },
    {
      "cell_type": "code",
      "source": [
        "def line_points_every(line: LineString, step: float):\n",
        "    \"\"\"沿 LineString 每 step 米取点（含终点）。\"\"\"\n",
        "    if not line or line.length == 0:\n",
        "        return []\n",
        "    n = max(1, int(math.floor(line.length / step)))\n",
        "    dists = [i * step for i in range(n)] + [line.length]\n",
        "    return [line.interpolate(d).coords[0] for d in dists]\n",
        "\n",
        "def geom_points(geom, step: float):\n",
        "    if geom is None:\n",
        "        return []\n",
        "    if isinstance(geom, LineString):\n",
        "        return line_points_every(geom, step)\n",
        "    if isinstance(geom, MultiLineString):\n",
        "        pts = []\n",
        "        for part in geom.geoms:\n",
        "            pts.extend(line_points_every(part, step))\n",
        "        return pts\n",
        "    return []\n",
        "\n",
        "def calc_stat(vals, kind=\"q3\"):\n",
        "    if not vals:\n",
        "        return 0.0\n",
        "    arr = np.asarray(vals, dtype=float)\n",
        "    if kind == \"mean\": return float(np.nanmean(arr))\n",
        "    if kind == \"max\":  return float(np.nanmax(arr))\n",
        "    return float(np.nanpercentile(arr, 75))  # q3\n",
        "\n",
        "def slope_to_percent(v, unit=\"degree\"):\n",
        "    if unit == \"percent\": return float(v)\n",
        "    return float(math.tan(math.radians(v)) * 100.0)\n",
        "\n",
        "def slope_to_factor(slope_pct: float) -> float:\n",
        "    if slope_pct <= 2:   return 1.0\n",
        "    if slope_pct <= 4:   return 0.95\n",
        "    if slope_pct <= 6:   return 0.85\n",
        "    if slope_pct <= 8:   return 0.75\n",
        "    if slope_pct <= 10:  return 0.65\n",
        "    return 0.9\n",
        "\n",
        "# LTS的映射字典\n",
        "def lts_to_factor(lts: float) -> float:\n",
        "    if lts == 1: return 1.0\n",
        "    if lts == 2: return 0.9\n",
        "    if lts == 3: return 0.75\n",
        "    if lts == 4: return 0.6\n",
        "    return 0.9 #没关系这里没有空"
      ],
      "metadata": {
        "id": "7u_hGgCZ92GC"
      },
      "id": "7u_hGgCZ92GC",
      "execution_count": null,
      "outputs": []
    },
    {
      "cell_type": "code",
      "source": [
        "# 插入合并代码（全流程优化中）\n",
        "# 遍历所有 geojson 文件\n",
        "geojson_files = sorted(glob.glob(os.path.join(input_dir, \"*.geojson\")))\n",
        "\n",
        "for file_path in geojson_files:\n",
        "    print(f\"正在处理：{file_path}\")\n",
        "\n",
        "    # 读取文件\n",
        "    road_gdf = gpd.read_file(file_path)\n",
        "\n",
        "    # TODO: 数据处理逻辑\n",
        "    # # 打开坡度栅格\n",
        "    ds = rasterio.open(SLOPE_TIF)\n",
        "    raster_crs = ds.crs\n",
        "    nodata = ds.nodata\n",
        "\n",
        "    # 确保道路与栅格同一 CRS\n",
        "    if road_gdf.crs is None:\n",
        "        raise RuntimeError(\"road_gdf 没有 CRS，请先设定。\")\n",
        "    if raster_crs and road_gdf.crs.to_wkt() != raster_crs.to_wkt():\n",
        "        road_gdf = road_gdf.to_crs(raster_crs)\n",
        "\n",
        "    # 建字段\n",
        "    if \"proc_slope\" not in road_gdf.columns:\n",
        "        road_gdf[\"proc_slope\"] = np.nan\n",
        "    if \"fac_3\" not in road_gdf.columns:\n",
        "        road_gdf[\"fac_3\"] = np.nan\n",
        "    if \"fac_5\" not in road_gdf.columns:\n",
        "        road_gdf[\"fac_5\"] = np.nan\n",
        "\n",
        "    total = len(road_gdf)\n",
        "    pbar = tqdm(total=total, desc=\"Sampling slope\", unit=\"feat\")\n",
        "\n",
        "    start = 0\n",
        "    while start < total:\n",
        "        end = min(start + CHUNK_SIZE, total)\n",
        "        sub = road_gdf.iloc[start:end].copy()\n",
        "\n",
        "        proc_vals = np.zeros(len(sub))\n",
        "        fac_vals  = np.ones(len(sub))\n",
        "\n",
        "        # 为每条线生成采样点 → 栅格采样 → 统计\n",
        "        for i, geom in enumerate(sub.geometry.values):\n",
        "            pts = geom_points(geom, INTERVAL_M)\n",
        "            if not pts:\n",
        "                proc_vals[i] = 0.0\n",
        "                fac_vals[i]  = 1.0\n",
        "                continue\n",
        "\n",
        "            # rasterio.sample 需要 [(x,y), ...]\n",
        "            smps = list(ds.sample(pts))\n",
        "            vals = []\n",
        "            for s in smps:\n",
        "                if s is None or len(s) == 0:\n",
        "                    continue\n",
        "                v = s[0]\n",
        "                if v is None:\n",
        "                    continue\n",
        "                if (nodata is not None and v == nodata) or np.isnan(v):\n",
        "                    continue\n",
        "                vals.append(float(v))\n",
        "\n",
        "            stat_v = calc_stat(vals, STAT_KIND)\n",
        "            slope_pct = slope_to_percent(stat_v, SLOPE_UNIT)\n",
        "            factor = slope_to_factor(slope_pct)\n",
        "\n",
        "            proc_vals[i] = round(slope_pct, 2)\n",
        "            fac_vals[i]  = round(factor, 2)\n",
        "\n",
        "        # 写回\n",
        "        road_gdf.loc[sub.index, \"proc_slope\"] = proc_vals\n",
        "        road_gdf.loc[sub.index, \"fac_3\"] = fac_vals\n",
        "\n",
        "        pbar.update(len(sub))\n",
        "        start = end\n",
        "\n",
        "    pbar.close()\n",
        "\n",
        "    road_gdf[\"fac_5\"] = road_gdf[\"stress_level\"].apply(lts_to_factor)\n",
        "\n",
        "    road_gdf[\"index\"] = road_gdf[\"base_index\"] * road_gdf[\"fac_1\"] * road_gdf[\"fac_2\"] * road_gdf[\"fac_3\"] * road_gdf[\"fac_4\"] * road_gdf[\"fac_5\"]\n",
        "\n",
        "    road_gdf[\"index\"] = road_gdf[\"index\"].clip(lower=0, upper=100).round().astype(int)\n",
        "\n",
        "    road_gdf[\"index_10\"] = road_gdf[\"index\"] // 10\n",
        "\n",
        "    # 构造输出路径（保留原文件名）\n",
        "    file_name = os.path.basename(file_path)\n",
        "    output_path = os.path.join(output_dir, file_name)\n",
        "\n",
        "    # 保存\n",
        "    road_gdf.to_file(output_path, driver=\"GeoJSON\")\n",
        "    print(f\"已保存到：{output_path}\")\n",
        "\n",
        "print(\"全部文件处理完成！\")"
      ],
      "metadata": {
        "id": "F441Jty29jMZ",
        "outputId": "acfa9df1-221c-4c40-d7c1-8951db9935d6",
        "colab": {
          "base_uri": "https://localhost:8080/"
        }
      },
      "id": "F441Jty29jMZ",
      "execution_count": null,
      "outputs": [
        {
          "output_type": "stream",
          "name": "stdout",
          "text": [
            "正在处理：/content/drive/MyDrive/CASA0004_Cycling/data/s1/Roads_OT/CQI_1/CQIwithoutslop1.geojson\n"
          ]
        },
        {
          "output_type": "stream",
          "name": "stderr",
          "text": [
            "Sampling slope: 100%|██████████| 5041/5041 [00:13<00:00, 383.65feat/s]\n"
          ]
        },
        {
          "output_type": "stream",
          "name": "stdout",
          "text": [
            "已保存到：/content/drive/MyDrive/CASA0004_Cycling/data/s1/Roads_OT/CQI_final/CQIwithoutslop1.geojson\n",
            "正在处理：/content/drive/MyDrive/CASA0004_Cycling/data/s1/Roads_OT/CQI_1/CQIwithoutslop2.geojson\n"
          ]
        },
        {
          "output_type": "stream",
          "name": "stderr",
          "text": [
            "Sampling slope: 100%|██████████| 15634/15634 [00:49<00:00, 313.52feat/s]\n"
          ]
        },
        {
          "output_type": "stream",
          "name": "stdout",
          "text": [
            "已保存到：/content/drive/MyDrive/CASA0004_Cycling/data/s1/Roads_OT/CQI_final/CQIwithoutslop2.geojson\n",
            "正在处理：/content/drive/MyDrive/CASA0004_Cycling/data/s1/Roads_OT/CQI_1/CQIwithoutslop3.geojson\n"
          ]
        },
        {
          "output_type": "stream",
          "name": "stderr",
          "text": [
            "Sampling slope: 100%|██████████| 2821/2821 [00:11<00:00, 249.26feat/s]\n"
          ]
        },
        {
          "output_type": "stream",
          "name": "stdout",
          "text": [
            "已保存到：/content/drive/MyDrive/CASA0004_Cycling/data/s1/Roads_OT/CQI_final/CQIwithoutslop3.geojson\n",
            "正在处理：/content/drive/MyDrive/CASA0004_Cycling/data/s1/Roads_OT/CQI_1/CQIwithoutslop4.geojson\n"
          ]
        },
        {
          "output_type": "stream",
          "name": "stderr",
          "text": [
            "Sampling slope: 100%|██████████| 25071/25071 [01:04<00:00, 386.55feat/s]\n"
          ]
        },
        {
          "output_type": "stream",
          "name": "stdout",
          "text": [
            "已保存到：/content/drive/MyDrive/CASA0004_Cycling/data/s1/Roads_OT/CQI_final/CQIwithoutslop4.geojson\n",
            "正在处理：/content/drive/MyDrive/CASA0004_Cycling/data/s1/Roads_OT/CQI_1/CQIwithoutslop5.geojson\n"
          ]
        },
        {
          "output_type": "stream",
          "name": "stderr",
          "text": [
            "Sampling slope: 100%|██████████| 57490/57490 [01:45<00:00, 546.82feat/s]\n"
          ]
        },
        {
          "output_type": "stream",
          "name": "stdout",
          "text": [
            "已保存到：/content/drive/MyDrive/CASA0004_Cycling/data/s1/Roads_OT/CQI_final/CQIwithoutslop5.geojson\n",
            "正在处理：/content/drive/MyDrive/CASA0004_Cycling/data/s1/Roads_OT/CQI_1/CQIwithoutslop6.geojson\n"
          ]
        },
        {
          "output_type": "stream",
          "name": "stderr",
          "text": [
            "Sampling slope: 100%|██████████| 15422/15422 [00:41<00:00, 371.28feat/s]\n"
          ]
        },
        {
          "output_type": "stream",
          "name": "stdout",
          "text": [
            "已保存到：/content/drive/MyDrive/CASA0004_Cycling/data/s1/Roads_OT/CQI_final/CQIwithoutslop6.geojson\n",
            "正在处理：/content/drive/MyDrive/CASA0004_Cycling/data/s1/Roads_OT/CQI_1/CQIwithoutslop7.geojson\n"
          ]
        },
        {
          "output_type": "stream",
          "name": "stderr",
          "text": [
            "Sampling slope: 100%|██████████| 10030/10030 [00:30<00:00, 324.57feat/s]\n"
          ]
        },
        {
          "output_type": "stream",
          "name": "stdout",
          "text": [
            "已保存到：/content/drive/MyDrive/CASA0004_Cycling/data/s1/Roads_OT/CQI_final/CQIwithoutslop7.geojson\n",
            "正在处理：/content/drive/MyDrive/CASA0004_Cycling/data/s1/Roads_OT/CQI_1/CQIwithoutslop8.geojson\n"
          ]
        },
        {
          "output_type": "stream",
          "name": "stderr",
          "text": [
            "Sampling slope: 100%|██████████| 26070/26070 [01:03<00:00, 411.09feat/s]\n"
          ]
        },
        {
          "output_type": "stream",
          "name": "stdout",
          "text": [
            "已保存到：/content/drive/MyDrive/CASA0004_Cycling/data/s1/Roads_OT/CQI_final/CQIwithoutslop8.geojson\n",
            "正在处理：/content/drive/MyDrive/CASA0004_Cycling/data/s1/Roads_OT/CQI_1/CQIwithoutslop9.geojson\n"
          ]
        },
        {
          "output_type": "stream",
          "name": "stderr",
          "text": [
            "Sampling slope: 100%|██████████| 6497/6497 [00:21<00:00, 306.46feat/s]\n"
          ]
        },
        {
          "output_type": "stream",
          "name": "stdout",
          "text": [
            "已保存到：/content/drive/MyDrive/CASA0004_Cycling/data/s1/Roads_OT/CQI_final/CQIwithoutslop9.geojson\n",
            "全部文件处理完成！\n"
          ]
        }
      ]
    },
    {
      "cell_type": "code",
      "execution_count": null,
      "id": "0y4syCFk-1RW",
      "metadata": {
        "id": "0y4syCFk-1RW",
        "outputId": "5e13bea7-9e4d-45d5-a819-f0b1730e2230",
        "colab": {
          "base_uri": "https://localhost:8080/"
        }
      },
      "outputs": [
        {
          "output_type": "stream",
          "name": "stdout",
          "text": [
            "CRS: EPSG:27700\n",
            "Width (cols): 11676\n",
            "Height (rows): 9016\n",
            "Transform: | 5.00, 0.00, 503573.42|\n",
            "| 0.00,-5.00, 200936.64|\n",
            "| 0.00, 0.00, 1.00|\n",
            "Pixel size (res): (5.000138720452213, 5.000138720452213)\n"
          ]
        }
      ],
      "source": [
        "print(\"CRS:\", ds.crs)\n",
        "print(\"Width (cols):\", ds.width)\n",
        "print(\"Height (rows):\", ds.height)\n",
        "print(\"Transform:\", ds.transform)\n",
        "print(\"Pixel size (res):\", ds.res)\n"
      ]
    },
    {
      "cell_type": "code",
      "source": [
        "# 必要的copy\n",
        "copy = road_gdf"
      ],
      "metadata": {
        "id": "QxExy8QXKDup"
      },
      "id": "QxExy8QXKDup",
      "execution_count": null,
      "outputs": []
    },
    {
      "cell_type": "code",
      "execution_count": null,
      "id": "Tm-udkxxOALC",
      "metadata": {
        "id": "Tm-udkxxOALC",
        "outputId": "ba327447-b004-4897-e43a-9a10c1132723",
        "colab": {
          "base_uri": "https://localhost:8080/",
          "height": 1000
        }
      },
      "outputs": [
        {
          "output_type": "stream",
          "name": "stdout",
          "text": [
            "count     6497.0\n",
            "unique       6.0\n",
            "top          1.0\n",
            "freq      2508.0\n",
            "Name: fac_3, dtype: float64\n"
          ]
        },
        {
          "output_type": "display_data",
          "data": {
            "text/plain": [
              "<Figure size 640x480 with 1 Axes>"
            ],
            "image/png": "[encoded data removed]"
          },
          "metadata": {}
        },
        {
          "output_type": "display_data",
          "data": {
            "text/plain": [
              "<Figure size 640x480 with 1 Axes>"
            ],
            "image/png": "[encoded data removed]"
          },
          "metadata": {}
        }
      ],
      "source": [
        "import matplotlib.pyplot as plt\n",
        "import seaborn as sns\n",
        "\n",
        "# 1. 基本统计信息\n",
        "print(road_gdf['fac_3'].describe())\n",
        "\n",
        "# 2. 直方图 + 核密度曲线\n",
        "sns.histplot(road_gdf['fac_3'], kde=True, bins=20)\n",
        "plt.title('Distribution of fac_3')\n",
        "plt.xlabel('fac_3')\n",
        "plt.ylabel('Frequency')\n",
        "plt.show()\n",
        "\n",
        "# 3. 箱线图（看中位数和异常值）\n",
        "sns.boxplot(x=road_gdf['fac_3'])\n",
        "plt.title('Boxplot of fac_3')\n",
        "plt.show()\n"
      ]
    },
    {
      "cell_type": "code",
      "execution_count": null,
      "id": "tst0YiVcOBka",
      "metadata": {
        "id": "tst0YiVcOBka",
        "outputId": "f8a130cd-d1af-4246-c65b-a846a14f4d95",
        "colab": {
          "base_uri": "https://localhost:8080/",
          "height": 1000
        }
      },
      "outputs": [
        {
          "output_type": "stream",
          "name": "stdout",
          "text": [
            "count    6497.000000\n",
            "mean        5.221139\n",
            "std        28.467361\n",
            "min         0.000000\n",
            "25%         1.300000\n",
            "50%         2.750000\n",
            "75%         4.700000\n",
            "max       713.450000\n",
            "Name: proc_slope, dtype: float64\n"
          ]
        },
        {
          "output_type": "display_data",
          "data": {
            "text/plain": [
              "<Figure size 640x480 with 1 Axes>"
            ],
            "image/png": "[encoded data removed]"
          },
          "metadata": {}
        },
        {
          "output_type": "display_data",
          "data": {
            "text/plain": [
              "<Figure size 640x480 with 1 Axes>"
            ],
            "image/png": "[encoded data removed]"
          },
          "metadata": {}
        }
      ],
      "source": [
        "# 1. 基本统计信息\n",
        "print(road_gdf['proc_slope'].describe())\n",
        "\n",
        "# 2. 直方图 + 核密度曲线\n",
        "sns.histplot(road_gdf['proc_slope'], kde=True, bins=20)\n",
        "plt.title('Distribution of proc_slope')\n",
        "plt.xlabel('proc_slope')\n",
        "plt.ylabel('Frequency')\n",
        "plt.show()\n",
        "\n",
        "# 3. 箱线图（看中位数和异常值）\n",
        "sns.boxplot(x=road_gdf['proc_slope'])\n",
        "plt.title('Boxplot of proc_slope')\n",
        "plt.show()\n"
      ]
    },
    {
      "cell_type": "code",
      "execution_count": null,
      "id": "514474bb",
      "metadata": {
        "id": "514474bb",
        "outputId": "935853ff-2e33-4b13-cb4f-5cfc18c4ea45",
        "colab": {
          "base_uri": "https://localhost:8080/"
        }
      },
      "outputs": [
        {
          "output_type": "stream",
          "name": "stdout",
          "text": [
            "CRS: EPSG:27700\n",
            "Width (cols): 11676\n",
            "Height (rows): 9016\n",
            "Transform: | 5.00, 0.00, 503573.42|\n",
            "| 0.00,-5.00, 200936.64|\n",
            "| 0.00, 0.00, 1.00|\n",
            "Pixel size (res): (5.000138720452213, 5.000138720452213)\n"
          ]
        }
      ],
      "source": [
        "print(\"CRS:\", ds.crs)\n",
        "print(\"Width (cols):\", ds.width)\n",
        "print(\"Height (rows):\", ds.height)\n",
        "print(\"Transform:\", ds.transform)\n",
        "print(\"Pixel size (res):\", ds.res)"
      ]
    }
  ],
  "metadata": {
    "colab": {
      "machine_shape": "hm",
      "provenance": [],
      "include_colab_link": true
    },
    "kernelspec": {
      "display_name": "Python 3",
      "name": "python3"
    },
    "language_info": {
      "codemirror_mode": {
        "name": "ipython",
        "version": 3
      },
      "file_extension": ".py",
      "mimetype": "text/x-python",
      "name": "python",
      "nbconvert_exporter": "python",
      "pygments_lexer": "ipython3",
      "version": "3.13.2"
    }
  },
  "nbformat": 4,
  "nbformat_minor": 5
}