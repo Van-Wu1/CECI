{
  "cells": [
    {
      "cell_type": "markdown",
      "metadata": {
        "id": "view-in-github",
        "colab_type": "text"
      },
      "source": [
        "<a href=\"https://colab.research.google.com/github/Van-Wu1/cycle/blob/main/scr/py/s1_tmdslope.ipynb\" target=\"_parent\"><img src=\"https://colab.research.google.com/assets/colab-badge.svg\" alt=\"Open In Colab\"/></a>"
      ]
    },
    {
      "cell_type": "code",
      "execution_count": 1,
      "id": "dmFGM_4I6T7-",
      "metadata": {
        "id": "dmFGM_4I6T7-",
        "outputId": "34379a35-826c-47a3-bc16-eb1f16b2be30",
        "colab": {
          "base_uri": "https://localhost:8080/"
        }
      },
      "outputs": [
        {
          "output_type": "stream",
          "name": "stdout",
          "text": [
            "\u001b[2K   \u001b[90m━━━━━━━━━━━━━━━━━━━━━━━━━━━━━━━━━━━━━━━━\u001b[0m \u001b[32m22.2/22.2 MB\u001b[0m \u001b[31m86.4 MB/s\u001b[0m eta \u001b[36m0:00:00\u001b[0m\n",
            "\u001b[?25h"
          ]
        }
      ],
      "source": [
        "!pip -q install geopandas shapely rasterio pyproj tqdm"
      ]
    },
    {
      "cell_type": "code",
      "execution_count": 2,
      "id": "WKQNBVM84wla",
      "metadata": {
        "colab": {
          "base_uri": "https://localhost:8080/"
        },
        "id": "WKQNBVM84wla",
        "outputId": "ff3c95ff-0bf2-4b58-8e21-7058a1b5fdfc"
      },
      "outputs": [
        {
          "output_type": "stream",
          "name": "stdout",
          "text": [
            "Mounted at /content/drive\n",
            "BoroughShp  GreatLondonShp  s1\ts2_Env\ts3\n"
          ]
        }
      ],
      "source": [
        "from google.colab import drive\n",
        "drive.mount('/content/drive')\n",
        "!ls '/content/drive/MyDrive/CASA0004_Cycling/data'"
      ]
    },
    {
      "cell_type": "code",
      "execution_count": 3,
      "id": "JXmMN-2052lT",
      "metadata": {
        "id": "JXmMN-2052lT"
      },
      "outputs": [],
      "source": [
        "import math\n",
        "import numpy as np\n",
        "import rasterio\n",
        "from shapely.geometry import LineString, MultiLineString\n",
        "from tqdm import tqdm\n",
        "\n",
        "import geopandas as gpd\n",
        "import pandas as pd\n",
        "from shapely.geometry import Point\n",
        "from shapely.strtree import STRtree\n",
        "import numpy as np\n",
        "import matplotlib.pyplot as plt\n",
        "import os\n",
        "import glob"
      ]
    },
    {
      "cell_type": "code",
      "source": [
        "# 输入文件夹和输出文件夹\n",
        "input_dir = \"/content/drive/MyDrive/CASA0004_Cycling/data/s1/Roads_OT/CQI_1\"\n",
        "output_dir = \"/content/drive/MyDrive/CASA0004_Cycling/data/s1/Roads_OT/CQI_final\"\n",
        "\n",
        "# 确保输出文件夹存在\n",
        "os.makedirs(output_dir, exist_ok=True)"
      ],
      "metadata": {
        "id": "nHPayiV_9MNd"
      },
      "id": "nHPayiV_9MNd",
      "execution_count": 4,
      "outputs": []
    },
    {
      "cell_type": "code",
      "execution_count": 5,
      "id": "tUAUpdEQ6ZiF",
      "metadata": {
        "id": "tUAUpdEQ6ZiF"
      },
      "outputs": [],
      "source": [
        "# 可调参数\n",
        "SLOPE_TIF = \"/content/drive/MyDrive/CASA0004_Cycling/data/s1/Slope/slope.tif\"\n",
        "INTERVAL_M = 5.0             # 采样间距（米）\n",
        "STAT_KIND  = \"q3\"             # \"q3\" | \"mean\" | \"max\"\n",
        "SLOPE_UNIT = \"degree\"         # 栅格单位 or \"percent\"\n",
        "CHUNK_SIZE = 20000            # 分块行数，视内存调整"
      ]
    },
    {
      "cell_type": "code",
      "source": [
        "def line_points_every(line: LineString, step: float):\n",
        "    \"\"\"沿 LineString 每 step 米取点（含终点）。\"\"\"\n",
        "    if not line or line.length == 0:\n",
        "        return []\n",
        "    n = max(1, int(math.floor(line.length / step)))\n",
        "    dists = [i * step for i in range(n)] + [line.length]\n",
        "    return [line.interpolate(d).coords[0] for d in dists]\n",
        "\n",
        "def geom_points(geom, step: float):\n",
        "    if geom is None:\n",
        "        return []\n",
        "    if isinstance(geom, LineString):\n",
        "        return line_points_every(geom, step)\n",
        "    if isinstance(geom, MultiLineString):\n",
        "        pts = []\n",
        "        for part in geom.geoms:\n",
        "            pts.extend(line_points_every(part, step))\n",
        "        return pts\n",
        "    return []\n",
        "\n",
        "def calc_stat(vals, kind=\"q3\"):\n",
        "    if not vals:\n",
        "        return 0.0\n",
        "    arr = np.asarray(vals, dtype=float)\n",
        "    if kind == \"mean\": return float(np.nanmean(arr))\n",
        "    if kind == \"max\":  return float(np.nanmax(arr))\n",
        "    return float(np.nanpercentile(arr, 75))  # q3\n",
        "\n",
        "def slope_to_percent(v, unit=\"degree\"):\n",
        "    if unit == \"percent\": return float(v)\n",
        "    return float(math.tan(math.radians(v)) * 100.0)\n",
        "\n",
        "def slope_to_factor(slope_pct: float) -> float:\n",
        "    if slope_pct <= 2:   return 1.0\n",
        "    if slope_pct <= 4:   return 0.95\n",
        "    if slope_pct <= 6:   return 0.85\n",
        "    if slope_pct <= 8:   return 0.75\n",
        "    if slope_pct <= 10:  return 0.65\n",
        "    return 0.9\n",
        "\n",
        "# LTS的映射字典\n",
        "def lts_to_factor(lts: float) -> float:\n",
        "    if lts == 1: return 1.0\n",
        "    if lts == 2: return 0.9\n",
        "    if lts == 3: return 0.75\n",
        "    if lts == 4: return 0.6\n",
        "    return 0.9 #没关系这里没有空"
      ],
      "metadata": {
        "id": "7u_hGgCZ92GC"
      },
      "id": "7u_hGgCZ92GC",
      "execution_count": 6,
      "outputs": []
    },
    {
      "cell_type": "code",
      "source": [
        "# 插入合并代码（全流程优化中）\n",
        "# 遍历所有 geojson 文件\n",
        "geojson_files = sorted(glob.glob(os.path.join(input_dir, \"*.geojson\")))\n",
        "\n",
        "for file_path in geojson_files:\n",
        "    print(f\"正在处理：{file_path}\")\n",
        "\n",
        "    # 读取文件\n",
        "    road_gdf = gpd.read_file(file_path)\n",
        "\n",
        "    # TODO: 数据处理逻辑\n",
        "    # # 打开坡度栅格\n",
        "    ds = rasterio.open(SLOPE_TIF)\n",
        "    raster_crs = ds.crs\n",
        "    nodata = ds.nodata\n",
        "\n",
        "    # 确保道路与栅格同一 CRS\n",
        "    if road_gdf.crs is None:\n",
        "        raise RuntimeError(\"road_gdf 没有 CRS，请先设定。\")\n",
        "    if raster_crs and road_gdf.crs.to_wkt() != raster_crs.to_wkt():\n",
        "        road_gdf = road_gdf.to_crs(raster_crs)\n",
        "\n",
        "    # 建字段\n",
        "    if \"proc_slope\" not in road_gdf.columns:\n",
        "        road_gdf[\"proc_slope\"] = np.nan\n",
        "    if \"fac_3\" not in road_gdf.columns:\n",
        "        road_gdf[\"fac_3\"] = np.nan\n",
        "    if \"fac_5\" not in road_gdf.columns:\n",
        "        road_gdf[\"fac_5\"] = np.nan\n",
        "\n",
        "    total = len(road_gdf)\n",
        "    pbar = tqdm(total=total, desc=\"Sampling slope\", unit=\"feat\")\n",
        "\n",
        "    start = 0\n",
        "    while start < total:\n",
        "        end = min(start + CHUNK_SIZE, total)\n",
        "        sub = road_gdf.iloc[start:end].copy()\n",
        "\n",
        "        proc_vals = np.zeros(len(sub))\n",
        "        fac_vals  = np.ones(len(sub))\n",
        "\n",
        "        # 为每条线生成采样点 → 栅格采样 → 统计\n",
        "        for i, geom in enumerate(sub.geometry.values):\n",
        "            pts = geom_points(geom, INTERVAL_M)\n",
        "            if not pts:\n",
        "                proc_vals[i] = 0.0\n",
        "                fac_vals[i]  = 1.0\n",
        "                continue\n",
        "\n",
        "            # rasterio.sample 需要 [(x,y), ...]\n",
        "            smps = list(ds.sample(pts))\n",
        "            vals = []\n",
        "            for s in smps:\n",
        "                if s is None or len(s) == 0:\n",
        "                    continue\n",
        "                v = s[0]\n",
        "                if v is None:\n",
        "                    continue\n",
        "                if (nodata is not None and v == nodata) or np.isnan(v):\n",
        "                    continue\n",
        "                vals.append(float(v))\n",
        "\n",
        "            stat_v = calc_stat(vals, STAT_KIND)\n",
        "            slope_pct = slope_to_percent(stat_v, SLOPE_UNIT)\n",
        "            factor = slope_to_factor(slope_pct)\n",
        "\n",
        "            proc_vals[i] = round(slope_pct, 2)\n",
        "            fac_vals[i]  = round(factor, 2)\n",
        "\n",
        "        # 写回\n",
        "        road_gdf.loc[sub.index, \"proc_slope\"] = proc_vals\n",
        "        road_gdf.loc[sub.index, \"fac_3\"] = fac_vals\n",
        "\n",
        "        pbar.update(len(sub))\n",
        "        start = end\n",
        "\n",
        "    pbar.close()\n",
        "\n",
        "    road_gdf[\"fac_5\"] = road_gdf[\"stress_level\"].apply(lts_to_factor)\n",
        "\n",
        "    road_gdf[\"index\"] = road_gdf[\"base_index\"] * road_gdf[\"fac_1\"] * road_gdf[\"fac_2\"] * road_gdf[\"fac_3\"] * road_gdf[\"fac_4\"] * road_gdf[\"fac_5\"]\n",
        "\n",
        "    road_gdf[\"index\"] = road_gdf[\"index\"].clip(lower=0, upper=100).round().astype(int)\n",
        "\n",
        "    road_gdf[\"index_10\"] = road_gdf[\"index\"] // 10\n",
        "\n",
        "    # 构造输出路径（保留原文件名）\n",
        "    file_name = os.path.basename(file_path)\n",
        "    output_path = os.path.join(output_dir, file_name)\n",
        "\n",
        "    # 保存\n",
        "    road_gdf.to_file(output_path, driver=\"GeoJSON\")\n",
        "    print(f\"已保存到：{output_path}\")\n",
        "\n",
        "print(\"全部文件处理完成！\")"
      ],
      "metadata": {
        "id": "F441Jty29jMZ",
        "outputId": "087de800-bf83-426c-b36d-ef81dd8b47b5",
        "colab": {
          "base_uri": "https://localhost:8080/"
        }
      },
      "id": "F441Jty29jMZ",
      "execution_count": 7,
      "outputs": [
        {
          "output_type": "stream",
          "name": "stdout",
          "text": [
            "正在处理：/content/drive/MyDrive/CASA0004_Cycling/data/s1/Roads_OT/CQI_1/1_CQI1.geojson\n"
          ]
        },
        {
          "output_type": "stream",
          "name": "stderr",
          "text": [
            "Sampling slope: 100%|██████████| 26443/26443 [01:02<00:00, 423.55feat/s]\n"
          ]
        },
        {
          "output_type": "stream",
          "name": "stdout",
          "text": [
            "已保存到：/content/drive/MyDrive/CASA0004_Cycling/data/s1/Roads_OT/CQI_final/1_CQI1.geojson\n",
            "正在处理：/content/drive/MyDrive/CASA0004_Cycling/data/s1/Roads_OT/CQI_1/2_CQI1.geojson\n"
          ]
        },
        {
          "output_type": "stream",
          "name": "stderr",
          "text": [
            "Sampling slope: 100%|██████████| 28951/28951 [00:48<00:00, 600.90feat/s]\n"
          ]
        },
        {
          "output_type": "stream",
          "name": "stdout",
          "text": [
            "已保存到：/content/drive/MyDrive/CASA0004_Cycling/data/s1/Roads_OT/CQI_final/2_CQI1.geojson\n",
            "正在处理：/content/drive/MyDrive/CASA0004_Cycling/data/s1/Roads_OT/CQI_1/3_CQI1.geojson\n"
          ]
        },
        {
          "output_type": "stream",
          "name": "stderr",
          "text": [
            "Sampling slope: 100%|██████████| 10821/10821 [00:23<00:00, 465.20feat/s]\n"
          ]
        },
        {
          "output_type": "stream",
          "name": "stdout",
          "text": [
            "已保存到：/content/drive/MyDrive/CASA0004_Cycling/data/s1/Roads_OT/CQI_final/3_CQI1.geojson\n",
            "正在处理：/content/drive/MyDrive/CASA0004_Cycling/data/s1/Roads_OT/CQI_1/4_CQI1.geojson\n"
          ]
        },
        {
          "output_type": "stream",
          "name": "stderr",
          "text": [
            "Sampling slope: 100%|██████████| 44137/44137 [01:07<00:00, 654.81feat/s]\n"
          ]
        },
        {
          "output_type": "stream",
          "name": "stdout",
          "text": [
            "已保存到：/content/drive/MyDrive/CASA0004_Cycling/data/s1/Roads_OT/CQI_final/4_CQI1.geojson\n",
            "正在处理：/content/drive/MyDrive/CASA0004_Cycling/data/s1/Roads_OT/CQI_1/5_CQI1.geojson\n"
          ]
        },
        {
          "output_type": "stream",
          "name": "stderr",
          "text": [
            "Sampling slope: 100%|██████████| 89063/89063 [01:35<00:00, 930.16feat/s] \n"
          ]
        },
        {
          "output_type": "stream",
          "name": "stdout",
          "text": [
            "已保存到：/content/drive/MyDrive/CASA0004_Cycling/data/s1/Roads_OT/CQI_final/5_CQI1.geojson\n",
            "正在处理：/content/drive/MyDrive/CASA0004_Cycling/data/s1/Roads_OT/CQI_1/6_CQI1.geojson\n"
          ]
        },
        {
          "output_type": "stream",
          "name": "stderr",
          "text": [
            "Sampling slope: 100%|██████████| 35284/35284 [00:52<00:00, 669.99feat/s]\n"
          ]
        },
        {
          "output_type": "stream",
          "name": "stdout",
          "text": [
            "已保存到：/content/drive/MyDrive/CASA0004_Cycling/data/s1/Roads_OT/CQI_final/6_CQI1.geojson\n",
            "正在处理：/content/drive/MyDrive/CASA0004_Cycling/data/s1/Roads_OT/CQI_1/7_CQI1.geojson\n"
          ]
        },
        {
          "output_type": "stream",
          "name": "stderr",
          "text": [
            "Sampling slope: 100%|██████████| 27236/27236 [00:44<00:00, 613.00feat/s]\n"
          ]
        },
        {
          "output_type": "stream",
          "name": "stdout",
          "text": [
            "已保存到：/content/drive/MyDrive/CASA0004_Cycling/data/s1/Roads_OT/CQI_final/7_CQI1.geojson\n",
            "正在处理：/content/drive/MyDrive/CASA0004_Cycling/data/s1/Roads_OT/CQI_1/8_CQI1.geojson\n"
          ]
        },
        {
          "output_type": "stream",
          "name": "stderr",
          "text": [
            "Sampling slope: 100%|██████████| 44215/44215 [01:00<00:00, 733.22feat/s]\n"
          ]
        },
        {
          "output_type": "stream",
          "name": "stdout",
          "text": [
            "已保存到：/content/drive/MyDrive/CASA0004_Cycling/data/s1/Roads_OT/CQI_final/8_CQI1.geojson\n",
            "正在处理：/content/drive/MyDrive/CASA0004_Cycling/data/s1/Roads_OT/CQI_1/9_CQI1.geojson\n"
          ]
        },
        {
          "output_type": "stream",
          "name": "stderr",
          "text": [
            "Sampling slope: 100%|██████████| 16178/16178 [00:31<00:00, 516.41feat/s]\n"
          ]
        },
        {
          "output_type": "stream",
          "name": "stdout",
          "text": [
            "已保存到：/content/drive/MyDrive/CASA0004_Cycling/data/s1/Roads_OT/CQI_final/9_CQI1.geojson\n",
            "全部文件处理完成！\n"
          ]
        }
      ]
    },
    {
      "cell_type": "code",
      "execution_count": null,
      "id": "QHYVWLlq7Hru",
      "metadata": {
        "id": "QHYVWLlq7Hru"
      },
      "outputs": [],
      "source": [
        "road_gdf = gpd.read_file(\"/content/drive/MyDrive/CASA0004_Cycling/data/Roads/AAA.geojson\")\n",
        "print(road_gdf.columns)"
      ]
    },
    {
      "cell_type": "code",
      "execution_count": null,
      "id": "nL3YZ86x6adl",
      "metadata": {
        "id": "nL3YZ86x6adl"
      },
      "outputs": [],
      "source": [
        "def line_points_every(line: LineString, step: float):\n",
        "    \"\"\"沿 LineString 每 step 米取点（含终点）。\"\"\"\n",
        "    if not line or line.length == 0:\n",
        "        return []\n",
        "    n = max(1, int(math.floor(line.length / step)))\n",
        "    dists = [i * step for i in range(n)] + [line.length]\n",
        "    return [line.interpolate(d).coords[0] for d in dists]\n",
        "\n",
        "def geom_points(geom, step: float):\n",
        "    if geom is None:\n",
        "        return []\n",
        "    if isinstance(geom, LineString):\n",
        "        return line_points_every(geom, step)\n",
        "    if isinstance(geom, MultiLineString):\n",
        "        pts = []\n",
        "        for part in geom.geoms:\n",
        "            pts.extend(line_points_every(part, step))\n",
        "        return pts\n",
        "    return []\n",
        "\n",
        "def calc_stat(vals, kind=\"q3\"):\n",
        "    if not vals:\n",
        "        return 0.0\n",
        "    arr = np.asarray(vals, dtype=float)\n",
        "    if kind == \"mean\": return float(np.nanmean(arr))\n",
        "    if kind == \"max\":  return float(np.nanmax(arr))\n",
        "    return float(np.nanpercentile(arr, 75))  # q3\n",
        "\n",
        "def slope_to_percent(v, unit=\"degree\"):\n",
        "    if unit == \"percent\": return float(v)\n",
        "    return float(math.tan(math.radians(v)) * 100.0)\n",
        "\n",
        "def slope_to_factor(slope_pct: float) -> float:\n",
        "    if slope_pct <= 2:   return 1.0\n",
        "    if slope_pct <= 4:   return 0.95\n",
        "    if slope_pct <= 6:   return 0.85\n",
        "    if slope_pct <= 8:   return 0.75\n",
        "    if slope_pct <= 10:  return 0.65\n",
        "    return 0.9"
      ]
    },
    {
      "cell_type": "code",
      "execution_count": null,
      "id": "tUVM2Yyo6ct9",
      "metadata": {
        "id": "tUVM2Yyo6ct9"
      },
      "outputs": [],
      "source": [
        "# 打开坡度栅格\n",
        "ds = rasterio.open(SLOPE_TIF)\n",
        "raster_crs = ds.crs\n",
        "nodata = ds.nodata\n",
        "\n",
        "# 确保道路与栅格同一 CRS\n",
        "if road_gdf.crs is None:\n",
        "    raise RuntimeError(\"road_gdf 没有 CRS，请先设定。\")\n",
        "if raster_crs and road_gdf.crs.to_wkt() != raster_crs.to_wkt():\n",
        "    road_gdf = road_gdf.to_crs(raster_crs)\n",
        "\n",
        "# 建字段\n",
        "if \"proc_slope\" not in road_gdf.columns:\n",
        "    road_gdf[\"proc_slope\"] = np.nan\n",
        "if \"fac_3\" not in road_gdf.columns:\n",
        "    road_gdf[\"fac_3\"] = np.nan\n"
      ]
    },
    {
      "cell_type": "code",
      "execution_count": null,
      "id": "eDwhyEYh6eCF",
      "metadata": {
        "id": "eDwhyEYh6eCF"
      },
      "outputs": [],
      "source": [
        "total = len(road_gdf)\n",
        "pbar = tqdm(total=total, desc=\"Sampling slope\", unit=\"feat\")\n",
        "\n",
        "start = 0\n",
        "while start < total:\n",
        "    end = min(start + CHUNK_SIZE, total)\n",
        "    sub = road_gdf.iloc[start:end].copy()\n",
        "\n",
        "    proc_vals = np.zeros(len(sub))\n",
        "    fac_vals  = np.ones(len(sub))\n",
        "\n",
        "    # 为每条线生成采样点 → 栅格采样 → 统计\n",
        "    for i, geom in enumerate(sub.geometry.values):\n",
        "        pts = geom_points(geom, INTERVAL_M)\n",
        "        if not pts:\n",
        "            proc_vals[i] = 0.0\n",
        "            fac_vals[i]  = 1.0\n",
        "            continue\n",
        "\n",
        "        # rasterio.sample 需要 [(x,y), ...]\n",
        "        smps = list(ds.sample(pts))\n",
        "        vals = []\n",
        "        for s in smps:\n",
        "            if s is None or len(s) == 0:\n",
        "                continue\n",
        "            v = s[0]\n",
        "            if v is None:\n",
        "                continue\n",
        "            if (nodata is not None and v == nodata) or np.isnan(v):\n",
        "                continue\n",
        "            vals.append(float(v))\n",
        "\n",
        "        stat_v = calc_stat(vals, STAT_KIND)\n",
        "        slope_pct = slope_to_percent(stat_v, SLOPE_UNIT)\n",
        "        factor = slope_to_factor(slope_pct)\n",
        "\n",
        "        proc_vals[i] = round(slope_pct, 2)\n",
        "        fac_vals[i]  = round(factor, 2)\n",
        "\n",
        "    # 写回\n",
        "    road_gdf.loc[sub.index, \"proc_slope\"] = proc_vals\n",
        "    road_gdf.loc[sub.index, \"fac_3\"] = fac_vals\n",
        "\n",
        "    pbar.update(len(sub))\n",
        "    start = end\n",
        "\n",
        "pbar.close()\n"
      ]
    },
    {
      "cell_type": "code",
      "execution_count": null,
      "id": "vJkjDVq992ng",
      "metadata": {
        "id": "vJkjDVq992ng"
      },
      "outputs": [],
      "source": [
        "print(road_gdf.columns)"
      ]
    },
    {
      "cell_type": "code",
      "execution_count": null,
      "id": "0y4syCFk-1RW",
      "metadata": {
        "id": "0y4syCFk-1RW"
      },
      "outputs": [],
      "source": [
        "print(\"CRS:\", ds.crs)\n",
        "print(\"Width (cols):\", ds.width)\n",
        "print(\"Height (rows):\", ds.height)\n",
        "print(\"Transform:\", ds.transform)\n",
        "print(\"Pixel size (res):\", ds.res)\n"
      ]
    },
    {
      "cell_type": "code",
      "source": [
        "# 必要的copy\n",
        "copy = road_gdf"
      ],
      "metadata": {
        "id": "QxExy8QXKDup"
      },
      "id": "QxExy8QXKDup",
      "execution_count": null,
      "outputs": []
    },
    {
      "cell_type": "code",
      "execution_count": null,
      "id": "Tm-udkxxOALC",
      "metadata": {
        "id": "Tm-udkxxOALC"
      },
      "outputs": [],
      "source": [
        "import matplotlib.pyplot as plt\n",
        "import seaborn as sns\n",
        "\n",
        "# 1. 基本统计信息\n",
        "print(road_gdf['fac_3'].describe())\n",
        "\n",
        "# 2. 直方图 + 核密度曲线\n",
        "sns.histplot(road_gdf['fac_3'], kde=True, bins=20)\n",
        "plt.title('Distribution of fac_3')\n",
        "plt.xlabel('fac_3')\n",
        "plt.ylabel('Frequency')\n",
        "plt.show()\n",
        "\n",
        "# 3. 箱线图（看中位数和异常值）\n",
        "sns.boxplot(x=road_gdf['fac_3'])\n",
        "plt.title('Boxplot of fac_3')\n",
        "plt.show()\n"
      ]
    },
    {
      "cell_type": "code",
      "execution_count": null,
      "id": "tst0YiVcOBka",
      "metadata": {
        "id": "tst0YiVcOBka"
      },
      "outputs": [],
      "source": [
        "# 1. 基本统计信息\n",
        "print(road_gdf['proc_slope'].describe())\n",
        "\n",
        "# 2. 直方图 + 核密度曲线\n",
        "sns.histplot(road_gdf['proc_slope'], kde=True, bins=20)\n",
        "plt.title('Distribution of proc_slope')\n",
        "plt.xlabel('proc_slope')\n",
        "plt.ylabel('Frequency')\n",
        "plt.show()\n",
        "\n",
        "# 3. 箱线图（看中位数和异常值）\n",
        "sns.boxplot(x=road_gdf['proc_slope'])\n",
        "plt.title('Boxplot of proc_slope')\n",
        "plt.show()\n"
      ]
    },
    {
      "cell_type": "code",
      "execution_count": null,
      "id": "514474bb",
      "metadata": {
        "id": "514474bb"
      },
      "outputs": [],
      "source": [
        "print(\"CRS:\", ds.crs)\n",
        "print(\"Width (cols):\", ds.width)\n",
        "print(\"Height (rows):\", ds.height)\n",
        "print(\"Transform:\", ds.transform)\n",
        "print(\"Pixel size (res):\", ds.res)"
      ]
    },
    {
      "cell_type": "markdown",
      "source": [
        "# index计算&覆写"
      ],
      "metadata": {
        "id": "ZQoW0jlCJYNI"
      },
      "id": "ZQoW0jlCJYNI"
    },
    {
      "cell_type": "code",
      "source": [
        "# road_gdf[\"index\"] = road_gdf[\"base_index\"] * road_gdf[\"fac_1\"] * road_gdf[\"fac_2\"] * road_gdf[\"fac_3\"] * road_gdf[\"fac_4\"]\n",
        "\n",
        "# road_gdf[\"index\"] = road_gdf[\"index\"].clip(lower=0, upper=100).round().astype(int)\n",
        "\n",
        "# road_gdf[\"index_10\"] = road_gdf[\"index\"] // 10\n",
        "\n",
        "# 然后根据我本子上的三条id进行核对，没问题就转到下一步去加入LTS的参数(没问题了)"
      ],
      "metadata": {
        "id": "n4UU6anxJJru"
      },
      "id": "n4UU6anxJJru",
      "execution_count": null,
      "outputs": []
    },
    {
      "cell_type": "code",
      "source": [
        "#output_path = \"/content/drive/MyDrive/CASA0004_Cycling/data/Roads/AAA_indexupdate.geojson\"\n",
        "#road_gdf.to_file(output_path, driver=\"GeoJSON\")\n",
        "#print(f\"已保存到: {output_path}\")"
      ],
      "metadata": {
        "id": "qa7YCiq1LXux"
      },
      "id": "qa7YCiq1LXux",
      "execution_count": null,
      "outputs": []
    },
    {
      "cell_type": "markdown",
      "source": [
        "## 小加一波LTS"
      ],
      "metadata": {
        "id": "tNQf6q-ZM-tl"
      },
      "id": "tNQf6q-ZM-tl"
    },
    {
      "cell_type": "code",
      "source": [
        "# 先检查一下lts是否有空值\n",
        "\n",
        "# 统计空值数量\n",
        "null_count = road_gdf[\"stress_level\"].isna().sum()\n",
        "print(f\"空值数量: {null_count}\")\n",
        "\n",
        "# 具体空值的行\n",
        "null_rows = road_gdf[road_gdf[\"stress_level\"].isna()]\n",
        "print(null_rows)\n",
        "\n",
        "# 很好没有空值"
      ],
      "metadata": {
        "id": "woV3mYcXPMJm"
      },
      "id": "woV3mYcXPMJm",
      "execution_count": null,
      "outputs": []
    },
    {
      "cell_type": "code",
      "source": [
        "# LTS的映射字典\n",
        "def lts_to_factor(lts: float) -> float:\n",
        "    if lts == 1: return 1.0\n",
        "    if lts == 2: return 0.9\n",
        "    if lts == 3: return 0.75\n",
        "    if lts == 4: return 0.6\n",
        "    return 0.9 #没关系这里没有空"
      ],
      "metadata": {
        "id": "Xt33aWwvNB2E"
      },
      "id": "Xt33aWwvNB2E",
      "execution_count": null,
      "outputs": []
    },
    {
      "cell_type": "code",
      "source": [
        "# 建fac_5字段用来装LTS的量化\n",
        "if \"fac_5\" not in road_gdf.columns:\n",
        "    road_gdf[\"fac_5\"] = np.nan"
      ],
      "metadata": {
        "id": "Ovy8XXNfORYH"
      },
      "id": "Ovy8XXNfORYH",
      "execution_count": null,
      "outputs": []
    },
    {
      "cell_type": "code",
      "source": [
        "# ok我们来试一下\n",
        "road_gdf[\"fac_5\"] = road_gdf[\"stress_level\"].apply(lts_to_factor)"
      ],
      "metadata": {
        "id": "MznsJlvoP7i2"
      },
      "id": "MznsJlvoP7i2",
      "execution_count": null,
      "outputs": []
    },
    {
      "cell_type": "code",
      "source": [
        "print(road_gdf.columns)"
      ],
      "metadata": {
        "id": "nH6s5diFQCdY"
      },
      "id": "nH6s5diFQCdY",
      "execution_count": null,
      "outputs": []
    },
    {
      "cell_type": "code",
      "source": [
        "road_gdf[\"index\"] = road_gdf[\"base_index\"] * road_gdf[\"fac_1\"] * road_gdf[\"fac_2\"] * road_gdf[\"fac_3\"] * road_gdf[\"fac_4\"] * road_gdf[\"fac_5\"]\n",
        "\n",
        "road_gdf[\"index\"] = road_gdf[\"index\"].clip(lower=0, upper=100).round().astype(int)\n",
        "\n",
        "road_gdf[\"index_10\"] = road_gdf[\"index\"] // 10"
      ],
      "metadata": {
        "id": "XQuGypg7QGUS"
      },
      "id": "XQuGypg7QGUS",
      "execution_count": null,
      "outputs": []
    },
    {
      "cell_type": "code",
      "source": [
        "output_path_fac5 = \"/content/drive/MyDrive/CASA0004_Cycling/data/Roads/AAA_allfac.geojson\"\n",
        "road_gdf.to_file(output_path_fac5, driver=\"GeoJSON\")\n",
        "print(f\"已保存到: {output_path_fac5}\")"
      ],
      "metadata": {
        "id": "x1XgMskeQUhy"
      },
      "id": "x1XgMskeQUhy",
      "execution_count": null,
      "outputs": []
    },
    {
      "cell_type": "markdown",
      "source": [
        "### 看一眼情况"
      ],
      "metadata": {
        "id": "jnWxRYA_TT38"
      },
      "id": "jnWxRYA_TT38"
    },
    {
      "cell_type": "code",
      "source": [
        "print(road_gdf[\"index\"].describe())"
      ],
      "metadata": {
        "id": "dja8DJa6TTYN"
      },
      "id": "dja8DJa6TTYN",
      "execution_count": null,
      "outputs": []
    },
    {
      "cell_type": "code",
      "source": [
        "print(road_gdf[\"index\"].value_counts().sort_index())"
      ],
      "metadata": {
        "id": "QDFy-_mQTXTc"
      },
      "id": "QDFy-_mQTXTc",
      "execution_count": null,
      "outputs": []
    },
    {
      "cell_type": "code",
      "source": [
        "print(road_gdf[\"index\"].value_counts(bins=10).sort_index())"
      ],
      "metadata": {
        "id": "ZyvB6NMZTZ6x"
      },
      "id": "ZyvB6NMZTZ6x",
      "execution_count": null,
      "outputs": []
    },
    {
      "cell_type": "code",
      "source": [
        "road_gdf[\"index\"].hist(bins=20)\n",
        "plt.xlabel(\"Index\")\n",
        "plt.ylabel(\"Frequency\")\n",
        "plt.title(\"Index Distribution\")\n",
        "plt.show()"
      ],
      "metadata": {
        "id": "czkf_1sdTb6M"
      },
      "id": "czkf_1sdTb6M",
      "execution_count": null,
      "outputs": []
    },
    {
      "cell_type": "code",
      "source": [
        "# 我们来比对一下\n",
        "road_gdf_origin = gpd.read_file(\"/content/drive/MyDrive/CASA0004_Cycling/data/Roads/AAA.geojson\")\n",
        "print(road_gdf_origin.columns)\n",
        "\n",
        "road_gdf_origin[\"index\"].hist(bins=20)\n",
        "plt.xlabel(\"Index\")\n",
        "plt.ylabel(\"Frequency\")\n",
        "plt.title(\"Index Distribution\")\n",
        "plt.show()"
      ],
      "metadata": {
        "id": "GuO6HHzrUClH"
      },
      "id": "GuO6HHzrUClH",
      "execution_count": null,
      "outputs": []
    },
    {
      "cell_type": "code",
      "source": [
        "road_gdf[\"id\"].value_counts().head(10)          # 新数据里重复最多的 id"
      ],
      "metadata": {
        "id": "TNkTnGnNozOf"
      },
      "id": "TNkTnGnNozOf",
      "execution_count": null,
      "outputs": []
    },
    {
      "cell_type": "code",
      "source": [
        "road_gdf_origin[\"id\"].value_counts().head(10)   # 旧数据里重复最多的 id"
      ],
      "metadata": {
        "id": "dVoV8tjto4pU"
      },
      "id": "dVoV8tjto4pU",
      "execution_count": null,
      "outputs": []
    },
    {
      "cell_type": "code",
      "source": [
        "import geopandas as gpd\n",
        "import pandas as pd\n",
        "\n",
        "# 1) 只取需要的列并改名，方便区分\n",
        "g_new = road_gdf[[\"id\", \"index\", \"geometry\"]].rename(columns={\"index\":\"index_new\"})\n",
        "g_old = road_gdf_origin[[\"id\", \"index\"]].rename(columns={\"index\":\"index_old\"})\n",
        "\n",
        "# （可选）如果CRS不一致，统一一下\n",
        "if g_new.crs != road_gdf_origin.crs:\n",
        "    g_new = g_new.to_crs(road_gdf_origin.crs)\n",
        "\n",
        "# 2) 按 id 合并，并计算差值（新-旧：>0代表分数上升，<0代表下降）\n",
        "g_diff = g_new.merge(g_old, on=\"id\", how=\"inner\")\n",
        "g_diff[\"index_diff\"] = g_diff[\"index_new\"] - g_diff[\"index_old\"]\n",
        "\n",
        "# 3) 快速看统计与变化最大的要素\n",
        "print(g_diff[\"index_diff\"].describe())\n",
        "print(\"Top↑ 提升最大的10条：\")\n",
        "print(g_diff.nlargest(10, \"index_diff\")[[\"id\", \"index_old\", \"index_new\", \"index_diff\"]])\n",
        "print(\"Top↓ 降幅最大的10条：\")\n",
        "print(g_diff.nsmallest(10, \"index_diff\")[[\"id\", \"index_old\", \"index_new\", \"index_diff\"]])\n",
        "\n",
        "# 4) 静态差值图（红降蓝升），需要 mapclassify 才能用 scheme=\"quantiles\"\n",
        "ax = g_diff.plot(column=\"index_diff\",\n",
        "                 cmap=\"RdBu_r\",  # 蓝=上升，红=下降（_r 代表反转）\n",
        "                 legend=True,\n",
        "                 linewidth=0.1)\n",
        "ax.set_title(\"Index Difference (new - old)\")\n",
        "ax.set_axis_off()\n",
        "\n",
        "# 5) 导出方便在GIS中做热力对比\n",
        "out_path = \"/content/drive/MyDrive/CASA0004_Cycling/data/Roads/AAA_index_diff.geojson\"\n",
        "g_diff.to_file(out_path, driver=\"GeoJSON\")\n",
        "print(f\"差值图层已导出：{out_path}\")\n"
      ],
      "metadata": {
        "id": "ZN3uQb6UWFcD"
      },
      "id": "ZN3uQb6UWFcD",
      "execution_count": null,
      "outputs": []
    },
    {
      "cell_type": "code",
      "source": [
        "import geopandas as gpd\n",
        "import pandas as pd\n",
        "import numpy as np\n",
        "import folium\n",
        "from shapely.geometry import LineString\n",
        "\n",
        "# ========= 0) 生成差值图层（若你已有 g_diff 可跳过这块） =========\n",
        "# 假设已有 road_gdf（新）与 road_gdf_origin（旧），都含 id 与 geometry\n",
        "g_new = road_gdf[[\"id\", \"index\", \"geometry\"]].rename(columns={\"index\":\"index_new\"})\n",
        "g_old = road_gdf_origin[[\"id\", \"index\"]].rename(columns={\"index\":\"index_old\"})\n",
        "\n",
        "# 统一CRS\n",
        "if g_new.crs != road_gdf_origin.crs:\n",
        "    g_new = g_new.to_crs(road_gdf_origin.crs)\n",
        "\n",
        "g_diff = g_new.merge(g_old, on=\"id\", how=\"inner\")\n",
        "g_diff[\"index_diff\"] = g_diff[\"index_new\"] - g_diff[\"index_old\"]\n",
        "\n",
        "print(\"== index_diff 概览 ==\")\n",
        "print(g_diff[\"index_diff\"].describe())\n"
      ],
      "metadata": {
        "id": "H0GxR3ekj5zK"
      },
      "id": "H0GxR3ekj5zK",
      "execution_count": null,
      "outputs": []
    },
    {
      "cell_type": "code",
      "source": [
        "# ========= 1) 区间分布（value_counts with bins） =========\n",
        "# 自动根据数据范围构造对称分箱（步长=5分，可改）\n",
        "dmin = np.floor(g_diff[\"index_diff\"].min())\n",
        "dmax = np.ceil(g_diff[\"index_diff\"].max())\n",
        "bound = int(max(abs(dmin), abs(dmax)))\n",
        "step = 5\n",
        "bins = np.arange(-bound - (bound % step), bound + step, step)  # 对称到零两侧\n",
        "\n",
        "vc = g_diff[\"index_diff\"].value_counts(bins=bins, sort=False)\n",
        "dist_df = pd.DataFrame({\n",
        "    \"bin\": vc.index.astype(str),\n",
        "    \"count\": vc.values\n",
        "})\n",
        "dist_df[\"percent\"] = (dist_df[\"count\"] / len(g_diff) * 100).round(2)\n",
        "print(\"== index_diff 区间分布（步长=5）==\")\n",
        "print(dist_df)"
      ],
      "metadata": {
        "id": "FW81ORKCj6_y"
      },
      "id": "FW81ORKCj6_y",
      "execution_count": null,
      "outputs": []
    },
    {
      "cell_type": "code",
      "source": [
        "# ========= 2) 按 Borough 聚合平均变化 =========\n",
        "# 👉 将路径替换为你的 Borough 边界文件（GeoJSON/GeoPackage/Shapefile 都可）\n",
        "BORO_PATH = \"/content/drive/MyDrive/CASA0004_Cycling/data/Admin/London_Borough_Boundaries.geojson\"\n",
        "boroughs = gpd.read_file(BORO_PATH)\n",
        "\n",
        "# 统一CRS后做空间连接\n",
        "if boroughs.crs != g_diff.crs:\n",
        "    boroughs = boroughs.to_crs(g_diff.crs)\n",
        "\n",
        "# 可能的名称字段\n",
        "name_cols = [c for c in boroughs.columns if c.lower() in (\"name\", \"borough\", \"borough_name\", \"la_name\")]\n",
        "if not name_cols:\n",
        "    raise ValueError(\"在 Borough 图层中没有找到名称字段（name/borough/borough_name/la_name），请检查并修改代码。\")\n",
        "BORO_NAME_COL = name_cols[0]\n",
        "\n",
        "# 空间连接，将每条线归到所在 Borough（交集即可）\n",
        "g_join = gpd.sjoin(g_diff, boroughs[[BORO_NAME_COL, \"geometry\"]], how=\"left\", predicate=\"intersects\")\n",
        "boro_agg = (\n",
        "    g_join\n",
        "    .groupby(BORO_NAME_COL)\n",
        "    .agg(\n",
        "        mean_index_diff=(\"index_diff\", \"mean\"),\n",
        "        median_index_diff=(\"index_diff\", \"median\"),\n",
        "        n_links=(\"id\", \"count\")\n",
        "    )\n",
        "    .sort_values(\"mean_index_diff\", ascending=False)\n",
        "    .round(2)\n",
        ")\n",
        "print(\"== Borough 平均变化（由高到低）==\")\n",
        "print(boro_agg.head(10))\n",
        "print(\"== Borough 平均变化（下降最明显）==\")\n",
        "print(boro_agg.tail(10))\n",
        "\n",
        "# 导出 Borough 聚合表与带属性的区划\n",
        "boroughs_out = boroughs.merge(boro_agg, on=BORO_NAME_COL, how=\"left\")\n",
        "boroughs_csv = \"/content/drive/MyDrive/CASA0004_Cycling/data/Roads/borough_index_diff_summary.csv\"\n",
        "boroughs_gj  = \"/content/drive/MyDrive/CASA0004_Cycling/data/Roads/borough_index_diff.geojson\"\n",
        "boro_agg.to_csv(boroughs_csv, encoding=\"utf-8\")\n",
        "boroughs_out.to_file(boroughs_gj, driver=\"GeoJSON\")\n",
        "print(f\"Borough 聚合已导出:\\n- {boroughs_csv}\\n- {boroughs_gj}\")\n",
        "\n",
        "# ========= 3) 只渲染显著变化（|diff| >= 5）到 Folium =========\n",
        "sig = g_diff.loc[g_diff[\"index_diff\"].abs() >= 5].copy()\n",
        "print(f\"显著变化要素数: {len(sig)}\")\n",
        "\n",
        "# Folium 需要 WGS84\n",
        "sig_4326 = sig.to_crs(epsg=4326)\n",
        "\n",
        "# 简单的颜色映射：上升=蓝，下降=红\n",
        "def color_by_diff(d):\n",
        "    return \"#2b8cbe\" if d >= 0 else \"#de2d26\"\n",
        "\n",
        "# 可选：限制最大渲染数量，避免浏览器过重（比如只取|diff|最大的2万条）\n",
        "MAX_FEATS = 20000\n",
        "if len(sig_4326) > MAX_FEATS:\n",
        "    sig_4326 = sig_4326.reindex(\n",
        "        sig_4326[\"index_diff\"].abs().sort_values(ascending=False).index[:MAX_FEATS]\n",
        "    )\n",
        "\n",
        "# 地图中心\n",
        "if not sig_4326.empty:\n",
        "    center = [sig_4326.geometry.iloc[0].centroid.y, sig_4326.geometry.iloc[0].centroid.x]\n",
        "else:\n",
        "    center = [51.5074, -0.1278]  # 伦敦\n",
        "\n",
        "m = folium.Map(location=center, zoom_start=11, tiles=\"cartodbpositron\")\n",
        "\n",
        "# 上升与下降分两层\n",
        "up = sig_4326[sig_4326[\"index_diff\"] >= 0]\n",
        "down = sig_4326[sig_4326[\"index_diff\"] < 0]\n",
        "\n",
        "def add_geojson_lines(gdf, name, color, map_obj, weight=3, opacity=0.7):\n",
        "    folium.GeoJson(\n",
        "        gdf.to_json(),\n",
        "        name=name,\n",
        "        style_function=lambda f: {\"color\": color, \"weight\": weight, \"opacity\": opacity},\n",
        "        tooltip=folium.features.GeoJsonTooltip(\n",
        "            fields=[\"id\", \"index_old\", \"index_new\", \"index_diff\"],\n",
        "            aliases=[\"id\", \"old\", \"new\", \"diff\"],\n",
        "            sticky=True\n",
        "        )\n",
        "    ).add_to(map_obj)\n",
        "\n",
        "if not up.empty:\n",
        "    add_geojson_lines(up, \"Increase (>= +5)\", \"#2b8cbe\", m)\n",
        "if not down.empty:\n",
        "    add_geojson_lines(down, \"Decrease (<= -5)\", \"#de2d26\", m)\n",
        "\n",
        "folium.LayerControl().add_to(m)\n",
        "\n",
        "html_out = \"/content/drive/MyDrive/CASA0004_Cycling/data/Roads/AAA_index_diff_hotspots.html\"\n",
        "m.save(html_out)\n",
        "print(f\"显著变化热点地图已导出: {html_out}\")\n",
        "\n",
        "# ========= 4) 额外：导出显著变化矢量，便于GIS叠加 =========\n",
        "sig_out = \"/content/drive/MyDrive/CASA0004_Cycling/data/Roads/AAA_index_diff_significant.geojson\"\n",
        "sig.to_file(sig_out, driver=\"GeoJSON\")\n",
        "print(f\"显著变化矢量已导出: {sig_out}\")\n"
      ],
      "metadata": {
        "id": "I_6J6iBsjsDI"
      },
      "id": "I_6J6iBsjsDI",
      "execution_count": null,
      "outputs": []
    }
  ],
  "metadata": {
    "colab": {
      "machine_shape": "hm",
      "provenance": [],
      "include_colab_link": true
    },
    "kernelspec": {
      "display_name": "Python 3",
      "name": "python3"
    },
    "language_info": {
      "codemirror_mode": {
        "name": "ipython",
        "version": 3
      },
      "file_extension": ".py",
      "mimetype": "text/x-python",
      "name": "python",
      "nbconvert_exporter": "python",
      "pygments_lexer": "ipython3",
      "version": "3.13.2"
    }
  },
  "nbformat": 4,
  "nbformat_minor": 5
}