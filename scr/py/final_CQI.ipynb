{
  "nbformat": 4,
  "nbformat_minor": 0,
  "metadata": {
    "colab": {
      "provenance": [],
      "machine_shape": "hm",
      "authorship_tag": "ABX9TyOmrrDWr9pQOs0DOxPtQmZs",
      "include_colab_link": true
    },
    "kernelspec": {
      "name": "python3",
      "display_name": "Python 3"
    },
    "language_info": {
      "name": "python"
    }
  },
  "cells": [
    {
      "cell_type": "markdown",
      "metadata": {
        "id": "view-in-github",
        "colab_type": "text"
      },
      "source": [
        "<a href=\"https://colab.research.google.com/github/Van-Wu1/cycle/blob/main/scr/py/final_CQI.ipynb\" target=\"_parent\"><img src=\"https://colab.research.google.com/assets/colab-badge.svg\" alt=\"Open In Colab\"/></a>"
      ]
    },
    {
      "cell_type": "code",
      "source": [
        "import math\n",
        "import numpy as np\n",
        "from shapely.geometry import LineString, MultiLineString\n",
        "from tqdm import tqdm\n",
        "import geopandas as gpd\n",
        "import pandas as pd\n",
        "from shapely.geometry import Point\n",
        "from shapely.strtree import STRtree\n",
        "import matplotlib.pyplot as plt\n",
        "import os\n",
        "import glob\n",
        "from shapely.ops import linemerge\n",
        "import hashlib"
      ],
      "metadata": {
        "id": "PRtSoOiWAb62"
      },
      "execution_count": 28,
      "outputs": []
    },
    {
      "cell_type": "code",
      "execution_count": 29,
      "metadata": {
        "colab": {
          "base_uri": "https://localhost:8080/"
        },
        "id": "AqL0ncDs_3Mq",
        "outputId": "744555a5-ac86-4326-b6ce-86617df4a3a9"
      },
      "outputs": [
        {
          "output_type": "stream",
          "name": "stdout",
          "text": [
            "Drive already mounted at /content/drive; to attempt to forcibly remount, call drive.mount(\"/content/drive\", force_remount=True).\n",
            "BoroughShp  CQI  GreatLondonShp  s1  s2_Env  s3\n"
          ]
        }
      ],
      "source": [
        "from google.colab import drive\n",
        "drive.mount('/content/drive')\n",
        "!ls '/content/drive/MyDrive/CASA0004_Cycling/data'"
      ]
    },
    {
      "cell_type": "code",
      "source": [
        "s1 = gpd.read_file(\"/content/drive/MyDrive/CASA0004_Cycling/data/CQI/index_s1.gpkg\")\n",
        "print(s1.columns)\n",
        "\n",
        "s2 = gpd.read_file(\"/content/drive/MyDrive/CASA0004_Cycling/data/CQI/index_s2.gpkg\")\n",
        "print(s2.columns)\n",
        "\n",
        "s3 = gpd.read_file(\"/content/drive/MyDrive/CASA0004_Cycling/data/CQI/index_s3.gpkg\")\n",
        "print(s3.columns)"
      ],
      "metadata": {
        "colab": {
          "base_uri": "https://localhost:8080/"
        },
        "id": "3IaWyeq1AY87",
        "outputId": "0dae3f9a-9b49-4f8b-ad86-7974ed264929"
      },
      "execution_count": 30,
      "outputs": [
        {
          "output_type": "stream",
          "name": "stdout",
          "text": [
            "Index(['id', 'name', 'way_type', 'index', 'index_10', 'stress_level', 'offset',\n",
            "       'side', 'proc_width', 'proc_surface', 'proc_smoothness', 'proc_oneway',\n",
            "       'proc_sidepath', 'proc_highway', 'proc_maxspeed',\n",
            "       'proc_traffic_mode_left', 'proc_traffic_mode_right',\n",
            "       'proc_separation_left', 'proc_separation_right', 'proc_buffer_left',\n",
            "       'proc_buffer_right', 'proc_mandatory', 'proc_traffic_sign', 'fac_width',\n",
            "       'fac_surface', 'fac_highway', 'fac_maxspeed', 'base_index', 'fac_1',\n",
            "       'fac_2', 'fac_3', 'fac_4', 'data_bonus', 'data_malus',\n",
            "       'data_incompleteness', 'data_missing', 'data_missing_width',\n",
            "       'data_missing_surface', 'data_missing_smoothness',\n",
            "       'data_missing_maxspeed', 'data_missing_parking', 'data_missing_lit',\n",
            "       'filter_usable', 'filter_way_type', 'proc_slope', 'fac_5', 'layer',\n",
            "       'path', 'geometry'],\n",
            "      dtype='object')\n",
            "Index(['id', 'name', 'way_type', 'gvi_final', 'fac_gvi', 'NO2_mean', 'fac_no2',\n",
            "       'natural_score', 'fac_nat', 'index_2', 'geometry'],\n",
            "      dtype='object')\n",
            "Index(['id', 'name', 'way_type', 'length_m', 'edge_betweenness',\n",
            "       'edge_closeness_hc', 'edge_closeness_2km', 'edge_closeness_5km',\n",
            "       '_B_log', 'B_norm', 'C2_norm', 'C5_norm', 'C_multi', 'index_3',\n",
            "       'geometry'],\n",
            "      dtype='object')\n"
          ]
        }
      ]
    },
    {
      "cell_type": "markdown",
      "source": [
        "### 又他妈的重复id了，很好，排查了一下不是bug，是osm的共用geometry"
      ],
      "metadata": {
        "id": "wXM7inOUB-qc"
      }
    },
    {
      "cell_type": "code",
      "source": [
        "'''s1[\"id\"].value_counts().head(3)\n",
        "s2[\"id\"].value_counts().head(3)\n",
        "s3[\"id\"].value_counts().head(3)'''"
      ],
      "metadata": {
        "colab": {
          "base_uri": "https://localhost:8080/",
          "height": 35
        },
        "id": "J_wV8FXyA_36",
        "outputId": "08de44b1-8dd8-48d5-c8d9-127ae5881028"
      },
      "execution_count": 31,
      "outputs": [
        {
          "output_type": "execute_result",
          "data": {
            "text/plain": [
              "'s1[\"id\"].value_counts().head(3)\\ns2[\"id\"].value_counts().head(3)\\ns3[\"id\"].value_counts().head(3)'"
            ],
            "application/vnd.google.colaboratory.intrinsic+json": {
              "type": "string"
            }
          },
          "metadata": {},
          "execution_count": 31
        }
      ]
    },
    {
      "cell_type": "code",
      "source": [
        "cnt1 = s1.groupby(\"id\").size()\n",
        "cnt2 = s2.groupby(\"id\").size()\n",
        "cnt3 = s3.groupby(\"id\").size()\n",
        "check = pd.concat([cnt1.rename(\"n1\"), cnt2.rename(\"n2\"), cnt3.rename(\"n3\")], axis=1).fillna(0).astype(int)\n",
        "check.sample(5)"
      ],
      "metadata": {
        "colab": {
          "base_uri": "https://localhost:8080/",
          "height": 237
        },
        "id": "Y_r0NwVjCPcU",
        "outputId": "d1dc2834-4f89-4488-a69a-355b951a62f5"
      },
      "execution_count": 32,
      "outputs": [
        {
          "output_type": "execute_result",
          "data": {
            "text/plain": [
              "                n1  n2  n3\n",
              "id                        \n",
              "way/652249275    1   1   1\n",
              "way/26762784     1   1   1\n",
              "way/3873020      1   1   1\n",
              "way/311644343    1   1   1\n",
              "way/1376966570   1   1   1"
            ],
            "text/html": [
              "\n",
              "  <div id=\"df-1af08189-9dfe-4d92-8ac8-fd3b68511f42\" class=\"colab-df-container\">\n",
              "    <div>\n",
              "<style scoped>\n",
              "    .dataframe tbody tr th:only-of-type {\n",
              "        vertical-align: middle;\n",
              "    }\n",
              "\n",
              "    .dataframe tbody tr th {\n",
              "        vertical-align: top;\n",
              "    }\n",
              "\n",
              "    .dataframe thead th {\n",
              "        text-align: right;\n",
              "    }\n",
              "</style>\n",
              "<table border=\"1\" class=\"dataframe\">\n",
              "  <thead>\n",
              "    <tr style=\"text-align: right;\">\n",
              "      <th></th>\n",
              "      <th>n1</th>\n",
              "      <th>n2</th>\n",
              "      <th>n3</th>\n",
              "    </tr>\n",
              "    <tr>\n",
              "      <th>id</th>\n",
              "      <th></th>\n",
              "      <th></th>\n",
              "      <th></th>\n",
              "    </tr>\n",
              "  </thead>\n",
              "  <tbody>\n",
              "    <tr>\n",
              "      <th>way/652249275</th>\n",
              "      <td>1</td>\n",
              "      <td>1</td>\n",
              "      <td>1</td>\n",
              "    </tr>\n",
              "    <tr>\n",
              "      <th>way/26762784</th>\n",
              "      <td>1</td>\n",
              "      <td>1</td>\n",
              "      <td>1</td>\n",
              "    </tr>\n",
              "    <tr>\n",
              "      <th>way/3873020</th>\n",
              "      <td>1</td>\n",
              "      <td>1</td>\n",
              "      <td>1</td>\n",
              "    </tr>\n",
              "    <tr>\n",
              "      <th>way/311644343</th>\n",
              "      <td>1</td>\n",
              "      <td>1</td>\n",
              "      <td>1</td>\n",
              "    </tr>\n",
              "    <tr>\n",
              "      <th>way/1376966570</th>\n",
              "      <td>1</td>\n",
              "      <td>1</td>\n",
              "      <td>1</td>\n",
              "    </tr>\n",
              "  </tbody>\n",
              "</table>\n",
              "</div>\n",
              "    <div class=\"colab-df-buttons\">\n",
              "\n",
              "  <div class=\"colab-df-container\">\n",
              "    <button class=\"colab-df-convert\" onclick=\"convertToInteractive('df-1af08189-9dfe-4d92-8ac8-fd3b68511f42')\"\n",
              "            title=\"Convert this dataframe to an interactive table.\"\n",
              "            style=\"display:none;\">\n",
              "\n",
              "  <svg xmlns=\"http://www.w3.org/2000/svg\" height=\"24px\" viewBox=\"0 -960 960 960\">\n",
              "    <path d=\"M120-120v-720h720v720H120Zm60-500h600v-160H180v160Zm220 220h160v-160H400v160Zm0 220h160v-160H400v160ZM180-400h160v-160H180v160Zm440 0h160v-160H620v160ZM180-180h160v-160H180v160Zm440 0h160v-160H620v160Z\"/>\n",
              "  </svg>\n",
              "    </button>\n",
              "\n",
              "  <style>\n",
              "    .colab-df-container {\n",
              "      display:flex;\n",
              "      gap: 12px;\n",
              "    }\n",
              "\n",
              "    .colab-df-convert {\n",
              "      background-color: #E8F0FE;\n",
              "      border: none;\n",
              "      border-radius: 50%;\n",
              "      cursor: pointer;\n",
              "      display: none;\n",
              "      fill: #1967D2;\n",
              "      height: 32px;\n",
              "      padding: 0 0 0 0;\n",
              "      width: 32px;\n",
              "    }\n",
              "\n",
              "    .colab-df-convert:hover {\n",
              "      background-color: #E2EBFA;\n",
              "      box-shadow: 0px 1px 2px rgba(60, 64, 67, 0.3), 0px 1px 3px 1px rgba(60, 64, 67, 0.15);\n",
              "      fill: #174EA6;\n",
              "    }\n",
              "\n",
              "    .colab-df-buttons div {\n",
              "      margin-bottom: 4px;\n",
              "    }\n",
              "\n",
              "    [theme=dark] .colab-df-convert {\n",
              "      background-color: #3B4455;\n",
              "      fill: #D2E3FC;\n",
              "    }\n",
              "\n",
              "    [theme=dark] .colab-df-convert:hover {\n",
              "      background-color: #434B5C;\n",
              "      box-shadow: 0px 1px 3px 1px rgba(0, 0, 0, 0.15);\n",
              "      filter: drop-shadow(0px 1px 2px rgba(0, 0, 0, 0.3));\n",
              "      fill: #FFFFFF;\n",
              "    }\n",
              "  </style>\n",
              "\n",
              "    <script>\n",
              "      const buttonEl =\n",
              "        document.querySelector('#df-1af08189-9dfe-4d92-8ac8-fd3b68511f42 button.colab-df-convert');\n",
              "      buttonEl.style.display =\n",
              "        google.colab.kernel.accessAllowed ? 'block' : 'none';\n",
              "\n",
              "      async function convertToInteractive(key) {\n",
              "        const element = document.querySelector('#df-1af08189-9dfe-4d92-8ac8-fd3b68511f42');\n",
              "        const dataTable =\n",
              "          await google.colab.kernel.invokeFunction('convertToInteractive',\n",
              "                                                    [key], {});\n",
              "        if (!dataTable) return;\n",
              "\n",
              "        const docLinkHtml = 'Like what you see? Visit the ' +\n",
              "          '<a target=\"_blank\" href=https://colab.research.google.com/notebooks/data_table.ipynb>data table notebook</a>'\n",
              "          + ' to learn more about interactive tables.';\n",
              "        element.innerHTML = '';\n",
              "        dataTable['output_type'] = 'display_data';\n",
              "        await google.colab.output.renderOutput(dataTable, element);\n",
              "        const docLink = document.createElement('div');\n",
              "        docLink.innerHTML = docLinkHtml;\n",
              "        element.appendChild(docLink);\n",
              "      }\n",
              "    </script>\n",
              "  </div>\n",
              "\n",
              "\n",
              "    <div id=\"df-c7979d17-5aa4-444c-adf6-3aad60dfcccf\">\n",
              "      <button class=\"colab-df-quickchart\" onclick=\"quickchart('df-c7979d17-5aa4-444c-adf6-3aad60dfcccf')\"\n",
              "                title=\"Suggest charts\"\n",
              "                style=\"display:none;\">\n",
              "\n",
              "<svg xmlns=\"http://www.w3.org/2000/svg\" height=\"24px\"viewBox=\"0 0 24 24\"\n",
              "     width=\"24px\">\n",
              "    <g>\n",
              "        <path d=\"M19 3H5c-1.1 0-2 .9-2 2v14c0 1.1.9 2 2 2h14c1.1 0 2-.9 2-2V5c0-1.1-.9-2-2-2zM9 17H7v-7h2v7zm4 0h-2V7h2v10zm4 0h-2v-4h2v4z\"/>\n",
              "    </g>\n",
              "</svg>\n",
              "      </button>\n",
              "\n",
              "<style>\n",
              "  .colab-df-quickchart {\n",
              "      --bg-color: #E8F0FE;\n",
              "      --fill-color: #1967D2;\n",
              "      --hover-bg-color: #E2EBFA;\n",
              "      --hover-fill-color: #174EA6;\n",
              "      --disabled-fill-color: #AAA;\n",
              "      --disabled-bg-color: #DDD;\n",
              "  }\n",
              "\n",
              "  [theme=dark] .colab-df-quickchart {\n",
              "      --bg-color: #3B4455;\n",
              "      --fill-color: #D2E3FC;\n",
              "      --hover-bg-color: #434B5C;\n",
              "      --hover-fill-color: #FFFFFF;\n",
              "      --disabled-bg-color: #3B4455;\n",
              "      --disabled-fill-color: #666;\n",
              "  }\n",
              "\n",
              "  .colab-df-quickchart {\n",
              "    background-color: var(--bg-color);\n",
              "    border: none;\n",
              "    border-radius: 50%;\n",
              "    cursor: pointer;\n",
              "    display: none;\n",
              "    fill: var(--fill-color);\n",
              "    height: 32px;\n",
              "    padding: 0;\n",
              "    width: 32px;\n",
              "  }\n",
              "\n",
              "  .colab-df-quickchart:hover {\n",
              "    background-color: var(--hover-bg-color);\n",
              "    box-shadow: 0 1px 2px rgba(60, 64, 67, 0.3), 0 1px 3px 1px rgba(60, 64, 67, 0.15);\n",
              "    fill: var(--button-hover-fill-color);\n",
              "  }\n",
              "\n",
              "  .colab-df-quickchart-complete:disabled,\n",
              "  .colab-df-quickchart-complete:disabled:hover {\n",
              "    background-color: var(--disabled-bg-color);\n",
              "    fill: var(--disabled-fill-color);\n",
              "    box-shadow: none;\n",
              "  }\n",
              "\n",
              "  .colab-df-spinner {\n",
              "    border: 2px solid var(--fill-color);\n",
              "    border-color: transparent;\n",
              "    border-bottom-color: var(--fill-color);\n",
              "    animation:\n",
              "      spin 1s steps(1) infinite;\n",
              "  }\n",
              "\n",
              "  @keyframes spin {\n",
              "    0% {\n",
              "      border-color: transparent;\n",
              "      border-bottom-color: var(--fill-color);\n",
              "      border-left-color: var(--fill-color);\n",
              "    }\n",
              "    20% {\n",
              "      border-color: transparent;\n",
              "      border-left-color: var(--fill-color);\n",
              "      border-top-color: var(--fill-color);\n",
              "    }\n",
              "    30% {\n",
              "      border-color: transparent;\n",
              "      border-left-color: var(--fill-color);\n",
              "      border-top-color: var(--fill-color);\n",
              "      border-right-color: var(--fill-color);\n",
              "    }\n",
              "    40% {\n",
              "      border-color: transparent;\n",
              "      border-right-color: var(--fill-color);\n",
              "      border-top-color: var(--fill-color);\n",
              "    }\n",
              "    60% {\n",
              "      border-color: transparent;\n",
              "      border-right-color: var(--fill-color);\n",
              "    }\n",
              "    80% {\n",
              "      border-color: transparent;\n",
              "      border-right-color: var(--fill-color);\n",
              "      border-bottom-color: var(--fill-color);\n",
              "    }\n",
              "    90% {\n",
              "      border-color: transparent;\n",
              "      border-bottom-color: var(--fill-color);\n",
              "    }\n",
              "  }\n",
              "</style>\n",
              "\n",
              "      <script>\n",
              "        async function quickchart(key) {\n",
              "          const quickchartButtonEl =\n",
              "            document.querySelector('#' + key + ' button');\n",
              "          quickchartButtonEl.disabled = true;  // To prevent multiple clicks.\n",
              "          quickchartButtonEl.classList.add('colab-df-spinner');\n",
              "          try {\n",
              "            const charts = await google.colab.kernel.invokeFunction(\n",
              "                'suggestCharts', [key], {});\n",
              "          } catch (error) {\n",
              "            console.error('Error during call to suggestCharts:', error);\n",
              "          }\n",
              "          quickchartButtonEl.classList.remove('colab-df-spinner');\n",
              "          quickchartButtonEl.classList.add('colab-df-quickchart-complete');\n",
              "        }\n",
              "        (() => {\n",
              "          let quickchartButtonEl =\n",
              "            document.querySelector('#df-c7979d17-5aa4-444c-adf6-3aad60dfcccf button');\n",
              "          quickchartButtonEl.style.display =\n",
              "            google.colab.kernel.accessAllowed ? 'block' : 'none';\n",
              "        })();\n",
              "      </script>\n",
              "    </div>\n",
              "    </div>\n",
              "  </div>\n"
            ],
            "application/vnd.google.colaboratory.intrinsic+json": {
              "type": "dataframe",
              "summary": "{\n  \"name\": \"check\",\n  \"rows\": 5,\n  \"fields\": [\n    {\n      \"column\": \"id\",\n      \"properties\": {\n        \"dtype\": \"string\",\n        \"num_unique_values\": 5,\n        \"samples\": [\n          \"way/26762784\",\n          \"way/1376966570\",\n          \"way/3873020\"\n        ],\n        \"semantic_type\": \"\",\n        \"description\": \"\"\n      }\n    },\n    {\n      \"column\": \"n1\",\n      \"properties\": {\n        \"dtype\": \"number\",\n        \"std\": 0,\n        \"min\": 1,\n        \"max\": 1,\n        \"num_unique_values\": 1,\n        \"samples\": [\n          1\n        ],\n        \"semantic_type\": \"\",\n        \"description\": \"\"\n      }\n    },\n    {\n      \"column\": \"n2\",\n      \"properties\": {\n        \"dtype\": \"number\",\n        \"std\": 0,\n        \"min\": 1,\n        \"max\": 1,\n        \"num_unique_values\": 1,\n        \"samples\": [\n          1\n        ],\n        \"semantic_type\": \"\",\n        \"description\": \"\"\n      }\n    },\n    {\n      \"column\": \"n3\",\n      \"properties\": {\n        \"dtype\": \"number\",\n        \"std\": 0,\n        \"min\": 1,\n        \"max\": 1,\n        \"num_unique_values\": 1,\n        \"samples\": [\n          1\n        ],\n        \"semantic_type\": \"\",\n        \"description\": \"\"\n      }\n    }\n  ]\n}"
            }
          },
          "metadata": {},
          "execution_count": 32
        }
      ]
    },
    {
      "cell_type": "code",
      "source": [
        "# 1) 统一 CRS（建议米制；若已有米制，可注释掉）\n",
        "TARGET_CRS = \"EPSG:27700\"\n",
        "for _g in [s1, s2, s3]:\n",
        "    if _g.crs != TARGET_CRS:\n",
        "        _g.to_crs(TARGET_CRS, inplace=True)\n",
        "\n",
        "# 2) 为每条线段构造稳定的“段级唯一键 edge_uid”\n",
        "def make_edge_uid(gdf, precision=3):\n",
        "    def uid_from_geom(geom):\n",
        "        if geom is None or geom.is_empty:\n",
        "            return None\n",
        "\n",
        "        # 统一处理成“两个端点”\n",
        "        def endpoints_of_linestring(ls: LineString):\n",
        "            cs = list(ls.coords)\n",
        "            return (cs[0], cs[-1])\n",
        "\n",
        "        start, end = None, None\n",
        "\n",
        "        if isinstance(geom, LineString):\n",
        "            start, end = endpoints_of_linestring(geom)\n",
        "\n",
        "        elif isinstance(geom, MultiLineString):\n",
        "            # 优先尝试将多段合并成一条\n",
        "            merged = linemerge(geom)\n",
        "            if isinstance(merged, LineString):\n",
        "                start, end = endpoints_of_linestring(merged)\n",
        "            else:\n",
        "                # 仍是 MultiLineString：收集所有端点，取“全局最小/最大”端点作为代表\n",
        "                eps = []\n",
        "                for part in geom.geoms:\n",
        "                    if isinstance(part, LineString) and not part.is_empty:\n",
        "                        a, b = endpoints_of_linestring(part)\n",
        "                        eps.extend([a, b])\n",
        "                if not eps:\n",
        "                    return None\n",
        "                # 四舍五入后进行无向排序\n",
        "                eps = [(round(x, precision), round(y, precision)) for (x, y) in eps]\n",
        "                a = min(eps)  # 词典序最小\n",
        "                b = max(eps)  # 词典序最大\n",
        "                start, end = a, b\n",
        "\n",
        "        else:\n",
        "            return None\n",
        "\n",
        "        # 无向排序 + 四舍五入\n",
        "        x1, y1 = start\n",
        "        x2, y2 = end\n",
        "        a = (round(min(x1, x2), precision), round(min(y1, y2), precision))\n",
        "        b = (round(max(x1, x2), precision), round(max(y1, y2), precision))\n",
        "        raw = f\"{a[0]},{a[1]}|{b[0]},{b[1]}\"\n",
        "        return hashlib.sha1(raw.encode()).hexdigest()[:16]\n",
        "\n",
        "    gdf = gdf.copy()\n",
        "    gdf[\"edge_uid\"] = gdf.geometry.map(uid_from_geom)\n",
        "    return gdf\n",
        "\n",
        "\n",
        "s1 = make_edge_uid(s1)\n",
        "s2 = make_edge_uid(s2)\n",
        "s3 = make_edge_uid(s3)\n",
        "\n",
        "# 3) 同一数据内如仍有相同 (id, edge_uid) 的重复记录，保留“长度最长”的那条（最保守）\n",
        "def keep_longest_per_uid(gdf, length_col=None):\n",
        "    \"\"\"\n",
        "    对同一 (id, edge_uid) 的重复记录，只保留长度最长的一条。\n",
        "    - 如果 length_col 为空或不存在，则用 geometry.length 作为长度。\n",
        "    - 安全地处理缺失 edge_uid / 空几何。\n",
        "    \"\"\"\n",
        "    df = gdf.copy()\n",
        "\n",
        "    # 1) 确保有长度列\n",
        "    temp_len_col = None\n",
        "    if (length_col is None) or (length_col not in df.columns):\n",
        "        temp_len_col = \"_len_tmp_\"\n",
        "        # geometry 可能有空，length 会得到 NaN；无妨\n",
        "        df[temp_len_col] = df.geometry.length\n",
        "        length_col = temp_len_col\n",
        "\n",
        "    # 2) 防止缺键\n",
        "    if \"id\" not in df.columns or \"edge_uid\" not in df.columns:\n",
        "        raise ValueError(\"需要列 'id' 和 'edge_uid' 才能去重。\")\n",
        "\n",
        "    # 3) 排序 + 分组取每组第一条（长度最大）\n",
        "    df[\"_row\"] = np.arange(len(df))\n",
        "    df = df.sort_values([\"id\", \"edge_uid\", length_col], ascending=[True, True, False])\n",
        "\n",
        "    idx = (\n",
        "        df.groupby([\"id\", \"edge_uid\"], dropna=False)[\"_row\"]\n",
        "          .head(1)\n",
        "          .values\n",
        "    )\n",
        "\n",
        "    out = df.loc[idx].drop(columns=[\"_row\"], errors=\"ignore\")\n",
        "\n",
        "    # 4) 清理临时列\n",
        "    if temp_len_col is not None:\n",
        "        out = out.drop(columns=[temp_len_col], errors=\"ignore\")\n",
        "\n",
        "    return out\n",
        "\n",
        "s1 = keep_longest_per_uid(s1, length_col=\"length_m\" if \"length_m\" in s1.columns else None)\n",
        "s2 = keep_longest_per_uid(s2, length_col=\"length_m\" if \"length_m\" in s2.columns else None)\n",
        "s3 = keep_longest_per_uid(s3, length_col=\"length_m\" if \"length_m\" in s3.columns else None)\n",
        "\n",
        "# 4) 选择用于连接的键：优先 (id, edge_uid)，若 edge_uid 为空则退化为 id\n",
        "#    为了实现“优先 uid，缺失时 id”，这里分别做两次合并再合成\n",
        "key_cols = [\"id\",\"edge_uid\"]\n",
        "\n",
        "# —— 先把需要的几何备份：以 s1 的几何为主，s2/s3 的几何以 WKT 形式保留（可选）\n",
        "s2_geom_wkt = s2.geometry.to_wkt()\n",
        "s3_geom_wkt = s3.geometry.to_wkt()\n",
        "s2 = s2.drop(columns=\"geometry\").assign(geometry_s2=s2_geom_wkt.values)\n",
        "s3 = s3.drop(columns=\"geometry\").assign(geometry_s3=s3_geom_wkt.values)\n",
        "\n",
        "# 5) 外连接：s1 ⟂ s2（先用 (id, edge_uid)）\n",
        "m12 = s1.merge(s2, on=key_cols, how=\"outer\", suffixes=(\"_s1\",\"_s2\"))\n",
        "\n",
        "# 对仍未匹配到 edge_uid 的记录，尝试用 id 再补一次（避免同 id 的孤段丢失）\n",
        "# 标记哪些在第一次 merge 里没匹配成功\n",
        "def mark_unmatched(df, left_prefix=\"_left\", right_prefix=\"_right\"):\n",
        "    # 粗略：存在任一 s2 字段则视为匹配\n",
        "    cols_s2 = [c for c in df.columns if c.endswith(\"_s2\") or c==\"geometry_s2\"]\n",
        "    matched = df[cols_s2].notna().any(axis=1)\n",
        "    return ~matched\n",
        "\n",
        "mask_unmatched_s2 = mark_unmatched(m12)\n",
        "if mask_unmatched_s2.any():\n",
        "    # 用 id 合并补齐剩余\n",
        "    add2 = s2.merge(s1[[\"id\"]].drop_duplicates(), on=\"id\", how=\"right\")\n",
        "    m12_fallback = s1.merge(add2, on=\"id\", how=\"left\", suffixes=(\"_s1\",\"_s2_fb\"))\n",
        "    # 仅对原来没匹配到的行，用 fallback 的 s2 字段填充\n",
        "    cols_fb = [c for c in m12_fallback.columns if c.endswith(\"_s2_fb\") or c==\"geometry_s2\"]\n",
        "    for c in cols_fb:\n",
        "        base = c.replace(\"_s2_fb\",\"_s2\")\n",
        "        if base in m12.columns:\n",
        "            m12.loc[mask_unmatched_s2, base] = m12_fallback.loc[mask_unmatched_s2, c]\n",
        "        else:\n",
        "            m12[base] = m12_fallback.loc[mask_unmatched_s2, c]\n",
        "    # 清理临时列\n",
        "    drop_fb = [c for c in m12.columns if c.endswith(\"_s2_fb\")]\n",
        "    m12.drop(columns=drop_fb, inplace=True, errors=\"ignore\")\n",
        "\n",
        "# 6) 再把 s3 并进来（同样策略）\n",
        "m123 = m12.merge(s3, on=key_cols, how=\"outer\")  # s3 已带 _s3 后缀的字段\n",
        "# 对没匹配到 s3 的，再用 id 兜底\n",
        "cols_s3 = [c for c in m123.columns if c.endswith(\"_s3\") or c==\"geometry_s3\"]\n",
        "mask_unmatched_s3 = ~m123[cols_s3].notna().any(axis=1)\n",
        "if mask_unmatched_s3.any():\n",
        "    add3 = s3.merge(m12[[\"id\"]].drop_duplicates(), on=\"id\", how=\"right\")\n",
        "    m123_fb = m12.merge(add3, on=\"id\", how=\"left\")\n",
        "    # 用 fallback 填\n",
        "    for c in [c for c in m123_fb.columns if c.endswith(\"_s3\") or c==\"geometry_s3\"]:\n",
        "        if c in m123.columns:\n",
        "            m123.loc[mask_unmatched_s3, c] = m123_fb.loc[mask_unmatched_s3, c]\n",
        "        else:\n",
        "            m123[c] = m123_fb.loc[mask_unmatched_s3, c]\n",
        "\n",
        "# 7) 结果整理\n",
        "# - 保留 s1 的 geometry 作为主几何\n",
        "out = gpd.GeoDataFrame(m123, geometry=\"geometry\", crs=s1.crs)\n",
        "\n",
        "# 8) 导出\n",
        "OUT_GPKG = \"/content/drive/MyDrive/CASA0004_Cycling/data/CQI/merged_s1_s2_s3.gpkg\"\n",
        "out.to_file(OUT_GPKG, layer=\"merged_all_fields\", driver=\"GPKG\")\n",
        "print(f\"已导出：{OUT_GPKG}  | 行数：{len(out)}\")\n"
      ],
      "metadata": {
        "colab": {
          "base_uri": "https://localhost:8080/"
        },
        "id": "TNgao3ztCPxu",
        "outputId": "7454577d-22fa-4afc-9888-2e348e08dd2d"
      },
      "execution_count": 33,
      "outputs": [
        {
          "output_type": "stream",
          "name": "stdout",
          "text": [
            "已导出：/content/drive/MyDrive/CASA0004_Cycling/data/CQI/merged_s1_s2_s3.gpkg  | 行数：163104\n"
          ]
        }
      ]
    },
    {
      "cell_type": "code",
      "source": [
        "out[\"geometry\"].value_counts().head(10)"
      ],
      "metadata": {
        "colab": {
          "base_uri": "https://localhost:8080/",
          "height": 429
        },
        "id": "XgsxPVHvIOW9",
        "outputId": "9d9f08b4-06b5-4539-ac41-e613b63ef322"
      },
      "execution_count": 34,
      "outputs": [
        {
          "output_type": "execute_result",
          "data": {
            "text/plain": [
              "geometry\n",
              "LINESTRING (530854 179502, 530862 179506, 5308...    1\n",
              "LINESTRING (530622 196188, 530614 196230, 5306...    1\n",
              "LINESTRING (530710 171664, 530724 171658, 5307...    1\n",
              "LINESTRING (530704 171666, 530710 171664)            1\n",
              "LINESTRING (515654 180186, 515656 180186, 5156...    1\n",
              "LINESTRING (543330 165134, 543318 165144, 5433...    1\n",
              "LINESTRING (530944 179180, 530916 179198)            1\n",
              "LINESTRING (530996 179318, 530942 179348)            1\n",
              "LINESTRING (530942 179348, 530938 179350, 5309...    1\n",
              "LINESTRING (517684 180412, 517700 180416, 5177...    1\n",
              "Name: count, dtype: int64"
            ],
            "text/html": [
              "<div>\n",
              "<style scoped>\n",
              "    .dataframe tbody tr th:only-of-type {\n",
              "        vertical-align: middle;\n",
              "    }\n",
              "\n",
              "    .dataframe tbody tr th {\n",
              "        vertical-align: top;\n",
              "    }\n",
              "\n",
              "    .dataframe thead th {\n",
              "        text-align: right;\n",
              "    }\n",
              "</style>\n",
              "<table border=\"1\" class=\"dataframe\">\n",
              "  <thead>\n",
              "    <tr style=\"text-align: right;\">\n",
              "      <th></th>\n",
              "      <th>count</th>\n",
              "    </tr>\n",
              "    <tr>\n",
              "      <th>geometry</th>\n",
              "      <th></th>\n",
              "    </tr>\n",
              "  </thead>\n",
              "  <tbody>\n",
              "    <tr>\n",
              "      <th>LINESTRING (530854 179502, 530862 179506, 5308...</th>\n",
              "      <td>1</td>\n",
              "    </tr>\n",
              "    <tr>\n",
              "      <th>LINESTRING (530622 196188, 530614 196230, 5306...</th>\n",
              "      <td>1</td>\n",
              "    </tr>\n",
              "    <tr>\n",
              "      <th>LINESTRING (530710 171664, 530724 171658, 5307...</th>\n",
              "      <td>1</td>\n",
              "    </tr>\n",
              "    <tr>\n",
              "      <th>LINESTRING (530704 171666, 530710 171664)</th>\n",
              "      <td>1</td>\n",
              "    </tr>\n",
              "    <tr>\n",
              "      <th>LINESTRING (515654 180186, 515656 180186, 5156...</th>\n",
              "      <td>1</td>\n",
              "    </tr>\n",
              "    <tr>\n",
              "      <th>LINESTRING (543330 165134, 543318 165144, 5433...</th>\n",
              "      <td>1</td>\n",
              "    </tr>\n",
              "    <tr>\n",
              "      <th>LINESTRING (530944 179180, 530916 179198)</th>\n",
              "      <td>1</td>\n",
              "    </tr>\n",
              "    <tr>\n",
              "      <th>LINESTRING (530996 179318, 530942 179348)</th>\n",
              "      <td>1</td>\n",
              "    </tr>\n",
              "    <tr>\n",
              "      <th>LINESTRING (530942 179348, 530938 179350, 5309...</th>\n",
              "      <td>1</td>\n",
              "    </tr>\n",
              "    <tr>\n",
              "      <th>LINESTRING (517684 180412, 517700 180416, 5177...</th>\n",
              "      <td>1</td>\n",
              "    </tr>\n",
              "  </tbody>\n",
              "</table>\n",
              "</div><br><label><b>dtype:</b> int64</label>"
            ]
          },
          "metadata": {},
          "execution_count": 34
        }
      ]
    },
    {
      "cell_type": "code",
      "source": [
        "print(out.columns)"
      ],
      "metadata": {
        "colab": {
          "base_uri": "https://localhost:8080/"
        },
        "id": "YXLpgNKrJNC1",
        "outputId": "05e11058-ae28-4506-9068-2a37e95524d7"
      },
      "execution_count": 35,
      "outputs": [
        {
          "output_type": "stream",
          "name": "stdout",
          "text": [
            "Index(['id', 'name_s1', 'way_type_s1', 'index', 'index_10', 'stress_level',\n",
            "       'offset', 'side', 'proc_width', 'proc_surface', 'proc_smoothness',\n",
            "       'proc_oneway', 'proc_sidepath', 'proc_highway', 'proc_maxspeed',\n",
            "       'proc_traffic_mode_left', 'proc_traffic_mode_right',\n",
            "       'proc_separation_left', 'proc_separation_right', 'proc_buffer_left',\n",
            "       'proc_buffer_right', 'proc_mandatory', 'proc_traffic_sign', 'fac_width',\n",
            "       'fac_surface', 'fac_highway', 'fac_maxspeed', 'base_index', 'fac_1',\n",
            "       'fac_2', 'fac_3', 'fac_4', 'data_bonus', 'data_malus',\n",
            "       'data_incompleteness', 'data_missing', 'data_missing_width',\n",
            "       'data_missing_surface', 'data_missing_smoothness',\n",
            "       'data_missing_maxspeed', 'data_missing_parking', 'data_missing_lit',\n",
            "       'filter_usable', 'filter_way_type', 'proc_slope', 'fac_5', 'layer',\n",
            "       'path', 'geometry', 'edge_uid', 'name_s2', 'way_type_s2', 'gvi_final',\n",
            "       'fac_gvi', 'NO2_mean', 'fac_no2', 'natural_score', 'fac_nat', 'index_2',\n",
            "       'geometry_s2', 'edge_uid_s2', 'name', 'way_type', 'length_m',\n",
            "       'edge_betweenness', 'edge_closeness_hc', 'edge_closeness_2km',\n",
            "       'edge_closeness_5km', '_B_log', 'B_norm', 'C2_norm', 'C5_norm',\n",
            "       'C_multi', 'index_3', 'geometry_s3'],\n",
            "      dtype='object')\n"
          ]
        }
      ]
    },
    {
      "cell_type": "code",
      "source": [
        "keep_cols = [\n",
        "    \"id\", \"name_s1\", \"way_type_s1\", \"length_m\",\n",
        "    \"index\", \"base_index\", \"fac_1\", \"fac_2\", \"fac_3\", \"fac_4\", \"fac_5\", \"stress_level\",\n",
        "    \"index_2\", \"fac_gvi\", \"fac_no2\", \"fac_nat\",\n",
        "    \"index_3\", \"edge_betweenness\", \"edge_closeness_2km\", \"edge_closeness_5km\", \"_B_log\", \"B_norm\", \"C2_norm\", \"C5_norm\", \"C_multi\",\n",
        "    \"geometry\"\n",
        "]\n",
        "\n",
        "# 按列顺序保留\n",
        "out_gdf = out[keep_cols]\n",
        "\n",
        "# 重命名\n",
        "out_gdf = out_gdf.rename(columns={\n",
        "    \"name_s1\": \"name\",\n",
        "    \"way_type_s1\": \"way_type\",\n",
        "    \"index\": \"index_1\",\n",
        "    \"stress_level\": \"LTS\"\n",
        "})\n",
        "\n",
        "# seesee\n",
        "print(out_gdf.columns)"
      ],
      "metadata": {
        "colab": {
          "base_uri": "https://localhost:8080/"
        },
        "id": "hGnCN-DiJKiu",
        "outputId": "eeec1189-3678-4716-d0bc-bcb5c9185c76"
      },
      "execution_count": 36,
      "outputs": [
        {
          "output_type": "stream",
          "name": "stdout",
          "text": [
            "Index(['id', 'name', 'way_type', 'length_m', 'index_1', 'base_index', 'fac_1',\n",
            "       'fac_2', 'fac_3', 'fac_4', 'fac_5', 'LTS', 'index_2', 'fac_gvi',\n",
            "       'fac_no2', 'fac_nat', 'index_3', 'edge_betweenness',\n",
            "       'edge_closeness_2km', 'edge_closeness_5km', '_B_log', 'B_norm',\n",
            "       'C2_norm', 'C5_norm', 'C_multi', 'geometry'],\n",
            "      dtype='object')\n"
          ]
        }
      ]
    },
    {
      "cell_type": "code",
      "source": [
        "# 删除 index_1 / index_2 / index_3 任意一个为空的行\n",
        "out_gdf = out_gdf.dropna(subset=['index_1', 'index_2', 'index_3'], how='any')\n",
        "\n",
        "# 重置索引\n",
        "out_gdf = out_gdf.reset_index(drop=True)"
      ],
      "metadata": {
        "id": "y6sj4n3KNjBA"
      },
      "execution_count": 37,
      "outputs": []
    },
    {
      "cell_type": "markdown",
      "source": [
        "## 很好弄干净了，搞一点敏感性分析"
      ],
      "metadata": {
        "id": "GJnBRvwbOUes"
      }
    },
    {
      "cell_type": "markdown",
      "source": [
        "The Composite Cycling Quality Index (CQI) was constructed by aggregating three sub-indices (Index_1, Index_2, and Index_3) representing infrastructure quality, environmental perception, and network centrality, respectively. The baseline CQI was calculated as the simple arithmetic mean of the three sub-indices to ensure equal contribution from each dimension. To assess the robustness of the CQI, a sensitivity analysis was performed by varying the weights assigned to each sub-index (e.g., Index_1:Index_2:Index_3 = 0.5:0.3:0.2, 0.4:0.4:0.2, 0.5:0.4:0.1). The sensitivity analysis allows examination of how changes in the relative importance of each dimension influence the final CQI distribution and spatial patterns, thereby evaluating the stability and reproducibility of the composite measure.\n",
        "\n",
        "综合骑行质量指数（CQI）是通过将三个子指数（分别代表基础设施质量、环境感知和网络中心性）进行聚合而构建的。基准 CQI 是这三个子指数的简单算术平均值，以确保每个维度的贡献相同。为了评估 CQI 的稳健性，进行了敏感性分析，通过改变每个子指数所赋予的权重（例如，Index_1：Index_2：Index_3 = 0.5：0.3：0.2，0.4：0.4：0.2，0.5：0.4：0.1）来进行。敏感性分析允许考察每个维度相对重要性的变化如何影响最终的 CQI 分布和空间模式，从而评估综合衡量指标的稳定性和可重复性。\n",
        "\n",
        "### 还得改啊，再做一下s3会不会很影响"
      ],
      "metadata": {
        "id": "va7BgknSPYqB"
      }
    },
    {
      "cell_type": "code",
      "source": [
        "# === 1. 构建总的CQI指标（基础版：三个子指数的等权平均） ===\n",
        "out_gdf['cqi_index'] = out_gdf[['index_1', 'index_2', 'index_3']].mean(axis=1)\n",
        "\n",
        "# 检查基本统计\n",
        "print(\"CQI Index 基本统计：\")\n",
        "print(out_gdf['cqi_index'].describe())\n",
        "\n",
        "# === 2. 为敏感性分析留出空间（例如调整权重） ===\n",
        "# 定义一个函数，可以快速测试不同权重组合的结果\n",
        "def calc_cqi(df, w1=1/3, w2=1/3, w3=1/3):\n",
        "    \"\"\"根据权重计算CQI\"\"\"\n",
        "    return df['index_1']*w1 + df['index_2']*w2 + df['index_3']*w3\n",
        "\n",
        "# 示例：偏重 index_1\n",
        "out_gdf['cqi_index_w1'] = calc_cqi(out_gdf, w1=0.5, w2=0.25, w3=0.25)\n",
        "\n",
        "# 示例：偏重 index_2\n",
        "out_gdf['cqi_index_w2'] = calc_cqi(out_gdf, w1=0.25, w2=0.5, w3=0.25)\n",
        "\n",
        "# 示例：偏重 index_3\n",
        "out_gdf['cqi_index_w3'] = calc_cqi(out_gdf, w1=0.25, w2=0.25, w3=0.5)\n",
        "\n",
        "# 输出前几行看结果\n",
        "print(out_gdf[['id', 'cqi_index', 'cqi_index_w1', 'cqi_index_w2', 'cqi_index_w3']].head())\n"
      ],
      "metadata": {
        "colab": {
          "base_uri": "https://localhost:8080/"
        },
        "id": "icdn-4cON_Z0",
        "outputId": "d7313eaa-960b-4601-c2fb-181fdd95a5ad"
      },
      "execution_count": 46,
      "outputs": [
        {
          "output_type": "stream",
          "name": "stdout",
          "text": [
            "CQI Index 基本统计：\n",
            "count    162927.000000\n",
            "mean          8.769635\n",
            "std           4.717752\n",
            "min           0.770626\n",
            "25%           5.508547\n",
            "50%           8.167980\n",
            "75%          10.437605\n",
            "max          33.599206\n",
            "Name: cqi_index, dtype: float64\n",
            "               id  cqi_index  cqi_index_w1  cqi_index_w2  cqi_index_w3\n",
            "0  way/1000024348   7.126829     10.595122      5.419365      5.366000\n",
            "1  way/1000024349   6.448047      9.586035      4.901585      4.856520\n",
            "2  way/1000057960   3.239950      4.679962      2.514194      2.525693\n",
            "3   way/100009771   5.175731      7.631799      4.011228      3.884168\n",
            "4   way/100015712  10.757340     16.068005      8.130732      8.073283\n"
          ]
        }
      ]
    },
    {
      "cell_type": "code",
      "source": [
        "print(out_gdf.columns)"
      ],
      "metadata": {
        "colab": {
          "base_uri": "https://localhost:8080/"
        },
        "id": "txhY1PL1PejB",
        "outputId": "27cd69ba-0dbb-433f-8e49-316e64c5007b"
      },
      "execution_count": 47,
      "outputs": [
        {
          "output_type": "stream",
          "name": "stdout",
          "text": [
            "Index(['id', 'name', 'way_type', 'length_m', 'index_1', 'base_index', 'fac_1',\n",
            "       'fac_2', 'fac_3', 'fac_4', 'fac_5', 'LTS', 'index_2', 'fac_gvi',\n",
            "       'fac_no2', 'fac_nat', 'index_3', 'edge_betweenness',\n",
            "       'edge_closeness_2km', 'edge_closeness_5km', '_B_log', 'B_norm',\n",
            "       'C2_norm', 'C5_norm', 'C_multi', 'geometry', 'cqi_index',\n",
            "       'cqi_index_w1', 'cqi_index_w2', 'cqi_index_w3'],\n",
            "      dtype='object')\n"
          ]
        }
      ]
    },
    {
      "cell_type": "code",
      "source": [
        "OUT_GPKG = \"/content/drive/MyDrive/CASA0004_Cycling/data/CQI/CQI.gpkg\"\n",
        "out.to_file(OUT_GPKG, layer=\"merged_all_fields\", driver=\"GPKG\")\n",
        "print(f\"已导出：{OUT_GPKG}  | 行数：{len(out)}\")"
      ],
      "metadata": {
        "colab": {
          "base_uri": "https://localhost:8080/"
        },
        "id": "54xXpXN4QepS",
        "outputId": "948b879d-ca46-4b7d-9e36-4aa6fce9e749"
      },
      "execution_count": 48,
      "outputs": [
        {
          "output_type": "stream",
          "name": "stdout",
          "text": [
            "已导出：/content/drive/MyDrive/CASA0004_Cycling/data/CQI/CQI.gpkg  | 行数：163104\n"
          ]
        }
      ]
    }
  ]
}