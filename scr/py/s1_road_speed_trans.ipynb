{
  "cells": [
    {
      "cell_type": "markdown",
      "metadata": {
        "id": "view-in-github",
        "colab_type": "text"
      },
      "source": [
        "<a href=\"https://colab.research.google.com/github/Van-Wu1/cycle/blob/main/scr/py/s1_road_speed_trans.ipynb\" target=\"_parent\"><img src=\"https://colab.research.google.com/assets/colab-badge.svg\" alt=\"Open In Colab\"/></a>"
      ]
    },
    {
      "cell_type": "code",
      "source": [
        "from google.colab import drive\n",
        "drive.mount('/content/drive')\n",
        "!ls '/content/drive/MyDrive/CASA0004_Cycling/data'"
      ],
      "metadata": {
        "colab": {
          "base_uri": "https://localhost:8080/"
        },
        "id": "TId2EoAOKtm_",
        "outputId": "6bd677fb-44d8-462b-d4f0-09b06204f2ba"
      },
      "id": "TId2EoAOKtm_",
      "execution_count": 1,
      "outputs": [
        {
          "output_type": "stream",
          "name": "stdout",
          "text": [
            "Mounted at /content/drive\n",
            "BoroughShp  GreatLondonShp  s1\ts2_Env\ts3\n"
          ]
        }
      ]
    },
    {
      "cell_type": "code",
      "source": [
        "import json\n",
        "import re\n",
        "import os\n",
        "import geopandas as gpd\n",
        "\n",
        "from pyproj import CRS"
      ],
      "metadata": {
        "id": "4rEjflroK6yX"
      },
      "id": "4rEjflroK6yX",
      "execution_count": 15,
      "outputs": []
    },
    {
      "cell_type": "code",
      "source": [
        "# 输入/输出文件夹路径\n",
        "in_dir = \"/content/drive/MyDrive/CASA0004_Cycling/data/s1/Roads_OT/OTcleanedV2\"\n",
        "out_dir = \"/content/drive/MyDrive/CASA0004_Cycling/data/s1/Roads_OT/OTSpeedConverted\"\n",
        "os.makedirs(out_dir, exist_ok=True)\n",
        "\n",
        "shp = gpd.read_file(\"/content/drive/MyDrive/CASA0004_Cycling/data/GreatLondonShp/GreatLondonShp.shp\")"
      ],
      "metadata": {
        "id": "oe9fTU9NK9dH"
      },
      "id": "oe9fTU9NK9dH",
      "execution_count": 19,
      "outputs": []
    },
    {
      "cell_type": "code",
      "source": [
        "# ========= 坐标系 =========\n",
        "TARGET_CRS = CRS(\"EPSG:27700\")   # 目标：英国国家格网（米制）\n",
        "ASSUME_SRC = CRS(\"EPSG:4326\")    # 若数据缺失CRS，默认按 WGS84\n",
        "\n",
        "def to_target_crs(gdf: gpd.GeoDataFrame) -> gpd.GeoDataFrame:\n",
        "    if gdf.crs is None:\n",
        "        gdf = gdf.set_crs(ASSUME_SRC.to_string(), allow_override=True)\n",
        "    if gdf.crs.to_string() != TARGET_CRS.to_string():\n",
        "        gdf = gdf.to_crs(TARGET_CRS.to_string())\n",
        "    return gdf\n",
        "\n",
        "# 先把裁剪边界也统一到目标 CRS\n",
        "shp = to_target_crs(shp)\n",
        "\n",
        "# ========= mph -> km/h =========\n",
        "mph_re = re.compile(r'(\\d+(?:\\.\\d+)?)\\s*mph\\b', re.IGNORECASE)\n",
        "def convert_maxspeed(val):\n",
        "    if val is None:\n",
        "        return val\n",
        "    s = str(val)\n",
        "    m = mph_re.search(s)          # 用 search，防止前面还有别字符\n",
        "    if not m:\n",
        "        return s\n",
        "    kmh = round(float(m.group(1)) * 1.60934)\n",
        "    return str(kmh)\n",
        "\n",
        "# ========= 只保留线 =========\n",
        "def keep_only_lines(gdf: gpd.GeoDataFrame) -> gpd.GeoDataFrame:\n",
        "    gdf = gdf[gdf.geometry.notna() & ~gdf.geometry.is_empty]\n",
        "    gdf = gdf[gdf.geometry.geom_type.isin([\"LineString\", \"MultiLineString\"])].copy()\n",
        "    if gdf.empty:\n",
        "        return gdf\n",
        "    # MultiLine → Line\n",
        "    gdf = gdf.explode(index_parts=False, ignore_index=True)\n",
        "    return gdf\n",
        "\n",
        "# ========= 遍历处理 =========\n",
        "for fname in sorted(os.listdir(in_dir)):\n",
        "    if not fname.lower().endswith(\".geojson\"):\n",
        "        continue\n",
        "\n",
        "    in_path  = os.path.join(in_dir, fname)\n",
        "    out_path = os.path.join(out_dir, fname.replace(\".geojson\", \"_converted_clipped.geojson\"))\n",
        "\n",
        "    gdf = gpd.read_file(in_path)\n",
        "\n",
        "    # 1) maxspeed 转换\n",
        "    if \"maxspeed\" in gdf.columns:\n",
        "        gdf[\"maxspeed\"] = gdf[\"maxspeed\"].apply(convert_maxspeed)\n",
        "\n",
        "    # 2) 统一坐标系\n",
        "    gdf = to_target_crs(gdf)\n",
        "\n",
        "    # 3) 只保留线（去点/面）\n",
        "    gdf = keep_only_lines(gdf)\n",
        "\n",
        "    # 4) 裁剪（可直接用多边形图层）\n",
        "    gdf_clip = gpd.clip(gdf, shp)\n",
        "\n",
        "    # 5) 保存\n",
        "    gdf_clip.to_file(out_path, driver=\"GeoJSON\")\n",
        "    print(f\"{fname}: {len(gdf_clip)} features → {out_path}\")\n",
        "\n",
        "print(\"✅ 全部文件完成\")\n"
      ],
      "metadata": {
        "colab": {
          "base_uri": "https://localhost:8080/"
        },
        "id": "XJgkM7WiRy8c",
        "outputId": "fa98eeb0-0f5e-4645-cb64-ec655f2d7154"
      },
      "id": "XJgkM7WiRy8c",
      "execution_count": 20,
      "outputs": [
        {
          "output_type": "stream",
          "name": "stdout",
          "text": [
            "export (1).geojson: 5079 features → /content/drive/MyDrive/CASA0004_Cycling/data/s1/Roads_OT/OTSpeedConverted/export (1)_converted_clipped.geojson\n",
            "export (2).geojson: 15729 features → /content/drive/MyDrive/CASA0004_Cycling/data/s1/Roads_OT/OTSpeedConverted/export (2)_converted_clipped.geojson\n",
            "export (3).geojson: 2857 features → /content/drive/MyDrive/CASA0004_Cycling/data/s1/Roads_OT/OTSpeedConverted/export (3)_converted_clipped.geojson\n",
            "export (4).geojson: 25379 features → /content/drive/MyDrive/CASA0004_Cycling/data/s1/Roads_OT/OTSpeedConverted/export (4)_converted_clipped.geojson\n",
            "export (5).geojson: 58731 features → /content/drive/MyDrive/CASA0004_Cycling/data/s1/Roads_OT/OTSpeedConverted/export (5)_converted_clipped.geojson\n",
            "export (6).geojson: 15570 features → /content/drive/MyDrive/CASA0004_Cycling/data/s1/Roads_OT/OTSpeedConverted/export (6)_converted_clipped.geojson\n",
            "export (7).geojson: 10153 features → /content/drive/MyDrive/CASA0004_Cycling/data/s1/Roads_OT/OTSpeedConverted/export (7)_converted_clipped.geojson\n",
            "export (8).geojson: 26396 features → /content/drive/MyDrive/CASA0004_Cycling/data/s1/Roads_OT/OTSpeedConverted/export (8)_converted_clipped.geojson\n",
            "export (9).geojson: 6580 features → /content/drive/MyDrive/CASA0004_Cycling/data/s1/Roads_OT/OTSpeedConverted/export (9)_converted_clipped.geojson\n",
            "✅ 全部文件完成\n"
          ]
        }
      ]
    },
    {
      "cell_type": "code",
      "source": [
        "# 正则匹配 mph\n",
        "pattern = re.compile(r'(\\d+(?:\\.\\d+)?)\\s*mph', re.IGNORECASE)\n",
        "\n",
        "# 遍历文件夹下所有 .geojson\n",
        "for filename in os.listdir(in_dir):\n",
        "    if not filename.lower().endswith('.geojson'):\n",
        "        continue\n",
        "\n",
        "    in_path = os.path.join(in_dir, filename)\n",
        "    out_path = os.path.join(out_dir, filename.replace('.geojson', '_converted.geojson'))\n",
        "\n",
        "    with open(in_path, 'r', encoding='utf-8') as f:\n",
        "        data = json.load(f)\n",
        "\n",
        "    count = 0\n",
        "    for feat in data.get('features', []):\n",
        "        props = feat.get('properties', {})\n",
        "        ms = props.get('maxspeed', '')\n",
        "        m = pattern.match(str(ms))\n",
        "        if m:\n",
        "            mph = float(m.group(1))\n",
        "            kmh = mph * 1.60934\n",
        "            props['maxspeed'] = f'{round(kmh)}'\n",
        "            count += 1\n",
        "\n",
        "    with open(out_path, 'w', encoding='utf-8') as f:\n",
        "        json.dump(data, f, ensure_ascii=False, indent=2)\n",
        "\n",
        "    print(f'{filename} 处理完成：共转换 {count} 条 maxspeed，输出到 {out_path}')\n",
        "\n",
        "print(\"✅ 全部文件处理完成！\")\n"
      ],
      "metadata": {
        "colab": {
          "base_uri": "https://localhost:8080/"
        },
        "id": "sf36Ks7gK0Fc",
        "outputId": "5045d339-65ba-449e-b543-526ed8b653e6"
      },
      "id": "sf36Ks7gK0Fc",
      "execution_count": 4,
      "outputs": [
        {
          "output_type": "stream",
          "name": "stdout",
          "text": [
            "export (1).geojson 处理完成：共转换 6052 条 maxspeed，输出到 /content/drive/MyDrive/CASA0004_Cycling/data/s1/Roads_OT/OTSpeedConverted/export (1)_converted.geojson\n",
            "export (2).geojson 处理完成：共转换 7974 条 maxspeed，输出到 /content/drive/MyDrive/CASA0004_Cycling/data/s1/Roads_OT/OTSpeedConverted/export (2)_converted.geojson\n",
            "export (3).geojson 处理完成：共转换 1927 条 maxspeed，输出到 /content/drive/MyDrive/CASA0004_Cycling/data/s1/Roads_OT/OTSpeedConverted/export (3)_converted.geojson\n",
            "export (4).geojson 处理完成：共转换 11993 条 maxspeed，输出到 /content/drive/MyDrive/CASA0004_Cycling/data/s1/Roads_OT/OTSpeedConverted/export (4)_converted.geojson\n",
            "export (5).geojson 处理完成：共转换 40852 条 maxspeed，输出到 /content/drive/MyDrive/CASA0004_Cycling/data/s1/Roads_OT/OTSpeedConverted/export (5)_converted.geojson\n",
            "export (6).geojson 处理完成：共转换 6931 条 maxspeed，输出到 /content/drive/MyDrive/CASA0004_Cycling/data/s1/Roads_OT/OTSpeedConverted/export (6)_converted.geojson\n",
            "export (7).geojson 处理完成：共转换 8055 条 maxspeed，输出到 /content/drive/MyDrive/CASA0004_Cycling/data/s1/Roads_OT/OTSpeedConverted/export (7)_converted.geojson\n",
            "export (8).geojson 处理完成：共转换 14123 条 maxspeed，输出到 /content/drive/MyDrive/CASA0004_Cycling/data/s1/Roads_OT/OTSpeedConverted/export (8)_converted.geojson\n",
            "export (9).geojson 处理完成：共转换 2491 条 maxspeed，输出到 /content/drive/MyDrive/CASA0004_Cycling/data/s1/Roads_OT/OTSpeedConverted/export (9)_converted.geojson\n",
            "✅ 全部文件处理完成！\n"
          ]
        }
      ]
    }
  ],
  "metadata": {
    "kernelspec": {
      "display_name": "Python 3",
      "language": "python",
      "name": "python3"
    },
    "language_info": {
      "codemirror_mode": {
        "name": "ipython",
        "version": 3
      },
      "file_extension": ".py",
      "mimetype": "text/x-python",
      "name": "python",
      "nbconvert_exporter": "python",
      "pygments_lexer": "ipython3",
      "version": "3.13.2"
    },
    "colab": {
      "provenance": [],
      "include_colab_link": true
    }
  },
  "nbformat": 4,
  "nbformat_minor": 5
}