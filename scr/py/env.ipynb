{
 "cells": [
  {
   "cell_type": "markdown",
   "id": "8e058699",
   "metadata": {},
   "source": [
    "## 基础导入啥的"
   ]
  },
  {
   "cell_type": "code",
   "execution_count": null,
   "id": "d440c3a1",
   "metadata": {},
   "outputs": [],
   "source": [
    "import geopandas as gpd\n",
    "import pandas as pd\n",
    "from shapely.geometry import Point\n",
    "from shapely.strtree import STRtree"
   ]
  },
  {
   "cell_type": "markdown",
   "id": "ca78f66f",
   "metadata": {},
   "source": [
    "## 1.gvi"
   ]
  },
  {
   "cell_type": "markdown",
   "id": "9df69d3b",
   "metadata": {},
   "source": [
    "The GVI dataset used in this study is derived from the Treepedia project (MIT, 2015), based on Google Street View images captured around 2015. While this may not fully reflect recent greening interventions or urban modifications, GVI is used here as a general proxy for the visual landscape structure. Limitations related to data currency are discussed in Section X.\n",
    "\n",
    "本研究所用GVI数据来自于MIT Treepedia项目，基于约2015年的Google街景图像。尽管可能无法反映最近绿化或街景变化，但其作为城市空间绿意结构的代表性指标，仍具有参考价值，相关时效性局限将在后文讨论部分说明。\n",
    "\n",
    "To address gaps in GVI coverage along street segments, a borough-level imputation strategy was applied. Each road segment was first assigned a GVI value based on the average of nearby GVI points within a 20-meter buffer. For segments lacking any such points, the mean GVI value of the corresponding Greater London borough was used as a proxy. All imputed values were flagged to ensure transparency and to support subsequent interpretation.\n",
    "\n",
    "为解决街道路段内 GVI 数据覆盖不足的问题，本研究采用了基于 Borough（伦敦行政区）划分的分组插值策略。首先，优先使用 20 米缓冲区内的 GVI 点均值赋值给道路段；若缓冲区内未找到任何 GVI 点，则根据该路段所在 Borough 的平均 GVI 值进行插值补全。所有插值段均被标记，以保证分析过程的透明性和后续结果解释的严谨性。\n",
    "\n",
    "### 先导入一下数据（一直出错啊妈的"
   ]
  },
  {
   "cell_type": "code",
   "execution_count": null,
   "id": "62d60965",
   "metadata": {},
   "outputs": [],
   "source": [
    "boroughs_gdf = gpd.read_file(\"../data/BoroughShp/borough/borough.shp\")\n",
    "print(boroughs_gdf.columns)\n",
    "\n",
    "edges_gdf = gpd.read_file(\"../data/Roads/london_edges_FIXED.gpkg\")\n",
    "print(edges_gdf.columns)\n",
    "\n",
    "gvi_points = gpd.read_file(\"../data/Env/greenview_london.json/greenview_london.json\")\n",
    "print(gvi_points.columns)"
   ]
  },
  {
   "cell_type": "code",
   "execution_count": null,
   "id": "54c4e15c",
   "metadata": {},
   "outputs": [],
   "source": [
    "projected_crs = \"EPSG:27700\"\n",
    "edges_gdf = edges_gdf.to_crs(projected_crs)\n",
    "boroughs_gdf = boroughs_gdf.to_crs(projected_crs)\n",
    "gvi_points = gvi_points.to_crs(projected_crs)"
   ]
  },
  {
   "cell_type": "code",
   "execution_count": null,
   "id": "de91b43d",
   "metadata": {},
   "outputs": [],
   "source": [
    "boroughs_gdf = boroughs_gdf[['NAME', 'geometry']].rename(columns={'NAME': 'name'})"
   ]
  },
  {
   "cell_type": "code",
   "execution_count": null,
   "id": "cec6cf55",
   "metadata": {},
   "outputs": [],
   "source": [
    "# 将 GVI 点赋值给 Borough（我们之后要 fallback）\n",
    "gvi_points = gvi_points.to_crs(boroughs_gdf.crs)\n",
    "gvi_with_borough = gpd.sjoin(gvi_points, boroughs_gdf, how='inner', predicate='within')\n",
    "\n",
    "# 计算 Borough 的平均 GVI 值\n",
    "borough_gvi_mean = gvi_with_borough.groupby('name')['greenView'].mean().to_dict()\n",
    "print(borough_gvi_mean)"
   ]
  },
  {
   "cell_type": "code",
   "execution_count": null,
   "id": "6544ee2b",
   "metadata": {},
   "outputs": [],
   "source": [
    "import geopandas as gpd\n",
    "import pandas as pd\n",
    "from tqdm.notebook import tqdm\n",
    "tqdm.pandas()\n",
    "\n",
    "# === 0. 只抽取前 3000 条边作为测试集 ===\n",
    "# edges_sample = edges_gdf.iloc[:10000].copy()\n",
    "edges_sample = edges_gdf\n",
    "\n",
    "# === 1. 创建每条路段的中点列 ===\n",
    "print(\"1begin\")\n",
    "edges_sample['midpoint'] = edges_sample.geometry.interpolate(0.5, normalized=True)\n",
    "midpoints_gdf = gpd.GeoDataFrame(edges_sample[['midpoint']], geometry='midpoint', crs=edges_sample.crs)\n",
    "\n",
    "# === 2. 建立 GVI 空间索引，提升效率 ===\n",
    "print(\"2begin\")\n",
    "gvi_points = gvi_points.to_crs(edges_sample.crs)\n",
    "gvi_sindex = gvi_points.sindex\n",
    "\n",
    "# === 3. 对每条道路构建 30 米缓冲区并查找 GVI 点 ===\n",
    "print(\"3begin\")\n",
    "def compute_gvi_buffer_mean(point):\n",
    "    buffer = point.buffer(30)\n",
    "    possible = list(gvi_sindex.intersection(buffer.bounds))\n",
    "    near = gvi_points.iloc[possible]\n",
    "    near = near[near.intersects(buffer)]\n",
    "    if len(near) > 0:\n",
    "        return near['greenView'].mean()\n",
    "    else:\n",
    "        return None\n",
    "\n",
    "midpoints_gdf['gvi_buffer_mean'] = midpoints_gdf['midpoint'].progress_apply(compute_gvi_buffer_mean)\n",
    "\n",
    "# === 4. 给中点赋 Borough 标签，用于 fallback ===\n",
    "print(\"4begin\")\n",
    "midpoints_with_borough = gpd.sjoin(midpoints_gdf, boroughs_gdf, how='left', predicate='within')\n",
    "midpoints_with_borough['borough'] = midpoints_with_borough['name']\n",
    "\n",
    "# === 5. 建立最终 gvi 值和标记列 ===\n",
    "print(\"5begin\")\n",
    "def assign_final_gvi(row):\n",
    "    if pd.notnull(row['gvi_buffer_mean']):\n",
    "        return row['gvi_buffer_mean'], 0\n",
    "    else:\n",
    "        borough = row['borough']\n",
    "        return borough_gvi_mean.get(borough, None), 1\n",
    "\n",
    "midpoints_with_borough[['gvi_final', 'gvi_flag']] = midpoints_with_borough.apply(assign_final_gvi, axis=1, result_type='expand')\n",
    "\n",
    "# === 6. 合并结果回 edges_sample ===\n",
    "print(\"6begin\")\n",
    "edges_sample['gvi_final'] = midpoints_with_borough['gvi_final']\n",
    "edges_sample['gvi_flag'] = midpoints_with_borough['gvi_flag']"
   ]
  },
  {
   "cell_type": "code",
   "execution_count": null,
   "id": "4130ada6",
   "metadata": {},
   "outputs": [],
   "source": [
    "print(edges_sample.shape)\n",
    "print(edges_sample['gvi_final'].value_counts(dropna=False))\n",
    "\n",
    "print(gvi_points.crs)\n",
    "print(edges_gdf.crs)"
   ]
  },
  {
   "cell_type": "code",
   "execution_count": null,
   "id": "e649114b",
   "metadata": {},
   "outputs": [],
   "source": [
    "import matplotlib.pyplot as plt\n",
    "import pandas as pd\n",
    "\n",
    "# 自定义 GVI 分级颜色（从低到高）\n",
    "gvi_bins = [0.0, 0.2, 0.4, 0.6, 0.8, 1.0]\n",
    "gvi_colors = ['#d62728', '#ff7f0e', '#ffdb58', '#2ca02c', '#006400']\n",
    "gvi_labels = ['0–0.2', '0.2–0.4', '0.4–0.6', '0.6–0.8', '0.8–1.0']\n",
    "\n",
    "# 步骤 1：归一化\n",
    "edges_sample['gvi_final_norm'] = edges_sample['gvi_final'] / edges_sample['gvi_final'].max()\n",
    "\n",
    "# 步骤 2：分组\n",
    "edges_sample['gvi_group'] = pd.cut(\n",
    "    edges_sample['gvi_final_norm'],\n",
    "    bins=gvi_bins,\n",
    "    labels=gvi_labels,\n",
    "    include_lowest=True\n",
    ")\n",
    "\n",
    "# 步骤 3：绘图\n",
    "fig, ax = plt.subplots(figsize=(12, 12))\n",
    "for label, color in zip(gvi_labels, gvi_colors):\n",
    "    subset = edges_sample[edges_sample['gvi_group'] == label]\n",
    "    if not subset.empty:\n",
    "        subset.plot(ax=ax, color=color, linewidth=0.8, label=f'GVI {label}')\n",
    "\n",
    "# 美化图形\n",
    "ax.set_title(\"Sample Road Segments – Green View Index (GVI)\", fontsize=16)\n",
    "ax.set_axis_off()\n",
    "ax.legend(title=\"GVI Range\", loc='lower left')\n",
    "plt.tight_layout()\n",
    "plt.show()"
   ]
  },
  {
   "cell_type": "code",
   "execution_count": null,
   "id": "7650ce30",
   "metadata": {},
   "outputs": [],
   "source": [
    "print(edges_sample['gvi_final_norm'].value_counts(dropna=False))"
   ]
  },
  {
   "cell_type": "code",
   "execution_count": null,
   "id": "37fd02fa",
   "metadata": {},
   "outputs": [],
   "source": [
    "ax = edges_gdf.sample(3000).plot(color='gray', linewidth=0.5)\n",
    "gvi_points.sample(3000).plot(ax=ax, color='green', markersize=1)\n",
    "midpoints_gdf.sample(3000).plot(ax=ax, color='red', markersize=5)"
   ]
  }
 ],
 "metadata": {
  "kernelspec": {
   "display_name": "Python 3",
   "language": "python",
   "name": "python3"
  },
  "language_info": {
   "codemirror_mode": {
    "name": "ipython",
    "version": 3
   },
   "file_extension": ".py",
   "mimetype": "text/x-python",
   "name": "python",
   "nbconvert_exporter": "python",
   "pygments_lexer": "ipython3",
   "version": "3.13.2"
  }
 },
 "nbformat": 4,
 "nbformat_minor": 5
}
