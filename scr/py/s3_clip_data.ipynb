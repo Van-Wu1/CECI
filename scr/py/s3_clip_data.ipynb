{
 "cells": [
  {
   "cell_type": "code",
   "execution_count": 1,
   "id": "03f8e323",
   "metadata": {},
   "outputs": [],
   "source": [
    "import geopandas as gpd\n",
    "import pandas as pd\n",
    "from shapely.geometry import Point\n",
    "from shapely.strtree import STRtree"
   ]
  },
  {
   "cell_type": "code",
   "execution_count": null,
   "id": "c714fcab",
   "metadata": {},
   "outputs": [],
   "source": [
    "london_gdf = gpd.read_file(\"../data/GreatLondonShp/GreatLondonShp.shp\")\n",
    "openmapping_gdf = gpd.read_file(\"../data/ssx_openmapping_gb_v1.geojson\")"
   ]
  },
  {
   "cell_type": "code",
   "execution_count": 2,
   "id": "2cc640b1",
   "metadata": {},
   "outputs": [
    {
     "name": "stdout",
     "output_type": "stream",
     "text": [
      "open CRS: EPSG:4326 bounds: [  62428.    8138.  655558. 1216985.]\n",
      "ldn  CRS: EPSG:4326 bounds: [-0.5103 51.2868  0.334  51.6919]\n",
      "rows after clip: 115418\n"
     ]
    }
   ],
   "source": [
    "fp_open = \"../data/ssx_openmapping_gb_v1.geojson\"\n",
    "fp_ldn  = \"../data/GreatLondonShp/GreatLondonShp.shp\"\n",
    "\n",
    "open_gdf = gpd.read_file(fp_open)\n",
    "ldn_gdf  = gpd.read_file(fp_ldn)\n",
    "\n",
    "print(\"open CRS:\", open_gdf.crs, \"bounds:\", open_gdf.total_bounds)\n",
    "print(\"ldn  CRS:\", ldn_gdf.crs,  \"bounds:\", ldn_gdf.total_bounds)\n",
    "\n",
    "# —— 关键：如果 OpenMapping 被读成 None/4326，但 bounds 看起来像米级（几万到几十万），强制设为 27700\n",
    "if (open_gdf.crs is None or str(open_gdf.crs).endswith(\"4326\")):\n",
    "    # 粗判：若 x/y 绝对值大于 1000，基本就是米（27700）\n",
    "    minx, miny, maxx, maxy = open_gdf.total_bounds\n",
    "    if max(abs(minx), abs(miny), abs(maxx), abs(maxy)) > 1000:\n",
    "        open_gdf = open_gdf.set_crs(27700, allow_override=True)\n",
    "\n",
    "# 统一到 27700\n",
    "ldn_27700  = ldn_gdf.to_crs(27700)\n",
    "open_27700 = open_gdf.to_crs(27700)\n",
    "\n",
    "# 用 dissolve 得到单一边界，并用 buffer(0) 修复几何\n",
    "ldn_boundary = ldn_27700.dissolve().buffer(0)\n",
    "\n",
    "# 裁剪（或先做一次空间连接预筛以提速也行）\n",
    "london_centrality = gpd.clip(open_27700, ldn_boundary)\n",
    "\n",
    "print(\"rows after clip:\", len(london_centrality))\n",
    "london_centrality.to_file(\"../data/s3/ssx_openmapping_london.geojson\", driver=\"GeoJSON\")\n"
   ]
  },
  {
   "cell_type": "code",
   "execution_count": null,
   "id": "eb5c7494",
   "metadata": {},
   "outputs": [],
   "source": [
    "import geopandas as gpd\n",
    "\n",
    "# 伦敦边界\n",
    "london_gdf = gpd.read_file(\"../data/GreatLondonShp/GreatLondonShp.shp\")\n",
    "\n",
    "# OpenMapping GPKG（读取完整字段名）\n",
    "openmapping_gdf = gpd.read_file(\"../data/ssx_openmapping_gb_v1.gpkg\")\n",
    "\n",
    "# 统一 CRS（通常都是 EPSG:27700，但保险起见）\n",
    "london_gdf = london_gdf.to_crs(openmapping_gdf.crs)\n",
    "\n",
    "# 裁剪\n",
    "london_centrality_gdf = gpd.clip(openmapping_gdf, london_gdf)\n",
    "\n",
    "# 导出\n",
    "london_centrality_gdf.to_file(\"../data/s3/ssx_openmapping_london_gpkg.geojson\", driver=\"GeoJSON\")\n"
   ]
  }
 ],
 "metadata": {
  "kernelspec": {
   "display_name": "Python 3",
   "language": "python",
   "name": "python3"
  },
  "language_info": {
   "codemirror_mode": {
    "name": "ipython",
    "version": 3
   },
   "file_extension": ".py",
   "mimetype": "text/x-python",
   "name": "python",
   "nbconvert_exporter": "python",
   "pygments_lexer": "ipython3",
   "version": "3.13.2"
  }
 },
 "nbformat": 4,
 "nbformat_minor": 5
}
