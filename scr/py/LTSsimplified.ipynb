{
 "cells": [
  {
   "cell_type": "markdown",
   "id": "1b69952f",
   "metadata": {},
   "source": [
    "### Colab_Version"
   ]
  },
  {
   "cell_type": "code",
   "execution_count": null,
   "id": "638fff1a",
   "metadata": {},
   "outputs": [],
   "source": [
    "# 安装必要依赖（只需首次运行）\n",
    "!pip install osmnx geopandas matplotlib"
   ]
  },
  {
   "cell_type": "code",
   "execution_count": null,
   "id": "ddc116f9",
   "metadata": {},
   "outputs": [],
   "source": [
    "import os\n",
    "import osmnx as ox\n",
    "import pandas as pd\n",
    "import geopandas as gpd\n",
    "import matplotlib.pyplot as plt"
   ]
  },
  {
   "cell_type": "code",
   "execution_count": null,
   "id": "6957e226",
   "metadata": {},
   "outputs": [],
   "source": [
    "# 获取 Greater London 区域边界\n",
    "place_name = \"Greater London, United Kingdom\"\n",
    "gdf = ox.geocode_to_gdf(place_name)\n",
    "\n",
    "# 自定义过滤器：仅保留允许骑行的道路\n",
    "custom_filter = (\n",
    "    '[\"highway\"][\"area\"!~\"yes\"]'\n",
    "    '[\"highway\"!~\"abandoned|bus_guideway|construction|corridor|elevator|escalator|footway|'\n",
    "    'motor|no|planned|platform|proposed|raceway|razed|steps\"]'\n",
    "    '[\"bicycle\"!~\"no\"][\"service\"!~\"private\"]'\n",
    ")\n",
    "\n",
    "# 下载骑行网络\n",
    "print(\"正在抓取骑行网络数据（Greater London）\")\n",
    "graph = ox.graph_from_polygon(gdf.geometry[0], custom_filter=custom_filter, simplify=True)\n",
    "\n",
    "# 转换为 GeoDataFrame（只保留边）\n",
    "edges = ox.graph_to_gdfs(graph, nodes=False)\n"
   ]
  },
  {
   "cell_type": "code",
   "execution_count": null,
   "id": "f1af0424",
   "metadata": {},
   "outputs": [],
   "source": [
    "# 构造 LTS 所需字段\n",
    "edges['functional_class'] = edges['highway']\n",
    "edges['has_bike_lane'] = edges['cycleway'].notnull() if 'cycleway' in edges.columns else False\n",
    "edges['speed_limit'] = pd.to_numeric(edges['maxspeed'], errors='coerce').fillna(30)\n",
    "edges['lane_count'] = pd.to_numeric(edges['lanes'], errors='coerce').fillna(1)\n",
    "\n",
    "#定义简化版 LTS 判定规则\n",
    "def assign_lts(row):\n",
    "    fc = row['functional_class']\n",
    "    bike = row['has_bike_lane']\n",
    "    speed = row['speed_limit']\n",
    "    lanes = row['lane_count']\n",
    "\n",
    "    if isinstance(fc, list): fc = fc[0]\n",
    "    if pd.isna(fc): fc = 'unclassified'\n",
    "\n",
    "    if bike and speed <= 25 and lanes <= 2 and fc in ['residential', 'unclassified', 'living_street']:\n",
    "        return 1\n",
    "    if (not bike and speed <= 30 and lanes <= 2) or (bike and speed <= 35 and lanes <= 3):\n",
    "        if fc in ['residential', 'tertiary', 'unclassified']:\n",
    "            return 2\n",
    "    if (speed > 35 and lanes <= 2) or (not bike and lanes == 3):\n",
    "        if fc in ['tertiary', 'secondary']:\n",
    "            return 3\n",
    "    if speed > 50 or lanes >= 4 or (not bike and fc in ['primary', 'trunk', 'motorway']):\n",
    "        return 4\n",
    "    return 3\n",
    "\n",
    "#执行 LTS 分类\n",
    "edges['LTS'] = edges.apply(assign_lts, axis=1)"
   ]
  },
  {
   "cell_type": "code",
   "execution_count": null,
   "id": "3242be37",
   "metadata": {},
   "outputs": [],
   "source": [
    "# 确保 LTS 字段为整数（防止 float 比较错误）\n",
    "edges['LTS'] = edges['LTS'].astype('Int64')\n",
    "\n",
    "# 绘图：不同 LTS 等级上色\n",
    "lts_colors = {1: '#2ca02c', 2: '#1f77b4', 3: '#ff7f0e', 4: '#d62728'}\n",
    "\n",
    "fig, ax = plt.subplots(figsize=(14, 14))\n",
    "for level, color in lts_colors.items():\n",
    "    subset = edges[edges['LTS'] == level]\n",
    "    if not subset.empty:\n",
    "        subset.plot(ax=ax, color=color, linewidth=0.5, label=f'LTS {level}')\n",
    "\n",
    "ax.legend(title='LTS Level')\n",
    "ax.set_title('Greater London – LTS Road Classification')\n",
    "ax.set_axis_off()\n",
    "plt.tight_layout()\n",
    "plt.show()"
   ]
  }
 ],
 "metadata": {
  "language_info": {
   "name": "python"
  }
 },
 "nbformat": 4,
 "nbformat_minor": 5
}
