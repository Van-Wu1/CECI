{
  "cells": [
    {
      "cell_type": "markdown",
      "metadata": {
        "id": "view-in-github",
        "colab_type": "text"
      },
      "source": [
        "<a href=\"https://colab.research.google.com/github/Van-Wu1/cycle/blob/main/scr/py/s3_index.ipynb\" target=\"_parent\"><img src=\"https://colab.research.google.com/assets/colab-badge.svg\" alt=\"Open In Colab\"/></a>"
      ]
    },
    {
      "cell_type": "code",
      "source": [
        "# ============= 安装依赖（Colab 第一格运行） =============\n",
        "!pip -q install geopandas shapely pyproj fiona rtree python-igraph tqdm"
      ],
      "metadata": {
        "id": "7TBT9wmjSz1p"
      },
      "id": "7TBT9wmjSz1p",
      "execution_count": 1,
      "outputs": []
    },
    {
      "cell_type": "code",
      "source": [
        "# ============= 导入包 =============\n",
        "import geopandas as gpd\n",
        "import numpy as np\n",
        "import igraph as ig\n",
        "from tqdm.auto import tqdm\n",
        "import random"
      ],
      "metadata": {
        "id": "glkmB6K2S17f"
      },
      "id": "glkmB6K2S17f",
      "execution_count": 2,
      "outputs": []
    },
    {
      "cell_type": "code",
      "source": [
        "from google.colab import drive\n",
        "drive.mount('/content/drive')\n",
        "!ls '/content/drive/MyDrive/CASA0004_Cycling/data'"
      ],
      "metadata": {
        "id": "JwIwb_fPTjKy",
        "outputId": "ad77d067-b68a-4c65-af22-24218db3ba9a",
        "colab": {
          "base_uri": "https://localhost:8080/"
        }
      },
      "id": "JwIwb_fPTjKy",
      "execution_count": 3,
      "outputs": [
        {
          "output_type": "stream",
          "name": "stdout",
          "text": [
            "Drive already mounted at /content/drive; to attempt to forcibly remount, call drive.mount(\"/content/drive\", force_remount=True).\n",
            "BoroughShp  GreatLondonShp  s1\ts2_Env\ts3\n"
          ]
        }
      ]
    },
    {
      "cell_type": "code",
      "source": [
        "# ============= 参数区（按需改） =============\n",
        "# 输入：伦敦范围已裁剪好的路网（线要素）\n",
        "# IN_GPKG = \"/content/drive/MyDrive/CASA0004_Cycling/data/s3/emptyroad/edges_s3.gpkg\"\n",
        "# test\n",
        "IN_GPKG = \"/content/drive/MyDrive/CASA0004_Cycling/data/s3/emptyroad/CQIwithoutslop9.geojson\"\n",
        "IN_LAYER = None  # 如果是 GPKG，多图层时填具体图层名；单图层或 geojson 填 None\n",
        "\n",
        "# 输出\n",
        "OUT_GEOJSON = \"/content/drive/MyDrive/CASA0004_Cycling/data/s3/export/cen_s3.gpkg\""
      ],
      "metadata": {
        "id": "9oXxyDZNWr4k"
      },
      "id": "9oXxyDZNWr4k",
      "execution_count": 4,
      "outputs": []
    },
    {
      "cell_type": "code",
      "source": [
        "ziduan = gpd.read_file(IN_GPKG)\n",
        "print(ziduan.columns)"
      ],
      "metadata": {
        "id": "rcoAc2j9Wu-8",
        "outputId": "4b8ceae5-38fe-48ac-a8fa-c020b6b92c0f",
        "colab": {
          "base_uri": "https://localhost:8080/"
        }
      },
      "id": "rcoAc2j9Wu-8",
      "execution_count": 5,
      "outputs": [
        {
          "output_type": "stream",
          "name": "stdout",
          "text": [
            "Index(['id', 'name', 'way_type', 'index', 'index_10', 'stress_level', 'offset',\n",
            "       'side', 'proc_width', 'proc_surface', 'proc_smoothness', 'proc_oneway',\n",
            "       'proc_sidepath', 'proc_highway', 'proc_maxspeed',\n",
            "       'proc_traffic_mode_left', 'proc_traffic_mode_right',\n",
            "       'proc_separation_left', 'proc_separation_right', 'proc_buffer_left',\n",
            "       'proc_buffer_right', 'proc_mandatory', 'proc_traffic_sign', 'fac_width',\n",
            "       'fac_surface', 'fac_highway', 'fac_maxspeed', 'base_index', 'fac_1',\n",
            "       'fac_2', 'fac_3', 'fac_4', 'data_bonus', 'data_malus',\n",
            "       'data_incompleteness', 'data_missing', 'data_missing_width',\n",
            "       'data_missing_surface', 'data_missing_smoothness',\n",
            "       'data_missing_maxspeed', 'data_missing_parking', 'data_missing_lit',\n",
            "       'filter_usable', 'filter_way_type', 'proc_slope', 'fac_5', 'geometry'],\n",
            "      dtype='object')\n"
          ]
        }
      ]
    },
    {
      "cell_type": "code",
      "source": [
        "# 长度权重字段名（如果没有，就用 geometry.length）\n",
        "LEN_FIELD = \"metres\"    # 若没有该字段，会自动改用 geometry.length\n",
        "TOL = 1.0               # 端点量化容差（米），用于“吸附”断点\n",
        "SEED = 42               # 随机种子\n",
        "\n",
        "# betweenness 计算模式\n",
        "BET_MODE = \"approx\"     # \"exact\" 或 \"approx\"\n",
        "K_SAMPLES = 1200        # 近似模式下采样源点数量（建议：500~3000 之间按机器调）\n",
        "\n",
        "# closeness 选项\n",
        "CLOSENESS_HARMONIC = True   # 非连通图建议用 harmonic 口径"
      ],
      "metadata": {
        "id": "P6ZFlnEkWmbb"
      },
      "id": "P6ZFlnEkWmbb",
      "execution_count": 6,
      "outputs": []
    },
    {
      "cell_type": "code",
      "execution_count": 7,
      "id": "a6ab104b",
      "metadata": {
        "id": "a6ab104b"
      },
      "outputs": [],
      "source": [
        "# ============= 读取与预处理 =============\n",
        "if IN_LAYER:\n",
        "    roads = gpd.read_file(IN_GPKG, layer=IN_LAYER)\n",
        "else:\n",
        "    roads = gpd.read_file(IN_GPKG)\n",
        "\n",
        "# 修正/设置 CRS（OpenMapping 通常是 EPSG:27700）\n",
        "if roads.crs is None:\n",
        "    roads = roads.set_crs(27700)\n",
        "elif str(roads.crs).endswith(\"4326\"):\n",
        "    # 若误读成经纬度，通常需要改回 27700；你也可以根据 bounds 判断再 set_crs\n",
        "    roads = roads.set_crs(27700, allow_override=True)\n",
        "\n",
        "# 单部件化，清理空几何\n",
        "roads = roads.explode(index_parts=False, ignore_index=True)\n",
        "roads = roads[~roads.geometry.is_empty & roads.geometry.notna()].copy()\n",
        "\n",
        "# 生成长度字段\n",
        "if LEN_FIELD in roads.columns:\n",
        "    roads[\"length_m\"] = roads[LEN_FIELD].astype(float)\n",
        "else:\n",
        "    roads[\"length_m\"] = roads.geometry.length"
      ]
    },
    {
      "cell_type": "code",
      "source": [
        "# ============= 建图：端点 -> 节点；路段 -> 边（带 orig_road 映射） =============\n",
        "def qpt(xy, tol=TOL):\n",
        "    return (round(xy[0] / tol) * tol, round(xy[1] / tol) * tol)\n",
        "\n",
        "# 清理无效/零长度几何\n",
        "roads = roads[roads.geometry.notna() & (~roads.geometry.is_empty)].copy()\n",
        "geom_len = roads.geometry.length\n",
        "bad_zero = (geom_len <= 0)\n",
        "if bad_zero.any():\n",
        "    print(f\"[WARN] 发现 {bad_zero.sum()} 条零长度几何，已剔除。\")\n",
        "    roads = roads[~bad_zero].copy()\n",
        "roads = roads.reset_index(drop=True)\n",
        "\n",
        "node_index = {}\n",
        "nodes_xy = []\n",
        "edges_uv = []\n",
        "edge_weights = []\n",
        "edge_orig_row = []\n",
        "\n",
        "for i, (geom, w) in enumerate(tqdm(zip(roads.geometry, roads[\"length_m\"]), total=len(roads), desc=\"Build graph\")):\n",
        "    coords = list(geom.coords)\n",
        "    u_xy = qpt(coords[0])\n",
        "    v_xy = qpt(coords[-1])\n",
        "    # 顶点去重并编号\n",
        "    for xy in (u_xy, v_xy):\n",
        "        if xy not in node_index:\n",
        "            node_index[xy] = len(nodes_xy)\n",
        "            nodes_xy.append(xy)\n",
        "    u = node_index[u_xy]; v = node_index[v_xy]\n",
        "    edges_uv.append((u, v))\n",
        "    edge_weights.append(float(w) if float(w) > 0 else 1e-6)  # 防 0\n",
        "    edge_orig_row.append(i)\n",
        "\n",
        "# 建图（允许多重边）\n",
        "g = ig.Graph()\n",
        "g.add_vertices(len(nodes_xy))\n",
        "g.add_edges(edges_uv)\n",
        "g.es[\"length\"] = edge_weights\n",
        "g.es[\"orig_road\"] = edge_orig_row\n",
        "g.vs[\"xy\"] = nodes_xy\n",
        "\n",
        "# 是否只保留最大连通子图\n",
        "USE_GIANT = False  # ← 如需减少计算量可设 True，但非 giant 部分会成为 NaN\n",
        "if USE_GIANT:\n",
        "    comps = g.clusters()\n",
        "    gi = comps.giant()\n",
        "    # giant 子图仍然保留了 es/ vs 的属性（包括 orig_road / xy）\n",
        "    G = gi\n",
        "    print(f\"[INFO] 使用 giant 子图：V={G.vcount()} E={G.ecount()} / 原图 V={g.vcount()} E={g.ecount()}\")\n",
        "else:\n",
        "    G = g\n",
        "    print(f\"[INFO] 使用全图：V={G.vcount()} E={G.ecount()}\")"
      ],
      "metadata": {
        "id": "shTP_rppXRAt",
        "outputId": "f5f2efeb-0301-47db-d479-890f51419e29",
        "colab": {
          "base_uri": "https://localhost:8080/",
          "height": 66,
          "referenced_widgets": [
            "1290490876b94dafb41010b10a37bce6",
            "1dc7e9c86c0c4b94a5f4b6db855c19e2",
            "a12770a7d70f46c5b69fc0bd406fa7fd",
            "1c4c1d3ec1f74daca8604473b314d06e",
            "84c264ff4dda4449b0ddc6f5642e0e73",
            "e8c930c14add4b178e7b01ecd3c20e4d",
            "31f3c45253c74e6990cc7dea211c4fc5",
            "7409b65a02d54d17b281ef79608cc43a",
            "a68e5e5a3242442c9a06a3f3477c9ba3",
            "626a8876a40a4a6d89f11e9c64fe0a51",
            "e2667bb977dd46f8a641eabfa452d468"
          ]
        }
      },
      "id": "shTP_rppXRAt",
      "execution_count": 8,
      "outputs": [
        {
          "output_type": "display_data",
          "data": {
            "text/plain": [
              "Build graph:   0%|          | 0/6555 [00:00<?, ?it/s]"
            ],
            "application/vnd.jupyter.widget-view+json": {
              "version_major": 2,
              "version_minor": 0,
              "model_id": "1290490876b94dafb41010b10a37bce6"
            }
          },
          "metadata": {}
        },
        {
          "output_type": "stream",
          "name": "stdout",
          "text": [
            "[INFO] 使用全图：V=8339 E=6555\n"
          ]
        }
      ]
    },
    {
      "cell_type": "code",
      "source": [
        "# ============= Local Closeness within 2km & 5km（节点→边） =============\n",
        "import numpy as np\n",
        "from tqdm import tqdm\n",
        "\n",
        "try:\n",
        "    from scipy.spatial import cKDTree as KDTree\n",
        "except Exception as e:\n",
        "    raise RuntimeError(\"需要 SciPy 的 KDTree。请先安装 scipy 再运行。\") from e\n",
        "\n",
        "# 读取顶点坐标\n",
        "coords = np.asarray(G.vs[\"xy\"], dtype=float)\n",
        "nV = G.vcount()\n",
        "kdt = KDTree(coords)\n",
        "\n",
        "# 半径设置（米）\n",
        "RADII = [2000.0, 5000.0]\n",
        "SLACK = 1.05  # 欧氏筛选放宽 5%，降低漏检风险（网络距离 >= 欧氏距离）\n",
        "\n",
        "# 用于把节点值映射到边（两端点均值）\n",
        "s_idx = np.fromiter((e.tuple[0] for e in G.es), dtype=int, count=G.ecount())\n",
        "t_idx = np.fromiter((e.tuple[1] for e in G.es), dtype=int, count=G.ecount())\n",
        "\n",
        "def local_closeness_R(radius_m: float) -> np.ndarray:\n",
        "    \"\"\"基于半径 R（米）的局部 closeness：count(sum of reachable within R) / sum(distances within R)\"\"\"\n",
        "    out = np.zeros(nV, dtype=float)\n",
        "    for u in tqdm(range(nV), desc=f\"Closeness R={int(radius_m/1000)}km\"):\n",
        "        # 1) 欧氏预筛：在 R*SLACK 的圆内寻找候选目标\n",
        "        cand = kdt.query_ball_point(coords[u], r=radius_m * SLACK)\n",
        "        if not cand:\n",
        "            continue\n",
        "        # 排除自己\n",
        "        if u in cand:\n",
        "            cand.remove(u)\n",
        "        if len(cand) == 0:\n",
        "            continue\n",
        "\n",
        "        # 2) 仅对候选目标计算加权最短路\n",
        "        d = G.shortest_paths_dijkstra(source=u, target=cand, weights=\"length\")[0]\n",
        "        d = np.asarray(d, dtype=float)\n",
        "\n",
        "        # 3) 仅保留 0<距离<=R 的可达目标\n",
        "        mask = np.isfinite(d) & (d > 0) & (d <= radius_m)\n",
        "        if not np.any(mask):\n",
        "            continue\n",
        "\n",
        "        # 4) 局部 closeness： 可达目标数 / 距离和（越大越“近”）\n",
        "        out[u] = mask.sum() / d[mask].sum()\n",
        "    return out\n",
        "\n",
        "# 分别计算 2km、5km 的节点级局部 closeness\n",
        "clo_2k_nodes = local_closeness_R(2000.0)\n",
        "clo_5k_nodes = local_closeness_R(5000.0)\n",
        "\n",
        "# 映射到边（两端点均值）\n",
        "clo_2k_edges = ((clo_2k_nodes[s_idx] + clo_2k_nodes[t_idx]) / 2.0).astype(float)\n",
        "clo_5k_edges = ((clo_5k_nodes[s_idx] + clo_5k_nodes[t_idx]) / 2.0).astype(float)\n",
        "\n",
        "# 写入边属性\n",
        "G.es[\"closeness_2km\"] = clo_2k_edges.tolist()\n",
        "G.es[\"closeness_5km\"] = clo_5k_edges.tolist()\n",
        "\n",
        "print(\"[INFO] 已生成边属性：closeness_2km, closeness_5km\")"
      ],
      "metadata": {
        "id": "BmsQ_HAQXT3l",
        "outputId": "ebd7e2f7-eb00-45ed-85b9-c243a279ba4a",
        "colab": {
          "base_uri": "https://localhost:8080/"
        }
      },
      "id": "BmsQ_HAQXT3l",
      "execution_count": 9,
      "outputs": [
        {
          "output_type": "stream",
          "name": "stderr",
          "text": [
            "Closeness R=2km:   0%|          | 0/8339 [00:00<?, ?it/s]/tmp/ipython-input-4214894373.py:38: DeprecationWarning: Graph.shortest_paths() is deprecated; use Graph.distances() instead\n",
            "  d = G.shortest_paths_dijkstra(source=u, target=cand, weights=\"length\")[0]\n",
            "Closeness R=2km: 100%|██████████| 8339/8339 [00:05<00:00, 1557.32it/s]\n",
            "Closeness R=5km: 100%|██████████| 8339/8339 [00:07<00:00, 1066.85it/s]"
          ]
        },
        {
          "output_type": "stream",
          "name": "stdout",
          "text": [
            "[INFO] 已生成边属性：closeness_2km, closeness_5km\n"
          ]
        },
        {
          "output_type": "stream",
          "name": "stderr",
          "text": [
            "\n"
          ]
        }
      ]
    },
    {
      "cell_type": "code",
      "source": [
        "# ============= Betweenness（边） =============\n",
        "random.seed(SEED)\n",
        "np.random.seed(SEED)\n",
        "\n",
        "BET_MODE = BET_MODE  # 沿用你参数区\n",
        "K_SAMPLES = min(int(K_SAMPLES), max(1, G.vcount()))\n",
        "\n",
        "if BET_MODE == \"exact\":\n",
        "    with tqdm(total=1, desc=\"Edge betweenness (exact)\") as pbar:\n",
        "        eb = G.edge_betweenness(weights=\"length\")\n",
        "        G.es[\"betweenness_edge\"] = eb\n",
        "        pbar.update(1)\n",
        "else:\n",
        "    # 近似：随机抽取 K_SAMPLES 个源点，统计最短路经过次数\n",
        "    counts = np.zeros(G.ecount(), dtype=np.float64)\n",
        "    all_nodes = list(range(G.vcount()))\n",
        "    sources = random.sample(all_nodes, K_SAMPLES)\n",
        "\n",
        "    for s in tqdm(sources, desc=f\"Edge betweenness approx (K={K_SAMPLES})\"):\n",
        "        epaths = G.get_shortest_paths(s, to=all_nodes, weights=\"length\", output=\"epath\")\n",
        "        for epath in epaths:\n",
        "            if not epath:  # 自身或不可达\n",
        "                continue\n",
        "            counts[epath] += 1.0\n",
        "\n",
        "    counts /= K_SAMPLES\n",
        "    G.es[\"betweenness_edge\"] = counts.tolist()"
      ],
      "metadata": {
        "id": "LEWauc3RXUyd",
        "outputId": "52416e32-5868-47b7-f637-61a8b042bde9",
        "colab": {
          "base_uri": "https://localhost:8080/"
        }
      },
      "id": "LEWauc3RXUyd",
      "execution_count": 10,
      "outputs": [
        {
          "output_type": "stream",
          "name": "stderr",
          "text": [
            "\rEdge betweenness approx (K=1200):   0%|          | 0/1200 [00:00<?, ?it/s]/tmp/ipython-input-1857583270.py:20: RuntimeWarning: Couldn't reach some vertices. at src/paths/dijkstra.c:534\n",
            "  epaths = G.get_shortest_paths(s, to=all_nodes, weights=\"length\", output=\"epath\")\n",
            "Edge betweenness approx (K=1200): 100%|██████████| 1200/1200 [00:24<00:00, 48.49it/s]\n"
          ]
        }
      ]
    },
    {
      "cell_type": "code",
      "source": [
        "# ============= 回写到 GeoDataFrame（含 2km/5km 局部 closeness） =============\n",
        "# 先初始化为 NaN（防止索引缺失）\n",
        "roads[\"edge_betweenness\"]   = roads.get(\"edge_betweenness\",   np.nan)\n",
        "roads[\"edge_closeness_hc\"]  = roads.get(\"edge_closeness_hc\",  np.nan)  # 如果你还保留全局/调和版\n",
        "roads[\"edge_closeness_2km\"] = np.nan\n",
        "roads[\"edge_closeness_5km\"] = np.nan\n",
        "\n",
        "# 基于 orig_road 做一一对应的精确回写\n",
        "orig_idx = np.array(G.es[\"orig_road\"])\n",
        "\n",
        "# 已有 betweenness\n",
        "if \"betweenness_edge\" in G.es.attributes():\n",
        "    roads.loc[orig_idx, \"edge_betweenness\"] = np.array(G.es[\"betweenness_edge\"], dtype=float)\n",
        "\n",
        "# 若你前面还保留了全局/调和 closeness（可选）\n",
        "if \"closeness_hc\" in G.es.attributes():\n",
        "    roads.loc[orig_idx, \"edge_closeness_hc\"] = np.array(G.es[\"closeness_hc\"], dtype=float)\n",
        "\n",
        "# 新增：2km / 5km 局部 closeness\n",
        "roads.loc[orig_idx, \"edge_closeness_2km\"] = np.array(G.es[\"closeness_2km\"], dtype=float)\n",
        "roads.loc[orig_idx, \"edge_closeness_5km\"] = np.array(G.es[\"closeness_5km\"], dtype=float)\n",
        "\n",
        "# 统计\n",
        "tot = len(roads)\n",
        "def stat(col):\n",
        "    miss = roads[col].isna().sum()\n",
        "    print(f\"       {col:>18} NaN: {miss:,}  ({miss/tot:.1%})\")\n",
        "\n",
        "print(f\"[STAT] 回写完成：总边 {tot:,}\")\n",
        "for col in [\"edge_betweenness\",\"edge_closeness_hc\",\"edge_closeness_2km\",\"edge_closeness_5km\"]:\n",
        "    if col in roads.columns:\n",
        "        stat(col)"
      ],
      "metadata": {
        "id": "ZOnUgPfaXMyB",
        "outputId": "0ff54d08-d237-401e-f219-7526914f634e",
        "colab": {
          "base_uri": "https://localhost:8080/"
        }
      },
      "id": "ZOnUgPfaXMyB",
      "execution_count": 11,
      "outputs": [
        {
          "output_type": "stream",
          "name": "stdout",
          "text": [
            "[STAT] 回写完成：总边 6,555\n",
            "         edge_betweenness NaN: 0  (0.0%)\n",
            "        edge_closeness_hc NaN: 6,555  (100.0%)\n",
            "       edge_closeness_2km NaN: 0  (0.0%)\n",
            "       edge_closeness_5km NaN: 0  (0.0%)\n"
          ]
        }
      ]
    },
    {
      "cell_type": "code",
      "source": [
        "# ============= 导出 =============\n",
        "roads.to_file(OUT_GEOJSON, driver=\"gpkg\")\n",
        "print(\"Saved:\", OUT_GEOJSON)\n",
        "print(\"Rows:\", len(roads))"
      ],
      "metadata": {
        "id": "VSHMOGbDYtjg",
        "outputId": "46a6d0ed-8bea-4888-84e2-f144decc6df5",
        "colab": {
          "base_uri": "https://localhost:8080/"
        }
      },
      "id": "VSHMOGbDYtjg",
      "execution_count": 12,
      "outputs": [
        {
          "output_type": "stream",
          "name": "stdout",
          "text": [
            "Saved: /content/drive/MyDrive/CASA0004_Cycling/data/s3/export/cen_s3.gpkg\n",
            "Rows: 6555\n"
          ]
        }
      ]
    },
    {
      "cell_type": "code",
      "source": [
        "print(roads.columns)"
      ],
      "metadata": {
        "colab": {
          "base_uri": "https://localhost:8080/"
        },
        "id": "Txrpl7hVomC0",
        "outputId": "be047dfb-5c5f-47ca-f32a-5d69cdeccc7f"
      },
      "id": "Txrpl7hVomC0",
      "execution_count": 13,
      "outputs": [
        {
          "output_type": "stream",
          "name": "stdout",
          "text": [
            "Index(['id', 'name', 'way_type', 'index', 'index_10', 'stress_level', 'offset',\n",
            "       'side', 'proc_width', 'proc_surface', 'proc_smoothness', 'proc_oneway',\n",
            "       'proc_sidepath', 'proc_highway', 'proc_maxspeed',\n",
            "       'proc_traffic_mode_left', 'proc_traffic_mode_right',\n",
            "       'proc_separation_left', 'proc_separation_right', 'proc_buffer_left',\n",
            "       'proc_buffer_right', 'proc_mandatory', 'proc_traffic_sign', 'fac_width',\n",
            "       'fac_surface', 'fac_highway', 'fac_maxspeed', 'base_index', 'fac_1',\n",
            "       'fac_2', 'fac_3', 'fac_4', 'data_bonus', 'data_malus',\n",
            "       'data_incompleteness', 'data_missing', 'data_missing_width',\n",
            "       'data_missing_surface', 'data_missing_smoothness',\n",
            "       'data_missing_maxspeed', 'data_missing_parking', 'data_missing_lit',\n",
            "       'filter_usable', 'filter_way_type', 'proc_slope', 'fac_5', 'geometry',\n",
            "       'length_m', 'edge_betweenness', 'edge_closeness_hc',\n",
            "       'edge_closeness_2km', 'edge_closeness_5km'],\n",
            "      dtype='object')\n"
          ]
        }
      ]
    }
  ],
  "metadata": {
    "language_info": {
      "name": "python"
    },
    "colab": {
      "provenance": [],
      "machine_shape": "hm",
      "include_colab_link": true
    },
    "kernelspec": {
      "name": "python3",
      "display_name": "Python 3"
    },
    "widgets": {
      "application/vnd.jupyter.widget-state+json": {
        "1290490876b94dafb41010b10a37bce6": {
          "model_module": "@jupyter-widgets/controls",
          "model_name": "HBoxModel",
          "model_module_version": "1.5.0",
          "state": {
            "_dom_classes": [],
            "_model_module": "@jupyter-widgets/controls",
            "_model_module_version": "1.5.0",
            "_model_name": "HBoxModel",
            "_view_count": null,
            "_view_module": "@jupyter-widgets/controls",
            "_view_module_version": "1.5.0",
            "_view_name": "HBoxView",
            "box_style": "",
            "children": [
              "IPY_MODEL_1dc7e9c86c0c4b94a5f4b6db855c19e2",
              "IPY_MODEL_a12770a7d70f46c5b69fc0bd406fa7fd",
              "IPY_MODEL_1c4c1d3ec1f74daca8604473b314d06e"
            ],
            "layout": "IPY_MODEL_84c264ff4dda4449b0ddc6f5642e0e73"
          }
        },
        "1dc7e9c86c0c4b94a5f4b6db855c19e2": {
          "model_module": "@jupyter-widgets/controls",
          "model_name": "HTMLModel",
          "model_module_version": "1.5.0",
          "state": {
            "_dom_classes": [],
            "_model_module": "@jupyter-widgets/controls",
            "_model_module_version": "1.5.0",
            "_model_name": "HTMLModel",
            "_view_count": null,
            "_view_module": "@jupyter-widgets/controls",
            "_view_module_version": "1.5.0",
            "_view_name": "HTMLView",
            "description": "",
            "description_tooltip": null,
            "layout": "IPY_MODEL_e8c930c14add4b178e7b01ecd3c20e4d",
            "placeholder": "​",
            "style": "IPY_MODEL_31f3c45253c74e6990cc7dea211c4fc5",
            "value": "Build graph: 100%"
          }
        },
        "a12770a7d70f46c5b69fc0bd406fa7fd": {
          "model_module": "@jupyter-widgets/controls",
          "model_name": "FloatProgressModel",
          "model_module_version": "1.5.0",
          "state": {
            "_dom_classes": [],
            "_model_module": "@jupyter-widgets/controls",
            "_model_module_version": "1.5.0",
            "_model_name": "FloatProgressModel",
            "_view_count": null,
            "_view_module": "@jupyter-widgets/controls",
            "_view_module_version": "1.5.0",
            "_view_name": "ProgressView",
            "bar_style": "success",
            "description": "",
            "description_tooltip": null,
            "layout": "IPY_MODEL_7409b65a02d54d17b281ef79608cc43a",
            "max": 6555,
            "min": 0,
            "orientation": "horizontal",
            "style": "IPY_MODEL_a68e5e5a3242442c9a06a3f3477c9ba3",
            "value": 6555
          }
        },
        "1c4c1d3ec1f74daca8604473b314d06e": {
          "model_module": "@jupyter-widgets/controls",
          "model_name": "HTMLModel",
          "model_module_version": "1.5.0",
          "state": {
            "_dom_classes": [],
            "_model_module": "@jupyter-widgets/controls",
            "_model_module_version": "1.5.0",
            "_model_name": "HTMLModel",
            "_view_count": null,
            "_view_module": "@jupyter-widgets/controls",
            "_view_module_version": "1.5.0",
            "_view_name": "HTMLView",
            "description": "",
            "description_tooltip": null,
            "layout": "IPY_MODEL_626a8876a40a4a6d89f11e9c64fe0a51",
            "placeholder": "​",
            "style": "IPY_MODEL_e2667bb977dd46f8a641eabfa452d468",
            "value": " 6555/6555 [00:00&lt;00:00, 43673.17it/s]"
          }
        },
        "84c264ff4dda4449b0ddc6f5642e0e73": {
          "model_module": "@jupyter-widgets/base",
          "model_name": "LayoutModel",
          "model_module_version": "1.2.0",
          "state": {
            "_model_module": "@jupyter-widgets/base",
            "_model_module_version": "1.2.0",
            "_model_name": "LayoutModel",
            "_view_count": null,
            "_view_module": "@jupyter-widgets/base",
            "_view_module_version": "1.2.0",
            "_view_name": "LayoutView",
            "align_content": null,
            "align_items": null,
            "align_self": null,
            "border": null,
            "bottom": null,
            "display": null,
            "flex": null,
            "flex_flow": null,
            "grid_area": null,
            "grid_auto_columns": null,
            "grid_auto_flow": null,
            "grid_auto_rows": null,
            "grid_column": null,
            "grid_gap": null,
            "grid_row": null,
            "grid_template_areas": null,
            "grid_template_columns": null,
            "grid_template_rows": null,
            "height": null,
            "justify_content": null,
            "justify_items": null,
            "left": null,
            "margin": null,
            "max_height": null,
            "max_width": null,
            "min_height": null,
            "min_width": null,
            "object_fit": null,
            "object_position": null,
            "order": null,
            "overflow": null,
            "overflow_x": null,
            "overflow_y": null,
            "padding": null,
            "right": null,
            "top": null,
            "visibility": null,
            "width": null
          }
        },
        "e8c930c14add4b178e7b01ecd3c20e4d": {
          "model_module": "@jupyter-widgets/base",
          "model_name": "LayoutModel",
          "model_module_version": "1.2.0",
          "state": {
            "_model_module": "@jupyter-widgets/base",
            "_model_module_version": "1.2.0",
            "_model_name": "LayoutModel",
            "_view_count": null,
            "_view_module": "@jupyter-widgets/base",
            "_view_module_version": "1.2.0",
            "_view_name": "LayoutView",
            "align_content": null,
            "align_items": null,
            "align_self": null,
            "border": null,
            "bottom": null,
            "display": null,
            "flex": null,
            "flex_flow": null,
            "grid_area": null,
            "grid_auto_columns": null,
            "grid_auto_flow": null,
            "grid_auto_rows": null,
            "grid_column": null,
            "grid_gap": null,
            "grid_row": null,
            "grid_template_areas": null,
            "grid_template_columns": null,
            "grid_template_rows": null,
            "height": null,
            "justify_content": null,
            "justify_items": null,
            "left": null,
            "margin": null,
            "max_height": null,
            "max_width": null,
            "min_height": null,
            "min_width": null,
            "object_fit": null,
            "object_position": null,
            "order": null,
            "overflow": null,
            "overflow_x": null,
            "overflow_y": null,
            "padding": null,
            "right": null,
            "top": null,
            "visibility": null,
            "width": null
          }
        },
        "31f3c45253c74e6990cc7dea211c4fc5": {
          "model_module": "@jupyter-widgets/controls",
          "model_name": "DescriptionStyleModel",
          "model_module_version": "1.5.0",
          "state": {
            "_model_module": "@jupyter-widgets/controls",
            "_model_module_version": "1.5.0",
            "_model_name": "DescriptionStyleModel",
            "_view_count": null,
            "_view_module": "@jupyter-widgets/base",
            "_view_module_version": "1.2.0",
            "_view_name": "StyleView",
            "description_width": ""
          }
        },
        "7409b65a02d54d17b281ef79608cc43a": {
          "model_module": "@jupyter-widgets/base",
          "model_name": "LayoutModel",
          "model_module_version": "1.2.0",
          "state": {
            "_model_module": "@jupyter-widgets/base",
            "_model_module_version": "1.2.0",
            "_model_name": "LayoutModel",
            "_view_count": null,
            "_view_module": "@jupyter-widgets/base",
            "_view_module_version": "1.2.0",
            "_view_name": "LayoutView",
            "align_content": null,
            "align_items": null,
            "align_self": null,
            "border": null,
            "bottom": null,
            "display": null,
            "flex": null,
            "flex_flow": null,
            "grid_area": null,
            "grid_auto_columns": null,
            "grid_auto_flow": null,
            "grid_auto_rows": null,
            "grid_column": null,
            "grid_gap": null,
            "grid_row": null,
            "grid_template_areas": null,
            "grid_template_columns": null,
            "grid_template_rows": null,
            "height": null,
            "justify_content": null,
            "justify_items": null,
            "left": null,
            "margin": null,
            "max_height": null,
            "max_width": null,
            "min_height": null,
            "min_width": null,
            "object_fit": null,
            "object_position": null,
            "order": null,
            "overflow": null,
            "overflow_x": null,
            "overflow_y": null,
            "padding": null,
            "right": null,
            "top": null,
            "visibility": null,
            "width": null
          }
        },
        "a68e5e5a3242442c9a06a3f3477c9ba3": {
          "model_module": "@jupyter-widgets/controls",
          "model_name": "ProgressStyleModel",
          "model_module_version": "1.5.0",
          "state": {
            "_model_module": "@jupyter-widgets/controls",
            "_model_module_version": "1.5.0",
            "_model_name": "ProgressStyleModel",
            "_view_count": null,
            "_view_module": "@jupyter-widgets/base",
            "_view_module_version": "1.2.0",
            "_view_name": "StyleView",
            "bar_color": null,
            "description_width": ""
          }
        },
        "626a8876a40a4a6d89f11e9c64fe0a51": {
          "model_module": "@jupyter-widgets/base",
          "model_name": "LayoutModel",
          "model_module_version": "1.2.0",
          "state": {
            "_model_module": "@jupyter-widgets/base",
            "_model_module_version": "1.2.0",
            "_model_name": "LayoutModel",
            "_view_count": null,
            "_view_module": "@jupyter-widgets/base",
            "_view_module_version": "1.2.0",
            "_view_name": "LayoutView",
            "align_content": null,
            "align_items": null,
            "align_self": null,
            "border": null,
            "bottom": null,
            "display": null,
            "flex": null,
            "flex_flow": null,
            "grid_area": null,
            "grid_auto_columns": null,
            "grid_auto_flow": null,
            "grid_auto_rows": null,
            "grid_column": null,
            "grid_gap": null,
            "grid_row": null,
            "grid_template_areas": null,
            "grid_template_columns": null,
            "grid_template_rows": null,
            "height": null,
            "justify_content": null,
            "justify_items": null,
            "left": null,
            "margin": null,
            "max_height": null,
            "max_width": null,
            "min_height": null,
            "min_width": null,
            "object_fit": null,
            "object_position": null,
            "order": null,
            "overflow": null,
            "overflow_x": null,
            "overflow_y": null,
            "padding": null,
            "right": null,
            "top": null,
            "visibility": null,
            "width": null
          }
        },
        "e2667bb977dd46f8a641eabfa452d468": {
          "model_module": "@jupyter-widgets/controls",
          "model_name": "DescriptionStyleModel",
          "model_module_version": "1.5.0",
          "state": {
            "_model_module": "@jupyter-widgets/controls",
            "_model_module_version": "1.5.0",
            "_model_name": "DescriptionStyleModel",
            "_view_count": null,
            "_view_module": "@jupyter-widgets/base",
            "_view_module_version": "1.2.0",
            "_view_name": "StyleView",
            "description_width": ""
          }
        }
      }
    }
  },
  "nbformat": 4,
  "nbformat_minor": 5
}