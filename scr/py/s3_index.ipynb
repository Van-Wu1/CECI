{
  "cells": [
    {
      "cell_type": "markdown",
      "metadata": {
        "id": "view-in-github",
        "colab_type": "text"
      },
      "source": [
        "<a href=\"https://colab.research.google.com/github/Van-Wu1/cycle/blob/main/scr/py/s3_index.ipynb\" target=\"_parent\"><img src=\"https://colab.research.google.com/assets/colab-badge.svg\" alt=\"Open In Colab\"/></a>"
      ]
    },
    {
      "cell_type": "code",
      "source": [
        "# ============= 安装依赖（Colab 第一格运行） =============\n",
        "!pip -q install geopandas shapely pyproj fiona rtree python-igraph tqdm"
      ],
      "metadata": {
        "id": "7TBT9wmjSz1p",
        "colab": {
          "base_uri": "https://localhost:8080/"
        },
        "outputId": "84cae56a-e090-44e5-ed8e-774fd2cdeff5"
      },
      "id": "7TBT9wmjSz1p",
      "execution_count": 2,
      "outputs": [
        {
          "output_type": "stream",
          "name": "stdout",
          "text": [
            "\u001b[2K     \u001b[90m━━━━━━━━━━━━━━━━━━━━━━━━━━━━━━━━━━━━━━━\u001b[0m \u001b[32m56.6/56.6 kB\u001b[0m \u001b[31m599.3 kB/s\u001b[0m eta \u001b[36m0:00:00\u001b[0m\n",
            "\u001b[2K   \u001b[90m━━━━━━━━━━━━━━━━━━━━━━━━━━━━━━━━━━━━━━━━\u001b[0m \u001b[32m17.3/17.3 MB\u001b[0m \u001b[31m52.3 MB/s\u001b[0m eta \u001b[36m0:00:00\u001b[0m\n",
            "\u001b[2K   \u001b[90m━━━━━━━━━━━━━━━━━━━━━━━━━━━━━━━━━━━━━━━━\u001b[0m \u001b[32m507.6/507.6 kB\u001b[0m \u001b[31m28.6 MB/s\u001b[0m eta \u001b[36m0:00:00\u001b[0m\n",
            "\u001b[2K   \u001b[90m━━━━━━━━━━━━━━━━━━━━━━━━━━━━━━━━━━━━━━━━\u001b[0m \u001b[32m4.4/4.4 MB\u001b[0m \u001b[31m54.8 MB/s\u001b[0m eta \u001b[36m0:00:00\u001b[0m\n",
            "\u001b[?25h"
          ]
        }
      ]
    },
    {
      "cell_type": "code",
      "source": [
        "# ============= 导入包 =============\n",
        "import geopandas as gpd\n",
        "import numpy as np\n",
        "import igraph as ig\n",
        "from tqdm.auto import tqdm\n",
        "import random"
      ],
      "metadata": {
        "id": "glkmB6K2S17f"
      },
      "id": "glkmB6K2S17f",
      "execution_count": 3,
      "outputs": []
    },
    {
      "cell_type": "code",
      "source": [
        "from google.colab import drive\n",
        "drive.mount('/content/drive')\n",
        "!ls '/content/drive/MyDrive/CASA0004_Cycling/data'"
      ],
      "metadata": {
        "id": "JwIwb_fPTjKy",
        "outputId": "1ee61022-79b3-4017-ac7e-79ea55a67f27",
        "colab": {
          "base_uri": "https://localhost:8080/"
        }
      },
      "id": "JwIwb_fPTjKy",
      "execution_count": 4,
      "outputs": [
        {
          "output_type": "stream",
          "name": "stdout",
          "text": [
            "Mounted at /content/drive\n",
            "BoroughShp  GreatLondonShp  s1\ts2_Env\ts3\n"
          ]
        }
      ]
    },
    {
      "cell_type": "code",
      "source": [
        "# ============= 参数区（按需改） =============\n",
        "# 输入：伦敦范围已裁剪好的路网（线要素）\n",
        "IN_GPKG = \"/content/drive/MyDrive/CASA0004_Cycling/data/s3/emptyroad/edges_s3.gpkg\"\n",
        "IN_LAYER = None  # 如果是 GPKG，多图层时填具体图层名；单图层或 geojson 填 None\n",
        "\n",
        "# 输出\n",
        "OUT_GEOJSON = \"/content/drive/MyDrive/CASA0004_Cycling/data/s3/export/cen_s3_2_5.gpkg\""
      ],
      "metadata": {
        "id": "9oXxyDZNWr4k"
      },
      "id": "9oXxyDZNWr4k",
      "execution_count": 5,
      "outputs": []
    },
    {
      "cell_type": "code",
      "source": [
        "ziduan = gpd.read_file(IN_GPKG)\n",
        "print(ziduan.columns)"
      ],
      "metadata": {
        "id": "rcoAc2j9Wu-8",
        "outputId": "656514ca-08ed-4012-ca51-c7296e100c95",
        "colab": {
          "base_uri": "https://localhost:8080/"
        }
      },
      "id": "rcoAc2j9Wu-8",
      "execution_count": 6,
      "outputs": [
        {
          "output_type": "stream",
          "name": "stdout",
          "text": [
            "Index(['id', 'name', 'way_type', 'geometry'], dtype='object')\n"
          ]
        }
      ]
    },
    {
      "cell_type": "code",
      "source": [
        "# 长度权重字段名（如果没有，就用 geometry.length）\n",
        "LEN_FIELD = \"metres\"    # 若没有该字段，会自动改用 geometry.length\n",
        "TOL = 1.0               # 端点量化容差（米），用于“吸附”断点\n",
        "SEED = 42               # 随机种子\n",
        "\n",
        "# betweenness 计算模式\n",
        "BET_MODE = \"approx\"     # \"exact\" 或 \"approx\"\n",
        "K_SAMPLES = 1200        # 近似模式下采样源点数量（建议：500~3000 之间按机器调）\n",
        "\n",
        "# closeness 选项\n",
        "CLOSENESS_HARMONIC = True   # 非连通图建议用 harmonic 口径"
      ],
      "metadata": {
        "id": "P6ZFlnEkWmbb"
      },
      "id": "P6ZFlnEkWmbb",
      "execution_count": 7,
      "outputs": []
    },
    {
      "cell_type": "code",
      "execution_count": 8,
      "id": "a6ab104b",
      "metadata": {
        "id": "a6ab104b"
      },
      "outputs": [],
      "source": [
        "# ============= 读取与预处理 =============\n",
        "if IN_LAYER:\n",
        "    roads = gpd.read_file(IN_GPKG, layer=IN_LAYER)\n",
        "else:\n",
        "    roads = gpd.read_file(IN_GPKG)\n",
        "\n",
        "# 修正/设置 CRS（OpenMapping 通常是 EPSG:27700）\n",
        "if roads.crs is None:\n",
        "    roads = roads.set_crs(27700)\n",
        "elif str(roads.crs).endswith(\"4326\"):\n",
        "    # 若误读成经纬度，通常需要改回 27700；你也可以根据 bounds 判断再 set_crs\n",
        "    roads = roads.set_crs(27700, allow_override=True)\n",
        "\n",
        "# 单部件化，清理空几何\n",
        "roads = roads.explode(index_parts=False, ignore_index=True)\n",
        "roads = roads[~roads.geometry.is_empty & roads.geometry.notna()].copy()\n",
        "\n",
        "# 生成长度字段\n",
        "if LEN_FIELD in roads.columns:\n",
        "    roads[\"length_m\"] = roads[LEN_FIELD].astype(float)\n",
        "else:\n",
        "    roads[\"length_m\"] = roads.geometry.length"
      ]
    },
    {
      "cell_type": "code",
      "source": [
        "# ============= 建图：端点 -> 节点；路段 -> 边（带 orig_road 映射） =============\n",
        "def qpt(xy, tol=TOL):\n",
        "    return (round(xy[0] / tol) * tol, round(xy[1] / tol) * tol)\n",
        "\n",
        "# 清理无效/零长度几何\n",
        "roads = roads[roads.geometry.notna() & (~roads.geometry.is_empty)].copy()\n",
        "geom_len = roads.geometry.length\n",
        "bad_zero = (geom_len <= 0)\n",
        "if bad_zero.any():\n",
        "    print(f\"[WARN] 发现 {bad_zero.sum()} 条零长度几何，已剔除。\")\n",
        "    roads = roads[~bad_zero].copy()\n",
        "roads = roads.reset_index(drop=True)\n",
        "\n",
        "node_index = {}\n",
        "nodes_xy = []\n",
        "edges_uv = []\n",
        "edge_weights = []\n",
        "edge_orig_row = []\n",
        "\n",
        "for i, (geom, w) in enumerate(tqdm(zip(roads.geometry, roads[\"length_m\"]), total=len(roads), desc=\"Build graph\")):\n",
        "    coords = list(geom.coords)\n",
        "    u_xy = qpt(coords[0])\n",
        "    v_xy = qpt(coords[-1])\n",
        "    # 顶点去重并编号\n",
        "    for xy in (u_xy, v_xy):\n",
        "        if xy not in node_index:\n",
        "            node_index[xy] = len(nodes_xy)\n",
        "            nodes_xy.append(xy)\n",
        "    u = node_index[u_xy]; v = node_index[v_xy]\n",
        "    edges_uv.append((u, v))\n",
        "    edge_weights.append(float(w) if float(w) > 0 else 1e-6)  # 防 0\n",
        "    edge_orig_row.append(i)\n",
        "\n",
        "# 建图（允许多重边）\n",
        "g = ig.Graph()\n",
        "g.add_vertices(len(nodes_xy))\n",
        "g.add_edges(edges_uv)\n",
        "g.es[\"length\"] = edge_weights\n",
        "g.es[\"orig_road\"] = edge_orig_row\n",
        "g.vs[\"xy\"] = nodes_xy\n",
        "\n",
        "# 是否只保留最大连通子图\n",
        "USE_GIANT = False  # ← 如需减少计算量可设 True，但非 giant 部分会成为 NaN\n",
        "if USE_GIANT:\n",
        "    comps = g.clusters()\n",
        "    gi = comps.giant()\n",
        "    # giant 子图仍然保留了 es/ vs 的属性（包括 orig_road / xy）\n",
        "    G = gi\n",
        "    print(f\"[INFO] 使用 giant 子图：V={G.vcount()} E={G.ecount()} / 原图 V={g.vcount()} E={g.ecount()}\")\n",
        "else:\n",
        "    G = g\n",
        "    print(f\"[INFO] 使用全图：V={G.vcount()} E={G.ecount()}\")"
      ],
      "metadata": {
        "id": "shTP_rppXRAt",
        "outputId": "eb2b8ddd-fd7c-4dc5-b8a8-f4c81cd1e4ec",
        "colab": {
          "base_uri": "https://localhost:8080/",
          "height": 66,
          "referenced_widgets": [
            "7f4df83c26cc475c8d50f110d502ecae",
            "a484f68818d34cc298dff48e130dd076",
            "ed3f006d31294f32914ef8647976b034",
            "c94c90475df24966abb189d5d95f04ed",
            "ceeaa2b0cb644270bee56cb474d42b4b",
            "31b1bb05ff47462980a8d36998b08f37",
            "d1ab7085ba7d407aba956e68fc000e3e",
            "8c4deeac270e453e9bb278c50921edf7",
            "21c16c9385b04d3a943f09eca8a7bd2f",
            "2860bc87e57b48549abaea2317294783",
            "4a4d74cf7bda4f7ba5b0f3219b3a1fb2"
          ]
        }
      },
      "id": "shTP_rppXRAt",
      "execution_count": 9,
      "outputs": [
        {
          "output_type": "display_data",
          "data": {
            "text/plain": [
              "Build graph:   0%|          | 0/164138 [00:00<?, ?it/s]"
            ],
            "application/vnd.jupyter.widget-view+json": {
              "version_major": 2,
              "version_minor": 0,
              "model_id": "7f4df83c26cc475c8d50f110d502ecae"
            }
          },
          "metadata": {}
        },
        {
          "output_type": "stream",
          "name": "stdout",
          "text": [
            "[INFO] 使用全图：V=184964 E=164138\n"
          ]
        }
      ]
    },
    {
      "cell_type": "code",
      "source": [
        "# ============= Local Closeness within 2km & 5km（节点→边） =============\n",
        "import numpy as np\n",
        "from tqdm import tqdm\n",
        "\n",
        "try:\n",
        "    from scipy.spatial import cKDTree as KDTree\n",
        "except Exception as e:\n",
        "    raise RuntimeError(\"需要 SciPy 的 KDTree。请先安装 scipy 再运行。\") from e\n",
        "\n",
        "# 读取顶点坐标\n",
        "coords = np.asarray(G.vs[\"xy\"], dtype=float)\n",
        "nV = G.vcount()\n",
        "kdt = KDTree(coords)\n",
        "\n",
        "# 半径设置（米）\n",
        "RADII = [2000.0, 5000.0]\n",
        "SLACK = 1.05  # 欧氏筛选放宽 5%，降低漏检风险（网络距离 >= 欧氏距离）\n",
        "\n",
        "# 用于把节点值映射到边（两端点均值）\n",
        "s_idx = np.fromiter((e.tuple[0] for e in G.es), dtype=int, count=G.ecount())\n",
        "t_idx = np.fromiter((e.tuple[1] for e in G.es), dtype=int, count=G.ecount())\n",
        "\n",
        "def local_closeness_R(radius_m: float) -> np.ndarray:\n",
        "    \"\"\"基于半径 R（米）的局部 closeness：count(sum of reachable within R) / sum(distances within R)\"\"\"\n",
        "    out = np.zeros(nV, dtype=float)\n",
        "    for u in tqdm(range(nV), desc=f\"Closeness R={int(radius_m/1000)}km\"):\n",
        "        # 1) 欧氏预筛：在 R*SLACK 的圆内寻找候选目标\n",
        "        cand = kdt.query_ball_point(coords[u], r=radius_m * SLACK)\n",
        "        if not cand:\n",
        "            continue\n",
        "        # 排除自己\n",
        "        if u in cand:\n",
        "            cand.remove(u)\n",
        "        if len(cand) == 0:\n",
        "            continue\n",
        "\n",
        "        # 2) 仅对候选目标计算加权最短路\n",
        "        d = G.shortest_paths_dijkstra(source=u, target=cand, weights=\"length\")[0]\n",
        "        d = np.asarray(d, dtype=float)\n",
        "\n",
        "        # 3) 仅保留 0<距离<=R 的可达目标\n",
        "        mask = np.isfinite(d) & (d > 0) & (d <= radius_m)\n",
        "        if not np.any(mask):\n",
        "            continue\n",
        "\n",
        "        # 4) 局部 closeness： 可达目标数 / 距离和（越大越“近”）\n",
        "        out[u] = mask.sum() / d[mask].sum()\n",
        "    return out\n",
        "\n",
        "# 分别计算 2km、5km 的节点级局部 closeness\n",
        "clo_2k_nodes = local_closeness_R(2000.0)\n",
        "clo_5k_nodes = local_closeness_R(5000.0)\n",
        "\n",
        "# 映射到边（两端点均值）\n",
        "clo_2k_edges = ((clo_2k_nodes[s_idx] + clo_2k_nodes[t_idx]) / 2.0).astype(float)\n",
        "clo_5k_edges = ((clo_5k_nodes[s_idx] + clo_5k_nodes[t_idx]) / 2.0).astype(float)\n",
        "\n",
        "# 写入边属性\n",
        "G.es[\"closeness_2km\"] = clo_2k_edges.tolist()\n",
        "G.es[\"closeness_5km\"] = clo_5k_edges.tolist()\n",
        "\n",
        "print(\"[INFO] 已生成边属性：closeness_2km, closeness_5km\")"
      ],
      "metadata": {
        "id": "BmsQ_HAQXT3l",
        "outputId": "74c912f3-4ca8-4c25-f14f-f7e72534253c",
        "colab": {
          "base_uri": "https://localhost:8080/"
        }
      },
      "id": "BmsQ_HAQXT3l",
      "execution_count": 11,
      "outputs": [
        {
          "output_type": "stream",
          "name": "stderr",
          "text": [
            "Closeness R=2km:   0%|          | 0/184964 [00:00<?, ?it/s]/tmp/ipython-input-4214894373.py:38: DeprecationWarning: Graph.shortest_paths() is deprecated; use Graph.distances() instead\n",
            "  d = G.shortest_paths_dijkstra(source=u, target=cand, weights=\"length\")[0]\n",
            "Closeness R=2km: 100%|██████████| 184964/184964 [1:52:37<00:00, 27.37it/s]\n",
            "Closeness R=5km: 100%|██████████| 184964/184964 [1:56:45<00:00, 26.40it/s]\n"
          ]
        },
        {
          "output_type": "stream",
          "name": "stdout",
          "text": [
            "[INFO] 已生成边属性：closeness_2km, closeness_5km\n"
          ]
        }
      ]
    },
    {
      "cell_type": "code",
      "source": [
        "# ============= Betweenness（边） =============\n",
        "random.seed(SEED)\n",
        "np.random.seed(SEED)\n",
        "\n",
        "BET_MODE = BET_MODE  # 沿用你参数区\n",
        "K_SAMPLES = min(int(K_SAMPLES), max(1, G.vcount()))\n",
        "\n",
        "if BET_MODE == \"exact\":\n",
        "    with tqdm(total=1, desc=\"Edge betweenness (exact)\") as pbar:\n",
        "        eb = G.edge_betweenness(weights=\"length\")\n",
        "        G.es[\"betweenness_edge\"] = eb\n",
        "        pbar.update(1)\n",
        "else:\n",
        "    # 近似：随机抽取 K_SAMPLES 个源点，统计最短路经过次数\n",
        "    counts = np.zeros(G.ecount(), dtype=np.float64)\n",
        "    all_nodes = list(range(G.vcount()))\n",
        "    sources = random.sample(all_nodes, K_SAMPLES)\n",
        "\n",
        "    for s in tqdm(sources, desc=f\"Edge betweenness approx (K={K_SAMPLES})\"):\n",
        "        epaths = G.get_shortest_paths(s, to=all_nodes, weights=\"length\", output=\"epath\")\n",
        "        for epath in epaths:\n",
        "            if not epath:  # 自身或不可达\n",
        "                continue\n",
        "            counts[epath] += 1.0\n",
        "\n",
        "    counts /= K_SAMPLES\n",
        "    G.es[\"betweenness_edge\"] = counts.tolist()"
      ],
      "metadata": {
        "id": "LEWauc3RXUyd",
        "colab": {
          "base_uri": "https://localhost:8080/"
        },
        "outputId": "6af0528b-f8d8-4dfa-d1a3-a186020b1e76"
      },
      "id": "LEWauc3RXUyd",
      "execution_count": 12,
      "outputs": [
        {
          "output_type": "stream",
          "name": "stderr",
          "text": [
            "\rEdge betweenness approx (K=1200):   0%|          | 0/1200 [00:00<?, ?it/s]/tmp/ipython-input-1857583270.py:20: RuntimeWarning: Couldn't reach some vertices. at src/paths/dijkstra.c:534\n",
            "  epaths = G.get_shortest_paths(s, to=all_nodes, weights=\"length\", output=\"epath\")\n",
            "Edge betweenness approx (K=1200): 100%|██████████| 1200/1200 [48:09<00:00,  2.41s/it]\n"
          ]
        }
      ]
    },
    {
      "cell_type": "code",
      "source": [
        "# ============= 回写到 GeoDataFrame（含 2km/5km 局部 closeness） =============\n",
        "# 先初始化为 NaN（防止索引缺失）\n",
        "roads[\"edge_betweenness\"]   = roads.get(\"edge_betweenness\",   np.nan)\n",
        "roads[\"edge_closeness_hc\"]  = roads.get(\"edge_closeness_hc\",  np.nan)  # 如果你还保留全局/调和版\n",
        "roads[\"edge_closeness_2km\"] = np.nan\n",
        "roads[\"edge_closeness_5km\"] = np.nan\n",
        "\n",
        "# 基于 orig_road 做一一对应的精确回写\n",
        "orig_idx = np.array(G.es[\"orig_road\"])\n",
        "\n",
        "# 已有 betweenness\n",
        "if \"betweenness_edge\" in G.es.attributes():\n",
        "    roads.loc[orig_idx, \"edge_betweenness\"] = np.array(G.es[\"betweenness_edge\"], dtype=float)\n",
        "\n",
        "# 若你前面还保留了全局/调和 closeness（可选）\n",
        "if \"closeness_hc\" in G.es.attributes():\n",
        "    roads.loc[orig_idx, \"edge_closeness_hc\"] = np.array(G.es[\"closeness_hc\"], dtype=float)\n",
        "\n",
        "# 新增：2km / 5km 局部 closeness\n",
        "roads.loc[orig_idx, \"edge_closeness_2km\"] = np.array(G.es[\"closeness_2km\"], dtype=float)\n",
        "roads.loc[orig_idx, \"edge_closeness_5km\"] = np.array(G.es[\"closeness_5km\"], dtype=float)\n",
        "\n",
        "# 统计\n",
        "tot = len(roads)\n",
        "def stat(col):\n",
        "    miss = roads[col].isna().sum()\n",
        "    print(f\"       {col:>18} NaN: {miss:,}  ({miss/tot:.1%})\")\n",
        "\n",
        "print(f\"[STAT] 回写完成：总边 {tot:,}\")\n",
        "for col in [\"edge_betweenness\",\"edge_closeness_hc\",\"edge_closeness_2km\",\"edge_closeness_5km\"]:\n",
        "    if col in roads.columns:\n",
        "        stat(col)"
      ],
      "metadata": {
        "id": "ZOnUgPfaXMyB",
        "colab": {
          "base_uri": "https://localhost:8080/"
        },
        "outputId": "52ea6802-bfbc-49e6-9281-6a2380aef5fe"
      },
      "id": "ZOnUgPfaXMyB",
      "execution_count": 13,
      "outputs": [
        {
          "output_type": "stream",
          "name": "stdout",
          "text": [
            "[STAT] 回写完成：总边 164,138\n",
            "         edge_betweenness NaN: 0  (0.0%)\n",
            "        edge_closeness_hc NaN: 164,138  (100.0%)\n",
            "       edge_closeness_2km NaN: 0  (0.0%)\n",
            "       edge_closeness_5km NaN: 0  (0.0%)\n"
          ]
        }
      ]
    },
    {
      "cell_type": "code",
      "source": [
        "# ============= 导出 =============\n",
        "roads.to_file(OUT_GEOJSON, driver=\"gpkg\")\n",
        "print(\"Saved:\", OUT_GEOJSON)\n",
        "print(\"Rows:\", len(roads))"
      ],
      "metadata": {
        "id": "VSHMOGbDYtjg",
        "colab": {
          "base_uri": "https://localhost:8080/"
        },
        "outputId": "980ad225-153b-4ca2-d8ce-f17d03c011de"
      },
      "id": "VSHMOGbDYtjg",
      "execution_count": 14,
      "outputs": [
        {
          "output_type": "stream",
          "name": "stdout",
          "text": [
            "Saved: /content/drive/MyDrive/CASA0004_Cycling/data/s3/export/cen_s3_2_5.gpkg\n",
            "Rows: 164138\n"
          ]
        }
      ]
    },
    {
      "cell_type": "code",
      "source": [
        "print(roads.columns)"
      ],
      "metadata": {
        "id": "Txrpl7hVomC0",
        "colab": {
          "base_uri": "https://localhost:8080/"
        },
        "outputId": "dd91291e-fc7f-4383-80e5-a1c1bf867ce2"
      },
      "id": "Txrpl7hVomC0",
      "execution_count": 15,
      "outputs": [
        {
          "metadata": {
            "tags": null
          },
          "name": "stdout",
          "output_type": "stream",
          "text": [
            "Index(['id', 'name', 'way_type', 'geometry', 'length_m', 'edge_betweenness',\n",
            "       'edge_closeness_hc', 'edge_closeness_2km', 'edge_closeness_5km'],\n",
            "      dtype='object')\n"
          ]
        }
      ]
    },
    {
      "cell_type": "code",
      "source": [
        "# ========= 参数区（按需改） =========\n",
        "# IN_PATH  = \"/mnt/data/cen_s3_2_5.gpkg\"   # 你的输入 GPKG\n",
        "OUT_PATH = \"/content/drive/MyDrive/CASA0004_Cycling/data/s3/export/index_s3.gpkg\"  # 输出 GPKG"
      ],
      "metadata": {
        "id": "qtAWxYOcy1m8"
      },
      "id": "qtAWxYOcy1m8",
      "execution_count": 16,
      "outputs": []
    },
    {
      "cell_type": "code",
      "source": [
        "# 双尺度 closeness 权重（不含 hc）\n",
        "W_C2, W_C5 = 0.6, 0.4\n",
        "\n",
        "# index_3 内部权重：B vs C_multi\n",
        "W_B, W_C = 0.4, 0.6\n",
        "\n",
        "# betweenness 裁剪的分位数（稳健处理长尾）\n",
        "P_LOW, P_HIGH = 1, 99\n",
        "# ===================================\n",
        "\n",
        "\n",
        "# 读数据（如果你已有 gdf，就把这一行替换掉）\n",
        "gdf = roads"
      ],
      "metadata": {
        "id": "CYDs6YjozYMl"
      },
      "id": "CYDs6YjozYMl",
      "execution_count": 17,
      "outputs": []
    },
    {
      "cell_type": "code",
      "source": [
        "# --------- 一些健壮性检查 ----------\n",
        "need_cols = [\"edge_betweenness\", \"edge_closeness_2km\", \"edge_closeness_5km\"]\n",
        "missing = [c for c in need_cols if c not in gdf.columns]\n",
        "if missing:\n",
        "    raise ValueError(f\"缺少必要字段: {missing}\")"
      ],
      "metadata": {
        "id": "7CZMzcuhzbea"
      },
      "id": "7CZMzcuhzbea",
      "execution_count": 18,
      "outputs": []
    },
    {
      "cell_type": "code",
      "source": [
        "import pandas as pd\n",
        "# --------- 工具函数 ----------\n",
        "def minmax(series: pd.Series):\n",
        "    s = pd.to_numeric(series, errors=\"coerce\")\n",
        "    vmin = np.nanmin(s) if np.isfinite(np.nanmin(s)) else np.nan\n",
        "    vmax = np.nanmax(s) if np.isfinite(np.nanmax(s)) else np.nan\n",
        "    if not np.isfinite(vmin) or not np.isfinite(vmax) or vmax == vmin:\n",
        "        return pd.Series(np.zeros(len(s)), index=s.index)\n",
        "    out = (s - vmin) / (vmax - vmin)\n",
        "    return out.fillna(0)"
      ],
      "metadata": {
        "id": "8nAS9Kpszdnt"
      },
      "id": "8nAS9Kpszdnt",
      "execution_count": 20,
      "outputs": []
    },
    {
      "cell_type": "code",
      "source": [
        "# --------- 1) 处理 betweenness（裁剪 + log1p + 0-1） ----------\n",
        "bet = pd.to_numeric(gdf[\"edge_betweenness\"], errors=\"coerce\")\n",
        "# 百分位裁剪（防极值支配）\n",
        "p1, p99 = np.nanpercentile(bet.dropna(), [P_LOW, P_HIGH])\n",
        "bet_clip = bet.clip(lower=p1, upper=p99)\n",
        "# 对数变换（0 安全）\n",
        "gdf[\"_B_log\"] = np.log1p(bet_clip)\n",
        "# 归一化\n",
        "gdf[\"B_norm\"] = minmax(gdf[\"_B_log\"])"
      ],
      "metadata": {
        "id": "MH4IcJYdzivF"
      },
      "id": "MH4IcJYdzivF",
      "execution_count": 21,
      "outputs": []
    },
    {
      "cell_type": "code",
      "source": [
        "# --------- 2) 处理 2km / 5km closeness（各自 0-1） ----------\n",
        "gdf[\"C2_norm\"] = minmax(gdf[\"edge_closeness_2km\"])\n",
        "gdf[\"C5_norm\"] = minmax(gdf[\"edge_closeness_5km\"])\n",
        "\n",
        "# --------- 3) 双尺度 closeness 合成 ----------\n",
        "den = W_C2 + W_C5\n",
        "gdf[\"C_multi\"] = (W_C2 * gdf[\"C2_norm\"] + W_C5 * gdf[\"C5_norm\"]) / den\n",
        "\n",
        "# --------- 4) Section3 指数：index_3 ----------\n",
        "den2 = W_B + W_C\n",
        "gdf[\"index_3\"] = (W_B * gdf[\"B_norm\"] + W_C * gdf[\"C_multi\"]) / den2"
      ],
      "metadata": {
        "id": "yjGLnSQgzpQd"
      },
      "id": "yjGLnSQgzpQd",
      "execution_count": 22,
      "outputs": []
    },
    {
      "cell_type": "code",
      "source": [
        "# 写 GPKG（新建/覆盖），图层名给个更清晰的\n",
        "layer_name = \"index3_section\"\n",
        "gdf.to_file(OUT_PATH, layer=layer_name, driver=\"GPKG\")\n",
        "print(f\"已导出：{OUT_PATH} (layer='{layer_name}')\")"
      ],
      "metadata": {
        "id": "Cl0qAgWOz1_J",
        "outputId": "fa747e34-0643-4236-faf5-ccb88282cf33",
        "colab": {
          "base_uri": "https://localhost:8080/"
        }
      },
      "id": "Cl0qAgWOz1_J",
      "execution_count": 23,
      "outputs": [
        {
          "output_type": "stream",
          "name": "stdout",
          "text": [
            "已导出：/content/drive/MyDrive/CASA0004_Cycling/data/s3/export/index_s3.gpkg (layer='index3_section')\n"
          ]
        }
      ]
    }
  ],
  "metadata": {
    "language_info": {
      "name": "python"
    },
    "colab": {
      "provenance": [],
      "machine_shape": "hm",
      "include_colab_link": true
    },
    "kernelspec": {
      "name": "python3",
      "display_name": "Python 3"
    },
    "widgets": {
      "application/vnd.jupyter.widget-state+json": {
        "7f4df83c26cc475c8d50f110d502ecae": {
          "model_module": "@jupyter-widgets/controls",
          "model_name": "HBoxModel",
          "model_module_version": "1.5.0",
          "state": {
            "_dom_classes": [],
            "_model_module": "@jupyter-widgets/controls",
            "_model_module_version": "1.5.0",
            "_model_name": "HBoxModel",
            "_view_count": null,
            "_view_module": "@jupyter-widgets/controls",
            "_view_module_version": "1.5.0",
            "_view_name": "HBoxView",
            "box_style": "",
            "children": [
              "IPY_MODEL_a484f68818d34cc298dff48e130dd076",
              "IPY_MODEL_ed3f006d31294f32914ef8647976b034",
              "IPY_MODEL_c94c90475df24966abb189d5d95f04ed"
            ],
            "layout": "IPY_MODEL_ceeaa2b0cb644270bee56cb474d42b4b"
          }
        },
        "a484f68818d34cc298dff48e130dd076": {
          "model_module": "@jupyter-widgets/controls",
          "model_name": "HTMLModel",
          "model_module_version": "1.5.0",
          "state": {
            "_dom_classes": [],
            "_model_module": "@jupyter-widgets/controls",
            "_model_module_version": "1.5.0",
            "_model_name": "HTMLModel",
            "_view_count": null,
            "_view_module": "@jupyter-widgets/controls",
            "_view_module_version": "1.5.0",
            "_view_name": "HTMLView",
            "description": "",
            "description_tooltip": null,
            "layout": "IPY_MODEL_31b1bb05ff47462980a8d36998b08f37",
            "placeholder": "​",
            "style": "IPY_MODEL_d1ab7085ba7d407aba956e68fc000e3e",
            "value": "Build graph: 100%"
          }
        },
        "ed3f006d31294f32914ef8647976b034": {
          "model_module": "@jupyter-widgets/controls",
          "model_name": "FloatProgressModel",
          "model_module_version": "1.5.0",
          "state": {
            "_dom_classes": [],
            "_model_module": "@jupyter-widgets/controls",
            "_model_module_version": "1.5.0",
            "_model_name": "FloatProgressModel",
            "_view_count": null,
            "_view_module": "@jupyter-widgets/controls",
            "_view_module_version": "1.5.0",
            "_view_name": "ProgressView",
            "bar_style": "success",
            "description": "",
            "description_tooltip": null,
            "layout": "IPY_MODEL_8c4deeac270e453e9bb278c50921edf7",
            "max": 164138,
            "min": 0,
            "orientation": "horizontal",
            "style": "IPY_MODEL_21c16c9385b04d3a943f09eca8a7bd2f",
            "value": 164138
          }
        },
        "c94c90475df24966abb189d5d95f04ed": {
          "model_module": "@jupyter-widgets/controls",
          "model_name": "HTMLModel",
          "model_module_version": "1.5.0",
          "state": {
            "_dom_classes": [],
            "_model_module": "@jupyter-widgets/controls",
            "_model_module_version": "1.5.0",
            "_model_name": "HTMLModel",
            "_view_count": null,
            "_view_module": "@jupyter-widgets/controls",
            "_view_module_version": "1.5.0",
            "_view_name": "HTMLView",
            "description": "",
            "description_tooltip": null,
            "layout": "IPY_MODEL_2860bc87e57b48549abaea2317294783",
            "placeholder": "​",
            "style": "IPY_MODEL_4a4d74cf7bda4f7ba5b0f3219b3a1fb2",
            "value": " 164138/164138 [00:03&lt;00:00, 51642.97it/s]"
          }
        },
        "ceeaa2b0cb644270bee56cb474d42b4b": {
          "model_module": "@jupyter-widgets/base",
          "model_name": "LayoutModel",
          "model_module_version": "1.2.0",
          "state": {
            "_model_module": "@jupyter-widgets/base",
            "_model_module_version": "1.2.0",
            "_model_name": "LayoutModel",
            "_view_count": null,
            "_view_module": "@jupyter-widgets/base",
            "_view_module_version": "1.2.0",
            "_view_name": "LayoutView",
            "align_content": null,
            "align_items": null,
            "align_self": null,
            "border": null,
            "bottom": null,
            "display": null,
            "flex": null,
            "flex_flow": null,
            "grid_area": null,
            "grid_auto_columns": null,
            "grid_auto_flow": null,
            "grid_auto_rows": null,
            "grid_column": null,
            "grid_gap": null,
            "grid_row": null,
            "grid_template_areas": null,
            "grid_template_columns": null,
            "grid_template_rows": null,
            "height": null,
            "justify_content": null,
            "justify_items": null,
            "left": null,
            "margin": null,
            "max_height": null,
            "max_width": null,
            "min_height": null,
            "min_width": null,
            "object_fit": null,
            "object_position": null,
            "order": null,
            "overflow": null,
            "overflow_x": null,
            "overflow_y": null,
            "padding": null,
            "right": null,
            "top": null,
            "visibility": null,
            "width": null
          }
        },
        "31b1bb05ff47462980a8d36998b08f37": {
          "model_module": "@jupyter-widgets/base",
          "model_name": "LayoutModel",
          "model_module_version": "1.2.0",
          "state": {
            "_model_module": "@jupyter-widgets/base",
            "_model_module_version": "1.2.0",
            "_model_name": "LayoutModel",
            "_view_count": null,
            "_view_module": "@jupyter-widgets/base",
            "_view_module_version": "1.2.0",
            "_view_name": "LayoutView",
            "align_content": null,
            "align_items": null,
            "align_self": null,
            "border": null,
            "bottom": null,
            "display": null,
            "flex": null,
            "flex_flow": null,
            "grid_area": null,
            "grid_auto_columns": null,
            "grid_auto_flow": null,
            "grid_auto_rows": null,
            "grid_column": null,
            "grid_gap": null,
            "grid_row": null,
            "grid_template_areas": null,
            "grid_template_columns": null,
            "grid_template_rows": null,
            "height": null,
            "justify_content": null,
            "justify_items": null,
            "left": null,
            "margin": null,
            "max_height": null,
            "max_width": null,
            "min_height": null,
            "min_width": null,
            "object_fit": null,
            "object_position": null,
            "order": null,
            "overflow": null,
            "overflow_x": null,
            "overflow_y": null,
            "padding": null,
            "right": null,
            "top": null,
            "visibility": null,
            "width": null
          }
        },
        "d1ab7085ba7d407aba956e68fc000e3e": {
          "model_module": "@jupyter-widgets/controls",
          "model_name": "DescriptionStyleModel",
          "model_module_version": "1.5.0",
          "state": {
            "_model_module": "@jupyter-widgets/controls",
            "_model_module_version": "1.5.0",
            "_model_name": "DescriptionStyleModel",
            "_view_count": null,
            "_view_module": "@jupyter-widgets/base",
            "_view_module_version": "1.2.0",
            "_view_name": "StyleView",
            "description_width": ""
          }
        },
        "8c4deeac270e453e9bb278c50921edf7": {
          "model_module": "@jupyter-widgets/base",
          "model_name": "LayoutModel",
          "model_module_version": "1.2.0",
          "state": {
            "_model_module": "@jupyter-widgets/base",
            "_model_module_version": "1.2.0",
            "_model_name": "LayoutModel",
            "_view_count": null,
            "_view_module": "@jupyter-widgets/base",
            "_view_module_version": "1.2.0",
            "_view_name": "LayoutView",
            "align_content": null,
            "align_items": null,
            "align_self": null,
            "border": null,
            "bottom": null,
            "display": null,
            "flex": null,
            "flex_flow": null,
            "grid_area": null,
            "grid_auto_columns": null,
            "grid_auto_flow": null,
            "grid_auto_rows": null,
            "grid_column": null,
            "grid_gap": null,
            "grid_row": null,
            "grid_template_areas": null,
            "grid_template_columns": null,
            "grid_template_rows": null,
            "height": null,
            "justify_content": null,
            "justify_items": null,
            "left": null,
            "margin": null,
            "max_height": null,
            "max_width": null,
            "min_height": null,
            "min_width": null,
            "object_fit": null,
            "object_position": null,
            "order": null,
            "overflow": null,
            "overflow_x": null,
            "overflow_y": null,
            "padding": null,
            "right": null,
            "top": null,
            "visibility": null,
            "width": null
          }
        },
        "21c16c9385b04d3a943f09eca8a7bd2f": {
          "model_module": "@jupyter-widgets/controls",
          "model_name": "ProgressStyleModel",
          "model_module_version": "1.5.0",
          "state": {
            "_model_module": "@jupyter-widgets/controls",
            "_model_module_version": "1.5.0",
            "_model_name": "ProgressStyleModel",
            "_view_count": null,
            "_view_module": "@jupyter-widgets/base",
            "_view_module_version": "1.2.0",
            "_view_name": "StyleView",
            "bar_color": null,
            "description_width": ""
          }
        },
        "2860bc87e57b48549abaea2317294783": {
          "model_module": "@jupyter-widgets/base",
          "model_name": "LayoutModel",
          "model_module_version": "1.2.0",
          "state": {
            "_model_module": "@jupyter-widgets/base",
            "_model_module_version": "1.2.0",
            "_model_name": "LayoutModel",
            "_view_count": null,
            "_view_module": "@jupyter-widgets/base",
            "_view_module_version": "1.2.0",
            "_view_name": "LayoutView",
            "align_content": null,
            "align_items": null,
            "align_self": null,
            "border": null,
            "bottom": null,
            "display": null,
            "flex": null,
            "flex_flow": null,
            "grid_area": null,
            "grid_auto_columns": null,
            "grid_auto_flow": null,
            "grid_auto_rows": null,
            "grid_column": null,
            "grid_gap": null,
            "grid_row": null,
            "grid_template_areas": null,
            "grid_template_columns": null,
            "grid_template_rows": null,
            "height": null,
            "justify_content": null,
            "justify_items": null,
            "left": null,
            "margin": null,
            "max_height": null,
            "max_width": null,
            "min_height": null,
            "min_width": null,
            "object_fit": null,
            "object_position": null,
            "order": null,
            "overflow": null,
            "overflow_x": null,
            "overflow_y": null,
            "padding": null,
            "right": null,
            "top": null,
            "visibility": null,
            "width": null
          }
        },
        "4a4d74cf7bda4f7ba5b0f3219b3a1fb2": {
          "model_module": "@jupyter-widgets/controls",
          "model_name": "DescriptionStyleModel",
          "model_module_version": "1.5.0",
          "state": {
            "_model_module": "@jupyter-widgets/controls",
            "_model_module_version": "1.5.0",
            "_model_name": "DescriptionStyleModel",
            "_view_count": null,
            "_view_module": "@jupyter-widgets/base",
            "_view_module_version": "1.2.0",
            "_view_name": "StyleView",
            "description_width": ""
          }
        }
      }
    }
  },
  "nbformat": 4,
  "nbformat_minor": 5
}