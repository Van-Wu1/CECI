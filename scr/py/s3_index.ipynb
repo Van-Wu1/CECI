{
  "cells": [
    {
      "cell_type": "markdown",
      "metadata": {
        "id": "view-in-github",
        "colab_type": "text"
      },
      "source": [
        "<a href=\"https://colab.research.google.com/github/Van-Wu1/cycle/blob/main/scr/py/s3_index.ipynb\" target=\"_parent\"><img src=\"https://colab.research.google.com/assets/colab-badge.svg\" alt=\"Open In Colab\"/></a>"
      ]
    },
    {
      "cell_type": "code",
      "source": [
        "# ============= 安装依赖（Colab 第一格运行） =============\n",
        "!pip -q install geopandas shapely pyproj fiona rtree python-igraph tqdm"
      ],
      "metadata": {
        "id": "7TBT9wmjSz1p"
      },
      "id": "7TBT9wmjSz1p",
      "execution_count": 1,
      "outputs": []
    },
    {
      "cell_type": "code",
      "source": [
        "# ============= 导入包 =============\n",
        "import geopandas as gpd\n",
        "import numpy as np\n",
        "import igraph as ig\n",
        "from tqdm.auto import tqdm\n",
        "import random"
      ],
      "metadata": {
        "id": "glkmB6K2S17f"
      },
      "id": "glkmB6K2S17f",
      "execution_count": 2,
      "outputs": []
    },
    {
      "cell_type": "code",
      "source": [
        "from google.colab import drive\n",
        "drive.mount('/content/drive')\n",
        "!ls '/content/drive/MyDrive/CASA0004_Cycling/data'"
      ],
      "metadata": {
        "id": "JwIwb_fPTjKy",
        "outputId": "6ff52c02-01d9-4d4a-d298-c9d692b79fad",
        "colab": {
          "base_uri": "https://localhost:8080/"
        }
      },
      "id": "JwIwb_fPTjKy",
      "execution_count": 15,
      "outputs": [
        {
          "output_type": "stream",
          "name": "stdout",
          "text": [
            "Drive already mounted at /content/drive; to attempt to forcibly remount, call drive.mount(\"/content/drive\", force_remount=True).\n",
            "BoroughShp  GreatLondonShp  s1\ts2_Env\ts3\n"
          ]
        }
      ]
    },
    {
      "cell_type": "code",
      "source": [
        "# ============= 参数区（按需改） =============\n",
        "# 输入：伦敦范围已裁剪好的路网（线要素）\n",
        "IN_GPKG = \"/content/drive/MyDrive/CASA0004_Cycling/data/s3/emptyroad/edges_s3.gpkg\"\n",
        "# test\n",
        "#IN_GPKG = \"/content/drive/MyDrive/CASA0004_Cycling/data/s3/emptyroad/CQIwithoutslop9.geojson\"\n",
        "IN_LAYER = None  # 如果是 GPKG，多图层时填具体图层名；单图层或 geojson 填 None\n",
        "\n",
        "# 输出\n",
        "OUT_GEOJSON = \"/content/drive/MyDrive/CASA0004_Cycling/data/s3/export/cen_s3.gpkg\""
      ],
      "metadata": {
        "id": "9oXxyDZNWr4k"
      },
      "id": "9oXxyDZNWr4k",
      "execution_count": 16,
      "outputs": []
    },
    {
      "cell_type": "code",
      "source": [
        "ziduan = gpd.read_file(IN_GPKG)\n",
        "print(ziduan.columns)"
      ],
      "metadata": {
        "id": "rcoAc2j9Wu-8",
        "outputId": "b1e2429b-3ccf-4574-fac7-1080d10f1c06",
        "colab": {
          "base_uri": "https://localhost:8080/"
        }
      },
      "id": "rcoAc2j9Wu-8",
      "execution_count": 17,
      "outputs": [
        {
          "output_type": "stream",
          "name": "stdout",
          "text": [
            "Index(['id', 'name', 'way_type', 'geometry'], dtype='object')\n"
          ]
        }
      ]
    },
    {
      "cell_type": "code",
      "source": [
        "# 长度权重字段名（如果没有，就用 geometry.length）\n",
        "LEN_FIELD = \"metres\"    # 若没有该字段，会自动改用 geometry.length\n",
        "TOL = 1.0               # 端点量化容差（米），用于“吸附”断点\n",
        "SEED = 42               # 随机种子\n",
        "\n",
        "# betweenness 计算模式\n",
        "BET_MODE = \"approx\"     # \"exact\" 或 \"approx\"\n",
        "K_SAMPLES = 1200        # 近似模式下采样源点数量（建议：500~3000 之间按机器调）\n",
        "\n",
        "# closeness 选项\n",
        "CLOSENESS_HARMONIC = True   # 非连通图建议用 harmonic 口径"
      ],
      "metadata": {
        "id": "P6ZFlnEkWmbb"
      },
      "id": "P6ZFlnEkWmbb",
      "execution_count": 19,
      "outputs": []
    },
    {
      "cell_type": "code",
      "execution_count": 20,
      "id": "a6ab104b",
      "metadata": {
        "id": "a6ab104b"
      },
      "outputs": [],
      "source": [
        "# ============= 读取与预处理 =============\n",
        "if IN_LAYER:\n",
        "    roads = gpd.read_file(IN_GPKG, layer=IN_LAYER)\n",
        "else:\n",
        "    roads = gpd.read_file(IN_GPKG)\n",
        "\n",
        "# 修正/设置 CRS（OpenMapping 通常是 EPSG:27700）\n",
        "if roads.crs is None:\n",
        "    roads = roads.set_crs(27700)\n",
        "elif str(roads.crs).endswith(\"4326\"):\n",
        "    # 若误读成经纬度，通常需要改回 27700；你也可以根据 bounds 判断再 set_crs\n",
        "    roads = roads.set_crs(27700, allow_override=True)\n",
        "\n",
        "# 单部件化，清理空几何\n",
        "roads = roads.explode(index_parts=False, ignore_index=True)\n",
        "roads = roads[~roads.geometry.is_empty & roads.geometry.notna()].copy()\n",
        "\n",
        "# 生成长度字段\n",
        "if LEN_FIELD in roads.columns:\n",
        "    roads[\"length_m\"] = roads[LEN_FIELD].astype(float)\n",
        "else:\n",
        "    roads[\"length_m\"] = roads.geometry.length"
      ]
    },
    {
      "cell_type": "code",
      "source": [
        "# ============= 建图：端点 -> 节点；路段 -> 边（带 orig_road 映射） =============\n",
        "def qpt(xy, tol=TOL):\n",
        "    return (round(xy[0] / tol) * tol, round(xy[1] / tol) * tol)\n",
        "\n",
        "# 清理无效/零长度几何\n",
        "roads = roads[roads.geometry.notna() & (~roads.geometry.is_empty)].copy()\n",
        "geom_len = roads.geometry.length\n",
        "bad_zero = (geom_len <= 0)\n",
        "if bad_zero.any():\n",
        "    print(f\"[WARN] 发现 {bad_zero.sum()} 条零长度几何，已剔除。\")\n",
        "    roads = roads[~bad_zero].copy()\n",
        "roads = roads.reset_index(drop=True)\n",
        "\n",
        "node_index = {}\n",
        "nodes_xy = []\n",
        "edges_uv = []\n",
        "edge_weights = []\n",
        "edge_orig_row = []\n",
        "\n",
        "for i, (geom, w) in enumerate(tqdm(zip(roads.geometry, roads[\"length_m\"]), total=len(roads), desc=\"Build graph\")):\n",
        "    coords = list(geom.coords)\n",
        "    u_xy = qpt(coords[0])\n",
        "    v_xy = qpt(coords[-1])\n",
        "    # 顶点去重并编号\n",
        "    for xy in (u_xy, v_xy):\n",
        "        if xy not in node_index:\n",
        "            node_index[xy] = len(nodes_xy)\n",
        "            nodes_xy.append(xy)\n",
        "    u = node_index[u_xy]; v = node_index[v_xy]\n",
        "    edges_uv.append((u, v))\n",
        "    edge_weights.append(float(w) if float(w) > 0 else 1e-6)  # 防 0\n",
        "    edge_orig_row.append(i)\n",
        "\n",
        "# 建图（允许多重边）\n",
        "g = ig.Graph()\n",
        "g.add_vertices(len(nodes_xy))\n",
        "g.add_edges(edges_uv)\n",
        "g.es[\"length\"] = edge_weights\n",
        "g.es[\"orig_road\"] = edge_orig_row\n",
        "g.vs[\"xy\"] = nodes_xy\n",
        "\n",
        "# 是否只保留最大连通子图\n",
        "USE_GIANT = False  # ← 如需减少计算量可设 True，但非 giant 部分会成为 NaN\n",
        "if USE_GIANT:\n",
        "    comps = g.clusters()\n",
        "    gi = comps.giant()\n",
        "    # giant 子图仍然保留了 es/ vs 的属性（包括 orig_road / xy）\n",
        "    G = gi\n",
        "    print(f\"[INFO] 使用 giant 子图：V={G.vcount()} E={G.ecount()} / 原图 V={g.vcount()} E={g.ecount()}\")\n",
        "else:\n",
        "    G = g\n",
        "    print(f\"[INFO] 使用全图：V={G.vcount()} E={G.ecount()}\")"
      ],
      "metadata": {
        "id": "shTP_rppXRAt",
        "outputId": "f8e756a6-7b7b-4d69-ae22-a34ff8331e13",
        "colab": {
          "base_uri": "https://localhost:8080/",
          "height": 66,
          "referenced_widgets": [
            "b1897f85d3054eaa8f7702f39508988b",
            "b33b8d54f07e4c03adda7e019dca5a0f",
            "dfe7e373ac4543c0bc7852e660781360",
            "11cdd4e6cf474086bdc0949ea1e23021",
            "1733a1adfaf94d2b86fe818bf9899438",
            "ef1b97750b4f422797dc19fdad8cbab4",
            "153d197e1d454b29b7ab054c6b03de2b",
            "17473c48f6b540cda7aec5c3dfc30bfa",
            "8f25c80091ae45a1b6aad4a3df578ab0",
            "c3492b17aa814d6896c60323f197022f",
            "8cc1d180a7374b04a15dd9a641f3adfd"
          ]
        }
      },
      "id": "shTP_rppXRAt",
      "execution_count": 21,
      "outputs": [
        {
          "output_type": "display_data",
          "data": {
            "text/plain": [
              "Build graph:   0%|          | 0/164138 [00:00<?, ?it/s]"
            ],
            "application/vnd.jupyter.widget-view+json": {
              "version_major": 2,
              "version_minor": 0,
              "model_id": "b1897f85d3054eaa8f7702f39508988b"
            }
          },
          "metadata": {}
        },
        {
          "output_type": "stream",
          "name": "stdout",
          "text": [
            "[INFO] 使用全图：V=184964 E=164138\n"
          ]
        }
      ]
    },
    {
      "cell_type": "code",
      "source": [
        "# ============= Closeness（健壮版：优先 harmonic_centrality；否则分量内 closeness） =============\n",
        "import numpy as np\n",
        "\n",
        "try:\n",
        "    # 新版 igraph：直接有 harmonic_centrality\n",
        "    closeness_nodes = np.array(G.harmonic_centrality(weights=\"length\"), dtype=float)\n",
        "    print(\"[INFO] 使用 G.harmonic_centrality(weights='length')\")\n",
        "except Exception as e:\n",
        "    # 兼容老版本：按连通分量分别计算标准 closeness，再拼回整图\n",
        "    print(f\"[INFO] harmonic_centrality 不可用，改为分连通分量的 closeness；原因：{type(e).__name__}: {e}\")\n",
        "    comps = G.clusters()  # VertexClustering\n",
        "    closeness_nodes = np.zeros(G.vcount(), dtype=float)\n",
        "    for comp in comps:  # comp 是该分量内的顶点索引列表\n",
        "        if len(comp) == 1:\n",
        "            # 单点分量，closeness 置 0\n",
        "            closeness_nodes[comp[0]] = 0.0\n",
        "            continue\n",
        "        H = G.induced_subgraph(comp)\n",
        "        vals = np.array(H.closeness(weights=\"length\"), dtype=float)\n",
        "        # 把分量内结果写回整图对应顶点\n",
        "        closeness_nodes[np.array(comp, dtype=int)] = vals\n",
        "\n",
        "# 映射到边：两端点均值\n",
        "s_idx = np.fromiter((e.tuple[0] for e in G.es), dtype=int, count=G.ecount())\n",
        "t_idx = np.fromiter((e.tuple[1] for e in G.es), dtype=int, count=G.ecount())\n",
        "closeness_edges = ((closeness_nodes[s_idx] + closeness_nodes[t_idx]) / 2.0).astype(float)\n",
        "\n",
        "# 写到边属性，字段名保持与你之前一致\n",
        "G.es[\"closeness_hc\"] = closeness_edges.tolist()"
      ],
      "metadata": {
        "id": "BmsQ_HAQXT3l"
      },
      "id": "BmsQ_HAQXT3l",
      "execution_count": null,
      "outputs": []
    },
    {
      "cell_type": "code",
      "source": [
        "# ============= Betweenness（边） =============\n",
        "random.seed(SEED)\n",
        "np.random.seed(SEED)\n",
        "\n",
        "BET_MODE = BET_MODE  # 沿用你参数区\n",
        "K_SAMPLES = min(int(K_SAMPLES), max(1, G.vcount()))\n",
        "\n",
        "if BET_MODE == \"exact\":\n",
        "    with tqdm(total=1, desc=\"Edge betweenness (exact)\") as pbar:\n",
        "        eb = G.edge_betweenness(weights=\"length\")\n",
        "        G.es[\"betweenness_edge\"] = eb\n",
        "        pbar.update(1)\n",
        "else:\n",
        "    # 近似：随机抽取 K_SAMPLES 个源点，统计最短路经过次数\n",
        "    counts = np.zeros(G.ecount(), dtype=np.float64)\n",
        "    all_nodes = list(range(G.vcount()))\n",
        "    sources = random.sample(all_nodes, K_SAMPLES)\n",
        "\n",
        "    for s in tqdm(sources, desc=f\"Edge betweenness approx (K={K_SAMPLES})\"):\n",
        "        epaths = G.get_shortest_paths(s, to=all_nodes, weights=\"length\", output=\"epath\")\n",
        "        for epath in epaths:\n",
        "            if not epath:  # 自身或不可达\n",
        "                continue\n",
        "            counts[epath] += 1.0\n",
        "\n",
        "    counts /= K_SAMPLES\n",
        "    G.es[\"betweenness_edge\"] = counts.tolist()"
      ],
      "metadata": {
        "id": "LEWauc3RXUyd",
        "outputId": "cf486bfc-6929-4346-de37-d252a9e7bc6c",
        "colab": {
          "base_uri": "https://localhost:8080/",
          "height": 84,
          "referenced_widgets": [
            "d034ec79c67a40ddbb8a48f034bff679",
            "0e4ab5b036934ab0b2f577dc91bb1184",
            "d01912d139da47929ff3d4be9c0554d5",
            "f0686429133b46568469fa2387fcd932",
            "eb94ef7e945a4a909251c29c6afc331b",
            "9e5902e7a73e46b39853af3d965bb359",
            "dcee401d1d524eb2b7e9fb082aafe7cd",
            "cc2a9d17500045c59495893059bbe761",
            "99941312bdf748cab3cd52d23a1db6c4",
            "6a068db3c05f4eb0b33263f4d633d5e0",
            "424eafb317694c72a7f894337def02af"
          ]
        }
      },
      "id": "LEWauc3RXUyd",
      "execution_count": 11,
      "outputs": [
        {
          "output_type": "display_data",
          "data": {
            "text/plain": [
              "Edge betweenness approx (K=1200):   0%|          | 0/1200 [00:00<?, ?it/s]"
            ],
            "application/vnd.jupyter.widget-view+json": {
              "version_major": 2,
              "version_minor": 0,
              "model_id": "d034ec79c67a40ddbb8a48f034bff679"
            }
          },
          "metadata": {}
        },
        {
          "output_type": "stream",
          "name": "stderr",
          "text": [
            "/tmp/ipython-input-1857583270.py:20: RuntimeWarning: Couldn't reach some vertices. at src/paths/dijkstra.c:534\n",
            "  epaths = G.get_shortest_paths(s, to=all_nodes, weights=\"length\", output=\"epath\")\n"
          ]
        }
      ]
    },
    {
      "cell_type": "code",
      "source": [
        "# ============= 回写到 GeoDataFrame（基于 orig_road 一一对应） =============\n",
        "# 先初始化为 NaN\n",
        "roads[\"edge_betweenness\"] = np.nan\n",
        "roads[\"edge_closeness_hc\"] = np.nan\n",
        "\n",
        "# 用图中边的 orig_road 进行精准定位回写\n",
        "orig_idx = np.array(G.es[\"orig_road\"])\n",
        "bet_vals = np.array(G.es[\"betweenness_edge\"], dtype=float)\n",
        "clo_vals = np.array(G.es[\"closeness_hc\"], dtype=float)\n",
        "\n",
        "# 有些边可能因为 giant/过滤等不在 G 中，这里只回写存在的\n",
        "roads.loc[orig_idx, \"edge_betweenness\"] = bet_vals\n",
        "roads.loc[orig_idx, \"edge_closeness_hc\"] = clo_vals\n",
        "\n",
        "# 统计报告\n",
        "tot = len(roads)\n",
        "nb_nan_bet = roads[\"edge_betweenness\"].isna().sum()\n",
        "nb_nan_clo = roads[\"edge_closeness_hc\"].isna().sum()\n",
        "print(f\"[STAT] 回写完成：总边 {tot:,}\")\n",
        "print(f\"       betweenness  NaN: {nb_nan_bet:,}  ({nb_nan_bet/tot:.1%})\")\n",
        "print(f\"       closeness_hc NaN: {nb_nan_clo:,}  ({nb_nan_clo/tot:.1%})\")\n",
        "\n",
        "# 额外提示：如果 NaN 仍然很多，请检查：\n",
        "# 1) 是否开启了 USE_GIANT=True（非 giant 部分必为 NaN）\n",
        "# 2) 是否仍存在零长度几何（已做剔除/兜底）\n",
        "# 3) CRS 是否为 EPSG:27700（否则长度失真）\n",
        "# 4) 是否还有 MultiLineString 未 explode（上面已 explode 过）"
      ],
      "metadata": {
        "id": "ZOnUgPfaXMyB",
        "outputId": "b18cde45-a3cb-4725-d374-ec0dfd950bce",
        "colab": {
          "base_uri": "https://localhost:8080/"
        }
      },
      "id": "ZOnUgPfaXMyB",
      "execution_count": 12,
      "outputs": [
        {
          "output_type": "stream",
          "name": "stdout",
          "text": [
            "[STAT] 回写完成：总边 6,555\n",
            "       betweenness  NaN: 0  (0.0%)\n",
            "       closeness_hc NaN: 0  (0.0%)\n"
          ]
        }
      ]
    },
    {
      "cell_type": "code",
      "source": [
        "# ============= 导出 =============\n",
        "roads.to_file(OUT_GEOJSON, driver=\"gpkg\")\n",
        "print(\"Saved:\", OUT_GEOJSON)\n",
        "print(\"Rows:\", len(roads))"
      ],
      "metadata": {
        "id": "VSHMOGbDYtjg",
        "outputId": "b1943969-9675-4242-c3de-2adbd5e867b4",
        "colab": {
          "base_uri": "https://localhost:8080/"
        }
      },
      "id": "VSHMOGbDYtjg",
      "execution_count": 13,
      "outputs": [
        {
          "output_type": "stream",
          "name": "stdout",
          "text": [
            "Saved: /content/drive/MyDrive/CASA0004_Cycling/data/s3/export/cen_s3.gpkg\n",
            "Rows: 6555\n"
          ]
        }
      ]
    },
    {
      "cell_type": "code",
      "source": [
        "print(roads.columns)"
      ],
      "metadata": {
        "colab": {
          "base_uri": "https://localhost:8080/"
        },
        "id": "Txrpl7hVomC0",
        "outputId": "c14f757b-770e-4ef6-f9d0-81777a9a57d3"
      },
      "id": "Txrpl7hVomC0",
      "execution_count": 14,
      "outputs": [
        {
          "output_type": "stream",
          "name": "stdout",
          "text": [
            "Index(['id', 'name', 'way_type', 'index', 'index_10', 'stress_level', 'offset',\n",
            "       'side', 'proc_width', 'proc_surface', 'proc_smoothness', 'proc_oneway',\n",
            "       'proc_sidepath', 'proc_highway', 'proc_maxspeed',\n",
            "       'proc_traffic_mode_left', 'proc_traffic_mode_right',\n",
            "       'proc_separation_left', 'proc_separation_right', 'proc_buffer_left',\n",
            "       'proc_buffer_right', 'proc_mandatory', 'proc_traffic_sign', 'fac_width',\n",
            "       'fac_surface', 'fac_highway', 'fac_maxspeed', 'base_index', 'fac_1',\n",
            "       'fac_2', 'fac_3', 'fac_4', 'data_bonus', 'data_malus',\n",
            "       'data_incompleteness', 'data_missing', 'data_missing_width',\n",
            "       'data_missing_surface', 'data_missing_smoothness',\n",
            "       'data_missing_maxspeed', 'data_missing_parking', 'data_missing_lit',\n",
            "       'filter_usable', 'filter_way_type', 'proc_slope', 'fac_5', 'geometry',\n",
            "       'length_m', 'edge_betweenness', 'edge_closeness_hc'],\n",
            "      dtype='object')\n"
          ]
        }
      ]
    }
  ],
  "metadata": {
    "language_info": {
      "name": "python"
    },
    "colab": {
      "provenance": [],
      "machine_shape": "hm",
      "include_colab_link": true
    },
    "kernelspec": {
      "name": "python3",
      "display_name": "Python 3"
    },
    "widgets": {
      "application/vnd.jupyter.widget-state+json": {
        "b1897f85d3054eaa8f7702f39508988b": {
          "model_module": "@jupyter-widgets/controls",
          "model_name": "HBoxModel",
          "model_module_version": "1.5.0",
          "state": {
            "_dom_classes": [],
            "_model_module": "@jupyter-widgets/controls",
            "_model_module_version": "1.5.0",
            "_model_name": "HBoxModel",
            "_view_count": null,
            "_view_module": "@jupyter-widgets/controls",
            "_view_module_version": "1.5.0",
            "_view_name": "HBoxView",
            "box_style": "",
            "children": [
              "IPY_MODEL_b33b8d54f07e4c03adda7e019dca5a0f",
              "IPY_MODEL_dfe7e373ac4543c0bc7852e660781360",
              "IPY_MODEL_11cdd4e6cf474086bdc0949ea1e23021"
            ],
            "layout": "IPY_MODEL_1733a1adfaf94d2b86fe818bf9899438"
          }
        },
        "b33b8d54f07e4c03adda7e019dca5a0f": {
          "model_module": "@jupyter-widgets/controls",
          "model_name": "HTMLModel",
          "model_module_version": "1.5.0",
          "state": {
            "_dom_classes": [],
            "_model_module": "@jupyter-widgets/controls",
            "_model_module_version": "1.5.0",
            "_model_name": "HTMLModel",
            "_view_count": null,
            "_view_module": "@jupyter-widgets/controls",
            "_view_module_version": "1.5.0",
            "_view_name": "HTMLView",
            "description": "",
            "description_tooltip": null,
            "layout": "IPY_MODEL_ef1b97750b4f422797dc19fdad8cbab4",
            "placeholder": "​",
            "style": "IPY_MODEL_153d197e1d454b29b7ab054c6b03de2b",
            "value": "Build graph: 100%"
          }
        },
        "dfe7e373ac4543c0bc7852e660781360": {
          "model_module": "@jupyter-widgets/controls",
          "model_name": "FloatProgressModel",
          "model_module_version": "1.5.0",
          "state": {
            "_dom_classes": [],
            "_model_module": "@jupyter-widgets/controls",
            "_model_module_version": "1.5.0",
            "_model_name": "FloatProgressModel",
            "_view_count": null,
            "_view_module": "@jupyter-widgets/controls",
            "_view_module_version": "1.5.0",
            "_view_name": "ProgressView",
            "bar_style": "success",
            "description": "",
            "description_tooltip": null,
            "layout": "IPY_MODEL_17473c48f6b540cda7aec5c3dfc30bfa",
            "max": 164138,
            "min": 0,
            "orientation": "horizontal",
            "style": "IPY_MODEL_8f25c80091ae45a1b6aad4a3df578ab0",
            "value": 164138
          }
        },
        "11cdd4e6cf474086bdc0949ea1e23021": {
          "model_module": "@jupyter-widgets/controls",
          "model_name": "HTMLModel",
          "model_module_version": "1.5.0",
          "state": {
            "_dom_classes": [],
            "_model_module": "@jupyter-widgets/controls",
            "_model_module_version": "1.5.0",
            "_model_name": "HTMLModel",
            "_view_count": null,
            "_view_module": "@jupyter-widgets/controls",
            "_view_module_version": "1.5.0",
            "_view_name": "HTMLView",
            "description": "",
            "description_tooltip": null,
            "layout": "IPY_MODEL_c3492b17aa814d6896c60323f197022f",
            "placeholder": "​",
            "style": "IPY_MODEL_8cc1d180a7374b04a15dd9a641f3adfd",
            "value": " 164138/164138 [00:03&lt;00:00, 50406.08it/s]"
          }
        },
        "1733a1adfaf94d2b86fe818bf9899438": {
          "model_module": "@jupyter-widgets/base",
          "model_name": "LayoutModel",
          "model_module_version": "1.2.0",
          "state": {
            "_model_module": "@jupyter-widgets/base",
            "_model_module_version": "1.2.0",
            "_model_name": "LayoutModel",
            "_view_count": null,
            "_view_module": "@jupyter-widgets/base",
            "_view_module_version": "1.2.0",
            "_view_name": "LayoutView",
            "align_content": null,
            "align_items": null,
            "align_self": null,
            "border": null,
            "bottom": null,
            "display": null,
            "flex": null,
            "flex_flow": null,
            "grid_area": null,
            "grid_auto_columns": null,
            "grid_auto_flow": null,
            "grid_auto_rows": null,
            "grid_column": null,
            "grid_gap": null,
            "grid_row": null,
            "grid_template_areas": null,
            "grid_template_columns": null,
            "grid_template_rows": null,
            "height": null,
            "justify_content": null,
            "justify_items": null,
            "left": null,
            "margin": null,
            "max_height": null,
            "max_width": null,
            "min_height": null,
            "min_width": null,
            "object_fit": null,
            "object_position": null,
            "order": null,
            "overflow": null,
            "overflow_x": null,
            "overflow_y": null,
            "padding": null,
            "right": null,
            "top": null,
            "visibility": null,
            "width": null
          }
        },
        "ef1b97750b4f422797dc19fdad8cbab4": {
          "model_module": "@jupyter-widgets/base",
          "model_name": "LayoutModel",
          "model_module_version": "1.2.0",
          "state": {
            "_model_module": "@jupyter-widgets/base",
            "_model_module_version": "1.2.0",
            "_model_name": "LayoutModel",
            "_view_count": null,
            "_view_module": "@jupyter-widgets/base",
            "_view_module_version": "1.2.0",
            "_view_name": "LayoutView",
            "align_content": null,
            "align_items": null,
            "align_self": null,
            "border": null,
            "bottom": null,
            "display": null,
            "flex": null,
            "flex_flow": null,
            "grid_area": null,
            "grid_auto_columns": null,
            "grid_auto_flow": null,
            "grid_auto_rows": null,
            "grid_column": null,
            "grid_gap": null,
            "grid_row": null,
            "grid_template_areas": null,
            "grid_template_columns": null,
            "grid_template_rows": null,
            "height": null,
            "justify_content": null,
            "justify_items": null,
            "left": null,
            "margin": null,
            "max_height": null,
            "max_width": null,
            "min_height": null,
            "min_width": null,
            "object_fit": null,
            "object_position": null,
            "order": null,
            "overflow": null,
            "overflow_x": null,
            "overflow_y": null,
            "padding": null,
            "right": null,
            "top": null,
            "visibility": null,
            "width": null
          }
        },
        "153d197e1d454b29b7ab054c6b03de2b": {
          "model_module": "@jupyter-widgets/controls",
          "model_name": "DescriptionStyleModel",
          "model_module_version": "1.5.0",
          "state": {
            "_model_module": "@jupyter-widgets/controls",
            "_model_module_version": "1.5.0",
            "_model_name": "DescriptionStyleModel",
            "_view_count": null,
            "_view_module": "@jupyter-widgets/base",
            "_view_module_version": "1.2.0",
            "_view_name": "StyleView",
            "description_width": ""
          }
        },
        "17473c48f6b540cda7aec5c3dfc30bfa": {
          "model_module": "@jupyter-widgets/base",
          "model_name": "LayoutModel",
          "model_module_version": "1.2.0",
          "state": {
            "_model_module": "@jupyter-widgets/base",
            "_model_module_version": "1.2.0",
            "_model_name": "LayoutModel",
            "_view_count": null,
            "_view_module": "@jupyter-widgets/base",
            "_view_module_version": "1.2.0",
            "_view_name": "LayoutView",
            "align_content": null,
            "align_items": null,
            "align_self": null,
            "border": null,
            "bottom": null,
            "display": null,
            "flex": null,
            "flex_flow": null,
            "grid_area": null,
            "grid_auto_columns": null,
            "grid_auto_flow": null,
            "grid_auto_rows": null,
            "grid_column": null,
            "grid_gap": null,
            "grid_row": null,
            "grid_template_areas": null,
            "grid_template_columns": null,
            "grid_template_rows": null,
            "height": null,
            "justify_content": null,
            "justify_items": null,
            "left": null,
            "margin": null,
            "max_height": null,
            "max_width": null,
            "min_height": null,
            "min_width": null,
            "object_fit": null,
            "object_position": null,
            "order": null,
            "overflow": null,
            "overflow_x": null,
            "overflow_y": null,
            "padding": null,
            "right": null,
            "top": null,
            "visibility": null,
            "width": null
          }
        },
        "8f25c80091ae45a1b6aad4a3df578ab0": {
          "model_module": "@jupyter-widgets/controls",
          "model_name": "ProgressStyleModel",
          "model_module_version": "1.5.0",
          "state": {
            "_model_module": "@jupyter-widgets/controls",
            "_model_module_version": "1.5.0",
            "_model_name": "ProgressStyleModel",
            "_view_count": null,
            "_view_module": "@jupyter-widgets/base",
            "_view_module_version": "1.2.0",
            "_view_name": "StyleView",
            "bar_color": null,
            "description_width": ""
          }
        },
        "c3492b17aa814d6896c60323f197022f": {
          "model_module": "@jupyter-widgets/base",
          "model_name": "LayoutModel",
          "model_module_version": "1.2.0",
          "state": {
            "_model_module": "@jupyter-widgets/base",
            "_model_module_version": "1.2.0",
            "_model_name": "LayoutModel",
            "_view_count": null,
            "_view_module": "@jupyter-widgets/base",
            "_view_module_version": "1.2.0",
            "_view_name": "LayoutView",
            "align_content": null,
            "align_items": null,
            "align_self": null,
            "border": null,
            "bottom": null,
            "display": null,
            "flex": null,
            "flex_flow": null,
            "grid_area": null,
            "grid_auto_columns": null,
            "grid_auto_flow": null,
            "grid_auto_rows": null,
            "grid_column": null,
            "grid_gap": null,
            "grid_row": null,
            "grid_template_areas": null,
            "grid_template_columns": null,
            "grid_template_rows": null,
            "height": null,
            "justify_content": null,
            "justify_items": null,
            "left": null,
            "margin": null,
            "max_height": null,
            "max_width": null,
            "min_height": null,
            "min_width": null,
            "object_fit": null,
            "object_position": null,
            "order": null,
            "overflow": null,
            "overflow_x": null,
            "overflow_y": null,
            "padding": null,
            "right": null,
            "top": null,
            "visibility": null,
            "width": null
          }
        },
        "8cc1d180a7374b04a15dd9a641f3adfd": {
          "model_module": "@jupyter-widgets/controls",
          "model_name": "DescriptionStyleModel",
          "model_module_version": "1.5.0",
          "state": {
            "_model_module": "@jupyter-widgets/controls",
            "_model_module_version": "1.5.0",
            "_model_name": "DescriptionStyleModel",
            "_view_count": null,
            "_view_module": "@jupyter-widgets/base",
            "_view_module_version": "1.2.0",
            "_view_name": "StyleView",
            "description_width": ""
          }
        },
        "d034ec79c67a40ddbb8a48f034bff679": {
          "model_module": "@jupyter-widgets/controls",
          "model_name": "HBoxModel",
          "model_module_version": "1.5.0",
          "state": {
            "_dom_classes": [],
            "_model_module": "@jupyter-widgets/controls",
            "_model_module_version": "1.5.0",
            "_model_name": "HBoxModel",
            "_view_count": null,
            "_view_module": "@jupyter-widgets/controls",
            "_view_module_version": "1.5.0",
            "_view_name": "HBoxView",
            "box_style": "",
            "children": [
              "IPY_MODEL_0e4ab5b036934ab0b2f577dc91bb1184",
              "IPY_MODEL_d01912d139da47929ff3d4be9c0554d5",
              "IPY_MODEL_f0686429133b46568469fa2387fcd932"
            ],
            "layout": "IPY_MODEL_eb94ef7e945a4a909251c29c6afc331b"
          }
        },
        "0e4ab5b036934ab0b2f577dc91bb1184": {
          "model_module": "@jupyter-widgets/controls",
          "model_name": "HTMLModel",
          "model_module_version": "1.5.0",
          "state": {
            "_dom_classes": [],
            "_model_module": "@jupyter-widgets/controls",
            "_model_module_version": "1.5.0",
            "_model_name": "HTMLModel",
            "_view_count": null,
            "_view_module": "@jupyter-widgets/controls",
            "_view_module_version": "1.5.0",
            "_view_name": "HTMLView",
            "description": "",
            "description_tooltip": null,
            "layout": "IPY_MODEL_9e5902e7a73e46b39853af3d965bb359",
            "placeholder": "​",
            "style": "IPY_MODEL_dcee401d1d524eb2b7e9fb082aafe7cd",
            "value": "Edge betweenness approx (K=1200): 100%"
          }
        },
        "d01912d139da47929ff3d4be9c0554d5": {
          "model_module": "@jupyter-widgets/controls",
          "model_name": "FloatProgressModel",
          "model_module_version": "1.5.0",
          "state": {
            "_dom_classes": [],
            "_model_module": "@jupyter-widgets/controls",
            "_model_module_version": "1.5.0",
            "_model_name": "FloatProgressModel",
            "_view_count": null,
            "_view_module": "@jupyter-widgets/controls",
            "_view_module_version": "1.5.0",
            "_view_name": "ProgressView",
            "bar_style": "success",
            "description": "",
            "description_tooltip": null,
            "layout": "IPY_MODEL_cc2a9d17500045c59495893059bbe761",
            "max": 1200,
            "min": 0,
            "orientation": "horizontal",
            "style": "IPY_MODEL_99941312bdf748cab3cd52d23a1db6c4",
            "value": 1200
          }
        },
        "f0686429133b46568469fa2387fcd932": {
          "model_module": "@jupyter-widgets/controls",
          "model_name": "HTMLModel",
          "model_module_version": "1.5.0",
          "state": {
            "_dom_classes": [],
            "_model_module": "@jupyter-widgets/controls",
            "_model_module_version": "1.5.0",
            "_model_name": "HTMLModel",
            "_view_count": null,
            "_view_module": "@jupyter-widgets/controls",
            "_view_module_version": "1.5.0",
            "_view_name": "HTMLView",
            "description": "",
            "description_tooltip": null,
            "layout": "IPY_MODEL_6a068db3c05f4eb0b33263f4d633d5e0",
            "placeholder": "​",
            "style": "IPY_MODEL_424eafb317694c72a7f894337def02af",
            "value": " 1200/1200 [00:24&lt;00:00, 46.68it/s]"
          }
        },
        "eb94ef7e945a4a909251c29c6afc331b": {
          "model_module": "@jupyter-widgets/base",
          "model_name": "LayoutModel",
          "model_module_version": "1.2.0",
          "state": {
            "_model_module": "@jupyter-widgets/base",
            "_model_module_version": "1.2.0",
            "_model_name": "LayoutModel",
            "_view_count": null,
            "_view_module": "@jupyter-widgets/base",
            "_view_module_version": "1.2.0",
            "_view_name": "LayoutView",
            "align_content": null,
            "align_items": null,
            "align_self": null,
            "border": null,
            "bottom": null,
            "display": null,
            "flex": null,
            "flex_flow": null,
            "grid_area": null,
            "grid_auto_columns": null,
            "grid_auto_flow": null,
            "grid_auto_rows": null,
            "grid_column": null,
            "grid_gap": null,
            "grid_row": null,
            "grid_template_areas": null,
            "grid_template_columns": null,
            "grid_template_rows": null,
            "height": null,
            "justify_content": null,
            "justify_items": null,
            "left": null,
            "margin": null,
            "max_height": null,
            "max_width": null,
            "min_height": null,
            "min_width": null,
            "object_fit": null,
            "object_position": null,
            "order": null,
            "overflow": null,
            "overflow_x": null,
            "overflow_y": null,
            "padding": null,
            "right": null,
            "top": null,
            "visibility": null,
            "width": null
          }
        },
        "9e5902e7a73e46b39853af3d965bb359": {
          "model_module": "@jupyter-widgets/base",
          "model_name": "LayoutModel",
          "model_module_version": "1.2.0",
          "state": {
            "_model_module": "@jupyter-widgets/base",
            "_model_module_version": "1.2.0",
            "_model_name": "LayoutModel",
            "_view_count": null,
            "_view_module": "@jupyter-widgets/base",
            "_view_module_version": "1.2.0",
            "_view_name": "LayoutView",
            "align_content": null,
            "align_items": null,
            "align_self": null,
            "border": null,
            "bottom": null,
            "display": null,
            "flex": null,
            "flex_flow": null,
            "grid_area": null,
            "grid_auto_columns": null,
            "grid_auto_flow": null,
            "grid_auto_rows": null,
            "grid_column": null,
            "grid_gap": null,
            "grid_row": null,
            "grid_template_areas": null,
            "grid_template_columns": null,
            "grid_template_rows": null,
            "height": null,
            "justify_content": null,
            "justify_items": null,
            "left": null,
            "margin": null,
            "max_height": null,
            "max_width": null,
            "min_height": null,
            "min_width": null,
            "object_fit": null,
            "object_position": null,
            "order": null,
            "overflow": null,
            "overflow_x": null,
            "overflow_y": null,
            "padding": null,
            "right": null,
            "top": null,
            "visibility": null,
            "width": null
          }
        },
        "dcee401d1d524eb2b7e9fb082aafe7cd": {
          "model_module": "@jupyter-widgets/controls",
          "model_name": "DescriptionStyleModel",
          "model_module_version": "1.5.0",
          "state": {
            "_model_module": "@jupyter-widgets/controls",
            "_model_module_version": "1.5.0",
            "_model_name": "DescriptionStyleModel",
            "_view_count": null,
            "_view_module": "@jupyter-widgets/base",
            "_view_module_version": "1.2.0",
            "_view_name": "StyleView",
            "description_width": ""
          }
        },
        "cc2a9d17500045c59495893059bbe761": {
          "model_module": "@jupyter-widgets/base",
          "model_name": "LayoutModel",
          "model_module_version": "1.2.0",
          "state": {
            "_model_module": "@jupyter-widgets/base",
            "_model_module_version": "1.2.0",
            "_model_name": "LayoutModel",
            "_view_count": null,
            "_view_module": "@jupyter-widgets/base",
            "_view_module_version": "1.2.0",
            "_view_name": "LayoutView",
            "align_content": null,
            "align_items": null,
            "align_self": null,
            "border": null,
            "bottom": null,
            "display": null,
            "flex": null,
            "flex_flow": null,
            "grid_area": null,
            "grid_auto_columns": null,
            "grid_auto_flow": null,
            "grid_auto_rows": null,
            "grid_column": null,
            "grid_gap": null,
            "grid_row": null,
            "grid_template_areas": null,
            "grid_template_columns": null,
            "grid_template_rows": null,
            "height": null,
            "justify_content": null,
            "justify_items": null,
            "left": null,
            "margin": null,
            "max_height": null,
            "max_width": null,
            "min_height": null,
            "min_width": null,
            "object_fit": null,
            "object_position": null,
            "order": null,
            "overflow": null,
            "overflow_x": null,
            "overflow_y": null,
            "padding": null,
            "right": null,
            "top": null,
            "visibility": null,
            "width": null
          }
        },
        "99941312bdf748cab3cd52d23a1db6c4": {
          "model_module": "@jupyter-widgets/controls",
          "model_name": "ProgressStyleModel",
          "model_module_version": "1.5.0",
          "state": {
            "_model_module": "@jupyter-widgets/controls",
            "_model_module_version": "1.5.0",
            "_model_name": "ProgressStyleModel",
            "_view_count": null,
            "_view_module": "@jupyter-widgets/base",
            "_view_module_version": "1.2.0",
            "_view_name": "StyleView",
            "bar_color": null,
            "description_width": ""
          }
        },
        "6a068db3c05f4eb0b33263f4d633d5e0": {
          "model_module": "@jupyter-widgets/base",
          "model_name": "LayoutModel",
          "model_module_version": "1.2.0",
          "state": {
            "_model_module": "@jupyter-widgets/base",
            "_model_module_version": "1.2.0",
            "_model_name": "LayoutModel",
            "_view_count": null,
            "_view_module": "@jupyter-widgets/base",
            "_view_module_version": "1.2.0",
            "_view_name": "LayoutView",
            "align_content": null,
            "align_items": null,
            "align_self": null,
            "border": null,
            "bottom": null,
            "display": null,
            "flex": null,
            "flex_flow": null,
            "grid_area": null,
            "grid_auto_columns": null,
            "grid_auto_flow": null,
            "grid_auto_rows": null,
            "grid_column": null,
            "grid_gap": null,
            "grid_row": null,
            "grid_template_areas": null,
            "grid_template_columns": null,
            "grid_template_rows": null,
            "height": null,
            "justify_content": null,
            "justify_items": null,
            "left": null,
            "margin": null,
            "max_height": null,
            "max_width": null,
            "min_height": null,
            "min_width": null,
            "object_fit": null,
            "object_position": null,
            "order": null,
            "overflow": null,
            "overflow_x": null,
            "overflow_y": null,
            "padding": null,
            "right": null,
            "top": null,
            "visibility": null,
            "width": null
          }
        },
        "424eafb317694c72a7f894337def02af": {
          "model_module": "@jupyter-widgets/controls",
          "model_name": "DescriptionStyleModel",
          "model_module_version": "1.5.0",
          "state": {
            "_model_module": "@jupyter-widgets/controls",
            "_model_module_version": "1.5.0",
            "_model_name": "DescriptionStyleModel",
            "_view_count": null,
            "_view_module": "@jupyter-widgets/base",
            "_view_module_version": "1.2.0",
            "_view_name": "StyleView",
            "description_width": ""
          }
        }
      }
    }
  },
  "nbformat": 4,
  "nbformat_minor": 5
}