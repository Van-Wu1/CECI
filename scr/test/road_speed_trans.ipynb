{
 "cells": [
  {
   "cell_type": "code",
   "execution_count": 26,
   "id": "26512722",
   "metadata": {},
   "outputs": [],
   "source": [
    "import json\n",
    "import re\n",
    "\n",
    "# 输入／输出文件路径\n",
    "in_path = '../data/Roads/overpass/export (9).geojson'\n",
    "out_path = '../data/Roads/overpass/9export_converted.geojson'"
   ]
  },
  {
   "cell_type": "code",
   "execution_count": 27,
   "id": "baf33d51",
   "metadata": {},
   "outputs": [
    {
     "name": "stdout",
     "output_type": "stream",
     "text": [
      "共转换了 3362 条 maxspeed，输出保存到 ../data/Roads/overpass/9export_converted.geojson\n"
     ]
    }
   ],
   "source": [
    "# 正则：匹配数字 + “mph” （忽略大小写）\n",
    "pattern = re.compile(r'(\\d+(?:\\.\\d+)?)\\s*mph', re.IGNORECASE)\n",
    "\n",
    "# 读入原 GeoJSON\n",
    "with open(in_path, 'r', encoding='utf-8') as f:\n",
    "    data = json.load(f)\n",
    "\n",
    "count = 0\n",
    "for feat in data.get('features', []):\n",
    "    props = feat.get('properties', {})\n",
    "    ms = props.get('maxspeed', '')\n",
    "    m = pattern.match(ms)\n",
    "    if m:\n",
    "        mph = float(m.group(1))\n",
    "        kmh = mph * 1.60934\n",
    "        new_val = f\"{round(kmh)}\"\n",
    "        props['maxspeed'] = new_val\n",
    "        count += 1\n",
    "\n",
    "# 写出到新文件\n",
    "with open(out_path, 'w', encoding='utf-8') as f:\n",
    "    json.dump(data, f, ensure_ascii=False, indent=2)\n",
    "\n",
    "print(f\"共转换了 {count} 条 maxspeed，输出保存到 {out_path}\")\n"
   ]
  }
 ],
 "metadata": {
  "kernelspec": {
   "display_name": "Python 3",
   "language": "python",
   "name": "python3"
  },
  "language_info": {
   "codemirror_mode": {
    "name": "ipython",
    "version": 3
   },
   "file_extension": ".py",
   "mimetype": "text/x-python",
   "name": "python",
   "nbconvert_exporter": "python",
   "pygments_lexer": "ipython3",
   "version": "3.13.2"
  }
 },
 "nbformat": 4,
 "nbformat_minor": 5
}
