{
  "cells": [
    {
      "cell_type": "code",
      "source": [
        "!pip -q install geopandas shapely rasterio pyproj tqdm"
      ],
      "metadata": {
        "id": "dmFGM_4I6T7-"
      },
      "id": "dmFGM_4I6T7-",
      "execution_count": 15,
      "outputs": []
    },
    {
      "cell_type": "code",
      "source": [
        "from google.colab import drive\n",
        "drive.mount('/content/drive')\n",
        "!ls '/content/drive/MyDrive/CASA0004_Cycling/data'"
      ],
      "metadata": {
        "id": "WKQNBVM84wla",
        "outputId": "80e8929a-8d23-4cb0-d06d-dfb536fd189c",
        "colab": {
          "base_uri": "https://localhost:8080/"
        }
      },
      "id": "WKQNBVM84wla",
      "execution_count": 16,
      "outputs": [
        {
          "output_type": "stream",
          "name": "stdout",
          "text": [
            "Drive already mounted at /content/drive; to attempt to forcibly remount, call drive.mount(\"/content/drive\", force_remount=True).\n",
            "BoroughShp\n",
            "city_of_london_bike_accessible_roads.geojson\n",
            "COL_cycleavailable.geojson\n",
            "COL_cyclelane.geojson\n",
            "Env\n",
            "greater_london_bike_accessible_roads.geojson\n",
            "GreatLondonShp\n",
            "Roads\n",
            "Slope\n"
          ]
        }
      ]
    },
    {
      "cell_type": "code",
      "source": [
        "import math\n",
        "import numpy as np\n",
        "import rasterio\n",
        "from shapely.geometry import LineString, MultiLineString\n",
        "from tqdm import tqdm\n",
        "\n",
        "import geopandas as gpd\n",
        "import pandas as pd\n",
        "from shapely.geometry import Point\n",
        "from shapely.strtree import STRtree\n",
        "import numpy as np\n",
        "import matplotlib.pyplot as plt"
      ],
      "metadata": {
        "id": "JXmMN-2052lT"
      },
      "id": "JXmMN-2052lT",
      "execution_count": 17,
      "outputs": []
    },
    {
      "cell_type": "code",
      "source": [
        "# —— 可调参数 ——\n",
        "SLOPE_TIF = \"/content/drive/MyDrive/CASA0004_Cycling/data/Slope/slope_test/slope.tif\"\n",
        "INTERVAL_M = 5.0             # 采样间距（米）\n",
        "STAT_KIND  = \"q3\"             # \"q3\" | \"mean\" | \"max\"\n",
        "SLOPE_UNIT = \"degree\"         # 栅格单位：\"degree\" or \"percent\"\n",
        "CHUNK_SIZE = 20000            # 分块行数，视内存调整\n",
        "OUTPUT     = \"/content/drive/MyDrive/CASA0004_Cycling/data/Roads/export_with_slope.geojson\""
      ],
      "metadata": {
        "id": "tUAUpdEQ6ZiF"
      },
      "id": "tUAUpdEQ6ZiF",
      "execution_count": 18,
      "outputs": []
    },
    {
      "cell_type": "code",
      "source": [
        "road_gdf = gpd.read_file(\"/content/drive/MyDrive/CASA0004_Cycling/data/Roads/export_converted1.geojson\")\n",
        "print(road_gdf.columns)"
      ],
      "metadata": {
        "id": "QHYVWLlq7Hru",
        "outputId": "6277e373-567d-4142-b4c2-e0174361269e",
        "colab": {
          "base_uri": "https://localhost:8080/"
        }
      },
      "id": "QHYVWLlq7Hru",
      "execution_count": 19,
      "outputs": [
        {
          "output_type": "stream",
          "name": "stdout",
          "text": [
            "Index(['id', '@id', 'access', 'alt_name', 'area', 'bicycle',\n",
            "       'bicycle:lanes:forward', 'bicycle:signed', 'bridge', 'bus',\n",
            "       ...\n",
            "       'was:cycleway:left', 'was:cycleway:right', 'was:cycleway:right:oneway',\n",
            "       'was:highway', 'was:oneway', 'width', 'wikidata', 'wikimedia_commons',\n",
            "       'wikipedia', 'geometry'],\n",
            "      dtype='object', length=176)\n"
          ]
        }
      ]
    },
    {
      "cell_type": "code",
      "source": [
        "def line_points_every(line: LineString, step: float):\n",
        "    \"\"\"沿 LineString 每 step 米取点（含终点）。\"\"\"\n",
        "    if not line or line.length == 0:\n",
        "        return []\n",
        "    n = max(1, int(math.floor(line.length / step)))\n",
        "    dists = [i * step for i in range(n)] + [line.length]\n",
        "    return [line.interpolate(d).coords[0] for d in dists]\n",
        "\n",
        "def geom_points(geom, step: float):\n",
        "    if geom is None:\n",
        "        return []\n",
        "    if isinstance(geom, LineString):\n",
        "        return line_points_every(geom, step)\n",
        "    if isinstance(geom, MultiLineString):\n",
        "        pts = []\n",
        "        for part in geom.geoms:\n",
        "            pts.extend(line_points_every(part, step))\n",
        "        return pts\n",
        "    return []\n",
        "\n",
        "def calc_stat(vals, kind=\"q3\"):\n",
        "    if not vals:\n",
        "        return 0.0\n",
        "    arr = np.asarray(vals, dtype=float)\n",
        "    if kind == \"mean\": return float(np.nanmean(arr))\n",
        "    if kind == \"max\":  return float(np.nanmax(arr))\n",
        "    return float(np.nanpercentile(arr, 75))  # q3\n",
        "\n",
        "def slope_to_percent(v, unit=\"degree\"):\n",
        "    if unit == \"percent\": return float(v)\n",
        "    return float(math.tan(math.radians(v)) * 100.0)\n",
        "\n",
        "def slope_to_factor(slope_pct: float) -> float:\n",
        "    # 你之前的规则\n",
        "    if slope_pct <= 2:   return 1.0\n",
        "    if slope_pct <= 4:   return 0.9\n",
        "    if slope_pct <= 6:   return 0.75\n",
        "    if slope_pct <= 8:   return 0.6\n",
        "    if slope_pct <= 10:  return 0.45\n",
        "    return 0.3"
      ],
      "metadata": {
        "id": "nL3YZ86x6adl"
      },
      "id": "nL3YZ86x6adl",
      "execution_count": 20,
      "outputs": []
    },
    {
      "cell_type": "code",
      "source": [
        "# 打开坡度栅格\n",
        "ds = rasterio.open(SLOPE_TIF)\n",
        "raster_crs = ds.crs\n",
        "nodata = ds.nodata\n",
        "\n",
        "# 确保道路与栅格同一 CRS\n",
        "if road_gdf.crs is None:\n",
        "    raise RuntimeError(\"road_gdf 没有 CRS，请先设定。\")\n",
        "if raster_crs and road_gdf.crs.to_wkt() != raster_crs.to_wkt():\n",
        "    road_gdf = road_gdf.to_crs(raster_crs)\n",
        "\n",
        "# 建字段\n",
        "if \"proc_slope\" not in road_gdf.columns:\n",
        "    road_gdf[\"proc_slope\"] = np.nan\n",
        "if \"fac_3\" not in road_gdf.columns:\n",
        "    road_gdf[\"fac_3\"] = np.nan\n"
      ],
      "metadata": {
        "id": "tUVM2Yyo6ct9"
      },
      "id": "tUVM2Yyo6ct9",
      "execution_count": 21,
      "outputs": []
    },
    {
      "cell_type": "code",
      "source": [
        "total = len(road_gdf)\n",
        "pbar = tqdm(total=total, desc=\"Sampling slope\", unit=\"feat\")\n",
        "\n",
        "start = 0\n",
        "while start < total:\n",
        "    end = min(start + CHUNK_SIZE, total)\n",
        "    sub = road_gdf.iloc[start:end].copy()\n",
        "\n",
        "    proc_vals = np.zeros(len(sub))\n",
        "    fac_vals  = np.ones(len(sub))\n",
        "\n",
        "    # 为每条线生成采样点 → 栅格采样 → 统计\n",
        "    for i, geom in enumerate(sub.geometry.values):\n",
        "        pts = geom_points(geom, INTERVAL_M)\n",
        "        if not pts:\n",
        "            proc_vals[i] = 0.0\n",
        "            fac_vals[i]  = 1.0\n",
        "            continue\n",
        "\n",
        "        # rasterio.sample 需要 [(x,y), ...]\n",
        "        smps = list(ds.sample(pts))\n",
        "        vals = []\n",
        "        for s in smps:\n",
        "            if s is None or len(s) == 0:\n",
        "                continue\n",
        "            v = s[0]\n",
        "            if v is None:\n",
        "                continue\n",
        "            if (nodata is not None and v == nodata) or np.isnan(v):\n",
        "                continue\n",
        "            vals.append(float(v))\n",
        "\n",
        "        stat_v = calc_stat(vals, STAT_KIND)\n",
        "        slope_pct = slope_to_percent(stat_v, SLOPE_UNIT)\n",
        "        factor = slope_to_factor(slope_pct)\n",
        "\n",
        "        proc_vals[i] = round(slope_pct, 2)\n",
        "        fac_vals[i]  = round(factor, 2)\n",
        "\n",
        "    # 写回\n",
        "    road_gdf.loc[sub.index, \"proc_slope\"] = proc_vals\n",
        "    road_gdf.loc[sub.index, \"fac_3\"] = fac_vals\n",
        "\n",
        "    pbar.update(len(sub))\n",
        "    start = end\n",
        "\n",
        "pbar.close()\n"
      ],
      "metadata": {
        "id": "eDwhyEYh6eCF",
        "outputId": "d1bb4a2f-1f60-4c2e-ddae-e90da33327f6",
        "colab": {
          "base_uri": "https://localhost:8080/"
        }
      },
      "id": "eDwhyEYh6eCF",
      "execution_count": 22,
      "outputs": [
        {
          "output_type": "stream",
          "name": "stderr",
          "text": [
            "Sampling slope: 100%|██████████| 1360/1360 [00:01<00:00, 905.82feat/s]\n"
          ]
        }
      ]
    },
    {
      "cell_type": "code",
      "source": [
        "ext = OUTPUT.lower().split(\".\")[-1]\n",
        "if ext == \"gpkg\":\n",
        "    road_gdf.to_file(OUTPUT, driver=\"GPKG\")\n",
        "else:\n",
        "    road_gdf.to_file(OUTPUT, driver=\"GeoJSON\")\n",
        "print(\"Saved to:\", OUTPUT)\n"
      ],
      "metadata": {
        "id": "nuWIbaP46fYd",
        "outputId": "29d16000-d227-4f9f-c9d6-b02d6defdfa8",
        "colab": {
          "base_uri": "https://localhost:8080/"
        }
      },
      "id": "nuWIbaP46fYd",
      "execution_count": 23,
      "outputs": [
        {
          "output_type": "stream",
          "name": "stdout",
          "text": [
            "Saved to: /content/drive/MyDrive/CASA0004_Cycling/data/Roads/export_with_slope.geojson\n"
          ]
        }
      ]
    },
    {
      "cell_type": "code",
      "source": [
        "print(road_gdf.columns)"
      ],
      "metadata": {
        "id": "vJkjDVq992ng",
        "outputId": "d69a5143-f7d2-4e24-f573-1b7ecde89748",
        "colab": {
          "base_uri": "https://localhost:8080/"
        }
      },
      "id": "vJkjDVq992ng",
      "execution_count": 24,
      "outputs": [
        {
          "output_type": "stream",
          "name": "stdout",
          "text": [
            "Index(['id', '@id', 'access', 'alt_name', 'area', 'bicycle',\n",
            "       'bicycle:lanes:forward', 'bicycle:signed', 'bridge', 'bus',\n",
            "       ...\n",
            "       'was:cycleway:right:oneway', 'was:highway', 'was:oneway', 'width',\n",
            "       'wikidata', 'wikimedia_commons', 'wikipedia', 'geometry', 'proc_slope',\n",
            "       'fac_3'],\n",
            "      dtype='object', length=178)\n"
          ]
        }
      ]
    },
    {
      "cell_type": "code",
      "source": [
        "print(\"CRS:\", ds.crs)\n",
        "print(\"Width (cols):\", ds.width)\n",
        "print(\"Height (rows):\", ds.height)\n",
        "print(\"Transform:\", ds.transform)\n",
        "print(\"Pixel size (res):\", ds.res)\n"
      ],
      "metadata": {
        "id": "0y4syCFk-1RW",
        "outputId": "d60f48fc-da81-4fc8-a278-0d57aef3df72",
        "colab": {
          "base_uri": "https://localhost:8080/"
        }
      },
      "id": "0y4syCFk-1RW",
      "execution_count": 25,
      "outputs": [
        {
          "output_type": "stream",
          "name": "stdout",
          "text": [
            "CRS: EPSG:27700\n",
            "Width (cols): 11676\n",
            "Height (rows): 9016\n",
            "Transform: | 5.00, 0.00, 503573.42|\n",
            "| 0.00,-5.00, 200936.64|\n",
            "| 0.00, 0.00, 1.00|\n",
            "Pixel size (res): (5.000138720452213, 5.000138720452213)\n"
          ]
        }
      ]
    }
  ],
  "metadata": {
    "language_info": {
      "name": "python"
    },
    "colab": {
      "provenance": [],
      "machine_shape": "hm"
    },
    "kernelspec": {
      "name": "python3",
      "display_name": "Python 3"
    }
  },
  "nbformat": 4,
  "nbformat_minor": 5
}