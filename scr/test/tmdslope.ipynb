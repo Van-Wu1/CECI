{
  "cells": [
    {
      "cell_type": "code",
      "execution_count": 1,
      "id": "dmFGM_4I6T7-",
      "metadata": {
        "id": "dmFGM_4I6T7-"
      },
      "outputs": [],
      "source": [
        "!pip -q install geopandas shapely rasterio pyproj tqdm"
      ]
    },
    {
      "cell_type": "code",
      "execution_count": 2,
      "id": "WKQNBVM84wla",
      "metadata": {
        "colab": {
          "base_uri": "https://localhost:8080/"
        },
        "id": "WKQNBVM84wla",
        "outputId": "8105e786-c6cb-4d12-a6a0-adb329402cd9"
      },
      "outputs": [
        {
          "output_type": "stream",
          "name": "stdout",
          "text": [
            "Drive already mounted at /content/drive; to attempt to forcibly remount, call drive.mount(\"/content/drive\", force_remount=True).\n",
            "BoroughShp\n",
            "city_of_london_bike_accessible_roads.geojson\n",
            "COL_cycleavailable.geojson\n",
            "COL_cyclelane.geojson\n",
            "Env\n",
            "greater_london_bike_accessible_roads.geojson\n",
            "GreatLondonShp\n",
            "Results\n",
            "Roads\n",
            "Slope\n"
          ]
        }
      ],
      "source": [
        "from google.colab import drive\n",
        "drive.mount('/content/drive')\n",
        "!ls '/content/drive/MyDrive/CASA0004_Cycling/data'"
      ]
    },
    {
      "cell_type": "code",
      "execution_count": 3,
      "id": "JXmMN-2052lT",
      "metadata": {
        "id": "JXmMN-2052lT"
      },
      "outputs": [],
      "source": [
        "import math\n",
        "import numpy as np\n",
        "import rasterio\n",
        "from shapely.geometry import LineString, MultiLineString\n",
        "from tqdm import tqdm\n",
        "\n",
        "import geopandas as gpd\n",
        "import pandas as pd\n",
        "from shapely.geometry import Point\n",
        "from shapely.strtree import STRtree\n",
        "import numpy as np\n",
        "import matplotlib.pyplot as plt"
      ]
    },
    {
      "cell_type": "code",
      "execution_count": 4,
      "id": "tUAUpdEQ6ZiF",
      "metadata": {
        "id": "tUAUpdEQ6ZiF"
      },
      "outputs": [],
      "source": [
        "# 可调参数\n",
        "SLOPE_TIF = \"/content/drive/MyDrive/CASA0004_Cycling/data/Slope/slope_test/slope.tif\"\n",
        "INTERVAL_M = 5.0             # 采样间距（米）\n",
        "STAT_KIND  = \"q3\"             # \"q3\" | \"mean\" | \"max\"\n",
        "SLOPE_UNIT = \"degree\"         # 栅格单位 or \"percent\"\n",
        "CHUNK_SIZE = 20000            # 分块行数，视内存调整"
      ]
    },
    {
      "cell_type": "code",
      "execution_count": 5,
      "id": "QHYVWLlq7Hru",
      "metadata": {
        "colab": {
          "base_uri": "https://localhost:8080/"
        },
        "id": "QHYVWLlq7Hru",
        "outputId": "fd5cf8c3-a80b-43ee-bba0-63af5339148d"
      },
      "outputs": [
        {
          "output_type": "stream",
          "name": "stdout",
          "text": [
            "Index(['id', 'name', 'way_type', 'index', 'index_10', 'stress_level', 'offset',\n",
            "       'side', 'proc_width', 'proc_surface', 'proc_smoothness', 'proc_oneway',\n",
            "       'proc_sidepath', 'proc_highway', 'proc_maxspeed',\n",
            "       'proc_traffic_mode_left', 'proc_traffic_mode_right',\n",
            "       'proc_separation_left', 'proc_separation_right', 'proc_buffer_left',\n",
            "       'proc_buffer_right', 'proc_mandatory', 'proc_traffic_sign', 'fac_width',\n",
            "       'fac_surface', 'fac_highway', 'fac_maxspeed', 'base_index', 'fac_1',\n",
            "       'fac_2', 'fac_3', 'fac_4', 'data_bonus', 'data_malus',\n",
            "       'data_incompleteness', 'data_missing', 'data_missing_width',\n",
            "       'data_missing_surface', 'data_missing_smoothness',\n",
            "       'data_missing_maxspeed', 'data_missing_parking', 'data_missing_lit',\n",
            "       'filter_usable', 'filter_way_type', 'layer', 'path', 'geometry'],\n",
            "      dtype='object')\n"
          ]
        }
      ],
      "source": [
        "road_gdf = gpd.read_file(\"/content/drive/MyDrive/CASA0004_Cycling/data/Roads/AAA.geojson\")\n",
        "print(road_gdf.columns)"
      ]
    },
    {
      "cell_type": "code",
      "execution_count": 6,
      "id": "nL3YZ86x6adl",
      "metadata": {
        "id": "nL3YZ86x6adl"
      },
      "outputs": [],
      "source": [
        "def line_points_every(line: LineString, step: float):\n",
        "    \"\"\"沿 LineString 每 step 米取点（含终点）。\"\"\"\n",
        "    if not line or line.length == 0:\n",
        "        return []\n",
        "    n = max(1, int(math.floor(line.length / step)))\n",
        "    dists = [i * step for i in range(n)] + [line.length]\n",
        "    return [line.interpolate(d).coords[0] for d in dists]\n",
        "\n",
        "def geom_points(geom, step: float):\n",
        "    if geom is None:\n",
        "        return []\n",
        "    if isinstance(geom, LineString):\n",
        "        return line_points_every(geom, step)\n",
        "    if isinstance(geom, MultiLineString):\n",
        "        pts = []\n",
        "        for part in geom.geoms:\n",
        "            pts.extend(line_points_every(part, step))\n",
        "        return pts\n",
        "    return []\n",
        "\n",
        "def calc_stat(vals, kind=\"q3\"):\n",
        "    if not vals:\n",
        "        return 0.0\n",
        "    arr = np.asarray(vals, dtype=float)\n",
        "    if kind == \"mean\": return float(np.nanmean(arr))\n",
        "    if kind == \"max\":  return float(np.nanmax(arr))\n",
        "    return float(np.nanpercentile(arr, 75))  # q3\n",
        "\n",
        "def slope_to_percent(v, unit=\"degree\"):\n",
        "    if unit == \"percent\": return float(v)\n",
        "    return float(math.tan(math.radians(v)) * 100.0)\n",
        "\n",
        "def slope_to_factor(slope_pct: float) -> float:\n",
        "    if slope_pct <= 2:   return 1.0\n",
        "    if slope_pct <= 4:   return 0.95\n",
        "    if slope_pct <= 6:   return 0.85\n",
        "    if slope_pct <= 8:   return 0.75\n",
        "    if slope_pct <= 10:  return 0.65\n",
        "    return 0.9"
      ]
    },
    {
      "cell_type": "code",
      "execution_count": 7,
      "id": "tUVM2Yyo6ct9",
      "metadata": {
        "id": "tUVM2Yyo6ct9"
      },
      "outputs": [],
      "source": [
        "# 打开坡度栅格\n",
        "ds = rasterio.open(SLOPE_TIF)\n",
        "raster_crs = ds.crs\n",
        "nodata = ds.nodata\n",
        "\n",
        "# 确保道路与栅格同一 CRS\n",
        "if road_gdf.crs is None:\n",
        "    raise RuntimeError(\"road_gdf 没有 CRS，请先设定。\")\n",
        "if raster_crs and road_gdf.crs.to_wkt() != raster_crs.to_wkt():\n",
        "    road_gdf = road_gdf.to_crs(raster_crs)\n",
        "\n",
        "# 建字段\n",
        "if \"proc_slope\" not in road_gdf.columns:\n",
        "    road_gdf[\"proc_slope\"] = np.nan\n",
        "if \"fac_3\" not in road_gdf.columns:\n",
        "    road_gdf[\"fac_3\"] = np.nan\n"
      ]
    },
    {
      "cell_type": "code",
      "execution_count": 8,
      "id": "eDwhyEYh6eCF",
      "metadata": {
        "colab": {
          "base_uri": "https://localhost:8080/"
        },
        "id": "eDwhyEYh6eCF",
        "outputId": "acaa2660-39a3-43d2-fdf2-f609fbc02619"
      },
      "outputs": [
        {
          "output_type": "stream",
          "name": "stderr",
          "text": [
            "Sampling slope: 100%|██████████| 278172/278172 [09:49<00:00, 471.68feat/s]\n"
          ]
        }
      ],
      "source": [
        "total = len(road_gdf)\n",
        "pbar = tqdm(total=total, desc=\"Sampling slope\", unit=\"feat\")\n",
        "\n",
        "start = 0\n",
        "while start < total:\n",
        "    end = min(start + CHUNK_SIZE, total)\n",
        "    sub = road_gdf.iloc[start:end].copy()\n",
        "\n",
        "    proc_vals = np.zeros(len(sub))\n",
        "    fac_vals  = np.ones(len(sub))\n",
        "\n",
        "    # 为每条线生成采样点 → 栅格采样 → 统计\n",
        "    for i, geom in enumerate(sub.geometry.values):\n",
        "        pts = geom_points(geom, INTERVAL_M)\n",
        "        if not pts:\n",
        "            proc_vals[i] = 0.0\n",
        "            fac_vals[i]  = 1.0\n",
        "            continue\n",
        "\n",
        "        # rasterio.sample 需要 [(x,y), ...]\n",
        "        smps = list(ds.sample(pts))\n",
        "        vals = []\n",
        "        for s in smps:\n",
        "            if s is None or len(s) == 0:\n",
        "                continue\n",
        "            v = s[0]\n",
        "            if v is None:\n",
        "                continue\n",
        "            if (nodata is not None and v == nodata) or np.isnan(v):\n",
        "                continue\n",
        "            vals.append(float(v))\n",
        "\n",
        "        stat_v = calc_stat(vals, STAT_KIND)\n",
        "        slope_pct = slope_to_percent(stat_v, SLOPE_UNIT)\n",
        "        factor = slope_to_factor(slope_pct)\n",
        "\n",
        "        proc_vals[i] = round(slope_pct, 2)\n",
        "        fac_vals[i]  = round(factor, 2)\n",
        "\n",
        "    # 写回\n",
        "    road_gdf.loc[sub.index, \"proc_slope\"] = proc_vals\n",
        "    road_gdf.loc[sub.index, \"fac_3\"] = fac_vals\n",
        "\n",
        "    pbar.update(len(sub))\n",
        "    start = end\n",
        "\n",
        "pbar.close()\n"
      ]
    },
    {
      "cell_type": "code",
      "execution_count": 9,
      "id": "vJkjDVq992ng",
      "metadata": {
        "colab": {
          "base_uri": "https://localhost:8080/"
        },
        "id": "vJkjDVq992ng",
        "outputId": "335d2c5d-871a-4c4a-c349-4c743347ee54"
      },
      "outputs": [
        {
          "output_type": "stream",
          "name": "stdout",
          "text": [
            "Index(['id', 'name', 'way_type', 'index', 'index_10', 'stress_level', 'offset',\n",
            "       'side', 'proc_width', 'proc_surface', 'proc_smoothness', 'proc_oneway',\n",
            "       'proc_sidepath', 'proc_highway', 'proc_maxspeed',\n",
            "       'proc_traffic_mode_left', 'proc_traffic_mode_right',\n",
            "       'proc_separation_left', 'proc_separation_right', 'proc_buffer_left',\n",
            "       'proc_buffer_right', 'proc_mandatory', 'proc_traffic_sign', 'fac_width',\n",
            "       'fac_surface', 'fac_highway', 'fac_maxspeed', 'base_index', 'fac_1',\n",
            "       'fac_2', 'fac_3', 'fac_4', 'data_bonus', 'data_malus',\n",
            "       'data_incompleteness', 'data_missing', 'data_missing_width',\n",
            "       'data_missing_surface', 'data_missing_smoothness',\n",
            "       'data_missing_maxspeed', 'data_missing_parking', 'data_missing_lit',\n",
            "       'filter_usable', 'filter_way_type', 'layer', 'path', 'geometry',\n",
            "       'proc_slope'],\n",
            "      dtype='object')\n"
          ]
        }
      ],
      "source": [
        "print(road_gdf.columns)"
      ]
    },
    {
      "cell_type": "code",
      "execution_count": 10,
      "id": "0y4syCFk-1RW",
      "metadata": {
        "colab": {
          "base_uri": "https://localhost:8080/"
        },
        "id": "0y4syCFk-1RW",
        "outputId": "e9c4a13b-4dfe-48e5-936c-37656dbf9c8b"
      },
      "outputs": [
        {
          "output_type": "stream",
          "name": "stdout",
          "text": [
            "CRS: EPSG:27700\n",
            "Width (cols): 11676\n",
            "Height (rows): 9016\n",
            "Transform: | 5.00, 0.00, 503573.42|\n",
            "| 0.00,-5.00, 200936.64|\n",
            "| 0.00, 0.00, 1.00|\n",
            "Pixel size (res): (5.000138720452213, 5.000138720452213)\n"
          ]
        }
      ],
      "source": [
        "print(\"CRS:\", ds.crs)\n",
        "print(\"Width (cols):\", ds.width)\n",
        "print(\"Height (rows):\", ds.height)\n",
        "print(\"Transform:\", ds.transform)\n",
        "print(\"Pixel size (res):\", ds.res)\n"
      ]
    },
    {
      "cell_type": "code",
      "source": [
        "# 必要的copy\n",
        "copy = road_gdf"
      ],
      "metadata": {
        "id": "QxExy8QXKDup"
      },
      "id": "QxExy8QXKDup",
      "execution_count": 11,
      "outputs": []
    },
    {
      "cell_type": "code",
      "execution_count": null,
      "id": "Tm-udkxxOALC",
      "metadata": {
        "id": "Tm-udkxxOALC"
      },
      "outputs": [],
      "source": [
        "import matplotlib.pyplot as plt\n",
        "import seaborn as sns\n",
        "\n",
        "# 1. 基本统计信息\n",
        "print(road_gdf['fac_3'].describe())\n",
        "\n",
        "# 2. 直方图 + 核密度曲线\n",
        "sns.histplot(road_gdf['fac_3'], kde=True, bins=20)\n",
        "plt.title('Distribution of fac_3')\n",
        "plt.xlabel('fac_3')\n",
        "plt.ylabel('Frequency')\n",
        "plt.show()\n",
        "\n",
        "# 3. 箱线图（看中位数和异常值）\n",
        "sns.boxplot(x=road_gdf['fac_3'])\n",
        "plt.title('Boxplot of fac_3')\n",
        "plt.show()\n"
      ]
    },
    {
      "cell_type": "code",
      "execution_count": null,
      "id": "tst0YiVcOBka",
      "metadata": {
        "id": "tst0YiVcOBka"
      },
      "outputs": [],
      "source": [
        "# 1. 基本统计信息\n",
        "print(road_gdf['proc_slope'].describe())\n",
        "\n",
        "# 2. 直方图 + 核密度曲线\n",
        "sns.histplot(road_gdf['proc_slope'], kde=True, bins=20)\n",
        "plt.title('Distribution of proc_slope')\n",
        "plt.xlabel('proc_slope')\n",
        "plt.ylabel('Frequency')\n",
        "plt.show()\n",
        "\n",
        "# 3. 箱线图（看中位数和异常值）\n",
        "sns.boxplot(x=road_gdf['proc_slope'])\n",
        "plt.title('Boxplot of proc_slope')\n",
        "plt.show()\n"
      ]
    },
    {
      "cell_type": "code",
      "execution_count": 12,
      "id": "514474bb",
      "metadata": {
        "colab": {
          "base_uri": "https://localhost:8080/"
        },
        "id": "514474bb",
        "outputId": "55083298-f204-49b1-a243-fd27ececef8e"
      },
      "outputs": [
        {
          "output_type": "stream",
          "name": "stdout",
          "text": [
            "CRS: EPSG:27700\n",
            "Width (cols): 11676\n",
            "Height (rows): 9016\n",
            "Transform: | 5.00, 0.00, 503573.42|\n",
            "| 0.00,-5.00, 200936.64|\n",
            "| 0.00, 0.00, 1.00|\n",
            "Pixel size (res): (5.000138720452213, 5.000138720452213)\n"
          ]
        }
      ],
      "source": [
        "print(\"CRS:\", ds.crs)\n",
        "print(\"Width (cols):\", ds.width)\n",
        "print(\"Height (rows):\", ds.height)\n",
        "print(\"Transform:\", ds.transform)\n",
        "print(\"Pixel size (res):\", ds.res)"
      ]
    },
    {
      "cell_type": "markdown",
      "source": [
        "# index计算&覆写"
      ],
      "metadata": {
        "id": "ZQoW0jlCJYNI"
      },
      "id": "ZQoW0jlCJYNI"
    },
    {
      "cell_type": "code",
      "source": [
        "road_gdf[\"index\"] = road_gdf[\"base_index\"] * road_gdf[\"fac_1\"] * road_gdf[\"fac_2\"] * road_gdf[\"fac_3\"] * road_gdf[\"fac_4\"]\n",
        "\n",
        "road_gdf[\"index\"] = road_gdf[\"index\"].clip(lower=0, upper=100).round().astype(int)\n",
        "\n",
        "road_gdf[\"index_10\"] = road_gdf[\"index\"] // 10\n",
        "\n",
        "# 然后根据我本子上的三条id进行核对，没问题就转到下一步去加入LTS的参数(没问题了)"
      ],
      "metadata": {
        "id": "n4UU6anxJJru"
      },
      "id": "n4UU6anxJJru",
      "execution_count": 13,
      "outputs": []
    },
    {
      "cell_type": "code",
      "source": [
        "output_path = \"/content/drive/MyDrive/CASA0004_Cycling/data/Roads/AAA_indexupdate.geojson\"\n",
        "road_gdf.to_file(output_path, driver=\"GeoJSON\")\n",
        "print(f\"已保存到: {output_path}\")"
      ],
      "metadata": {
        "colab": {
          "base_uri": "https://localhost:8080/"
        },
        "id": "qa7YCiq1LXux",
        "outputId": "fbfdafbf-e671-46a8-a236-08246c8c0c0e"
      },
      "id": "qa7YCiq1LXux",
      "execution_count": 14,
      "outputs": [
        {
          "output_type": "stream",
          "name": "stdout",
          "text": [
            "已保存到: /content/drive/MyDrive/CASA0004_Cycling/data/Roads/AAA_indexupdate.geojson\n"
          ]
        }
      ]
    },
    {
      "cell_type": "markdown",
      "source": [
        "## 小加一波LTS"
      ],
      "metadata": {
        "id": "tNQf6q-ZM-tl"
      },
      "id": "tNQf6q-ZM-tl"
    },
    {
      "cell_type": "code",
      "source": [
        "# 先检查一下lts是否有空值\n",
        "\n",
        "# 统计空值数量\n",
        "null_count = road_gdf[\"stress_level\"].isna().sum()\n",
        "print(f\"空值数量: {null_count}\")\n",
        "\n",
        "# 具体空值的行\n",
        "null_rows = road_gdf[road_gdf[\"stress_level\"].isna()]\n",
        "print(null_rows)\n",
        "\n",
        "# 很好没有空值"
      ],
      "metadata": {
        "colab": {
          "base_uri": "https://localhost:8080/"
        },
        "id": "woV3mYcXPMJm",
        "outputId": "1f9a6b75-0616-46ab-ba07-68fdff2c0a70"
      },
      "id": "woV3mYcXPMJm",
      "execution_count": 15,
      "outputs": [
        {
          "output_type": "stream",
          "name": "stdout",
          "text": [
            "空值数量: 0\n",
            "Empty GeoDataFrame\n",
            "Columns: [id, name, way_type, index, index_10, stress_level, offset, side, proc_width, proc_surface, proc_smoothness, proc_oneway, proc_sidepath, proc_highway, proc_maxspeed, proc_traffic_mode_left, proc_traffic_mode_right, proc_separation_left, proc_separation_right, proc_buffer_left, proc_buffer_right, proc_mandatory, proc_traffic_sign, fac_width, fac_surface, fac_highway, fac_maxspeed, base_index, fac_1, fac_2, fac_3, fac_4, data_bonus, data_malus, data_incompleteness, data_missing, data_missing_width, data_missing_surface, data_missing_smoothness, data_missing_maxspeed, data_missing_parking, data_missing_lit, filter_usable, filter_way_type, layer, path, geometry, proc_slope]\n",
            "Index: []\n",
            "\n",
            "[0 rows x 48 columns]\n"
          ]
        }
      ]
    },
    {
      "cell_type": "code",
      "source": [
        "# LTS的映射字典\n",
        "def lts_to_factor(lts: float) -> float:\n",
        "    if lts == 1: return 1.0\n",
        "    if lts == 2: return 0.9\n",
        "    if lts == 3: return 0.75\n",
        "    if lts == 4: return 0.6\n",
        "    return 0.9 #没关系这里没有空"
      ],
      "metadata": {
        "id": "Xt33aWwvNB2E"
      },
      "id": "Xt33aWwvNB2E",
      "execution_count": 16,
      "outputs": []
    },
    {
      "cell_type": "code",
      "source": [
        "# 建fac_5字段用来装LTS的量化\n",
        "if \"fac_5\" not in road_gdf.columns:\n",
        "    road_gdf[\"fac_5\"] = np.nan"
      ],
      "metadata": {
        "id": "Ovy8XXNfORYH"
      },
      "id": "Ovy8XXNfORYH",
      "execution_count": 17,
      "outputs": []
    },
    {
      "cell_type": "code",
      "source": [
        "# ok我们来试一下\n",
        "road_gdf[\"fac_5\"] = road_gdf[\"stress_level\"].apply(lts_to_factor)"
      ],
      "metadata": {
        "id": "MznsJlvoP7i2"
      },
      "id": "MznsJlvoP7i2",
      "execution_count": 18,
      "outputs": []
    },
    {
      "cell_type": "code",
      "source": [
        "print(road_gdf.columns)"
      ],
      "metadata": {
        "colab": {
          "base_uri": "https://localhost:8080/"
        },
        "id": "nH6s5diFQCdY",
        "outputId": "fc6abd60-eee6-4dd4-ae23-7946d7e4aeab"
      },
      "id": "nH6s5diFQCdY",
      "execution_count": 19,
      "outputs": [
        {
          "output_type": "stream",
          "name": "stdout",
          "text": [
            "Index(['id', 'name', 'way_type', 'index', 'index_10', 'stress_level', 'offset',\n",
            "       'side', 'proc_width', 'proc_surface', 'proc_smoothness', 'proc_oneway',\n",
            "       'proc_sidepath', 'proc_highway', 'proc_maxspeed',\n",
            "       'proc_traffic_mode_left', 'proc_traffic_mode_right',\n",
            "       'proc_separation_left', 'proc_separation_right', 'proc_buffer_left',\n",
            "       'proc_buffer_right', 'proc_mandatory', 'proc_traffic_sign', 'fac_width',\n",
            "       'fac_surface', 'fac_highway', 'fac_maxspeed', 'base_index', 'fac_1',\n",
            "       'fac_2', 'fac_3', 'fac_4', 'data_bonus', 'data_malus',\n",
            "       'data_incompleteness', 'data_missing', 'data_missing_width',\n",
            "       'data_missing_surface', 'data_missing_smoothness',\n",
            "       'data_missing_maxspeed', 'data_missing_parking', 'data_missing_lit',\n",
            "       'filter_usable', 'filter_way_type', 'layer', 'path', 'geometry',\n",
            "       'proc_slope', 'fac_5'],\n",
            "      dtype='object')\n"
          ]
        }
      ]
    },
    {
      "cell_type": "code",
      "source": [
        "road_gdf[\"index\"] = road_gdf[\"base_index\"] * road_gdf[\"fac_1\"] * road_gdf[\"fac_2\"] * road_gdf[\"fac_3\"] * road_gdf[\"fac_4\"] * road_gdf[\"fac_5\"]\n",
        "\n",
        "road_gdf[\"index\"] = road_gdf[\"index\"].clip(lower=0, upper=100).round().astype(int)\n",
        "\n",
        "road_gdf[\"index_10\"] = road_gdf[\"index\"] // 10"
      ],
      "metadata": {
        "id": "XQuGypg7QGUS"
      },
      "id": "XQuGypg7QGUS",
      "execution_count": 20,
      "outputs": []
    },
    {
      "cell_type": "code",
      "source": [
        "output_path_fac5 = \"/content/drive/MyDrive/CASA0004_Cycling/data/Roads/AAA_allfac.geojson\"\n",
        "road_gdf.to_file(output_path_fac5, driver=\"GeoJSON\")\n",
        "print(f\"已保存到: {output_path_fac5}\")"
      ],
      "metadata": {
        "colab": {
          "base_uri": "https://localhost:8080/"
        },
        "id": "x1XgMskeQUhy",
        "outputId": "951d6643-eb70-4c5c-93d7-56d15962995d"
      },
      "id": "x1XgMskeQUhy",
      "execution_count": 21,
      "outputs": [
        {
          "output_type": "stream",
          "name": "stdout",
          "text": [
            "已保存到: /content/drive/MyDrive/CASA0004_Cycling/data/Roads/AAA_allfac.geojson\n"
          ]
        }
      ]
    },
    {
      "cell_type": "markdown",
      "source": [
        "### 看一眼情况"
      ],
      "metadata": {
        "id": "jnWxRYA_TT38"
      },
      "id": "jnWxRYA_TT38"
    },
    {
      "cell_type": "code",
      "source": [
        "print(road_gdf[\"index\"].describe())"
      ],
      "metadata": {
        "colab": {
          "base_uri": "https://localhost:8080/"
        },
        "id": "dja8DJa6TTYN",
        "outputId": "3e6df546-2214-4c20-def5-887a8747f19e"
      },
      "id": "dja8DJa6TTYN",
      "execution_count": 22,
      "outputs": [
        {
          "output_type": "stream",
          "name": "stdout",
          "text": [
            "count    278172.000000\n",
            "mean         24.515048\n",
            "std          13.587935\n",
            "min           1.000000\n",
            "25%          16.000000\n",
            "50%          23.000000\n",
            "75%          28.000000\n",
            "max         100.000000\n",
            "Name: index, dtype: float64\n"
          ]
        }
      ]
    },
    {
      "cell_type": "code",
      "source": [
        "print(road_gdf[\"index\"].value_counts().sort_index())"
      ],
      "metadata": {
        "colab": {
          "base_uri": "https://localhost:8080/"
        },
        "id": "QDFy-_mQTXTc",
        "outputId": "5dad9d58-3f6f-42ea-c9bd-d039bbd79e6a"
      },
      "id": "QDFy-_mQTXTc",
      "execution_count": 23,
      "outputs": [
        {
          "output_type": "stream",
          "name": "stdout",
          "text": [
            "index\n",
            "1       286\n",
            "2       583\n",
            "3      1642\n",
            "4      8190\n",
            "5       328\n",
            "       ... \n",
            "91       61\n",
            "92       39\n",
            "93        1\n",
            "96        3\n",
            "100       4\n",
            "Name: count, Length: 93, dtype: int64\n"
          ]
        }
      ]
    },
    {
      "cell_type": "code",
      "source": [
        "print(road_gdf[\"index\"].value_counts(bins=10).sort_index())"
      ],
      "metadata": {
        "colab": {
          "base_uri": "https://localhost:8080/"
        },
        "id": "ZyvB6NMZTZ6x",
        "outputId": "58cab08e-cd3b-441a-8ae2-42954957ff79"
      },
      "id": "ZyvB6NMZTZ6x",
      "execution_count": 24,
      "outputs": [
        {
          "output_type": "stream",
          "name": "stdout",
          "text": [
            "(0.9, 10.9]       35631\n",
            "(10.9, 20.8]      80235\n",
            "(20.8, 30.7]     100799\n",
            "(30.7, 40.6]      25779\n",
            "(40.6, 50.5]      13239\n",
            "(50.5, 60.4]      16767\n",
            "(60.4, 70.3]       5134\n",
            "(70.3, 80.2]        254\n",
            "(80.2, 90.1]        226\n",
            "(90.1, 100.0]       108\n",
            "Name: count, dtype: int64\n"
          ]
        }
      ]
    },
    {
      "cell_type": "code",
      "source": [
        "road_gdf[\"index\"].hist(bins=20)\n",
        "plt.xlabel(\"Index\")\n",
        "plt.ylabel(\"Frequency\")\n",
        "plt.title(\"Index Distribution\")\n",
        "plt.show()"
      ],
      "metadata": {
        "colab": {
          "base_uri": "https://localhost:8080/",
          "height": 472
        },
        "id": "czkf_1sdTb6M",
        "outputId": "08b19313-3af1-4145-b844-535a09a7139f"
      },
      "id": "czkf_1sdTb6M",
      "execution_count": 25,
      "outputs": [
        {
          "output_type": "display_data",
          "data": {
            "text/plain": [
              "<Figure size 640x480 with 1 Axes>"
            ],
            "image/png": "[encoded data removed]"
          },
          "metadata": {}
        }
      ]
    },
    {
      "cell_type": "code",
      "source": [
        "# 我们来比对一下\n",
        "road_gdf_origin = gpd.read_file(\"/content/drive/MyDrive/CASA0004_Cycling/data/Roads/AAA.geojson\")\n",
        "print(road_gdf_origin.columns)\n",
        "\n",
        "road_gdf_origin[\"index\"].hist(bins=20)\n",
        "plt.xlabel(\"Index\")\n",
        "plt.ylabel(\"Frequency\")\n",
        "plt.title(\"Index Distribution\")\n",
        "plt.show()"
      ],
      "metadata": {
        "colab": {
          "base_uri": "https://localhost:8080/",
          "height": 698
        },
        "id": "GuO6HHzrUClH",
        "outputId": "bd4f5ac1-3793-4bf4-8265-c46eda5bc8af"
      },
      "id": "GuO6HHzrUClH",
      "execution_count": 26,
      "outputs": [
        {
          "output_type": "stream",
          "name": "stdout",
          "text": [
            "Index(['id', 'name', 'way_type', 'index', 'index_10', 'stress_level', 'offset',\n",
            "       'side', 'proc_width', 'proc_surface', 'proc_smoothness', 'proc_oneway',\n",
            "       'proc_sidepath', 'proc_highway', 'proc_maxspeed',\n",
            "       'proc_traffic_mode_left', 'proc_traffic_mode_right',\n",
            "       'proc_separation_left', 'proc_separation_right', 'proc_buffer_left',\n",
            "       'proc_buffer_right', 'proc_mandatory', 'proc_traffic_sign', 'fac_width',\n",
            "       'fac_surface', 'fac_highway', 'fac_maxspeed', 'base_index', 'fac_1',\n",
            "       'fac_2', 'fac_3', 'fac_4', 'data_bonus', 'data_malus',\n",
            "       'data_incompleteness', 'data_missing', 'data_missing_width',\n",
            "       'data_missing_surface', 'data_missing_smoothness',\n",
            "       'data_missing_maxspeed', 'data_missing_parking', 'data_missing_lit',\n",
            "       'filter_usable', 'filter_way_type', 'layer', 'path', 'geometry'],\n",
            "      dtype='object')\n"
          ]
        },
        {
          "output_type": "display_data",
          "data": {
            "text/plain": [
              "<Figure size 640x480 with 1 Axes>"
            ],
            "image/png": "[encoded data removed]"
          },
          "metadata": {}
        }
      ]
    },
    {
      "cell_type": "code",
      "source": [
        "road_gdf[\"id\"].value_counts().head(10)          # 新数据里重复最多的 id"
      ],
      "metadata": {
        "id": "TNkTnGnNozOf",
        "outputId": "876d324d-e4fe-4b02-a4ac-5539bb33229a",
        "colab": {
          "base_uri": "https://localhost:8080/",
          "height": 429
        }
      },
      "id": "TNkTnGnNozOf",
      "execution_count": 30,
      "outputs": [
        {
          "output_type": "execute_result",
          "data": {
            "text/plain": [
              "id\n",
              "way/1163131192    6\n",
              "way/1074165933    6\n",
              "way/656625116     6\n",
              "way/127497584     6\n",
              "way/312263564     6\n",
              "way/1065580322    6\n",
              "way/497316334     6\n",
              "way/80130628      6\n",
              "way/1073109230    6\n",
              "way/509108118     6\n",
              "Name: count, dtype: int64"
            ],
            "text/html": [
              "<div>\n",
              "<style scoped>\n",
              "    .dataframe tbody tr th:only-of-type {\n",
              "        vertical-align: middle;\n",
              "    }\n",
              "\n",
              "    .dataframe tbody tr th {\n",
              "        vertical-align: top;\n",
              "    }\n",
              "\n",
              "    .dataframe thead th {\n",
              "        text-align: right;\n",
              "    }\n",
              "</style>\n",
              "<table border=\"1\" class=\"dataframe\">\n",
              "  <thead>\n",
              "    <tr style=\"text-align: right;\">\n",
              "      <th></th>\n",
              "      <th>count</th>\n",
              "    </tr>\n",
              "    <tr>\n",
              "      <th>id</th>\n",
              "      <th></th>\n",
              "    </tr>\n",
              "  </thead>\n",
              "  <tbody>\n",
              "    <tr>\n",
              "      <th>way/1163131192</th>\n",
              "      <td>6</td>\n",
              "    </tr>\n",
              "    <tr>\n",
              "      <th>way/1074165933</th>\n",
              "      <td>6</td>\n",
              "    </tr>\n",
              "    <tr>\n",
              "      <th>way/656625116</th>\n",
              "      <td>6</td>\n",
              "    </tr>\n",
              "    <tr>\n",
              "      <th>way/127497584</th>\n",
              "      <td>6</td>\n",
              "    </tr>\n",
              "    <tr>\n",
              "      <th>way/312263564</th>\n",
              "      <td>6</td>\n",
              "    </tr>\n",
              "    <tr>\n",
              "      <th>way/1065580322</th>\n",
              "      <td>6</td>\n",
              "    </tr>\n",
              "    <tr>\n",
              "      <th>way/497316334</th>\n",
              "      <td>6</td>\n",
              "    </tr>\n",
              "    <tr>\n",
              "      <th>way/80130628</th>\n",
              "      <td>6</td>\n",
              "    </tr>\n",
              "    <tr>\n",
              "      <th>way/1073109230</th>\n",
              "      <td>6</td>\n",
              "    </tr>\n",
              "    <tr>\n",
              "      <th>way/509108118</th>\n",
              "      <td>6</td>\n",
              "    </tr>\n",
              "  </tbody>\n",
              "</table>\n",
              "</div><br><label><b>dtype:</b> int64</label>"
            ]
          },
          "metadata": {},
          "execution_count": 30
        }
      ]
    },
    {
      "cell_type": "code",
      "source": [
        "road_gdf_origin[\"id\"].value_counts().head(10)   # 旧数据里重复最多的 id"
      ],
      "metadata": {
        "id": "dVoV8tjto4pU",
        "outputId": "98e656e8-80d2-4f84-a676-1b3243ec30fd",
        "colab": {
          "base_uri": "https://localhost:8080/",
          "height": 429
        }
      },
      "id": "dVoV8tjto4pU",
      "execution_count": 31,
      "outputs": [
        {
          "output_type": "execute_result",
          "data": {
            "text/plain": [
              "id\n",
              "way/1163131192    6\n",
              "way/1074165933    6\n",
              "way/656625116     6\n",
              "way/127497584     6\n",
              "way/312263564     6\n",
              "way/1065580322    6\n",
              "way/497316334     6\n",
              "way/80130628      6\n",
              "way/1073109230    6\n",
              "way/509108118     6\n",
              "Name: count, dtype: int64"
            ],
            "text/html": [
              "<div>\n",
              "<style scoped>\n",
              "    .dataframe tbody tr th:only-of-type {\n",
              "        vertical-align: middle;\n",
              "    }\n",
              "\n",
              "    .dataframe tbody tr th {\n",
              "        vertical-align: top;\n",
              "    }\n",
              "\n",
              "    .dataframe thead th {\n",
              "        text-align: right;\n",
              "    }\n",
              "</style>\n",
              "<table border=\"1\" class=\"dataframe\">\n",
              "  <thead>\n",
              "    <tr style=\"text-align: right;\">\n",
              "      <th></th>\n",
              "      <th>count</th>\n",
              "    </tr>\n",
              "    <tr>\n",
              "      <th>id</th>\n",
              "      <th></th>\n",
              "    </tr>\n",
              "  </thead>\n",
              "  <tbody>\n",
              "    <tr>\n",
              "      <th>way/1163131192</th>\n",
              "      <td>6</td>\n",
              "    </tr>\n",
              "    <tr>\n",
              "      <th>way/1074165933</th>\n",
              "      <td>6</td>\n",
              "    </tr>\n",
              "    <tr>\n",
              "      <th>way/656625116</th>\n",
              "      <td>6</td>\n",
              "    </tr>\n",
              "    <tr>\n",
              "      <th>way/127497584</th>\n",
              "      <td>6</td>\n",
              "    </tr>\n",
              "    <tr>\n",
              "      <th>way/312263564</th>\n",
              "      <td>6</td>\n",
              "    </tr>\n",
              "    <tr>\n",
              "      <th>way/1065580322</th>\n",
              "      <td>6</td>\n",
              "    </tr>\n",
              "    <tr>\n",
              "      <th>way/497316334</th>\n",
              "      <td>6</td>\n",
              "    </tr>\n",
              "    <tr>\n",
              "      <th>way/80130628</th>\n",
              "      <td>6</td>\n",
              "    </tr>\n",
              "    <tr>\n",
              "      <th>way/1073109230</th>\n",
              "      <td>6</td>\n",
              "    </tr>\n",
              "    <tr>\n",
              "      <th>way/509108118</th>\n",
              "      <td>6</td>\n",
              "    </tr>\n",
              "  </tbody>\n",
              "</table>\n",
              "</div><br><label><b>dtype:</b> int64</label>"
            ]
          },
          "metadata": {},
          "execution_count": 31
        }
      ]
    },
    {
      "cell_type": "code",
      "source": [
        "import geopandas as gpd\n",
        "import pandas as pd\n",
        "\n",
        "# 1) 只取需要的列并改名，方便区分\n",
        "g_new = road_gdf[[\"id\", \"index\", \"geometry\"]].rename(columns={\"index\":\"index_new\"})\n",
        "g_old = road_gdf_origin[[\"id\", \"index\"]].rename(columns={\"index\":\"index_old\"})\n",
        "\n",
        "# （可选）如果CRS不一致，统一一下\n",
        "if g_new.crs != road_gdf_origin.crs:\n",
        "    g_new = g_new.to_crs(road_gdf_origin.crs)\n",
        "\n",
        "# 2) 按 id 合并，并计算差值（新-旧：>0代表分数上升，<0代表下降）\n",
        "g_diff = g_new.merge(g_old, on=\"id\", how=\"inner\")\n",
        "g_diff[\"index_diff\"] = g_diff[\"index_new\"] - g_diff[\"index_old\"]\n",
        "\n",
        "# 3) 快速看统计与变化最大的要素\n",
        "print(g_diff[\"index_diff\"].describe())\n",
        "print(\"Top↑ 提升最大的10条：\")\n",
        "print(g_diff.nlargest(10, \"index_diff\")[[\"id\", \"index_old\", \"index_new\", \"index_diff\"]])\n",
        "print(\"Top↓ 降幅最大的10条：\")\n",
        "print(g_diff.nsmallest(10, \"index_diff\")[[\"id\", \"index_old\", \"index_new\", \"index_diff\"]])\n",
        "\n",
        "# 4) 静态差值图（红降蓝升），需要 mapclassify 才能用 scheme=\"quantiles\"\n",
        "ax = g_diff.plot(column=\"index_diff\",\n",
        "                 cmap=\"RdBu_r\",  # 蓝=上升，红=下降（_r 代表反转）\n",
        "                 legend=True,\n",
        "                 linewidth=0.1)\n",
        "ax.set_title(\"Index Difference (new - old)\")\n",
        "ax.set_axis_off()\n",
        "\n",
        "# 5) 导出方便在GIS中做热力对比\n",
        "out_path = \"/content/drive/MyDrive/CASA0004_Cycling/data/Roads/AAA_index_diff.geojson\"\n",
        "g_diff.to_file(out_path, driver=\"GeoJSON\")\n",
        "print(f\"差值图层已导出：{out_path}\")\n"
      ],
      "metadata": {
        "id": "ZN3uQb6UWFcD",
        "outputId": "f58efbd8-a672-4c73-ded2-f27c38cc18a1",
        "colab": {
          "base_uri": "https://localhost:8080/",
          "height": 999
        }
      },
      "id": "ZN3uQb6UWFcD",
      "execution_count": 27,
      "outputs": [
        {
          "output_type": "stream",
          "name": "stdout",
          "text": [
            "count    326318.000000\n",
            "mean        -10.146587\n",
            "std           9.365828\n",
            "min         -72.000000\n",
            "25%         -17.000000\n",
            "50%          -8.000000\n",
            "75%          -3.000000\n",
            "max          61.000000\n",
            "Name: index_diff, dtype: float64\n",
            "Top↑ 提升最大的10条：\n",
            "                    id  index_old  index_new  index_diff\n",
            "216100  way/1018387286          7         68          61\n",
            "212631  way/1217910151          7         65          58\n",
            "212637  way/1217910152          7         65          58\n",
            "214123  way/1052168031          7         65          58\n",
            "215467  way/1353722381          7         65          58\n",
            "215474  way/1353658508          7         65          58\n",
            "216104  way/1018387287          7         65          58\n",
            "217116  way/1018387289          7         65          58\n",
            "197603   way/854068960         17         71          54\n",
            "212751  way/1083449025          7         61          54\n",
            "Top↓ 降幅最大的10条：\n",
            "                    id  index_old  index_new  index_diff\n",
            "206867  way/1278351623         97         25         -72\n",
            "94834    way/600011944         97         29         -68\n",
            "202744   way/472820393         97         32         -65\n",
            "213973   way/472820393         97         32         -65\n",
            "114028    way/29060135         68          4         -64\n",
            "136744   way/394994571         68          4         -64\n",
            "168991  way/1018387286         68          4         -64\n",
            "168994  way/1018387287         68          4         -64\n",
            "168999  way/1018387289         68          4         -64\n",
            "171514  way/1052168031         68          4         -64\n",
            "差值图层已导出：/content/drive/MyDrive/CASA0004_Cycling/data/Roads/AAA_index_diff.geojson\n"
          ]
        },
        {
          "output_type": "display_data",
          "data": {
            "text/plain": [
              "<Figure size 640x480 with 2 Axes>"
            ],
            "image/png": "[encoded data removed]"
          },
          "metadata": {}
        }
      ]
    },
    {
      "cell_type": "code",
      "source": [
        "import geopandas as gpd\n",
        "import pandas as pd\n",
        "import numpy as np\n",
        "import folium\n",
        "from shapely.geometry import LineString\n",
        "\n",
        "# ========= 0) 生成差值图层（若你已有 g_diff 可跳过这块） =========\n",
        "# 假设已有 road_gdf（新）与 road_gdf_origin（旧），都含 id 与 geometry\n",
        "g_new = road_gdf[[\"id\", \"index\", \"geometry\"]].rename(columns={\"index\":\"index_new\"})\n",
        "g_old = road_gdf_origin[[\"id\", \"index\"]].rename(columns={\"index\":\"index_old\"})\n",
        "\n",
        "# 统一CRS\n",
        "if g_new.crs != road_gdf_origin.crs:\n",
        "    g_new = g_new.to_crs(road_gdf_origin.crs)\n",
        "\n",
        "g_diff = g_new.merge(g_old, on=\"id\", how=\"inner\")\n",
        "g_diff[\"index_diff\"] = g_diff[\"index_new\"] - g_diff[\"index_old\"]\n",
        "\n",
        "print(\"== index_diff 概览 ==\")\n",
        "print(g_diff[\"index_diff\"].describe())\n"
      ],
      "metadata": {
        "id": "H0GxR3ekj5zK"
      },
      "id": "H0GxR3ekj5zK",
      "execution_count": null,
      "outputs": []
    },
    {
      "cell_type": "code",
      "source": [
        "# ========= 1) 区间分布（value_counts with bins） =========\n",
        "# 自动根据数据范围构造对称分箱（步长=5分，可改）\n",
        "dmin = np.floor(g_diff[\"index_diff\"].min())\n",
        "dmax = np.ceil(g_diff[\"index_diff\"].max())\n",
        "bound = int(max(abs(dmin), abs(dmax)))\n",
        "step = 5\n",
        "bins = np.arange(-bound - (bound % step), bound + step, step)  # 对称到零两侧\n",
        "\n",
        "vc = g_diff[\"index_diff\"].value_counts(bins=bins, sort=False)\n",
        "dist_df = pd.DataFrame({\n",
        "    \"bin\": vc.index.astype(str),\n",
        "    \"count\": vc.values\n",
        "})\n",
        "dist_df[\"percent\"] = (dist_df[\"count\"] / len(g_diff) * 100).round(2)\n",
        "print(\"== index_diff 区间分布（步长=5）==\")\n",
        "print(dist_df)"
      ],
      "metadata": {
        "id": "FW81ORKCj6_y",
        "outputId": "3d975b6c-7cca-4d48-debf-68689163396f",
        "colab": {
          "base_uri": "https://localhost:8080/"
        }
      },
      "id": "FW81ORKCj6_y",
      "execution_count": 28,
      "outputs": [
        {
          "output_type": "stream",
          "name": "stdout",
          "text": [
            "== index_diff 区间分布（步长=5）==\n",
            "                 bin  count  percent\n",
            "0   (-74.001, -69.0]      1     0.00\n",
            "1     (-69.0, -64.0]     14     0.00\n",
            "2     (-64.0, -59.0]     12     0.00\n",
            "3     (-59.0, -54.0]      8     0.00\n",
            "4     (-54.0, -49.0]     25     0.01\n",
            "5     (-49.0, -44.0]    317     0.10\n",
            "6     (-44.0, -39.0]   1273     0.39\n",
            "7     (-39.0, -34.0]    759     0.23\n",
            "8     (-34.0, -29.0]   3251     1.00\n",
            "9     (-29.0, -24.0]  15870     4.86\n",
            "10    (-24.0, -19.0]  54951    16.84\n",
            "11    (-19.0, -14.0]  51904    15.91\n",
            "12     (-14.0, -9.0]  25490     7.81\n",
            "13      (-9.0, -4.0]  65551    20.09\n",
            "14       (-4.0, 1.0]  94195    28.87\n",
            "15        (1.0, 6.0]   6709     2.06\n",
            "16       (6.0, 11.0]   3431     1.05\n",
            "17      (11.0, 16.0]    702     0.22\n",
            "18      (16.0, 21.0]    300     0.09\n",
            "19      (21.0, 26.0]    328     0.10\n",
            "20      (26.0, 31.0]    442     0.14\n",
            "21      (31.0, 36.0]    566     0.17\n",
            "22      (36.0, 41.0]    195     0.06\n",
            "23      (41.0, 46.0]     12     0.00\n",
            "24      (46.0, 51.0]      0     0.00\n",
            "25      (51.0, 56.0]      4     0.00\n",
            "26      (56.0, 61.0]      8     0.00\n",
            "27      (61.0, 66.0]      0     0.00\n",
            "28      (66.0, 71.0]      0     0.00\n",
            "29      (71.0, 76.0]      0     0.00\n"
          ]
        }
      ]
    },
    {
      "cell_type": "code",
      "source": [
        "# ========= 2) 按 Borough 聚合平均变化 =========\n",
        "# 👉 将路径替换为你的 Borough 边界文件（GeoJSON/GeoPackage/Shapefile 都可）\n",
        "BORO_PATH = \"/content/drive/MyDrive/CASA0004_Cycling/data/Admin/London_Borough_Boundaries.geojson\"\n",
        "boroughs = gpd.read_file(BORO_PATH)\n",
        "\n",
        "# 统一CRS后做空间连接\n",
        "if boroughs.crs != g_diff.crs:\n",
        "    boroughs = boroughs.to_crs(g_diff.crs)\n",
        "\n",
        "# 可能的名称字段\n",
        "name_cols = [c for c in boroughs.columns if c.lower() in (\"name\", \"borough\", \"borough_name\", \"la_name\")]\n",
        "if not name_cols:\n",
        "    raise ValueError(\"在 Borough 图层中没有找到名称字段（name/borough/borough_name/la_name），请检查并修改代码。\")\n",
        "BORO_NAME_COL = name_cols[0]\n",
        "\n",
        "# 空间连接，将每条线归到所在 Borough（交集即可）\n",
        "g_join = gpd.sjoin(g_diff, boroughs[[BORO_NAME_COL, \"geometry\"]], how=\"left\", predicate=\"intersects\")\n",
        "boro_agg = (\n",
        "    g_join\n",
        "    .groupby(BORO_NAME_COL)\n",
        "    .agg(\n",
        "        mean_index_diff=(\"index_diff\", \"mean\"),\n",
        "        median_index_diff=(\"index_diff\", \"median\"),\n",
        "        n_links=(\"id\", \"count\")\n",
        "    )\n",
        "    .sort_values(\"mean_index_diff\", ascending=False)\n",
        "    .round(2)\n",
        ")\n",
        "print(\"== Borough 平均变化（由高到低）==\")\n",
        "print(boro_agg.head(10))\n",
        "print(\"== Borough 平均变化（下降最明显）==\")\n",
        "print(boro_agg.tail(10))\n",
        "\n",
        "# 导出 Borough 聚合表与带属性的区划\n",
        "boroughs_out = boroughs.merge(boro_agg, on=BORO_NAME_COL, how=\"left\")\n",
        "boroughs_csv = \"/content/drive/MyDrive/CASA0004_Cycling/data/Roads/borough_index_diff_summary.csv\"\n",
        "boroughs_gj  = \"/content/drive/MyDrive/CASA0004_Cycling/data/Roads/borough_index_diff.geojson\"\n",
        "boro_agg.to_csv(boroughs_csv, encoding=\"utf-8\")\n",
        "boroughs_out.to_file(boroughs_gj, driver=\"GeoJSON\")\n",
        "print(f\"Borough 聚合已导出:\\n- {boroughs_csv}\\n- {boroughs_gj}\")\n",
        "\n",
        "# ========= 3) 只渲染显著变化（|diff| >= 5）到 Folium =========\n",
        "sig = g_diff.loc[g_diff[\"index_diff\"].abs() >= 5].copy()\n",
        "print(f\"显著变化要素数: {len(sig)}\")\n",
        "\n",
        "# Folium 需要 WGS84\n",
        "sig_4326 = sig.to_crs(epsg=4326)\n",
        "\n",
        "# 简单的颜色映射：上升=蓝，下降=红\n",
        "def color_by_diff(d):\n",
        "    return \"#2b8cbe\" if d >= 0 else \"#de2d26\"\n",
        "\n",
        "# 可选：限制最大渲染数量，避免浏览器过重（比如只取|diff|最大的2万条）\n",
        "MAX_FEATS = 20000\n",
        "if len(sig_4326) > MAX_FEATS:\n",
        "    sig_4326 = sig_4326.reindex(\n",
        "        sig_4326[\"index_diff\"].abs().sort_values(ascending=False).index[:MAX_FEATS]\n",
        "    )\n",
        "\n",
        "# 地图中心\n",
        "if not sig_4326.empty:\n",
        "    center = [sig_4326.geometry.iloc[0].centroid.y, sig_4326.geometry.iloc[0].centroid.x]\n",
        "else:\n",
        "    center = [51.5074, -0.1278]  # 伦敦\n",
        "\n",
        "m = folium.Map(location=center, zoom_start=11, tiles=\"cartodbpositron\")\n",
        "\n",
        "# 上升与下降分两层\n",
        "up = sig_4326[sig_4326[\"index_diff\"] >= 0]\n",
        "down = sig_4326[sig_4326[\"index_diff\"] < 0]\n",
        "\n",
        "def add_geojson_lines(gdf, name, color, map_obj, weight=3, opacity=0.7):\n",
        "    folium.GeoJson(\n",
        "        gdf.to_json(),\n",
        "        name=name,\n",
        "        style_function=lambda f: {\"color\": color, \"weight\": weight, \"opacity\": opacity},\n",
        "        tooltip=folium.features.GeoJsonTooltip(\n",
        "            fields=[\"id\", \"index_old\", \"index_new\", \"index_diff\"],\n",
        "            aliases=[\"id\", \"old\", \"new\", \"diff\"],\n",
        "            sticky=True\n",
        "        )\n",
        "    ).add_to(map_obj)\n",
        "\n",
        "if not up.empty:\n",
        "    add_geojson_lines(up, \"Increase (>= +5)\", \"#2b8cbe\", m)\n",
        "if not down.empty:\n",
        "    add_geojson_lines(down, \"Decrease (<= -5)\", \"#de2d26\", m)\n",
        "\n",
        "folium.LayerControl().add_to(m)\n",
        "\n",
        "html_out = \"/content/drive/MyDrive/CASA0004_Cycling/data/Roads/AAA_index_diff_hotspots.html\"\n",
        "m.save(html_out)\n",
        "print(f\"显著变化热点地图已导出: {html_out}\")\n",
        "\n",
        "# ========= 4) 额外：导出显著变化矢量，便于GIS叠加 =========\n",
        "sig_out = \"/content/drive/MyDrive/CASA0004_Cycling/data/Roads/AAA_index_diff_significant.geojson\"\n",
        "sig.to_file(sig_out, driver=\"GeoJSON\")\n",
        "print(f\"显著变化矢量已导出: {sig_out}\")\n"
      ],
      "metadata": {
        "id": "I_6J6iBsjsDI"
      },
      "id": "I_6J6iBsjsDI",
      "execution_count": null,
      "outputs": []
    }
  ],
  "metadata": {
    "colab": {
      "machine_shape": "hm",
      "provenance": []
    },
    "kernelspec": {
      "display_name": "Python 3",
      "name": "python3"
    },
    "language_info": {
      "codemirror_mode": {
        "name": "ipython",
        "version": 3
      },
      "file_extension": ".py",
      "mimetype": "text/x-python",
      "name": "python",
      "nbconvert_exporter": "python",
      "pygments_lexer": "ipython3",
      "version": "3.13.2"
    }
  },
  "nbformat": 4,
  "nbformat_minor": 5
}