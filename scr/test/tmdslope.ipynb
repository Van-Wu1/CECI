{
  "cells": [
    {
      "cell_type": "code",
      "execution_count": 1,
      "id": "dmFGM_4I6T7-",
      "metadata": {
        "id": "dmFGM_4I6T7-"
      },
      "outputs": [],
      "source": [
        "!pip -q install geopandas shapely rasterio pyproj tqdm"
      ]
    },
    {
      "cell_type": "code",
      "execution_count": 2,
      "id": "WKQNBVM84wla",
      "metadata": {
        "colab": {
          "base_uri": "https://localhost:8080/"
        },
        "id": "WKQNBVM84wla",
        "outputId": "8105e786-c6cb-4d12-a6a0-adb329402cd9"
      },
      "outputs": [
        {
          "output_type": "stream",
          "name": "stdout",
          "text": [
            "Drive already mounted at /content/drive; to attempt to forcibly remount, call drive.mount(\"/content/drive\", force_remount=True).\n",
            "BoroughShp\n",
            "city_of_london_bike_accessible_roads.geojson\n",
            "COL_cycleavailable.geojson\n",
            "COL_cyclelane.geojson\n",
            "Env\n",
            "greater_london_bike_accessible_roads.geojson\n",
            "GreatLondonShp\n",
            "Results\n",
            "Roads\n",
            "Slope\n"
          ]
        }
      ],
      "source": [
        "from google.colab import drive\n",
        "drive.mount('/content/drive')\n",
        "!ls '/content/drive/MyDrive/CASA0004_Cycling/data'"
      ]
    },
    {
      "cell_type": "code",
      "execution_count": 3,
      "id": "JXmMN-2052lT",
      "metadata": {
        "id": "JXmMN-2052lT"
      },
      "outputs": [],
      "source": [
        "import math\n",
        "import numpy as np\n",
        "import rasterio\n",
        "from shapely.geometry import LineString, MultiLineString\n",
        "from tqdm import tqdm\n",
        "\n",
        "import geopandas as gpd\n",
        "import pandas as pd\n",
        "from shapely.geometry import Point\n",
        "from shapely.strtree import STRtree\n",
        "import numpy as np\n",
        "import matplotlib.pyplot as plt"
      ]
    },
    {
      "cell_type": "code",
      "execution_count": 4,
      "id": "tUAUpdEQ6ZiF",
      "metadata": {
        "id": "tUAUpdEQ6ZiF"
      },
      "outputs": [],
      "source": [
        "# 可调参数\n",
        "SLOPE_TIF = \"/content/drive/MyDrive/CASA0004_Cycling/data/Slope/slope_test/slope.tif\"\n",
        "INTERVAL_M = 5.0             # 采样间距（米）\n",
        "STAT_KIND  = \"q3\"             # \"q3\" | \"mean\" | \"max\"\n",
        "SLOPE_UNIT = \"degree\"         # 栅格单位 or \"percent\"\n",
        "CHUNK_SIZE = 20000            # 分块行数，视内存调整"
      ]
    },
    {
      "cell_type": "code",
      "execution_count": 5,
      "id": "QHYVWLlq7Hru",
      "metadata": {
        "colab": {
          "base_uri": "https://localhost:8080/"
        },
        "id": "QHYVWLlq7Hru",
        "outputId": "fd5cf8c3-a80b-43ee-bba0-63af5339148d"
      },
      "outputs": [
        {
          "output_type": "stream",
          "name": "stdout",
          "text": [
            "Index(['id', 'name', 'way_type', 'index', 'index_10', 'stress_level', 'offset',\n",
            "       'side', 'proc_width', 'proc_surface', 'proc_smoothness', 'proc_oneway',\n",
            "       'proc_sidepath', 'proc_highway', 'proc_maxspeed',\n",
            "       'proc_traffic_mode_left', 'proc_traffic_mode_right',\n",
            "       'proc_separation_left', 'proc_separation_right', 'proc_buffer_left',\n",
            "       'proc_buffer_right', 'proc_mandatory', 'proc_traffic_sign', 'fac_width',\n",
            "       'fac_surface', 'fac_highway', 'fac_maxspeed', 'base_index', 'fac_1',\n",
            "       'fac_2', 'fac_3', 'fac_4', 'data_bonus', 'data_malus',\n",
            "       'data_incompleteness', 'data_missing', 'data_missing_width',\n",
            "       'data_missing_surface', 'data_missing_smoothness',\n",
            "       'data_missing_maxspeed', 'data_missing_parking', 'data_missing_lit',\n",
            "       'filter_usable', 'filter_way_type', 'layer', 'path', 'geometry'],\n",
            "      dtype='object')\n"
          ]
        }
      ],
      "source": [
        "road_gdf = gpd.read_file(\"/content/drive/MyDrive/CASA0004_Cycling/data/Roads/AAA.geojson\")\n",
        "print(road_gdf.columns)"
      ]
    },
    {
      "cell_type": "code",
      "execution_count": 6,
      "id": "nL3YZ86x6adl",
      "metadata": {
        "id": "nL3YZ86x6adl"
      },
      "outputs": [],
      "source": [
        "def line_points_every(line: LineString, step: float):\n",
        "    \"\"\"沿 LineString 每 step 米取点（含终点）。\"\"\"\n",
        "    if not line or line.length == 0:\n",
        "        return []\n",
        "    n = max(1, int(math.floor(line.length / step)))\n",
        "    dists = [i * step for i in range(n)] + [line.length]\n",
        "    return [line.interpolate(d).coords[0] for d in dists]\n",
        "\n",
        "def geom_points(geom, step: float):\n",
        "    if geom is None:\n",
        "        return []\n",
        "    if isinstance(geom, LineString):\n",
        "        return line_points_every(geom, step)\n",
        "    if isinstance(geom, MultiLineString):\n",
        "        pts = []\n",
        "        for part in geom.geoms:\n",
        "            pts.extend(line_points_every(part, step))\n",
        "        return pts\n",
        "    return []\n",
        "\n",
        "def calc_stat(vals, kind=\"q3\"):\n",
        "    if not vals:\n",
        "        return 0.0\n",
        "    arr = np.asarray(vals, dtype=float)\n",
        "    if kind == \"mean\": return float(np.nanmean(arr))\n",
        "    if kind == \"max\":  return float(np.nanmax(arr))\n",
        "    return float(np.nanpercentile(arr, 75))  # q3\n",
        "\n",
        "def slope_to_percent(v, unit=\"degree\"):\n",
        "    if unit == \"percent\": return float(v)\n",
        "    return float(math.tan(math.radians(v)) * 100.0)\n",
        "\n",
        "def slope_to_factor(slope_pct: float) -> float:\n",
        "    if slope_pct <= 2:   return 1.0\n",
        "    if slope_pct <= 4:   return 0.95\n",
        "    if slope_pct <= 6:   return 0.85\n",
        "    if slope_pct <= 8:   return 0.75\n",
        "    if slope_pct <= 10:  return 0.65\n",
        "    return 0.9"
      ]
    },
    {
      "cell_type": "code",
      "execution_count": 7,
      "id": "tUVM2Yyo6ct9",
      "metadata": {
        "id": "tUVM2Yyo6ct9"
      },
      "outputs": [],
      "source": [
        "# 打开坡度栅格\n",
        "ds = rasterio.open(SLOPE_TIF)\n",
        "raster_crs = ds.crs\n",
        "nodata = ds.nodata\n",
        "\n",
        "# 确保道路与栅格同一 CRS\n",
        "if road_gdf.crs is None:\n",
        "    raise RuntimeError(\"road_gdf 没有 CRS，请先设定。\")\n",
        "if raster_crs and road_gdf.crs.to_wkt() != raster_crs.to_wkt():\n",
        "    road_gdf = road_gdf.to_crs(raster_crs)\n",
        "\n",
        "# 建字段\n",
        "if \"proc_slope\" not in road_gdf.columns:\n",
        "    road_gdf[\"proc_slope\"] = np.nan\n",
        "if \"fac_3\" not in road_gdf.columns:\n",
        "    road_gdf[\"fac_3\"] = np.nan\n"
      ]
    },
    {
      "cell_type": "code",
      "execution_count": 8,
      "id": "eDwhyEYh6eCF",
      "metadata": {
        "colab": {
          "base_uri": "https://localhost:8080/"
        },
        "id": "eDwhyEYh6eCF",
        "outputId": "acaa2660-39a3-43d2-fdf2-f609fbc02619"
      },
      "outputs": [
        {
          "output_type": "stream",
          "name": "stderr",
          "text": [
            "Sampling slope: 100%|██████████| 278172/278172 [09:49<00:00, 471.68feat/s]\n"
          ]
        }
      ],
      "source": [
        "total = len(road_gdf)\n",
        "pbar = tqdm(total=total, desc=\"Sampling slope\", unit=\"feat\")\n",
        "\n",
        "start = 0\n",
        "while start < total:\n",
        "    end = min(start + CHUNK_SIZE, total)\n",
        "    sub = road_gdf.iloc[start:end].copy()\n",
        "\n",
        "    proc_vals = np.zeros(len(sub))\n",
        "    fac_vals  = np.ones(len(sub))\n",
        "\n",
        "    # 为每条线生成采样点 → 栅格采样 → 统计\n",
        "    for i, geom in enumerate(sub.geometry.values):\n",
        "        pts = geom_points(geom, INTERVAL_M)\n",
        "        if not pts:\n",
        "            proc_vals[i] = 0.0\n",
        "            fac_vals[i]  = 1.0\n",
        "            continue\n",
        "\n",
        "        # rasterio.sample 需要 [(x,y), ...]\n",
        "        smps = list(ds.sample(pts))\n",
        "        vals = []\n",
        "        for s in smps:\n",
        "            if s is None or len(s) == 0:\n",
        "                continue\n",
        "            v = s[0]\n",
        "            if v is None:\n",
        "                continue\n",
        "            if (nodata is not None and v == nodata) or np.isnan(v):\n",
        "                continue\n",
        "            vals.append(float(v))\n",
        "\n",
        "        stat_v = calc_stat(vals, STAT_KIND)\n",
        "        slope_pct = slope_to_percent(stat_v, SLOPE_UNIT)\n",
        "        factor = slope_to_factor(slope_pct)\n",
        "\n",
        "        proc_vals[i] = round(slope_pct, 2)\n",
        "        fac_vals[i]  = round(factor, 2)\n",
        "\n",
        "    # 写回\n",
        "    road_gdf.loc[sub.index, \"proc_slope\"] = proc_vals\n",
        "    road_gdf.loc[sub.index, \"fac_3\"] = fac_vals\n",
        "\n",
        "    pbar.update(len(sub))\n",
        "    start = end\n",
        "\n",
        "pbar.close()\n"
      ]
    },
    {
      "cell_type": "code",
      "execution_count": 9,
      "id": "vJkjDVq992ng",
      "metadata": {
        "colab": {
          "base_uri": "https://localhost:8080/"
        },
        "id": "vJkjDVq992ng",
        "outputId": "335d2c5d-871a-4c4a-c349-4c743347ee54"
      },
      "outputs": [
        {
          "output_type": "stream",
          "name": "stdout",
          "text": [
            "Index(['id', 'name', 'way_type', 'index', 'index_10', 'stress_level', 'offset',\n",
            "       'side', 'proc_width', 'proc_surface', 'proc_smoothness', 'proc_oneway',\n",
            "       'proc_sidepath', 'proc_highway', 'proc_maxspeed',\n",
            "       'proc_traffic_mode_left', 'proc_traffic_mode_right',\n",
            "       'proc_separation_left', 'proc_separation_right', 'proc_buffer_left',\n",
            "       'proc_buffer_right', 'proc_mandatory', 'proc_traffic_sign', 'fac_width',\n",
            "       'fac_surface', 'fac_highway', 'fac_maxspeed', 'base_index', 'fac_1',\n",
            "       'fac_2', 'fac_3', 'fac_4', 'data_bonus', 'data_malus',\n",
            "       'data_incompleteness', 'data_missing', 'data_missing_width',\n",
            "       'data_missing_surface', 'data_missing_smoothness',\n",
            "       'data_missing_maxspeed', 'data_missing_parking', 'data_missing_lit',\n",
            "       'filter_usable', 'filter_way_type', 'layer', 'path', 'geometry',\n",
            "       'proc_slope'],\n",
            "      dtype='object')\n"
          ]
        }
      ],
      "source": [
        "print(road_gdf.columns)"
      ]
    },
    {
      "cell_type": "code",
      "execution_count": 10,
      "id": "0y4syCFk-1RW",
      "metadata": {
        "colab": {
          "base_uri": "https://localhost:8080/"
        },
        "id": "0y4syCFk-1RW",
        "outputId": "e9c4a13b-4dfe-48e5-936c-37656dbf9c8b"
      },
      "outputs": [
        {
          "output_type": "stream",
          "name": "stdout",
          "text": [
            "CRS: EPSG:27700\n",
            "Width (cols): 11676\n",
            "Height (rows): 9016\n",
            "Transform: | 5.00, 0.00, 503573.42|\n",
            "| 0.00,-5.00, 200936.64|\n",
            "| 0.00, 0.00, 1.00|\n",
            "Pixel size (res): (5.000138720452213, 5.000138720452213)\n"
          ]
        }
      ],
      "source": [
        "print(\"CRS:\", ds.crs)\n",
        "print(\"Width (cols):\", ds.width)\n",
        "print(\"Height (rows):\", ds.height)\n",
        "print(\"Transform:\", ds.transform)\n",
        "print(\"Pixel size (res):\", ds.res)\n"
      ]
    },
    {
      "cell_type": "code",
      "source": [
        "# 必要的copy\n",
        "copy = road_gdf"
      ],
      "metadata": {
        "id": "QxExy8QXKDup"
      },
      "id": "QxExy8QXKDup",
      "execution_count": 11,
      "outputs": []
    },
    {
      "cell_type": "code",
      "execution_count": null,
      "id": "Tm-udkxxOALC",
      "metadata": {
        "id": "Tm-udkxxOALC"
      },
      "outputs": [],
      "source": [
        "import matplotlib.pyplot as plt\n",
        "import seaborn as sns\n",
        "\n",
        "# 1. 基本统计信息\n",
        "print(road_gdf['fac_3'].describe())\n",
        "\n",
        "# 2. 直方图 + 核密度曲线\n",
        "sns.histplot(road_gdf['fac_3'], kde=True, bins=20)\n",
        "plt.title('Distribution of fac_3')\n",
        "plt.xlabel('fac_3')\n",
        "plt.ylabel('Frequency')\n",
        "plt.show()\n",
        "\n",
        "# 3. 箱线图（看中位数和异常值）\n",
        "sns.boxplot(x=road_gdf['fac_3'])\n",
        "plt.title('Boxplot of fac_3')\n",
        "plt.show()\n"
      ]
    },
    {
      "cell_type": "code",
      "execution_count": null,
      "id": "tst0YiVcOBka",
      "metadata": {
        "id": "tst0YiVcOBka"
      },
      "outputs": [],
      "source": [
        "# 1. 基本统计信息\n",
        "print(road_gdf['proc_slope'].describe())\n",
        "\n",
        "# 2. 直方图 + 核密度曲线\n",
        "sns.histplot(road_gdf['proc_slope'], kde=True, bins=20)\n",
        "plt.title('Distribution of proc_slope')\n",
        "plt.xlabel('proc_slope')\n",
        "plt.ylabel('Frequency')\n",
        "plt.show()\n",
        "\n",
        "# 3. 箱线图（看中位数和异常值）\n",
        "sns.boxplot(x=road_gdf['proc_slope'])\n",
        "plt.title('Boxplot of proc_slope')\n",
        "plt.show()\n"
      ]
    },
    {
      "cell_type": "code",
      "execution_count": 12,
      "id": "514474bb",
      "metadata": {
        "colab": {
          "base_uri": "https://localhost:8080/"
        },
        "id": "514474bb",
        "outputId": "55083298-f204-49b1-a243-fd27ececef8e"
      },
      "outputs": [
        {
          "output_type": "stream",
          "name": "stdout",
          "text": [
            "CRS: EPSG:27700\n",
            "Width (cols): 11676\n",
            "Height (rows): 9016\n",
            "Transform: | 5.00, 0.00, 503573.42|\n",
            "| 0.00,-5.00, 200936.64|\n",
            "| 0.00, 0.00, 1.00|\n",
            "Pixel size (res): (5.000138720452213, 5.000138720452213)\n"
          ]
        }
      ],
      "source": [
        "print(\"CRS:\", ds.crs)\n",
        "print(\"Width (cols):\", ds.width)\n",
        "print(\"Height (rows):\", ds.height)\n",
        "print(\"Transform:\", ds.transform)\n",
        "print(\"Pixel size (res):\", ds.res)"
      ]
    },
    {
      "cell_type": "markdown",
      "source": [
        "# index计算&覆写"
      ],
      "metadata": {
        "id": "ZQoW0jlCJYNI"
      },
      "id": "ZQoW0jlCJYNI"
    },
    {
      "cell_type": "code",
      "source": [
        "road_gdf[\"index\"] = road_gdf[\"base_index\"] * road_gdf[\"fac_1\"] * road_gdf[\"fac_2\"] * road_gdf[\"fac_3\"] * road_gdf[\"fac_4\"]\n",
        "\n",
        "road_gdf[\"index\"] = road_gdf[\"index\"].clip(lower=0, upper=100).round().astype(int)\n",
        "\n",
        "road_gdf[\"index_10\"] = road_gdf[\"index\"] // 10\n",
        "\n",
        "# 然后根据我本子上的三条id进行核对，没问题就转到下一步去加入LTS的参数(没问题了)"
      ],
      "metadata": {
        "id": "n4UU6anxJJru"
      },
      "id": "n4UU6anxJJru",
      "execution_count": 13,
      "outputs": []
    },
    {
      "cell_type": "code",
      "source": [
        "output_path = \"/content/drive/MyDrive/CASA0004_Cycling/data/Roads/AAA_indexupdate.geojson\"\n",
        "road_gdf.to_file(output_path, driver=\"GeoJSON\")\n",
        "print(f\"已保存到: {output_path}\")"
      ],
      "metadata": {
        "colab": {
          "base_uri": "https://localhost:8080/"
        },
        "id": "qa7YCiq1LXux",
        "outputId": "fbfdafbf-e671-46a8-a236-08246c8c0c0e"
      },
      "id": "qa7YCiq1LXux",
      "execution_count": 14,
      "outputs": [
        {
          "output_type": "stream",
          "name": "stdout",
          "text": [
            "已保存到: /content/drive/MyDrive/CASA0004_Cycling/data/Roads/AAA_indexupdate.geojson\n"
          ]
        }
      ]
    },
    {
      "cell_type": "markdown",
      "source": [
        "## 小加一波LTS"
      ],
      "metadata": {
        "id": "tNQf6q-ZM-tl"
      },
      "id": "tNQf6q-ZM-tl"
    },
    {
      "cell_type": "code",
      "source": [
        "# 先检查一下lts是否有空值\n",
        "\n",
        "# 统计空值数量\n",
        "null_count = road_gdf[\"stress_level\"].isna().sum()\n",
        "print(f\"空值数量: {null_count}\")\n",
        "\n",
        "# 具体空值的行\n",
        "null_rows = road_gdf[road_gdf[\"stress_level\"].isna()]\n",
        "print(null_rows)\n",
        "\n",
        "# 很好没有空值"
      ],
      "metadata": {
        "colab": {
          "base_uri": "https://localhost:8080/"
        },
        "id": "woV3mYcXPMJm",
        "outputId": "1f9a6b75-0616-46ab-ba07-68fdff2c0a70"
      },
      "id": "woV3mYcXPMJm",
      "execution_count": 15,
      "outputs": [
        {
          "output_type": "stream",
          "name": "stdout",
          "text": [
            "空值数量: 0\n",
            "Empty GeoDataFrame\n",
            "Columns: [id, name, way_type, index, index_10, stress_level, offset, side, proc_width, proc_surface, proc_smoothness, proc_oneway, proc_sidepath, proc_highway, proc_maxspeed, proc_traffic_mode_left, proc_traffic_mode_right, proc_separation_left, proc_separation_right, proc_buffer_left, proc_buffer_right, proc_mandatory, proc_traffic_sign, fac_width, fac_surface, fac_highway, fac_maxspeed, base_index, fac_1, fac_2, fac_3, fac_4, data_bonus, data_malus, data_incompleteness, data_missing, data_missing_width, data_missing_surface, data_missing_smoothness, data_missing_maxspeed, data_missing_parking, data_missing_lit, filter_usable, filter_way_type, layer, path, geometry, proc_slope]\n",
            "Index: []\n",
            "\n",
            "[0 rows x 48 columns]\n"
          ]
        }
      ]
    },
    {
      "cell_type": "code",
      "source": [
        "# LTS的映射字典\n",
        "def lts_to_factor(lts: float) -> float:\n",
        "    if lts == 1: return 1.0\n",
        "    if lts == 2: return 0.9\n",
        "    if lts == 3: return 0.75\n",
        "    if lts == 4: return 0.6\n",
        "    return 0.9 #没关系这里没有空"
      ],
      "metadata": {
        "id": "Xt33aWwvNB2E"
      },
      "id": "Xt33aWwvNB2E",
      "execution_count": 16,
      "outputs": []
    },
    {
      "cell_type": "code",
      "source": [
        "# 建fac_5字段用来装LTS的量化\n",
        "if \"fac_5\" not in road_gdf.columns:\n",
        "    road_gdf[\"fac_5\"] = np.nan"
      ],
      "metadata": {
        "id": "Ovy8XXNfORYH"
      },
      "id": "Ovy8XXNfORYH",
      "execution_count": 17,
      "outputs": []
    },
    {
      "cell_type": "code",
      "source": [
        "# ok我们来试一下\n",
        "road_gdf[\"fac_5\"] = road_gdf[\"stress_level\"].apply(lts_to_factor)"
      ],
      "metadata": {
        "id": "MznsJlvoP7i2"
      },
      "id": "MznsJlvoP7i2",
      "execution_count": 18,
      "outputs": []
    },
    {
      "cell_type": "code",
      "source": [
        "print(road_gdf.columns)"
      ],
      "metadata": {
        "colab": {
          "base_uri": "https://localhost:8080/"
        },
        "id": "nH6s5diFQCdY",
        "outputId": "fc6abd60-eee6-4dd4-ae23-7946d7e4aeab"
      },
      "id": "nH6s5diFQCdY",
      "execution_count": 19,
      "outputs": [
        {
          "output_type": "stream",
          "name": "stdout",
          "text": [
            "Index(['id', 'name', 'way_type', 'index', 'index_10', 'stress_level', 'offset',\n",
            "       'side', 'proc_width', 'proc_surface', 'proc_smoothness', 'proc_oneway',\n",
            "       'proc_sidepath', 'proc_highway', 'proc_maxspeed',\n",
            "       'proc_traffic_mode_left', 'proc_traffic_mode_right',\n",
            "       'proc_separation_left', 'proc_separation_right', 'proc_buffer_left',\n",
            "       'proc_buffer_right', 'proc_mandatory', 'proc_traffic_sign', 'fac_width',\n",
            "       'fac_surface', 'fac_highway', 'fac_maxspeed', 'base_index', 'fac_1',\n",
            "       'fac_2', 'fac_3', 'fac_4', 'data_bonus', 'data_malus',\n",
            "       'data_incompleteness', 'data_missing', 'data_missing_width',\n",
            "       'data_missing_surface', 'data_missing_smoothness',\n",
            "       'data_missing_maxspeed', 'data_missing_parking', 'data_missing_lit',\n",
            "       'filter_usable', 'filter_way_type', 'layer', 'path', 'geometry',\n",
            "       'proc_slope', 'fac_5'],\n",
            "      dtype='object')\n"
          ]
        }
      ]
    },
    {
      "cell_type": "code",
      "source": [
        "road_gdf[\"index\"] = road_gdf[\"base_index\"] * road_gdf[\"fac_1\"] * road_gdf[\"fac_2\"] * road_gdf[\"fac_3\"] * road_gdf[\"fac_4\"] * road_gdf[\"fac_5\"]\n",
        "\n",
        "road_gdf[\"index\"] = road_gdf[\"index\"].clip(lower=0, upper=100).round().astype(int)\n",
        "\n",
        "road_gdf[\"index_10\"] = road_gdf[\"index\"] // 10"
      ],
      "metadata": {
        "id": "XQuGypg7QGUS"
      },
      "id": "XQuGypg7QGUS",
      "execution_count": 20,
      "outputs": []
    },
    {
      "cell_type": "code",
      "source": [
        "output_path_fac5 = \"/content/drive/MyDrive/CASA0004_Cycling/data/Roads/AAA_allfac.geojson\"\n",
        "road_gdf.to_file(output_path_fac5, driver=\"GeoJSON\")\n",
        "print(f\"已保存到: {output_path_fac5}\")"
      ],
      "metadata": {
        "colab": {
          "base_uri": "https://localhost:8080/"
        },
        "id": "x1XgMskeQUhy",
        "outputId": "951d6643-eb70-4c5c-93d7-56d15962995d"
      },
      "id": "x1XgMskeQUhy",
      "execution_count": 21,
      "outputs": [
        {
          "output_type": "stream",
          "name": "stdout",
          "text": [
            "已保存到: /content/drive/MyDrive/CASA0004_Cycling/data/Roads/AAA_allfac.geojson\n"
          ]
        }
      ]
    },
    {
      "cell_type": "markdown",
      "source": [
        "### 看一眼情况"
      ],
      "metadata": {
        "id": "jnWxRYA_TT38"
      },
      "id": "jnWxRYA_TT38"
    },
    {
      "cell_type": "code",
      "source": [
        "print(road_gdf[\"index\"].describe())"
      ],
      "metadata": {
        "id": "dja8DJa6TTYN",
        "outputId": "3e6df546-2214-4c20-def5-887a8747f19e",
        "colab": {
          "base_uri": "https://localhost:8080/"
        }
      },
      "id": "dja8DJa6TTYN",
      "execution_count": 22,
      "outputs": [
        {
          "output_type": "stream",
          "name": "stdout",
          "text": [
            "count    278172.000000\n",
            "mean         24.515048\n",
            "std          13.587935\n",
            "min           1.000000\n",
            "25%          16.000000\n",
            "50%          23.000000\n",
            "75%          28.000000\n",
            "max         100.000000\n",
            "Name: index, dtype: float64\n"
          ]
        }
      ]
    },
    {
      "cell_type": "code",
      "source": [
        "print(road_gdf[\"index\"].value_counts().sort_index())"
      ],
      "metadata": {
        "id": "QDFy-_mQTXTc",
        "outputId": "5dad9d58-3f6f-42ea-c9bd-d039bbd79e6a",
        "colab": {
          "base_uri": "https://localhost:8080/"
        }
      },
      "id": "QDFy-_mQTXTc",
      "execution_count": 23,
      "outputs": [
        {
          "output_type": "stream",
          "name": "stdout",
          "text": [
            "index\n",
            "1       286\n",
            "2       583\n",
            "3      1642\n",
            "4      8190\n",
            "5       328\n",
            "       ... \n",
            "91       61\n",
            "92       39\n",
            "93        1\n",
            "96        3\n",
            "100       4\n",
            "Name: count, Length: 93, dtype: int64\n"
          ]
        }
      ]
    },
    {
      "cell_type": "code",
      "source": [
        "print(road_gdf[\"index\"].value_counts(bins=10).sort_index())"
      ],
      "metadata": {
        "id": "ZyvB6NMZTZ6x",
        "outputId": "58cab08e-cd3b-441a-8ae2-42954957ff79",
        "colab": {
          "base_uri": "https://localhost:8080/"
        }
      },
      "id": "ZyvB6NMZTZ6x",
      "execution_count": 24,
      "outputs": [
        {
          "output_type": "stream",
          "name": "stdout",
          "text": [
            "(0.9, 10.9]       35631\n",
            "(10.9, 20.8]      80235\n",
            "(20.8, 30.7]     100799\n",
            "(30.7, 40.6]      25779\n",
            "(40.6, 50.5]      13239\n",
            "(50.5, 60.4]      16767\n",
            "(60.4, 70.3]       5134\n",
            "(70.3, 80.2]        254\n",
            "(80.2, 90.1]        226\n",
            "(90.1, 100.0]       108\n",
            "Name: count, dtype: int64\n"
          ]
        }
      ]
    },
    {
      "cell_type": "code",
      "source": [
        "road_gdf[\"index\"].hist(bins=20)\n",
        "plt.xlabel(\"Index\")\n",
        "plt.ylabel(\"Frequency\")\n",
        "plt.title(\"Index Distribution\")\n",
        "plt.show()"
      ],
      "metadata": {
        "id": "czkf_1sdTb6M",
        "outputId": "08b19313-3af1-4145-b844-535a09a7139f",
        "colab": {
          "base_uri": "https://localhost:8080/",
          "height": 472
        }
      },
      "id": "czkf_1sdTb6M",
      "execution_count": 25,
      "outputs": [
        {
          "output_type": "display_data",
          "data": {
            "text/plain": [
              "<Figure size 640x480 with 1 Axes>"
            ],
            "image/png": "[encoded data removed]"
          },
          "metadata": {}
        }
      ]
    },
    {
      "cell_type": "code",
      "source": [
        "# 我们来比对一下\n",
        "road_gdf_origin = gpd.read_file(\"/content/drive/MyDrive/CASA0004_Cycling/data/Roads/AAA.geojson\")\n",
        "print(road_gdf_origin.columns)\n",
        "\n",
        "road_gdf_origin[\"index\"].hist(bins=20)\n",
        "plt.xlabel(\"Index\")\n",
        "plt.ylabel(\"Frequency\")\n",
        "plt.title(\"Index Distribution\")\n",
        "plt.show()"
      ],
      "metadata": {
        "id": "GuO6HHzrUClH",
        "outputId": "bd4f5ac1-3793-4bf4-8265-c46eda5bc8af",
        "colab": {
          "base_uri": "https://localhost:8080/",
          "height": 698
        }
      },
      "id": "GuO6HHzrUClH",
      "execution_count": 26,
      "outputs": [
        {
          "output_type": "stream",
          "name": "stdout",
          "text": [
            "Index(['id', 'name', 'way_type', 'index', 'index_10', 'stress_level', 'offset',\n",
            "       'side', 'proc_width', 'proc_surface', 'proc_smoothness', 'proc_oneway',\n",
            "       'proc_sidepath', 'proc_highway', 'proc_maxspeed',\n",
            "       'proc_traffic_mode_left', 'proc_traffic_mode_right',\n",
            "       'proc_separation_left', 'proc_separation_right', 'proc_buffer_left',\n",
            "       'proc_buffer_right', 'proc_mandatory', 'proc_traffic_sign', 'fac_width',\n",
            "       'fac_surface', 'fac_highway', 'fac_maxspeed', 'base_index', 'fac_1',\n",
            "       'fac_2', 'fac_3', 'fac_4', 'data_bonus', 'data_malus',\n",
            "       'data_incompleteness', 'data_missing', 'data_missing_width',\n",
            "       'data_missing_surface', 'data_missing_smoothness',\n",
            "       'data_missing_maxspeed', 'data_missing_parking', 'data_missing_lit',\n",
            "       'filter_usable', 'filter_way_type', 'layer', 'path', 'geometry'],\n",
            "      dtype='object')\n"
          ]
        },
        {
          "output_type": "display_data",
          "data": {
            "text/plain": [
              "<Figure size 640x480 with 1 Axes>"
            ],
            "image/png": "[encoded data removed]"
          },
          "metadata": {}
        }
      ]
    }
  ],
  "metadata": {
    "colab": {
      "machine_shape": "hm",
      "provenance": []
    },
    "kernelspec": {
      "display_name": "Python 3",
      "name": "python3"
    },
    "language_info": {
      "codemirror_mode": {
        "name": "ipython",
        "version": 3
      },
      "file_extension": ".py",
      "mimetype": "text/x-python",
      "name": "python",
      "nbconvert_exporter": "python",
      "pygments_lexer": "ipython3",
      "version": "3.13.2"
    }
  },
  "nbformat": 4,
  "nbformat_minor": 5
}